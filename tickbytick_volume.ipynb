{
 "cells": [
  {
   "cell_type": "code",
   "execution_count": 18,
   "id": "c87c03f5",
   "metadata": {},
   "outputs": [],
   "source": [
    "import pandas as pd\n",
    "import matplotlib.pyplot as plt"
   ]
  },
  {
   "cell_type": "code",
   "execution_count": 2,
   "id": "3f44ca7e",
   "metadata": {},
   "outputs": [],
   "source": [
    "import numpy as np \n",
    "import datetime"
   ]
  },
  {
   "cell_type": "code",
   "execution_count": 3,
   "id": "d4dcd421",
   "metadata": {},
   "outputs": [],
   "source": [
    "import yfinance as yf"
   ]
  },
  {
   "cell_type": "code",
   "execution_count": 4,
   "id": "ebd97293",
   "metadata": {},
   "outputs": [
    {
     "name": "stdout",
     "output_type": "stream",
     "text": [
      "[*********************100%***********************]  1 of 1 completed\n"
     ]
    }
   ],
   "source": [
    "\n",
    "start = datetime.date(2023, 1, 25)\n",
    "end = datetime.date(2023, 1, 27)\n",
    "\n",
    "df = yf.download('TATAPOWER.NS' , start , end , interval = '1m')\n",
    "\n",
    "# end = datetime.date(2023, 1, 31)\n",
    "\n",
    "# df_nifty = yf.download(\"^NSEI\", start, end, interval=\"1h\" )"
   ]
  },
  {
   "cell_type": "code",
   "execution_count": 5,
   "id": "49a1b892",
   "metadata": {},
   "outputs": [
    {
     "data": {
      "text/html": [
       "<div>\n",
       "<style scoped>\n",
       "    .dataframe tbody tr th:only-of-type {\n",
       "        vertical-align: middle;\n",
       "    }\n",
       "\n",
       "    .dataframe tbody tr th {\n",
       "        vertical-align: top;\n",
       "    }\n",
       "\n",
       "    .dataframe thead th {\n",
       "        text-align: right;\n",
       "    }\n",
       "</style>\n",
       "<table border=\"1\" class=\"dataframe\">\n",
       "  <thead>\n",
       "    <tr style=\"text-align: right;\">\n",
       "      <th></th>\n",
       "      <th>Open</th>\n",
       "      <th>High</th>\n",
       "      <th>Low</th>\n",
       "      <th>Close</th>\n",
       "      <th>Adj Close</th>\n",
       "      <th>Volume</th>\n",
       "    </tr>\n",
       "    <tr>\n",
       "      <th>Datetime</th>\n",
       "      <th></th>\n",
       "      <th></th>\n",
       "      <th></th>\n",
       "      <th></th>\n",
       "      <th></th>\n",
       "      <th></th>\n",
       "    </tr>\n",
       "  </thead>\n",
       "  <tbody>\n",
       "    <tr>\n",
       "      <th>2023-01-25 09:15:00+05:30</th>\n",
       "      <td>205.850006</td>\n",
       "      <td>206.250000</td>\n",
       "      <td>205.649994</td>\n",
       "      <td>206.050003</td>\n",
       "      <td>206.050003</td>\n",
       "      <td>0</td>\n",
       "    </tr>\n",
       "    <tr>\n",
       "      <th>2023-01-25 09:16:00+05:30</th>\n",
       "      <td>205.899994</td>\n",
       "      <td>206.050003</td>\n",
       "      <td>205.800003</td>\n",
       "      <td>206.000000</td>\n",
       "      <td>206.000000</td>\n",
       "      <td>33110</td>\n",
       "    </tr>\n",
       "    <tr>\n",
       "      <th>2023-01-25 09:17:00+05:30</th>\n",
       "      <td>205.949997</td>\n",
       "      <td>206.000000</td>\n",
       "      <td>205.300003</td>\n",
       "      <td>205.500000</td>\n",
       "      <td>205.500000</td>\n",
       "      <td>77681</td>\n",
       "    </tr>\n",
       "    <tr>\n",
       "      <th>2023-01-25 09:18:00+05:30</th>\n",
       "      <td>205.449997</td>\n",
       "      <td>205.550003</td>\n",
       "      <td>205.199997</td>\n",
       "      <td>205.300003</td>\n",
       "      <td>205.300003</td>\n",
       "      <td>34396</td>\n",
       "    </tr>\n",
       "    <tr>\n",
       "      <th>2023-01-25 09:19:00+05:30</th>\n",
       "      <td>205.300003</td>\n",
       "      <td>205.300003</td>\n",
       "      <td>205.050003</td>\n",
       "      <td>205.100006</td>\n",
       "      <td>205.100006</td>\n",
       "      <td>22440</td>\n",
       "    </tr>\n",
       "    <tr>\n",
       "      <th>...</th>\n",
       "      <td>...</td>\n",
       "      <td>...</td>\n",
       "      <td>...</td>\n",
       "      <td>...</td>\n",
       "      <td>...</td>\n",
       "      <td>...</td>\n",
       "    </tr>\n",
       "    <tr>\n",
       "      <th>2023-01-25 15:26:00+05:30</th>\n",
       "      <td>201.899994</td>\n",
       "      <td>202.000000</td>\n",
       "      <td>201.899994</td>\n",
       "      <td>202.000000</td>\n",
       "      <td>202.000000</td>\n",
       "      <td>44589</td>\n",
       "    </tr>\n",
       "    <tr>\n",
       "      <th>2023-01-25 15:27:00+05:30</th>\n",
       "      <td>202.000000</td>\n",
       "      <td>202.000000</td>\n",
       "      <td>201.949997</td>\n",
       "      <td>202.000000</td>\n",
       "      <td>202.000000</td>\n",
       "      <td>35031</td>\n",
       "    </tr>\n",
       "    <tr>\n",
       "      <th>2023-01-25 15:28:00+05:30</th>\n",
       "      <td>202.000000</td>\n",
       "      <td>202.100006</td>\n",
       "      <td>202.000000</td>\n",
       "      <td>202.100006</td>\n",
       "      <td>202.100006</td>\n",
       "      <td>40634</td>\n",
       "    </tr>\n",
       "    <tr>\n",
       "      <th>2023-01-25 15:29:00+05:30</th>\n",
       "      <td>202.100006</td>\n",
       "      <td>202.500000</td>\n",
       "      <td>202.100006</td>\n",
       "      <td>202.449997</td>\n",
       "      <td>202.449997</td>\n",
       "      <td>51354</td>\n",
       "    </tr>\n",
       "    <tr>\n",
       "      <th>2023-02-01 15:30:00+05:30</th>\n",
       "      <td>205.850006</td>\n",
       "      <td>205.850006</td>\n",
       "      <td>205.850006</td>\n",
       "      <td>205.850006</td>\n",
       "      <td>205.850006</td>\n",
       "      <td>0</td>\n",
       "    </tr>\n",
       "  </tbody>\n",
       "</table>\n",
       "<p>376 rows × 6 columns</p>\n",
       "</div>"
      ],
      "text/plain": [
       "                                 Open        High         Low       Close  \\\n",
       "Datetime                                                                    \n",
       "2023-01-25 09:15:00+05:30  205.850006  206.250000  205.649994  206.050003   \n",
       "2023-01-25 09:16:00+05:30  205.899994  206.050003  205.800003  206.000000   \n",
       "2023-01-25 09:17:00+05:30  205.949997  206.000000  205.300003  205.500000   \n",
       "2023-01-25 09:18:00+05:30  205.449997  205.550003  205.199997  205.300003   \n",
       "2023-01-25 09:19:00+05:30  205.300003  205.300003  205.050003  205.100006   \n",
       "...                               ...         ...         ...         ...   \n",
       "2023-01-25 15:26:00+05:30  201.899994  202.000000  201.899994  202.000000   \n",
       "2023-01-25 15:27:00+05:30  202.000000  202.000000  201.949997  202.000000   \n",
       "2023-01-25 15:28:00+05:30  202.000000  202.100006  202.000000  202.100006   \n",
       "2023-01-25 15:29:00+05:30  202.100006  202.500000  202.100006  202.449997   \n",
       "2023-02-01 15:30:00+05:30  205.850006  205.850006  205.850006  205.850006   \n",
       "\n",
       "                            Adj Close  Volume  \n",
       "Datetime                                       \n",
       "2023-01-25 09:15:00+05:30  206.050003       0  \n",
       "2023-01-25 09:16:00+05:30  206.000000   33110  \n",
       "2023-01-25 09:17:00+05:30  205.500000   77681  \n",
       "2023-01-25 09:18:00+05:30  205.300003   34396  \n",
       "2023-01-25 09:19:00+05:30  205.100006   22440  \n",
       "...                               ...     ...  \n",
       "2023-01-25 15:26:00+05:30  202.000000   44589  \n",
       "2023-01-25 15:27:00+05:30  202.000000   35031  \n",
       "2023-01-25 15:28:00+05:30  202.100006   40634  \n",
       "2023-01-25 15:29:00+05:30  202.449997   51354  \n",
       "2023-02-01 15:30:00+05:30  205.850006       0  \n",
       "\n",
       "[376 rows x 6 columns]"
      ]
     },
     "execution_count": 5,
     "metadata": {},
     "output_type": "execute_result"
    }
   ],
   "source": [
    "df"
   ]
  },
  {
   "cell_type": "code",
   "execution_count": 6,
   "id": "09cb2753",
   "metadata": {},
   "outputs": [
    {
     "data": {
      "text/plain": [
       "25517.80585106383"
      ]
     },
     "execution_count": 6,
     "metadata": {},
     "output_type": "execute_result"
    }
   ],
   "source": [
    "df['Volume'].mean()"
   ]
  },
  {
   "cell_type": "code",
   "execution_count": 7,
   "id": "53f25dc8",
   "metadata": {},
   "outputs": [
    {
     "data": {
      "text/plain": [
       "177645"
      ]
     },
     "execution_count": 7,
     "metadata": {},
     "output_type": "execute_result"
    }
   ],
   "source": [
    "df['Volume'].max()"
   ]
  },
  {
   "cell_type": "code",
   "execution_count": 8,
   "id": "2d79a3fa",
   "metadata": {},
   "outputs": [
    {
     "data": {
      "text/html": [
       "<div>\n",
       "<style scoped>\n",
       "    .dataframe tbody tr th:only-of-type {\n",
       "        vertical-align: middle;\n",
       "    }\n",
       "\n",
       "    .dataframe tbody tr th {\n",
       "        vertical-align: top;\n",
       "    }\n",
       "\n",
       "    .dataframe thead th {\n",
       "        text-align: right;\n",
       "    }\n",
       "</style>\n",
       "<table border=\"1\" class=\"dataframe\">\n",
       "  <thead>\n",
       "    <tr style=\"text-align: right;\">\n",
       "      <th></th>\n",
       "      <th>Open</th>\n",
       "      <th>High</th>\n",
       "      <th>Low</th>\n",
       "      <th>Close</th>\n",
       "      <th>Adj Close</th>\n",
       "      <th>Volume</th>\n",
       "    </tr>\n",
       "    <tr>\n",
       "      <th>Datetime</th>\n",
       "      <th></th>\n",
       "      <th></th>\n",
       "      <th></th>\n",
       "      <th></th>\n",
       "      <th></th>\n",
       "      <th></th>\n",
       "    </tr>\n",
       "  </thead>\n",
       "  <tbody>\n",
       "    <tr>\n",
       "      <th>2023-01-25 09:15:00+05:30</th>\n",
       "      <td>205.850006</td>\n",
       "      <td>206.250000</td>\n",
       "      <td>205.649994</td>\n",
       "      <td>206.050003</td>\n",
       "      <td>206.050003</td>\n",
       "      <td>0</td>\n",
       "    </tr>\n",
       "    <tr>\n",
       "      <th>2023-02-01 15:30:00+05:30</th>\n",
       "      <td>205.850006</td>\n",
       "      <td>205.850006</td>\n",
       "      <td>205.850006</td>\n",
       "      <td>205.850006</td>\n",
       "      <td>205.850006</td>\n",
       "      <td>0</td>\n",
       "    </tr>\n",
       "    <tr>\n",
       "      <th>2023-01-25 13:20:00+05:30</th>\n",
       "      <td>202.699997</td>\n",
       "      <td>202.750000</td>\n",
       "      <td>202.600006</td>\n",
       "      <td>202.649994</td>\n",
       "      <td>202.649994</td>\n",
       "      <td>2390</td>\n",
       "    </tr>\n",
       "    <tr>\n",
       "      <th>2023-01-25 11:03:00+05:30</th>\n",
       "      <td>203.100006</td>\n",
       "      <td>203.149994</td>\n",
       "      <td>203.050003</td>\n",
       "      <td>203.149994</td>\n",
       "      <td>203.149994</td>\n",
       "      <td>2585</td>\n",
       "    </tr>\n",
       "    <tr>\n",
       "      <th>2023-01-25 12:58:00+05:30</th>\n",
       "      <td>202.699997</td>\n",
       "      <td>202.750000</td>\n",
       "      <td>202.600006</td>\n",
       "      <td>202.750000</td>\n",
       "      <td>202.750000</td>\n",
       "      <td>3683</td>\n",
       "    </tr>\n",
       "  </tbody>\n",
       "</table>\n",
       "</div>"
      ],
      "text/plain": [
       "                                 Open        High         Low       Close  \\\n",
       "Datetime                                                                    \n",
       "2023-01-25 09:15:00+05:30  205.850006  206.250000  205.649994  206.050003   \n",
       "2023-02-01 15:30:00+05:30  205.850006  205.850006  205.850006  205.850006   \n",
       "2023-01-25 13:20:00+05:30  202.699997  202.750000  202.600006  202.649994   \n",
       "2023-01-25 11:03:00+05:30  203.100006  203.149994  203.050003  203.149994   \n",
       "2023-01-25 12:58:00+05:30  202.699997  202.750000  202.600006  202.750000   \n",
       "\n",
       "                            Adj Close  Volume  \n",
       "Datetime                                       \n",
       "2023-01-25 09:15:00+05:30  206.050003       0  \n",
       "2023-02-01 15:30:00+05:30  205.850006       0  \n",
       "2023-01-25 13:20:00+05:30  202.649994    2390  \n",
       "2023-01-25 11:03:00+05:30  203.149994    2585  \n",
       "2023-01-25 12:58:00+05:30  202.750000    3683  "
      ]
     },
     "execution_count": 8,
     "metadata": {},
     "output_type": "execute_result"
    }
   ],
   "source": [
    "df.nsmallest(5, ['Volume'])"
   ]
  },
  {
   "cell_type": "code",
   "execution_count": 9,
   "id": "3749f93b",
   "metadata": {},
   "outputs": [
    {
     "data": {
      "text/plain": [
       "<AxesSubplot:xlabel='Datetime'>"
      ]
     },
     "execution_count": 9,
     "metadata": {},
     "output_type": "execute_result"
    },
    {
     "data": {
      "image/png": "[encoded data removed]",
      "text/plain": [
       "<Figure size 432x288 with 1 Axes>"
      ]
     },
     "metadata": {
      "needs_background": "light"
     },
     "output_type": "display_data"
    }
   ],
   "source": [
    "df['Volume'].plot()"
   ]
  },
  {
   "cell_type": "code",
   "execution_count": 10,
   "id": "a04d854e",
   "metadata": {},
   "outputs": [],
   "source": [
    "ls = df['Volume']"
   ]
  },
  {
   "cell_type": "code",
   "execution_count": 11,
   "id": "5d4209be",
   "metadata": {},
   "outputs": [
    {
     "data": {
      "text/plain": [
       "<AxesSubplot:>"
      ]
     },
     "execution_count": 11,
     "metadata": {},
     "output_type": "execute_result"
    },
    {
     "data": {
      "image/png": "[encoded data removed]",
      "text/plain": [
       "<Figure size 432x288 with 1 Axes>"
      ]
     },
     "metadata": {
      "needs_background": "light"
     },
     "output_type": "display_data"
    }
   ],
   "source": [
    "df['Volume'].hist()"
   ]
  },
  {
   "cell_type": "code",
   "execution_count": 19,
   "id": "cad91401",
   "metadata": {},
   "outputs": [
    {
     "data": {
      "text/plain": [
       "{'whiskers': [<matplotlib.lines.Line2D at 0x2bad4b38a00>,\n",
       "  <matplotlib.lines.Line2D at 0x2bad4b38cd0>],\n",
       " 'caps': [<matplotlib.lines.Line2D at 0x2bad4b38fa0>,\n",
       "  <matplotlib.lines.Line2D at 0x2bad4b432b0>],\n",
       " 'boxes': [<matplotlib.lines.Line2D at 0x2bad4b38730>],\n",
       " 'medians': [<matplotlib.lines.Line2D at 0x2bad4b43580>],\n",
       " 'fliers': [<matplotlib.lines.Line2D at 0x2bad4b43850>],\n",
       " 'means': []}"
      ]
     },
     "execution_count": 19,
     "metadata": {},
     "output_type": "execute_result"
    },
    {
     "data": {
      "image/png": "[encoded data removed]",
      "text/plain": [
       "<Figure size 432x288 with 1 Axes>"
      ]
     },
     "metadata": {
      "needs_background": "light"
     },
     "output_type": "display_data"
    }
   ],
   "source": [
    "plt.boxplot(df['Volume'], notch=None, vert=None, patch_artist=None, widths=None)"
   ]
  },
  {
   "cell_type": "code",
   "execution_count": 12,
   "id": "3ee967a9",
   "metadata": {},
   "outputs": [
    {
     "data": {
      "text/plain": [
       "9594695"
      ]
     },
     "execution_count": 12,
     "metadata": {},
     "output_type": "execute_result"
    }
   ],
   "source": [
    "df['Volume'].sum()"
   ]
  },
  {
   "cell_type": "code",
   "execution_count": 13,
   "id": "4d2a7a1b",
   "metadata": {},
   "outputs": [],
   "source": [
    "cap = df['Volume'].mean()"
   ]
  },
  {
   "cell_type": "code",
   "execution_count": 14,
   "id": "202069d2",
   "metadata": {},
   "outputs": [],
   "source": [
    "for index, row in df.iterrows():\n",
    "#     print(row['Volume'], '\\n')\n",
    "    cap += row['Volume']\n",
    "    \n",
    "    if cap>= 100000:\n",
    "        cap = 0"
   ]
  },
  {
   "cell_type": "code",
   "execution_count": 15,
   "id": "5a0b5a09",
   "metadata": {},
   "outputs": [
    {
     "ename": "KeyError",
     "evalue": "'Quotient'",
     "output_type": "error",
     "traceback": [
      "\u001b[1;31m---------------------------------------------------------------------------\u001b[0m",
      "\u001b[1;31mKeyError\u001b[0m                                  Traceback (most recent call last)",
      "Input \u001b[1;32mIn [15]\u001b[0m, in \u001b[0;36m<cell line: 1>\u001b[1;34m()\u001b[0m\n\u001b[1;32m----> 1\u001b[0m df_High\u001b[38;5;241m=\u001b[39m  \u001b[43mdf\u001b[49m\u001b[38;5;241;43m.\u001b[39;49m\u001b[43mgroupby\u001b[49m\u001b[43m(\u001b[49m\u001b[38;5;124;43m'\u001b[39;49m\u001b[38;5;124;43mQuotient\u001b[39;49m\u001b[38;5;124;43m'\u001b[39;49m\u001b[43m)\u001b[49m[\u001b[38;5;124m'\u001b[39m\u001b[38;5;124mClose\u001b[39m\u001b[38;5;124m'\u001b[39m]\u001b[38;5;241m.\u001b[39mmax()\n\u001b[0;32m      2\u001b[0m df_Low \u001b[38;5;241m=\u001b[39m  df\u001b[38;5;241m.\u001b[39mgroupby(\u001b[38;5;124m'\u001b[39m\u001b[38;5;124mQuotient\u001b[39m\u001b[38;5;124m'\u001b[39m)[\u001b[38;5;124m'\u001b[39m\u001b[38;5;124mClose\u001b[39m\u001b[38;5;124m'\u001b[39m]\u001b[38;5;241m.\u001b[39mmin()\n\u001b[0;32m      3\u001b[0m df_Net_Volume \u001b[38;5;241m=\u001b[39m  df\u001b[38;5;241m.\u001b[39mgroupby(\u001b[38;5;124m'\u001b[39m\u001b[38;5;124mQuotient\u001b[39m\u001b[38;5;124m'\u001b[39m)[\u001b[38;5;124m'\u001b[39m\u001b[38;5;124mVolume\u001b[39m\u001b[38;5;124m'\u001b[39m]\u001b[38;5;241m.\u001b[39msum()\n",
      "File \u001b[1;32mC:\\Anaconda\\lib\\site-packages\\pandas\\core\\frame.py:7712\u001b[0m, in \u001b[0;36mDataFrame.groupby\u001b[1;34m(self, by, axis, level, as_index, sort, group_keys, squeeze, observed, dropna)\u001b[0m\n\u001b[0;32m   7707\u001b[0m axis \u001b[38;5;241m=\u001b[39m \u001b[38;5;28mself\u001b[39m\u001b[38;5;241m.\u001b[39m_get_axis_number(axis)\n\u001b[0;32m   7709\u001b[0m \u001b[38;5;66;03m# https://github.com/python/mypy/issues/7642\u001b[39;00m\n\u001b[0;32m   7710\u001b[0m \u001b[38;5;66;03m# error: Argument \"squeeze\" to \"DataFrameGroupBy\" has incompatible type\u001b[39;00m\n\u001b[0;32m   7711\u001b[0m \u001b[38;5;66;03m# \"Union[bool, NoDefault]\"; expected \"bool\"\u001b[39;00m\n\u001b[1;32m-> 7712\u001b[0m \u001b[38;5;28;01mreturn\u001b[39;00m \u001b[43mDataFrameGroupBy\u001b[49m\u001b[43m(\u001b[49m\n\u001b[0;32m   7713\u001b[0m \u001b[43m    \u001b[49m\u001b[43mobj\u001b[49m\u001b[38;5;241;43m=\u001b[39;49m\u001b[38;5;28;43mself\u001b[39;49m\u001b[43m,\u001b[49m\n\u001b[0;32m   7714\u001b[0m \u001b[43m    \u001b[49m\u001b[43mkeys\u001b[49m\u001b[38;5;241;43m=\u001b[39;49m\u001b[43mby\u001b[49m\u001b[43m,\u001b[49m\n\u001b[0;32m   7715\u001b[0m \u001b[43m    \u001b[49m\u001b[43maxis\u001b[49m\u001b[38;5;241;43m=\u001b[39;49m\u001b[43maxis\u001b[49m\u001b[43m,\u001b[49m\n\u001b[0;32m   7716\u001b[0m \u001b[43m    \u001b[49m\u001b[43mlevel\u001b[49m\u001b[38;5;241;43m=\u001b[39;49m\u001b[43mlevel\u001b[49m\u001b[43m,\u001b[49m\n\u001b[0;32m   7717\u001b[0m \u001b[43m    \u001b[49m\u001b[43mas_index\u001b[49m\u001b[38;5;241;43m=\u001b[39;49m\u001b[43mas_index\u001b[49m\u001b[43m,\u001b[49m\n\u001b[0;32m   7718\u001b[0m \u001b[43m    \u001b[49m\u001b[43msort\u001b[49m\u001b[38;5;241;43m=\u001b[39;49m\u001b[43msort\u001b[49m\u001b[43m,\u001b[49m\n\u001b[0;32m   7719\u001b[0m \u001b[43m    \u001b[49m\u001b[43mgroup_keys\u001b[49m\u001b[38;5;241;43m=\u001b[39;49m\u001b[43mgroup_keys\u001b[49m\u001b[43m,\u001b[49m\n\u001b[0;32m   7720\u001b[0m \u001b[43m    \u001b[49m\u001b[43msqueeze\u001b[49m\u001b[38;5;241;43m=\u001b[39;49m\u001b[43msqueeze\u001b[49m\u001b[43m,\u001b[49m\u001b[43m  \u001b[49m\u001b[38;5;66;43;03m# type: ignore[arg-type]\u001b[39;49;00m\n\u001b[0;32m   7721\u001b[0m \u001b[43m    \u001b[49m\u001b[43mobserved\u001b[49m\u001b[38;5;241;43m=\u001b[39;49m\u001b[43mobserved\u001b[49m\u001b[43m,\u001b[49m\n\u001b[0;32m   7722\u001b[0m \u001b[43m    \u001b[49m\u001b[43mdropna\u001b[49m\u001b[38;5;241;43m=\u001b[39;49m\u001b[43mdropna\u001b[49m\u001b[43m,\u001b[49m\n\u001b[0;32m   7723\u001b[0m \u001b[43m\u001b[49m\u001b[43m)\u001b[49m\n",
      "File \u001b[1;32mC:\\Anaconda\\lib\\site-packages\\pandas\\core\\groupby\\groupby.py:882\u001b[0m, in \u001b[0;36mGroupBy.__init__\u001b[1;34m(self, obj, keys, axis, level, grouper, exclusions, selection, as_index, sort, group_keys, squeeze, observed, mutated, dropna)\u001b[0m\n\u001b[0;32m    879\u001b[0m \u001b[38;5;28;01mif\u001b[39;00m grouper \u001b[38;5;129;01mis\u001b[39;00m \u001b[38;5;28;01mNone\u001b[39;00m:\n\u001b[0;32m    880\u001b[0m     \u001b[38;5;28;01mfrom\u001b[39;00m \u001b[38;5;21;01mpandas\u001b[39;00m\u001b[38;5;21;01m.\u001b[39;00m\u001b[38;5;21;01mcore\u001b[39;00m\u001b[38;5;21;01m.\u001b[39;00m\u001b[38;5;21;01mgroupby\u001b[39;00m\u001b[38;5;21;01m.\u001b[39;00m\u001b[38;5;21;01mgrouper\u001b[39;00m \u001b[38;5;28;01mimport\u001b[39;00m get_grouper\n\u001b[1;32m--> 882\u001b[0m     grouper, exclusions, obj \u001b[38;5;241m=\u001b[39m \u001b[43mget_grouper\u001b[49m\u001b[43m(\u001b[49m\n\u001b[0;32m    883\u001b[0m \u001b[43m        \u001b[49m\u001b[43mobj\u001b[49m\u001b[43m,\u001b[49m\n\u001b[0;32m    884\u001b[0m \u001b[43m        \u001b[49m\u001b[43mkeys\u001b[49m\u001b[43m,\u001b[49m\n\u001b[0;32m    885\u001b[0m \u001b[43m        \u001b[49m\u001b[43maxis\u001b[49m\u001b[38;5;241;43m=\u001b[39;49m\u001b[43maxis\u001b[49m\u001b[43m,\u001b[49m\n\u001b[0;32m    886\u001b[0m \u001b[43m        \u001b[49m\u001b[43mlevel\u001b[49m\u001b[38;5;241;43m=\u001b[39;49m\u001b[43mlevel\u001b[49m\u001b[43m,\u001b[49m\n\u001b[0;32m    887\u001b[0m \u001b[43m        \u001b[49m\u001b[43msort\u001b[49m\u001b[38;5;241;43m=\u001b[39;49m\u001b[43msort\u001b[49m\u001b[43m,\u001b[49m\n\u001b[0;32m    888\u001b[0m \u001b[43m        \u001b[49m\u001b[43mobserved\u001b[49m\u001b[38;5;241;43m=\u001b[39;49m\u001b[43mobserved\u001b[49m\u001b[43m,\u001b[49m\n\u001b[0;32m    889\u001b[0m \u001b[43m        \u001b[49m\u001b[43mmutated\u001b[49m\u001b[38;5;241;43m=\u001b[39;49m\u001b[38;5;28;43mself\u001b[39;49m\u001b[38;5;241;43m.\u001b[39;49m\u001b[43mmutated\u001b[49m\u001b[43m,\u001b[49m\n\u001b[0;32m    890\u001b[0m \u001b[43m        \u001b[49m\u001b[43mdropna\u001b[49m\u001b[38;5;241;43m=\u001b[39;49m\u001b[38;5;28;43mself\u001b[39;49m\u001b[38;5;241;43m.\u001b[39;49m\u001b[43mdropna\u001b[49m\u001b[43m,\u001b[49m\n\u001b[0;32m    891\u001b[0m \u001b[43m    \u001b[49m\u001b[43m)\u001b[49m\n\u001b[0;32m    893\u001b[0m \u001b[38;5;28mself\u001b[39m\u001b[38;5;241m.\u001b[39mobj \u001b[38;5;241m=\u001b[39m obj\n\u001b[0;32m    894\u001b[0m \u001b[38;5;28mself\u001b[39m\u001b[38;5;241m.\u001b[39maxis \u001b[38;5;241m=\u001b[39m obj\u001b[38;5;241m.\u001b[39m_get_axis_number(axis)\n",
      "File \u001b[1;32mC:\\Anaconda\\lib\\site-packages\\pandas\\core\\groupby\\grouper.py:882\u001b[0m, in \u001b[0;36mget_grouper\u001b[1;34m(obj, key, axis, level, sort, observed, mutated, validate, dropna)\u001b[0m\n\u001b[0;32m    880\u001b[0m         in_axis, level, gpr \u001b[38;5;241m=\u001b[39m \u001b[38;5;28;01mFalse\u001b[39;00m, gpr, \u001b[38;5;28;01mNone\u001b[39;00m\n\u001b[0;32m    881\u001b[0m     \u001b[38;5;28;01melse\u001b[39;00m:\n\u001b[1;32m--> 882\u001b[0m         \u001b[38;5;28;01mraise\u001b[39;00m \u001b[38;5;167;01mKeyError\u001b[39;00m(gpr)\n\u001b[0;32m    883\u001b[0m \u001b[38;5;28;01melif\u001b[39;00m \u001b[38;5;28misinstance\u001b[39m(gpr, Grouper) \u001b[38;5;129;01mand\u001b[39;00m gpr\u001b[38;5;241m.\u001b[39mkey \u001b[38;5;129;01mis\u001b[39;00m \u001b[38;5;129;01mnot\u001b[39;00m \u001b[38;5;28;01mNone\u001b[39;00m:\n\u001b[0;32m    884\u001b[0m     \u001b[38;5;66;03m# Add key to exclusions\u001b[39;00m\n\u001b[0;32m    885\u001b[0m     exclusions\u001b[38;5;241m.\u001b[39madd(gpr\u001b[38;5;241m.\u001b[39mkey)\n",
      "\u001b[1;31mKeyError\u001b[0m: 'Quotient'"
     ]
    }
   ],
   "source": [
    "df_High=  df.groupby('Quotient')['Close'].max()\n",
    "df_Low =  df.groupby('Quotient')['Close'].min()\n",
    "df_Net_Volume =  df.groupby('Quotient')['Volume'].sum()\n",
    "df_buy_vol = df.groupby('Quotient')['buy_vol'].sum()\n",
    "df_sell_vol = df.groupby('Quotient')['sell_vol'].sum()"
   ]
  },
  {
   "cell_type": "code",
   "execution_count": null,
   "id": "049edd5a",
   "metadata": {},
   "outputs": [],
   "source": [
    "df"
   ]
  },
  {
   "cell_type": "code",
   "execution_count": null,
   "id": "b18e7ef2",
   "metadata": {},
   "outputs": [],
   "source": [
    "df.iloc[1]"
   ]
  },
  {
   "cell_type": "code",
   "execution_count": null,
   "id": "76028580",
   "metadata": {},
   "outputs": [],
   "source": [
    "df['Volume'].max()"
   ]
  },
  {
   "cell_type": "code",
   "execution_count": null,
   "id": "ef56f7ae",
   "metadata": {},
   "outputs": [],
   "source": [
    "df['Volume'].sum() / df['Volume'].mean()"
   ]
  },
  {
   "cell_type": "code",
   "execution_count": null,
   "id": "c13580c2",
   "metadata": {},
   "outputs": [],
   "source": [
    "df['Volume'].sum()/100"
   ]
  },
  {
   "cell_type": "code",
   "execution_count": null,
   "id": "5560f00e",
   "metadata": {},
   "outputs": [],
   "source": [
    "def resample_to_constant_volume(df, volume_per_candle):\n",
    "    # sort by time\n",
    "    #df = df.sort_values(by='time')\n",
    "    # create cumulative volume column\n",
    "#     df['vol'] = df['volume']\n",
    "#     df['open'] = df['Open']\n",
    "#     df['close'] = df['Close']\n",
    "#     df['high']  = df['High']\n",
    "#     df['low'] = df['Low']\n",
    "    df['cumulative_volume'] = df['vol'].cumsum()\n",
    "    print(len(df))\n",
    "    # initialize the new dataframe to hold resampled data\n",
    "    resampled_df = pd.DataFrame(columns=['open', 'high', 'low', 'close', 'volume'])\n",
    "    start_index = 0\n",
    "    while start_index < len(df):\n",
    "        end_index = start_index\n",
    "        cumulative_volume = 0#df.iloc[end_index]['vol']\n",
    "        while cumulative_volume < volume_per_candle and end_index < len(df) - 1:\n",
    "            #print(end_index)\n",
    "            end_index += 1\n",
    "            cumulative_volume = df.iloc[end_index]['cumulative_volume'] - df.iloc[start_index]['cumulative_volume']\n",
    "        #print(\"fdv\")\n",
    "        \n",
    "        candle_df = df.iloc[start_index:end_index+1]\n",
    "        open_price = candle_df.iloc[0]['open']\n",
    "        high_price = candle_df['high'].max()\n",
    "        low_price = candle_df['low'].min()\n",
    "        close_price = candle_df.iloc[-1]['close']\n",
    "        resampled_df = resampled_df.append({'open': open_price, 'high': high_price, 'low': low_price, 'close': close_price, 'volume': cumulative_volume}, ignore_index=True)\n",
    "        if df.iloc[len(df)-1]['cumulative_volume'] - df.iloc[end_index]['cumulative_volume'] < volume_per_candle:\n",
    "            candle_df = df.iloc[end_index:len(df)]\n",
    "            open_price = candle_df.iloc[0]['open']\n",
    "            high_price = candle_df['high'].max()\n",
    "            low_price = candle_df['low'].min()\n",
    "            close_price = candle_df.iloc[-1]['close']\n",
    "            resampled_df = resampled_df.append({'open': open_price, 'high': high_price, 'low': low_price, 'close': close_price, 'volume': volume_per_candle}, ignore_index=True)\n",
    "            break\n",
    "        start_index = end_index\n",
    "    return resampled_df"
   ]
  },
  {
   "cell_type": "code",
   "execution_count": null,
   "id": "5e8937e8",
   "metadata": {},
   "outputs": [],
   "source": [
    "df1 = pd.read_csv(\"data_2017.txt\")#.rename([\"as\",\"w\",\"S\",\"open\",\"high\",\"low\",\"close\",\"vol\"])\n",
    "df1.columns = [\"as\",\"date\",\"time\",\"open\",\"high\",\"low\",\"close\",\"vol\"]\n",
    "df1"
   ]
  },
  {
   "cell_type": "code",
   "execution_count": null,
   "id": "c78e78d7",
   "metadata": {},
   "outputs": [],
   "source": []
  },
  {
   "cell_type": "code",
   "execution_count": null,
   "id": "b5f2c455",
   "metadata": {},
   "outputs": [],
   "source": [
    "import warnings\n",
    "warnings.filterwarnings('ignore')\n",
    "df1 = resample_to_constant_volume(df1,5000)"
   ]
  },
  {
   "cell_type": "code",
   "execution_count": null,
   "id": "1554013f",
   "metadata": {},
   "outputs": [],
   "source": [
    "df1['sma_5'] = df1['close'].rolling(window=5).mean()\n",
    "df1['sma_14'] = df1['close'].rolling(window=14).mean()"
   ]
  },
  {
   "cell_type": "code",
   "execution_count": null,
   "id": "1aee5ddc",
   "metadata": {},
   "outputs": [],
   "source": [
    "df1.dropna()"
   ]
  },
  {
   "cell_type": "code",
   "execution_count": null,
   "id": "27137ed4",
   "metadata": {},
   "outputs": [],
   "source": [
    "df1['position'] = np.where(df1['sma_5'] > df1['sma_14'] , 1, 0)"
   ]
  },
  {
   "cell_type": "code",
   "execution_count": 107,
   "id": "3604917b",
   "metadata": {},
   "outputs": [],
   "source": [
    "df1['cc_return'] = df1['close'].pct_change()"
   ]
  },
  {
   "cell_type": "code",
   "execution_count": 108,
   "id": "b43af91d",
   "metadata": {},
   "outputs": [],
   "source": [
    "df1 = df1.dropna()"
   ]
  },
  {
   "cell_type": "code",
   "execution_count": 109,
   "id": "b1361550",
   "metadata": {},
   "outputs": [],
   "source": [
    "df1['star_return'] = df1['cc_return'] * df1['position']"
   ]
  },
  {
   "cell_type": "code",
   "execution_count": 110,
   "id": "43f28b7f",
   "metadata": {},
   "outputs": [],
   "source": [
    "df1['star_return1'] = 1 + df1['star_return']\n",
    "df1['cc_return1'] = 1 + df1['cc_return']"
   ]
  },
  {
   "cell_type": "code",
   "execution_count": null,
   "id": "ec10c471",
   "metadata": {},
   "outputs": [],
   "source": []
  },
  {
   "cell_type": "code",
   "execution_count": 112,
   "id": "d58217b3",
   "metadata": {},
   "outputs": [
    {
     "data": {
      "text/html": [
       "<div>\n",
       "<style scoped>\n",
       "    .dataframe tbody tr th:only-of-type {\n",
       "        vertical-align: middle;\n",
       "    }\n",
       "\n",
       "    .dataframe tbody tr th {\n",
       "        vertical-align: top;\n",
       "    }\n",
       "\n",
       "    .dataframe thead th {\n",
       "        text-align: right;\n",
       "    }\n",
       "</style>\n",
       "<table border=\"1\" class=\"dataframe\">\n",
       "  <thead>\n",
       "    <tr style=\"text-align: right;\">\n",
       "      <th></th>\n",
       "      <th>open</th>\n",
       "      <th>high</th>\n",
       "      <th>low</th>\n",
       "      <th>close</th>\n",
       "      <th>volume</th>\n",
       "      <th>sma_5</th>\n",
       "      <th>sma_14</th>\n",
       "      <th>position</th>\n",
       "      <th>cc_return</th>\n",
       "      <th>star_return</th>\n",
       "      <th>star_return1</th>\n",
       "      <th>cc_return1</th>\n",
       "    </tr>\n",
       "  </thead>\n",
       "  <tbody>\n",
       "    <tr>\n",
       "      <th>13</th>\n",
       "      <td>8247.75</td>\n",
       "      <td>8267.0</td>\n",
       "      <td>8243.75</td>\n",
       "      <td>8262.65</td>\n",
       "      <td>5014.0</td>\n",
       "      <td>8216.55</td>\n",
       "      <td>8194.532143</td>\n",
       "      <td>1</td>\n",
       "      <td>0.001964</td>\n",
       "      <td>0.001964</td>\n",
       "      <td>1.001964</td>\n",
       "      <td>1.001964</td>\n",
       "    </tr>\n",
       "    <tr>\n",
       "      <th>14</th>\n",
       "      <td>8262.25</td>\n",
       "      <td>8271.7</td>\n",
       "      <td>8252.5</td>\n",
       "      <td>8265.05</td>\n",
       "      <td>5004.0</td>\n",
       "      <td>8233.14</td>\n",
       "      <td>8203.467857</td>\n",
       "      <td>1</td>\n",
       "      <td>0.000290</td>\n",
       "      <td>0.000290</td>\n",
       "      <td>1.000290</td>\n",
       "      <td>1.000290</td>\n",
       "    </tr>\n",
       "    <tr>\n",
       "      <th>15</th>\n",
       "      <td>8264.25</td>\n",
       "      <td>8282.65</td>\n",
       "      <td>8251.95</td>\n",
       "      <td>8273.25</td>\n",
       "      <td>5042.0</td>\n",
       "      <td>8247.25</td>\n",
       "      <td>8212.478571</td>\n",
       "      <td>1</td>\n",
       "      <td>0.000992</td>\n",
       "      <td>0.000992</td>\n",
       "      <td>1.000992</td>\n",
       "      <td>1.000992</td>\n",
       "    </tr>\n",
       "    <tr>\n",
       "      <th>16</th>\n",
       "      <td>8272.5</td>\n",
       "      <td>8281.85</td>\n",
       "      <td>8267.6</td>\n",
       "      <td>8281.85</td>\n",
       "      <td>8762.0</td>\n",
       "      <td>8265.85</td>\n",
       "      <td>8219.732143</td>\n",
       "      <td>1</td>\n",
       "      <td>0.001039</td>\n",
       "      <td>0.001039</td>\n",
       "      <td>1.001039</td>\n",
       "      <td>1.001039</td>\n",
       "    </tr>\n",
       "    <tr>\n",
       "      <th>17</th>\n",
       "      <td>8281.85</td>\n",
       "      <td>8306.85</td>\n",
       "      <td>8267.55</td>\n",
       "      <td>8272.75</td>\n",
       "      <td>5009.0</td>\n",
       "      <td>8271.11</td>\n",
       "      <td>8226.589286</td>\n",
       "      <td>1</td>\n",
       "      <td>-0.001099</td>\n",
       "      <td>-0.001099</td>\n",
       "      <td>0.998901</td>\n",
       "      <td>0.998901</td>\n",
       "    </tr>\n",
       "    <tr>\n",
       "      <th>...</th>\n",
       "      <td>...</td>\n",
       "      <td>...</td>\n",
       "      <td>...</td>\n",
       "      <td>...</td>\n",
       "      <td>...</td>\n",
       "      <td>...</td>\n",
       "      <td>...</td>\n",
       "      <td>...</td>\n",
       "      <td>...</td>\n",
       "      <td>...</td>\n",
       "      <td>...</td>\n",
       "      <td>...</td>\n",
       "    </tr>\n",
       "    <tr>\n",
       "      <th>1019</th>\n",
       "      <td>10498.3</td>\n",
       "      <td>10516.5</td>\n",
       "      <td>10460.5</td>\n",
       "      <td>10516.5</td>\n",
       "      <td>5042.0</td>\n",
       "      <td>10504.30</td>\n",
       "      <td>10510.128571</td>\n",
       "      <td>0</td>\n",
       "      <td>0.000961</td>\n",
       "      <td>0.000000</td>\n",
       "      <td>1.000000</td>\n",
       "      <td>1.000961</td>\n",
       "    </tr>\n",
       "    <tr>\n",
       "      <th>1020</th>\n",
       "      <td>10512.6</td>\n",
       "      <td>10527.1</td>\n",
       "      <td>10509.7</td>\n",
       "      <td>10525.1</td>\n",
       "      <td>5018.0</td>\n",
       "      <td>10509.80</td>\n",
       "      <td>10511.764286</td>\n",
       "      <td>0</td>\n",
       "      <td>0.000818</td>\n",
       "      <td>0.000000</td>\n",
       "      <td>1.000000</td>\n",
       "      <td>1.000818</td>\n",
       "    </tr>\n",
       "    <tr>\n",
       "      <th>1021</th>\n",
       "      <td>10526.0</td>\n",
       "      <td>10526.2</td>\n",
       "      <td>10505.5</td>\n",
       "      <td>10513.6</td>\n",
       "      <td>5041.0</td>\n",
       "      <td>10512.42</td>\n",
       "      <td>10513.735714</td>\n",
       "      <td>0</td>\n",
       "      <td>-0.001093</td>\n",
       "      <td>-0.000000</td>\n",
       "      <td>1.000000</td>\n",
       "      <td>0.998907</td>\n",
       "    </tr>\n",
       "    <tr>\n",
       "      <th>1022</th>\n",
       "      <td>10513.4</td>\n",
       "      <td>10532.5</td>\n",
       "      <td>10509.2</td>\n",
       "      <td>10524.8</td>\n",
       "      <td>5053.0</td>\n",
       "      <td>10517.28</td>\n",
       "      <td>10516.457143</td>\n",
       "      <td>1</td>\n",
       "      <td>0.001065</td>\n",
       "      <td>0.001065</td>\n",
       "      <td>1.001065</td>\n",
       "      <td>1.001065</td>\n",
       "    </tr>\n",
       "    <tr>\n",
       "      <th>1023</th>\n",
       "      <td>10527.4</td>\n",
       "      <td>10538.7</td>\n",
       "      <td>10515.5</td>\n",
       "      <td>10530.7</td>\n",
       "      <td>5000.0</td>\n",
       "      <td>10522.14</td>\n",
       "      <td>10519.228571</td>\n",
       "      <td>1</td>\n",
       "      <td>0.000561</td>\n",
       "      <td>0.000561</td>\n",
       "      <td>1.000561</td>\n",
       "      <td>1.000561</td>\n",
       "    </tr>\n",
       "  </tbody>\n",
       "</table>\n",
       "<p>1011 rows × 12 columns</p>\n",
       "</div>"
      ],
      "text/plain": [
       "         open     high      low    close  volume     sma_5        sma_14  \\\n",
       "13    8247.75   8267.0  8243.75  8262.65  5014.0   8216.55   8194.532143   \n",
       "14    8262.25   8271.7   8252.5  8265.05  5004.0   8233.14   8203.467857   \n",
       "15    8264.25  8282.65  8251.95  8273.25  5042.0   8247.25   8212.478571   \n",
       "16     8272.5  8281.85   8267.6  8281.85  8762.0   8265.85   8219.732143   \n",
       "17    8281.85  8306.85  8267.55  8272.75  5009.0   8271.11   8226.589286   \n",
       "...       ...      ...      ...      ...     ...       ...           ...   \n",
       "1019  10498.3  10516.5  10460.5  10516.5  5042.0  10504.30  10510.128571   \n",
       "1020  10512.6  10527.1  10509.7  10525.1  5018.0  10509.80  10511.764286   \n",
       "1021  10526.0  10526.2  10505.5  10513.6  5041.0  10512.42  10513.735714   \n",
       "1022  10513.4  10532.5  10509.2  10524.8  5053.0  10517.28  10516.457143   \n",
       "1023  10527.4  10538.7  10515.5  10530.7  5000.0  10522.14  10519.228571   \n",
       "\n",
       "      position  cc_return  star_return  star_return1  cc_return1  \n",
       "13           1   0.001964     0.001964      1.001964    1.001964  \n",
       "14           1   0.000290     0.000290      1.000290    1.000290  \n",
       "15           1   0.000992     0.000992      1.000992    1.000992  \n",
       "16           1   0.001039     0.001039      1.001039    1.001039  \n",
       "17           1  -0.001099    -0.001099      0.998901    0.998901  \n",
       "...        ...        ...          ...           ...         ...  \n",
       "1019         0   0.000961     0.000000      1.000000    1.000961  \n",
       "1020         0   0.000818     0.000000      1.000000    1.000818  \n",
       "1021         0  -0.001093    -0.000000      1.000000    0.998907  \n",
       "1022         1   0.001065     0.001065      1.001065    1.001065  \n",
       "1023         1   0.000561     0.000561      1.000561    1.000561  \n",
       "\n",
       "[1011 rows x 12 columns]"
      ]
     },
     "execution_count": 112,
     "metadata": {},
     "output_type": "execute_result"
    }
   ],
   "source": [
    "df1"
   ]
  },
  {
   "cell_type": "code",
   "execution_count": 121,
   "id": "d9d6e418",
   "metadata": {},
   "outputs": [],
   "source": [
    "df1[['cc_returns', 'strategy_returns']] = df1[['cc_return1', 'star_return1']].cumprod()"
   ]
  },
  {
   "cell_type": "code",
   "execution_count": 122,
   "id": "9ad653f8",
   "metadata": {},
   "outputs": [
    {
     "data": {
      "text/html": [
       "<div>\n",
       "<style scoped>\n",
       "    .dataframe tbody tr th:only-of-type {\n",
       "        vertical-align: middle;\n",
       "    }\n",
       "\n",
       "    .dataframe tbody tr th {\n",
       "        vertical-align: top;\n",
       "    }\n",
       "\n",
       "    .dataframe thead th {\n",
       "        text-align: right;\n",
       "    }\n",
       "</style>\n",
       "<table border=\"1\" class=\"dataframe\">\n",
       "  <thead>\n",
       "    <tr style=\"text-align: right;\">\n",
       "      <th></th>\n",
       "      <th>open</th>\n",
       "      <th>high</th>\n",
       "      <th>low</th>\n",
       "      <th>close</th>\n",
       "      <th>volume</th>\n",
       "      <th>sma_5</th>\n",
       "      <th>sma_14</th>\n",
       "      <th>position</th>\n",
       "      <th>cc_return</th>\n",
       "      <th>star_return</th>\n",
       "      <th>star_return1</th>\n",
       "      <th>cc_return1</th>\n",
       "      <th>cc_returns</th>\n",
       "      <th>strategy_returns</th>\n",
       "    </tr>\n",
       "  </thead>\n",
       "  <tbody>\n",
       "    <tr>\n",
       "      <th>13</th>\n",
       "      <td>8247.75</td>\n",
       "      <td>8267.0</td>\n",
       "      <td>8243.75</td>\n",
       "      <td>8262.65</td>\n",
       "      <td>5014.0</td>\n",
       "      <td>8216.55</td>\n",
       "      <td>8194.532143</td>\n",
       "      <td>1</td>\n",
       "      <td>0.001964</td>\n",
       "      <td>0.001964</td>\n",
       "      <td>1.001964</td>\n",
       "      <td>1.001964</td>\n",
       "      <td>1.001964</td>\n",
       "      <td>1.001964</td>\n",
       "    </tr>\n",
       "    <tr>\n",
       "      <th>14</th>\n",
       "      <td>8262.25</td>\n",
       "      <td>8271.7</td>\n",
       "      <td>8252.5</td>\n",
       "      <td>8265.05</td>\n",
       "      <td>5004.0</td>\n",
       "      <td>8233.14</td>\n",
       "      <td>8203.467857</td>\n",
       "      <td>1</td>\n",
       "      <td>0.000290</td>\n",
       "      <td>0.000290</td>\n",
       "      <td>1.000290</td>\n",
       "      <td>1.000290</td>\n",
       "      <td>1.002256</td>\n",
       "      <td>1.002256</td>\n",
       "    </tr>\n",
       "    <tr>\n",
       "      <th>15</th>\n",
       "      <td>8264.25</td>\n",
       "      <td>8282.65</td>\n",
       "      <td>8251.95</td>\n",
       "      <td>8273.25</td>\n",
       "      <td>5042.0</td>\n",
       "      <td>8247.25</td>\n",
       "      <td>8212.478571</td>\n",
       "      <td>1</td>\n",
       "      <td>0.000992</td>\n",
       "      <td>0.000992</td>\n",
       "      <td>1.000992</td>\n",
       "      <td>1.000992</td>\n",
       "      <td>1.003250</td>\n",
       "      <td>1.003250</td>\n",
       "    </tr>\n",
       "    <tr>\n",
       "      <th>16</th>\n",
       "      <td>8272.5</td>\n",
       "      <td>8281.85</td>\n",
       "      <td>8267.6</td>\n",
       "      <td>8281.85</td>\n",
       "      <td>8762.0</td>\n",
       "      <td>8265.85</td>\n",
       "      <td>8219.732143</td>\n",
       "      <td>1</td>\n",
       "      <td>0.001039</td>\n",
       "      <td>0.001039</td>\n",
       "      <td>1.001039</td>\n",
       "      <td>1.001039</td>\n",
       "      <td>1.004293</td>\n",
       "      <td>1.004293</td>\n",
       "    </tr>\n",
       "    <tr>\n",
       "      <th>17</th>\n",
       "      <td>8281.85</td>\n",
       "      <td>8306.85</td>\n",
       "      <td>8267.55</td>\n",
       "      <td>8272.75</td>\n",
       "      <td>5009.0</td>\n",
       "      <td>8271.11</td>\n",
       "      <td>8226.589286</td>\n",
       "      <td>1</td>\n",
       "      <td>-0.001099</td>\n",
       "      <td>-0.001099</td>\n",
       "      <td>0.998901</td>\n",
       "      <td>0.998901</td>\n",
       "      <td>1.003189</td>\n",
       "      <td>1.003189</td>\n",
       "    </tr>\n",
       "    <tr>\n",
       "      <th>...</th>\n",
       "      <td>...</td>\n",
       "      <td>...</td>\n",
       "      <td>...</td>\n",
       "      <td>...</td>\n",
       "      <td>...</td>\n",
       "      <td>...</td>\n",
       "      <td>...</td>\n",
       "      <td>...</td>\n",
       "      <td>...</td>\n",
       "      <td>...</td>\n",
       "      <td>...</td>\n",
       "      <td>...</td>\n",
       "      <td>...</td>\n",
       "      <td>...</td>\n",
       "    </tr>\n",
       "    <tr>\n",
       "      <th>1019</th>\n",
       "      <td>10498.3</td>\n",
       "      <td>10516.5</td>\n",
       "      <td>10460.5</td>\n",
       "      <td>10516.5</td>\n",
       "      <td>5042.0</td>\n",
       "      <td>10504.30</td>\n",
       "      <td>10510.128571</td>\n",
       "      <td>0</td>\n",
       "      <td>0.000961</td>\n",
       "      <td>0.000000</td>\n",
       "      <td>1.000000</td>\n",
       "      <td>1.000961</td>\n",
       "      <td>1.275276</td>\n",
       "      <td>1.268893</td>\n",
       "    </tr>\n",
       "    <tr>\n",
       "      <th>1020</th>\n",
       "      <td>10512.6</td>\n",
       "      <td>10527.1</td>\n",
       "      <td>10509.7</td>\n",
       "      <td>10525.1</td>\n",
       "      <td>5018.0</td>\n",
       "      <td>10509.80</td>\n",
       "      <td>10511.764286</td>\n",
       "      <td>0</td>\n",
       "      <td>0.000818</td>\n",
       "      <td>0.000000</td>\n",
       "      <td>1.000000</td>\n",
       "      <td>1.000818</td>\n",
       "      <td>1.276319</td>\n",
       "      <td>1.268893</td>\n",
       "    </tr>\n",
       "    <tr>\n",
       "      <th>1021</th>\n",
       "      <td>10526.0</td>\n",
       "      <td>10526.2</td>\n",
       "      <td>10505.5</td>\n",
       "      <td>10513.6</td>\n",
       "      <td>5041.0</td>\n",
       "      <td>10512.42</td>\n",
       "      <td>10513.735714</td>\n",
       "      <td>0</td>\n",
       "      <td>-0.001093</td>\n",
       "      <td>-0.000000</td>\n",
       "      <td>1.000000</td>\n",
       "      <td>0.998907</td>\n",
       "      <td>1.274924</td>\n",
       "      <td>1.268893</td>\n",
       "    </tr>\n",
       "    <tr>\n",
       "      <th>1022</th>\n",
       "      <td>10513.4</td>\n",
       "      <td>10532.5</td>\n",
       "      <td>10509.2</td>\n",
       "      <td>10524.8</td>\n",
       "      <td>5053.0</td>\n",
       "      <td>10517.28</td>\n",
       "      <td>10516.457143</td>\n",
       "      <td>1</td>\n",
       "      <td>0.001065</td>\n",
       "      <td>0.001065</td>\n",
       "      <td>1.001065</td>\n",
       "      <td>1.001065</td>\n",
       "      <td>1.276283</td>\n",
       "      <td>1.270245</td>\n",
       "    </tr>\n",
       "    <tr>\n",
       "      <th>1023</th>\n",
       "      <td>10527.4</td>\n",
       "      <td>10538.7</td>\n",
       "      <td>10515.5</td>\n",
       "      <td>10530.7</td>\n",
       "      <td>5000.0</td>\n",
       "      <td>10522.14</td>\n",
       "      <td>10519.228571</td>\n",
       "      <td>1</td>\n",
       "      <td>0.000561</td>\n",
       "      <td>0.000561</td>\n",
       "      <td>1.000561</td>\n",
       "      <td>1.000561</td>\n",
       "      <td>1.276998</td>\n",
       "      <td>1.270957</td>\n",
       "    </tr>\n",
       "  </tbody>\n",
       "</table>\n",
       "<p>1011 rows × 14 columns</p>\n",
       "</div>"
      ],
      "text/plain": [
       "         open     high      low    close  volume     sma_5        sma_14  \\\n",
       "13    8247.75   8267.0  8243.75  8262.65  5014.0   8216.55   8194.532143   \n",
       "14    8262.25   8271.7   8252.5  8265.05  5004.0   8233.14   8203.467857   \n",
       "15    8264.25  8282.65  8251.95  8273.25  5042.0   8247.25   8212.478571   \n",
       "16     8272.5  8281.85   8267.6  8281.85  8762.0   8265.85   8219.732143   \n",
       "17    8281.85  8306.85  8267.55  8272.75  5009.0   8271.11   8226.589286   \n",
       "...       ...      ...      ...      ...     ...       ...           ...   \n",
       "1019  10498.3  10516.5  10460.5  10516.5  5042.0  10504.30  10510.128571   \n",
       "1020  10512.6  10527.1  10509.7  10525.1  5018.0  10509.80  10511.764286   \n",
       "1021  10526.0  10526.2  10505.5  10513.6  5041.0  10512.42  10513.735714   \n",
       "1022  10513.4  10532.5  10509.2  10524.8  5053.0  10517.28  10516.457143   \n",
       "1023  10527.4  10538.7  10515.5  10530.7  5000.0  10522.14  10519.228571   \n",
       "\n",
       "      position  cc_return  star_return  star_return1  cc_return1  cc_returns  \\\n",
       "13           1   0.001964     0.001964      1.001964    1.001964    1.001964   \n",
       "14           1   0.000290     0.000290      1.000290    1.000290    1.002256   \n",
       "15           1   0.000992     0.000992      1.000992    1.000992    1.003250   \n",
       "16           1   0.001039     0.001039      1.001039    1.001039    1.004293   \n",
       "17           1  -0.001099    -0.001099      0.998901    0.998901    1.003189   \n",
       "...        ...        ...          ...           ...         ...         ...   \n",
       "1019         0   0.000961     0.000000      1.000000    1.000961    1.275276   \n",
       "1020         0   0.000818     0.000000      1.000000    1.000818    1.276319   \n",
       "1021         0  -0.001093    -0.000000      1.000000    0.998907    1.274924   \n",
       "1022         1   0.001065     0.001065      1.001065    1.001065    1.276283   \n",
       "1023         1   0.000561     0.000561      1.000561    1.000561    1.276998   \n",
       "\n",
       "      strategy_returns  \n",
       "13            1.001964  \n",
       "14            1.002256  \n",
       "15            1.003250  \n",
       "16            1.004293  \n",
       "17            1.003189  \n",
       "...                ...  \n",
       "1019          1.268893  \n",
       "1020          1.268893  \n",
       "1021          1.268893  \n",
       "1022          1.270245  \n",
       "1023          1.270957  \n",
       "\n",
       "[1011 rows x 14 columns]"
      ]
     },
     "execution_count": 122,
     "metadata": {},
     "output_type": "execute_result"
    }
   ],
   "source": [
    "# df1[['star_return1']].plot(secondary_y = 'close')\n",
    "\n",
    "df1"
   ]
  },
  {
   "cell_type": "code",
   "execution_count": 126,
   "id": "a543ccb1",
   "metadata": {},
   "outputs": [
    {
     "data": {
      "text/plain": [
       "<AxesSubplot:>"
      ]
     },
     "execution_count": 126,
     "metadata": {},
     "output_type": "execute_result"
    },
    {
     "data": {
      "image/png": "[encoded data removed]",
      "text/plain": [
       "<Figure size 432x288 with 2 Axes>"
      ]
     },
     "metadata": {
      "needs_background": "light"
     },
     "output_type": "display_data"
    }
   ],
   "source": [
    "df1[[ 'strategy_returns', 'close']].plot(secondary_y = 'close')"
   ]
  },
  {
   "cell_type": "code",
   "execution_count": null,
   "id": "712f641d",
   "metadata": {},
   "outputs": [],
   "source": []
  }
 ],
 "metadata": {
  "kernelspec": {
   "display_name": "Python 3 (ipykernel)",
   "language": "python",
   "name": "python3"
  },
  "language_info": {
   "codemirror_mode": {
    "name": "ipython",
    "version": 3
   },
   "file_extension": ".py",
   "mimetype": "text/x-python",
   "name": "python",
   "nbconvert_exporter": "python",
   "pygments_lexer": "ipython3",
   "version": "3.9.12"
  }
 },
 "nbformat": 4,
 "nbformat_minor": 5
}
