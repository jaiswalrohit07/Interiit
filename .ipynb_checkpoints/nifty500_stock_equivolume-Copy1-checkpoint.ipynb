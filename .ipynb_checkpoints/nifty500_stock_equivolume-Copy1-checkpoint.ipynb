{
 "cells": [
  {
   "cell_type": "code",
   "execution_count": 96,
   "id": "c6e3f19a",
   "metadata": {},
   "outputs": [],
   "source": [
    "import pandas as pd\n",
    "import numpy as np\n",
    "import datetime\n",
    "import matplotlib.pyplot as plt"
   ]
  },
  {
   "cell_type": "code",
   "execution_count": 123,
   "id": "7b676e80",
   "metadata": {},
   "outputs": [],
   "source": [
    "df = pd.read_csv('ACC_minute_data_with_indicators.csv')"
   ]
  },
  {
   "cell_type": "code",
   "execution_count": 124,
   "id": "fbfcb42f",
   "metadata": {},
   "outputs": [],
   "source": [
    "df = df[['date' , 'close','high' , 'low' , 'open' , 'volume']]"
   ]
  },
  {
   "cell_type": "code",
   "execution_count": 125,
   "id": "a6d7df78",
   "metadata": {},
   "outputs": [
    {
     "data": {
      "text/html": [
       "<div>\n",
       "<style scoped>\n",
       "    .dataframe tbody tr th:only-of-type {\n",
       "        vertical-align: middle;\n",
       "    }\n",
       "\n",
       "    .dataframe tbody tr th {\n",
       "        vertical-align: top;\n",
       "    }\n",
       "\n",
       "    .dataframe thead th {\n",
       "        text-align: right;\n",
       "    }\n",
       "</style>\n",
       "<table border=\"1\" class=\"dataframe\">\n",
       "  <thead>\n",
       "    <tr style=\"text-align: right;\">\n",
       "      <th></th>\n",
       "      <th>date</th>\n",
       "      <th>close</th>\n",
       "      <th>high</th>\n",
       "      <th>low</th>\n",
       "      <th>open</th>\n",
       "      <th>volume</th>\n",
       "    </tr>\n",
       "  </thead>\n",
       "  <tbody>\n",
       "    <tr>\n",
       "      <th>0</th>\n",
       "      <td>2015-02-02 10:18:00+05:30</td>\n",
       "      <td>1544.00</td>\n",
       "      <td>1545.00</td>\n",
       "      <td>1543.10</td>\n",
       "      <td>1545.00</td>\n",
       "      <td>220</td>\n",
       "    </tr>\n",
       "    <tr>\n",
       "      <th>1</th>\n",
       "      <td>2015-02-02 10:19:00+05:30</td>\n",
       "      <td>1543.70</td>\n",
       "      <td>1544.00</td>\n",
       "      <td>1543.00</td>\n",
       "      <td>1544.00</td>\n",
       "      <td>29</td>\n",
       "    </tr>\n",
       "    <tr>\n",
       "      <th>2</th>\n",
       "      <td>2015-02-02 10:20:00+05:30</td>\n",
       "      <td>1543.00</td>\n",
       "      <td>1543.70</td>\n",
       "      <td>1542.50</td>\n",
       "      <td>1543.70</td>\n",
       "      <td>28</td>\n",
       "    </tr>\n",
       "    <tr>\n",
       "      <th>3</th>\n",
       "      <td>2015-02-02 10:21:00+05:30</td>\n",
       "      <td>1542.30</td>\n",
       "      <td>1543.00</td>\n",
       "      <td>1542.30</td>\n",
       "      <td>1543.00</td>\n",
       "      <td>125</td>\n",
       "    </tr>\n",
       "    <tr>\n",
       "      <th>4</th>\n",
       "      <td>2015-02-02 10:22:00+05:30</td>\n",
       "      <td>1542.10</td>\n",
       "      <td>1542.15</td>\n",
       "      <td>1541.10</td>\n",
       "      <td>1541.10</td>\n",
       "      <td>113</td>\n",
       "    </tr>\n",
       "    <tr>\n",
       "      <th>...</th>\n",
       "      <td>...</td>\n",
       "      <td>...</td>\n",
       "      <td>...</td>\n",
       "      <td>...</td>\n",
       "      <td>...</td>\n",
       "      <td>...</td>\n",
       "    </tr>\n",
       "    <tr>\n",
       "      <th>660528</th>\n",
       "      <td>2022-10-24 19:10:00+05:30</td>\n",
       "      <td>2255.00</td>\n",
       "      <td>2255.90</td>\n",
       "      <td>2254.55</td>\n",
       "      <td>2255.80</td>\n",
       "      <td>199</td>\n",
       "    </tr>\n",
       "    <tr>\n",
       "      <th>660529</th>\n",
       "      <td>2022-10-24 19:11:00+05:30</td>\n",
       "      <td>2255.95</td>\n",
       "      <td>2255.95</td>\n",
       "      <td>2254.55</td>\n",
       "      <td>2255.75</td>\n",
       "      <td>227</td>\n",
       "    </tr>\n",
       "    <tr>\n",
       "      <th>660530</th>\n",
       "      <td>2022-10-24 19:12:00+05:30</td>\n",
       "      <td>2256.25</td>\n",
       "      <td>2256.25</td>\n",
       "      <td>2255.35</td>\n",
       "      <td>2256.00</td>\n",
       "      <td>594</td>\n",
       "    </tr>\n",
       "    <tr>\n",
       "      <th>660531</th>\n",
       "      <td>2022-10-24 19:13:00+05:30</td>\n",
       "      <td>2255.00</td>\n",
       "      <td>2255.95</td>\n",
       "      <td>2254.55</td>\n",
       "      <td>2255.50</td>\n",
       "      <td>267</td>\n",
       "    </tr>\n",
       "    <tr>\n",
       "      <th>660532</th>\n",
       "      <td>2022-10-24 19:14:00+05:30</td>\n",
       "      <td>2256.00</td>\n",
       "      <td>2259.00</td>\n",
       "      <td>2254.00</td>\n",
       "      <td>2255.00</td>\n",
       "      <td>365</td>\n",
       "    </tr>\n",
       "  </tbody>\n",
       "</table>\n",
       "<p>660533 rows × 6 columns</p>\n",
       "</div>"
      ],
      "text/plain": [
       "                             date    close     high      low     open  volume\n",
       "0       2015-02-02 10:18:00+05:30  1544.00  1545.00  1543.10  1545.00     220\n",
       "1       2015-02-02 10:19:00+05:30  1543.70  1544.00  1543.00  1544.00      29\n",
       "2       2015-02-02 10:20:00+05:30  1543.00  1543.70  1542.50  1543.70      28\n",
       "3       2015-02-02 10:21:00+05:30  1542.30  1543.00  1542.30  1543.00     125\n",
       "4       2015-02-02 10:22:00+05:30  1542.10  1542.15  1541.10  1541.10     113\n",
       "...                           ...      ...      ...      ...      ...     ...\n",
       "660528  2022-10-24 19:10:00+05:30  2255.00  2255.90  2254.55  2255.80     199\n",
       "660529  2022-10-24 19:11:00+05:30  2255.95  2255.95  2254.55  2255.75     227\n",
       "660530  2022-10-24 19:12:00+05:30  2256.25  2256.25  2255.35  2256.00     594\n",
       "660531  2022-10-24 19:13:00+05:30  2255.00  2255.95  2254.55  2255.50     267\n",
       "660532  2022-10-24 19:14:00+05:30  2256.00  2259.00  2254.00  2255.00     365\n",
       "\n",
       "[660533 rows x 6 columns]"
      ]
     },
     "execution_count": 125,
     "metadata": {},
     "output_type": "execute_result"
    }
   ],
   "source": [
    "df"
   ]
  },
  {
   "cell_type": "code",
   "execution_count": 169,
   "id": "25cb6612",
   "metadata": {},
   "outputs": [],
   "source": [
    "# def resample_to_constant_volume(df, volume_per_candle, start_index):\n",
    "#         # sort by time\n",
    "#         #df = df.sort_values(by='time')\n",
    "#         # create cumulative volume column\n",
    "#         df['cumulative_volume'] = df['volume'].cumsum()\n",
    "# #         print(len(df))\n",
    "#         # initialize the new dataframe to hold resampled data\n",
    "#         resampled_df = pd.DataFrame(columns=['open', 'high', 'low', 'close', 'volume'])\n",
    "\n",
    "# #         start_index = 0\n",
    "#         cc = 0\n",
    "#         for start_index in range(cc , len(df)):\n",
    "#             cumulative_volume = 0   #df.iloc[end_index]['vol']\n",
    "#             end_index=0\n",
    "#             for end_index in range(start_index, len(df)):\n",
    "#                 cumulative_volume = df.iloc[end_index]['cumulative_volume'] - df.iloc[start_index]['cumulative_volume']\n",
    "#                 if cumulative_volume >= volume_per_candle or end_index == len(df) - 1:\n",
    "#                     cc = end_index\n",
    "#                     print(cc)\n",
    "#                     break\n",
    "#             end_index = cc\n",
    "#             candle_df = df.iloc[start_index:end_index+1]\n",
    "#             open_price = candle_df.iloc[0]['open']\n",
    "#             high_price = candle_df['high'].max()\n",
    "#             low_price = candle_df['low'].min()\n",
    "#             close_price = candle_df.iloc[-1]['close']\n",
    "# #             date_time = str(df.iloc[end_index][\"date\"]) + \" \" + df.iloc[end_index][\"time\"]\n",
    "#             resampled_df = resampled_df.append({'open': open_price, 'high': high_price, 'low': low_price, 'close': close_price, 'volume': cumulative_volume}, ignore_index=True)\n",
    "\n",
    "#         return resampled_df"
   ]
  },
  {
   "cell_type": "code",
   "execution_count": 183,
   "id": "ddf37d61",
   "metadata": {},
   "outputs": [],
   "source": [
    "def resample_to_constant_volume(df, volume_per_candle):\n",
    "    # sort by time\n",
    "    #df = df.sort_values(by='time')\n",
    "    # create cumulative volume column\n",
    "    df['cumulative_volume'] = df['volume'].cumsum()\n",
    "    print(len(df))\n",
    "    # initialize the new dataframe to hold resampled data\n",
    "    resampled_df = pd.DataFrame(columns=['open', 'high', 'low', 'close', 'volume'])\n",
    "    \n",
    "    start_index = 0\n",
    "    while start_index < len(df):\n",
    "        end_index = start_index\n",
    "        cumulative_volume = 0#df.iloc[end_index]['vol']\n",
    "        while cumulative_volume < volume_per_candle and end_index < len(df) - 1:\n",
    "            #print(end_index)\n",
    "            end_index += 1\n",
    "            cumulative_volume = df.iloc[end_index]['cumulative_volume'] - df.iloc[start_index]['cumulative_volume']\n",
    "        #print(\"fdv\")\n",
    "        \n",
    "        candle_df = df.iloc[start_index:end_index+1]\n",
    "        open_price = candle_df.iloc[0]['open']\n",
    "        high_price = candle_df['high'].max()\n",
    "        low_price = candle_df['low'].min()\n",
    "        close_price = candle_df.iloc[-1]['close']\n",
    "#         date_time = str(df.iloc[end_index][\"w\"]) + \" \" + df.iloc[end_index][\"S\"]\n",
    "        resampled_df = resampled_df.append({'open': open_price, 'high': high_price, 'low': low_price, 'close': close_price, 'volume': cumulative_volume}, ignore_index=True)\n",
    "        if df.iloc[len(df)-1]['cumulative_volume'] - df.iloc[end_index]['cumulative_volume'] < volume_per_candle:\n",
    "            candle_df = df.iloc[end_index:len(df)]\n",
    "            open_price = candle_df.iloc[0]['open']\n",
    "            high_price = candle_df['high'].max()\n",
    "            low_price = candle_df['low'].min()\n",
    "            close_price = candle_df.iloc[-1]['close']\n",
    "            resampled_df = resampled_df.append({'open': open_price, 'high': high_price, 'low': low_price, 'close': close_price, 'volume': volume_per_candle}, ignore_index=True)\n",
    "            break\n",
    "        start_index = end_index\n",
    "    return resampled_df"
   ]
  },
  {
   "cell_type": "code",
   "execution_count": 187,
   "id": "0349a672",
   "metadata": {},
   "outputs": [],
   "source": [
    "df1 = df.iloc[249971:554674]"
   ]
  },
  {
   "cell_type": "code",
   "execution_count": 188,
   "id": "3cc540d0",
   "metadata": {},
   "outputs": [
    {
     "data": {
      "text/html": [
       "<div>\n",
       "<style scoped>\n",
       "    .dataframe tbody tr th:only-of-type {\n",
       "        vertical-align: middle;\n",
       "    }\n",
       "\n",
       "    .dataframe tbody tr th {\n",
       "        vertical-align: top;\n",
       "    }\n",
       "\n",
       "    .dataframe thead th {\n",
       "        text-align: right;\n",
       "    }\n",
       "</style>\n",
       "<table border=\"1\" class=\"dataframe\">\n",
       "  <thead>\n",
       "    <tr style=\"text-align: right;\">\n",
       "      <th></th>\n",
       "      <th>index</th>\n",
       "      <th>date</th>\n",
       "      <th>close</th>\n",
       "      <th>high</th>\n",
       "      <th>low</th>\n",
       "      <th>open</th>\n",
       "      <th>volume</th>\n",
       "    </tr>\n",
       "  </thead>\n",
       "  <tbody>\n",
       "    <tr>\n",
       "      <th>0</th>\n",
       "      <td>249971</td>\n",
       "      <td>2018-01-01 09:15:00+05:30</td>\n",
       "      <td>1760.00</td>\n",
       "      <td>1763.90</td>\n",
       "      <td>1758.65</td>\n",
       "      <td>1763.90</td>\n",
       "      <td>718</td>\n",
       "    </tr>\n",
       "    <tr>\n",
       "      <th>1</th>\n",
       "      <td>249972</td>\n",
       "      <td>2018-01-01 09:16:00+05:30</td>\n",
       "      <td>1763.80</td>\n",
       "      <td>1763.80</td>\n",
       "      <td>1760.00</td>\n",
       "      <td>1760.00</td>\n",
       "      <td>409</td>\n",
       "    </tr>\n",
       "    <tr>\n",
       "      <th>2</th>\n",
       "      <td>249973</td>\n",
       "      <td>2018-01-01 09:17:00+05:30</td>\n",
       "      <td>1760.10</td>\n",
       "      <td>1763.45</td>\n",
       "      <td>1760.00</td>\n",
       "      <td>1763.45</td>\n",
       "      <td>867</td>\n",
       "    </tr>\n",
       "    <tr>\n",
       "      <th>3</th>\n",
       "      <td>249974</td>\n",
       "      <td>2018-01-01 09:18:00+05:30</td>\n",
       "      <td>1759.35</td>\n",
       "      <td>1760.45</td>\n",
       "      <td>1759.35</td>\n",
       "      <td>1760.10</td>\n",
       "      <td>1065</td>\n",
       "    </tr>\n",
       "    <tr>\n",
       "      <th>4</th>\n",
       "      <td>249975</td>\n",
       "      <td>2018-01-01 09:19:00+05:30</td>\n",
       "      <td>1758.65</td>\n",
       "      <td>1759.90</td>\n",
       "      <td>1758.65</td>\n",
       "      <td>1759.35</td>\n",
       "      <td>436</td>\n",
       "    </tr>\n",
       "    <tr>\n",
       "      <th>...</th>\n",
       "      <td>...</td>\n",
       "      <td>...</td>\n",
       "      <td>...</td>\n",
       "      <td>...</td>\n",
       "      <td>...</td>\n",
       "      <td>...</td>\n",
       "      <td>...</td>\n",
       "    </tr>\n",
       "    <tr>\n",
       "      <th>304698</th>\n",
       "      <td>554669</td>\n",
       "      <td>2021-07-28 15:24:00+05:30</td>\n",
       "      <td>2395.35</td>\n",
       "      <td>2395.65</td>\n",
       "      <td>2394.05</td>\n",
       "      <td>2395.65</td>\n",
       "      <td>1576</td>\n",
       "    </tr>\n",
       "    <tr>\n",
       "      <th>304699</th>\n",
       "      <td>554670</td>\n",
       "      <td>2021-07-28 15:25:00+05:30</td>\n",
       "      <td>2391.70</td>\n",
       "      <td>2396.75</td>\n",
       "      <td>2390.15</td>\n",
       "      <td>2395.35</td>\n",
       "      <td>2622</td>\n",
       "    </tr>\n",
       "    <tr>\n",
       "      <th>304700</th>\n",
       "      <td>554671</td>\n",
       "      <td>2021-07-28 15:26:00+05:30</td>\n",
       "      <td>2395.00</td>\n",
       "      <td>2395.35</td>\n",
       "      <td>2391.70</td>\n",
       "      <td>2391.70</td>\n",
       "      <td>2092</td>\n",
       "    </tr>\n",
       "    <tr>\n",
       "      <th>304701</th>\n",
       "      <td>554672</td>\n",
       "      <td>2021-07-28 15:27:00+05:30</td>\n",
       "      <td>2391.15</td>\n",
       "      <td>2395.00</td>\n",
       "      <td>2391.15</td>\n",
       "      <td>2394.95</td>\n",
       "      <td>1189</td>\n",
       "    </tr>\n",
       "    <tr>\n",
       "      <th>304702</th>\n",
       "      <td>554673</td>\n",
       "      <td>2021-07-28 15:28:00+05:30</td>\n",
       "      <td>2386.10</td>\n",
       "      <td>2394.60</td>\n",
       "      <td>2384.80</td>\n",
       "      <td>2391.15</td>\n",
       "      <td>3110</td>\n",
       "    </tr>\n",
       "  </tbody>\n",
       "</table>\n",
       "<p>304703 rows × 7 columns</p>\n",
       "</div>"
      ],
      "text/plain": [
       "         index                       date    close     high      low     open  \\\n",
       "0       249971  2018-01-01 09:15:00+05:30  1760.00  1763.90  1758.65  1763.90   \n",
       "1       249972  2018-01-01 09:16:00+05:30  1763.80  1763.80  1760.00  1760.00   \n",
       "2       249973  2018-01-01 09:17:00+05:30  1760.10  1763.45  1760.00  1763.45   \n",
       "3       249974  2018-01-01 09:18:00+05:30  1759.35  1760.45  1759.35  1760.10   \n",
       "4       249975  2018-01-01 09:19:00+05:30  1758.65  1759.90  1758.65  1759.35   \n",
       "...        ...                        ...      ...      ...      ...      ...   \n",
       "304698  554669  2021-07-28 15:24:00+05:30  2395.35  2395.65  2394.05  2395.65   \n",
       "304699  554670  2021-07-28 15:25:00+05:30  2391.70  2396.75  2390.15  2395.35   \n",
       "304700  554671  2021-07-28 15:26:00+05:30  2395.00  2395.35  2391.70  2391.70   \n",
       "304701  554672  2021-07-28 15:27:00+05:30  2391.15  2395.00  2391.15  2394.95   \n",
       "304702  554673  2021-07-28 15:28:00+05:30  2386.10  2394.60  2384.80  2391.15   \n",
       "\n",
       "        volume  \n",
       "0          718  \n",
       "1          409  \n",
       "2          867  \n",
       "3         1065  \n",
       "4          436  \n",
       "...        ...  \n",
       "304698    1576  \n",
       "304699    2622  \n",
       "304700    2092  \n",
       "304701    1189  \n",
       "304702    3110  \n",
       "\n",
       "[304703 rows x 7 columns]"
      ]
     },
     "execution_count": 188,
     "metadata": {},
     "output_type": "execute_result"
    }
   ],
   "source": [
    "df1 = df1.reset_index()\n",
    "df1"
   ]
  },
  {
   "cell_type": "code",
   "execution_count": null,
   "id": "119a31e7",
   "metadata": {},
   "outputs": [],
   "source": []
  },
  {
   "cell_type": "code",
   "execution_count": null,
   "id": "10d7689e",
   "metadata": {},
   "outputs": [
    {
     "name": "stdout",
     "output_type": "stream",
     "text": [
      "304703\n"
     ]
    }
   ],
   "source": [
    "resample_to_constant_volume(df1,4000)"
   ]
  },
  {
   "cell_type": "code",
   "execution_count": null,
   "id": "d1aa599c",
   "metadata": {},
   "outputs": [],
   "source": []
  },
  {
   "cell_type": "code",
   "execution_count": 145,
   "id": "902ac4eb",
   "metadata": {},
   "outputs": [],
   "source": [
    "# def resample_to_constant_volume(df, volume_per_candle):\n",
    "#     # sort by time\n",
    "#     #df = df.sort_values(by='time')\n",
    "#     # create cumulative volume column\n",
    "#     df['vol'] = df['volume']\n",
    "#     df['cumulative_volume'] = df['vol'].cumsum()\n",
    "#     print(len(df))\n",
    "#     # initialize the new dataframe to hold resampled data\n",
    "# #     resampled_df = pd.DataFrame(columns=['open', 'high', 'low', 'close', 'volume',\"time\"])\n",
    "    \n",
    "#     start_index = 0\n",
    "#     while start_index < len(df):\n",
    "#         end_index = start_index\n",
    "#         cumulative_volume = 0#df.iloc[end_index]['vol']\n",
    "#         while cumulative_volume < volume_per_candle and end_index < len(df) - 1:\n",
    "#             #print(end_index)\n",
    "#             end_index += 1\n",
    "#             cumulative_volume = df.iloc[end_index]['cumulative_volume'] - df.iloc[start_index]['cumulative_volume']\n",
    "#         #print(\"fdv\")\n",
    "        \n",
    "#         candle_df = df.iloc[start_index:end_index+1]\n",
    "#         open_price = candle_df.iloc[0]['open']\n",
    "#         high_price = candle_df['high'].max()\n",
    "#         low_price = candle_df['low'].min()\n",
    "#         close_price = candle_df.iloc[-1]['close']\n",
    "# #         date_time = str(df.iloc[end_index][\"date\"]) + \" \" + df.iloc[end_index][\"time\"]\n",
    "#         resampled_df = df.append({'open': open_price, 'high': high_price, 'low': low_price, 'close': close_price, 'volume': cumulative_volume}, ignore_index=True)\n",
    "#         if df.iloc[len(df)-1]['cumulative_volume'] - df.iloc[end_index]['cumulative_volume'] < volume_per_candle:\n",
    "#             candle_df = df.iloc[end_index:len(df)]\n",
    "#             open_price = candle_df.iloc[0]['open']\n",
    "#             high_price = candle_df['high'].max()\n",
    "#             low_price = candle_df['low'].min()\n",
    "#             close_price = candle_df.iloc[-1]['close']\n",
    "#             resampled_df = resampled_df.append({'open': open_price, 'high': high_price, 'low': low_price, 'close': close_price, 'volume': volume_per_candle}, ignore_index=True)\n",
    "#             break\n",
    "#         start_index = end_index\n",
    "#     return resampled_df"
   ]
  },
  {
   "cell_type": "code",
   "execution_count": 137,
   "id": "e704ed8f",
   "metadata": {},
   "outputs": [
    {
     "data": {
      "text/plain": [
       "1681.7728016616884"
      ]
     },
     "execution_count": 137,
     "metadata": {},
     "output_type": "execute_result"
    }
   ],
   "source": [
    "df['volume'].mean()"
   ]
  },
  {
   "cell_type": "code",
   "execution_count": 138,
   "id": "e43f5676",
   "metadata": {
    "scrolled": true
   },
   "outputs": [
    {
     "data": {
      "text/plain": [
       "<AxesSubplot:>"
      ]
     },
     "execution_count": 138,
     "metadata": {},
     "output_type": "execute_result"
    },
    {
     "data": {
      "image/png": "[encoded data removed]",
      "text/plain": [
       "<Figure size 432x288 with 1 Axes>"
      ]
     },
     "metadata": {
      "needs_background": "light"
     },
     "output_type": "display_data"
    }
   ],
   "source": [
    "df1['volume'].plot()"
   ]
  },
  {
   "cell_type": "code",
   "execution_count": 139,
   "id": "7b9861e3",
   "metadata": {},
   "outputs": [
    {
     "data": {
      "text/plain": [
       "{'whiskers': [<matplotlib.lines.Line2D at 0x1bc48adf310>,\n",
       "  <matplotlib.lines.Line2D at 0x1bc48adf2e0>],\n",
       " 'caps': [<matplotlib.lines.Line2D at 0x1bc48adf5b0>,\n",
       "  <matplotlib.lines.Line2D at 0x1bc48adf910>],\n",
       " 'boxes': [<matplotlib.lines.Line2D at 0x1bc48ae60d0>],\n",
       " 'medians': [<matplotlib.lines.Line2D at 0x1bc48adfd30>],\n",
       " 'fliers': [<matplotlib.lines.Line2D at 0x1bc4ae08070>],\n",
       " 'means': []}"
      ]
     },
     "execution_count": 139,
     "metadata": {},
     "output_type": "execute_result"
    },
    {
     "data": {
      "image/png": "[encoded data removed]",
      "text/plain": [
       "<Figure size 432x288 with 1 Axes>"
      ]
     },
     "metadata": {
      "needs_background": "light"
     },
     "output_type": "display_data"
    }
   ],
   "source": [
    "plt.boxplot(df1['volume'], notch=None, vert=None, patch_artist=None, widths=None)\n",
    "\n",
    "\n",
    "\n",
    "# widths=(1, 0.5, 1.2, 0.1)"
   ]
  },
  {
   "cell_type": "code",
   "execution_count": 131,
   "id": "976f910d",
   "metadata": {},
   "outputs": [
    {
     "data": {
      "text/plain": [
       "count    304703.000000\n",
       "mean       2390.218019\n",
       "std        6027.550574\n",
       "min           0.000000\n",
       "25%         446.000000\n",
       "50%        1125.000000\n",
       "75%        2606.000000\n",
       "max      930263.000000\n",
       "Name: volume, dtype: float64"
      ]
     },
     "execution_count": 131,
     "metadata": {},
     "output_type": "execute_result"
    }
   ],
   "source": [
    "df1['volume'].describe()"
   ]
  },
  {
   "cell_type": "code",
   "execution_count": 132,
   "id": "f3a0c21c",
   "metadata": {},
   "outputs": [
    {
     "name": "stderr",
     "output_type": "stream",
     "text": [
      "C:\\Anaconda\\lib\\site-packages\\seaborn\\distributions.py:2619: FutureWarning: `distplot` is a deprecated function and will be removed in a future version. Please adapt your code to use either `displot` (a figure-level function with similar flexibility) or `histplot` (an axes-level function for histograms).\n",
      "  warnings.warn(msg, FutureWarning)\n"
     ]
    },
    {
     "data": {
      "image/png": "[encoded data removed]",
      "text/plain": [
       "<Figure size 432x288 with 1 Axes>"
      ]
     },
     "metadata": {
      "needs_background": "light"
     },
     "output_type": "display_data"
    }
   ],
   "source": [
    "import seaborn as sns\n",
    "\n",
    "sns.distplot(df1['volume'], hist=True, kde=True, \n",
    "             bins=int(180/5), color = 'darkblue', \n",
    "             hist_kws={'edgecolor':'black'},\n",
    "             kde_kws={'linewidth': 4});"
   ]
  },
  {
   "cell_type": "code",
   "execution_count": 133,
   "id": "97dbf48b",
   "metadata": {},
   "outputs": [],
   "source": [
    "# datetime.datetime.strptime\n",
    "# df1 = df[(df['date'] >datetime.date(2016,1,1))]"
   ]
  },
  {
   "cell_type": "code",
   "execution_count": 157,
   "id": "9572d722",
   "metadata": {},
   "outputs": [],
   "source": [
    "# df1 = df.iloc[249971:554674]\n",
    "df1 = df.iloc[249971:264674]\n"
   ]
  },
  {
   "cell_type": "code",
   "execution_count": 158,
   "id": "e63fc4d8",
   "metadata": {},
   "outputs": [],
   "source": [
    "import warnings\n",
    "\n",
    "warnings.filterwarnings('ignore')"
   ]
  },
  {
   "cell_type": "code",
   "execution_count": 159,
   "id": "462064f0",
   "metadata": {},
   "outputs": [
    {
     "name": "stdout",
     "output_type": "stream",
     "text": [
      "14703\n"
     ]
    },
    {
     "ename": "KeyboardInterrupt",
     "evalue": "",
     "output_type": "error",
     "traceback": [
      "\u001b[1;31m---------------------------------------------------------------------------\u001b[0m",
      "\u001b[1;31mKeyboardInterrupt\u001b[0m                         Traceback (most recent call last)",
      "Input \u001b[1;32mIn [159]\u001b[0m, in \u001b[0;36m<cell line: 1>\u001b[1;34m()\u001b[0m\n\u001b[1;32m----> 1\u001b[0m \u001b[43mresample_to_constant_volume\u001b[49m\u001b[43m(\u001b[49m\u001b[43mdf1\u001b[49m\u001b[43m,\u001b[49m\u001b[38;5;241;43m4000\u001b[39;49m\u001b[43m)\u001b[49m\n",
      "Input \u001b[1;32mIn [153]\u001b[0m, in \u001b[0;36mresample_to_constant_volume\u001b[1;34m(df, volume_per_candle)\u001b[0m\n\u001b[0;32m     23\u001b[0m             close_price \u001b[38;5;241m=\u001b[39m candle_df\u001b[38;5;241m.\u001b[39miloc[\u001b[38;5;241m-\u001b[39m\u001b[38;5;241m1\u001b[39m][\u001b[38;5;124m'\u001b[39m\u001b[38;5;124mclose\u001b[39m\u001b[38;5;124m'\u001b[39m]\n\u001b[0;32m     24\u001b[0m \u001b[38;5;66;03m#             date_time = str(df.iloc[end_index][\"date\"]) + \" \" + df.iloc[end_index][\"time\"]\u001b[39;00m\n\u001b[1;32m---> 25\u001b[0m             resampled_df \u001b[38;5;241m=\u001b[39m \u001b[43mresampled_df\u001b[49m\u001b[38;5;241;43m.\u001b[39;49m\u001b[43mappend\u001b[49m\u001b[43m(\u001b[49m\u001b[43m{\u001b[49m\u001b[38;5;124;43m'\u001b[39;49m\u001b[38;5;124;43mopen\u001b[39;49m\u001b[38;5;124;43m'\u001b[39;49m\u001b[43m:\u001b[49m\u001b[43m \u001b[49m\u001b[43mopen_price\u001b[49m\u001b[43m,\u001b[49m\u001b[43m \u001b[49m\u001b[38;5;124;43m'\u001b[39;49m\u001b[38;5;124;43mhigh\u001b[39;49m\u001b[38;5;124;43m'\u001b[39;49m\u001b[43m:\u001b[49m\u001b[43m \u001b[49m\u001b[43mhigh_price\u001b[49m\u001b[43m,\u001b[49m\u001b[43m \u001b[49m\u001b[38;5;124;43m'\u001b[39;49m\u001b[38;5;124;43mlow\u001b[39;49m\u001b[38;5;124;43m'\u001b[39;49m\u001b[43m:\u001b[49m\u001b[43m \u001b[49m\u001b[43mlow_price\u001b[49m\u001b[43m,\u001b[49m\u001b[43m \u001b[49m\u001b[38;5;124;43m'\u001b[39;49m\u001b[38;5;124;43mclose\u001b[39;49m\u001b[38;5;124;43m'\u001b[39;49m\u001b[43m:\u001b[49m\u001b[43m \u001b[49m\u001b[43mclose_price\u001b[49m\u001b[43m,\u001b[49m\u001b[43m \u001b[49m\u001b[38;5;124;43m'\u001b[39;49m\u001b[38;5;124;43mvolume\u001b[39;49m\u001b[38;5;124;43m'\u001b[39;49m\u001b[43m:\u001b[49m\u001b[43m \u001b[49m\u001b[43mcumulative_volume\u001b[49m\u001b[43m}\u001b[49m\u001b[43m,\u001b[49m\u001b[43m \u001b[49m\u001b[43mignore_index\u001b[49m\u001b[38;5;241;43m=\u001b[39;49m\u001b[38;5;28;43;01mTrue\u001b[39;49;00m\u001b[43m)\u001b[49m\n\u001b[0;32m     27\u001b[0m         \u001b[38;5;28;01mreturn\u001b[39;00m resampled_df\n",
      "File \u001b[1;32mC:\\Anaconda\\lib\\site-packages\\pandas\\core\\frame.py:9036\u001b[0m, in \u001b[0;36mDataFrame.append\u001b[1;34m(self, other, ignore_index, verify_integrity, sort)\u001b[0m\n\u001b[0;32m   8929\u001b[0m \u001b[38;5;28;01mdef\u001b[39;00m \u001b[38;5;21mappend\u001b[39m(\n\u001b[0;32m   8930\u001b[0m     \u001b[38;5;28mself\u001b[39m,\n\u001b[0;32m   8931\u001b[0m     other,\n\u001b[1;32m   (...)\u001b[0m\n\u001b[0;32m   8934\u001b[0m     sort: \u001b[38;5;28mbool\u001b[39m \u001b[38;5;241m=\u001b[39m \u001b[38;5;28;01mFalse\u001b[39;00m,\n\u001b[0;32m   8935\u001b[0m ) \u001b[38;5;241m-\u001b[39m\u001b[38;5;241m>\u001b[39m DataFrame:\n\u001b[0;32m   8936\u001b[0m     \u001b[38;5;124;03m\"\"\"\u001b[39;00m\n\u001b[0;32m   8937\u001b[0m \u001b[38;5;124;03m    Append rows of `other` to the end of caller, returning a new object.\u001b[39;00m\n\u001b[0;32m   8938\u001b[0m \n\u001b[1;32m   (...)\u001b[0m\n\u001b[0;32m   9029\u001b[0m \u001b[38;5;124;03m    4  4\u001b[39;00m\n\u001b[0;32m   9030\u001b[0m \u001b[38;5;124;03m    \"\"\"\u001b[39;00m\n\u001b[0;32m   9031\u001b[0m     warnings\u001b[38;5;241m.\u001b[39mwarn(\n\u001b[0;32m   9032\u001b[0m         \u001b[38;5;124m\"\u001b[39m\u001b[38;5;124mThe frame.append method is deprecated \u001b[39m\u001b[38;5;124m\"\u001b[39m\n\u001b[0;32m   9033\u001b[0m         \u001b[38;5;124m\"\u001b[39m\u001b[38;5;124mand will be removed from pandas in a future version. \u001b[39m\u001b[38;5;124m\"\u001b[39m\n\u001b[0;32m   9034\u001b[0m         \u001b[38;5;124m\"\u001b[39m\u001b[38;5;124mUse pandas.concat instead.\u001b[39m\u001b[38;5;124m\"\u001b[39m,\n\u001b[0;32m   9035\u001b[0m         \u001b[38;5;167;01mFutureWarning\u001b[39;00m,\n\u001b[1;32m-> 9036\u001b[0m         stacklevel\u001b[38;5;241m=\u001b[39m\u001b[43mfind_stack_level\u001b[49m\u001b[43m(\u001b[49m\u001b[43m)\u001b[49m,\n\u001b[0;32m   9037\u001b[0m     )\n\u001b[0;32m   9039\u001b[0m     \u001b[38;5;28;01mreturn\u001b[39;00m \u001b[38;5;28mself\u001b[39m\u001b[38;5;241m.\u001b[39m_append(other, ignore_index, verify_integrity, sort)\n",
      "File \u001b[1;32mC:\\Anaconda\\lib\\site-packages\\pandas\\util\\_exceptions.py:32\u001b[0m, in \u001b[0;36mfind_stack_level\u001b[1;34m()\u001b[0m\n\u001b[0;32m     27\u001b[0m \u001b[38;5;28;01mdef\u001b[39;00m \u001b[38;5;21mfind_stack_level\u001b[39m() \u001b[38;5;241m-\u001b[39m\u001b[38;5;241m>\u001b[39m \u001b[38;5;28mint\u001b[39m:\n\u001b[0;32m     28\u001b[0m     \u001b[38;5;124;03m\"\"\"\u001b[39;00m\n\u001b[0;32m     29\u001b[0m \u001b[38;5;124;03m    Find the first place in the stack that is not inside pandas\u001b[39;00m\n\u001b[0;32m     30\u001b[0m \u001b[38;5;124;03m    (tests notwithstanding).\u001b[39;00m\n\u001b[0;32m     31\u001b[0m \u001b[38;5;124;03m    \"\"\"\u001b[39;00m\n\u001b[1;32m---> 32\u001b[0m     stack \u001b[38;5;241m=\u001b[39m \u001b[43minspect\u001b[49m\u001b[38;5;241;43m.\u001b[39;49m\u001b[43mstack\u001b[49m\u001b[43m(\u001b[49m\u001b[43m)\u001b[49m\n\u001b[0;32m     34\u001b[0m     \u001b[38;5;28;01mimport\u001b[39;00m \u001b[38;5;21;01mpandas\u001b[39;00m \u001b[38;5;28;01mas\u001b[39;00m \u001b[38;5;21;01mpd\u001b[39;00m\n\u001b[0;32m     36\u001b[0m     pkg_dir \u001b[38;5;241m=\u001b[39m os\u001b[38;5;241m.\u001b[39mpath\u001b[38;5;241m.\u001b[39mdirname(pd\u001b[38;5;241m.\u001b[39m\u001b[38;5;18m__file__\u001b[39m)\n",
      "File \u001b[1;32mC:\\Anaconda\\lib\\inspect.py:1554\u001b[0m, in \u001b[0;36mstack\u001b[1;34m(context)\u001b[0m\n\u001b[0;32m   1552\u001b[0m \u001b[38;5;28;01mdef\u001b[39;00m \u001b[38;5;21mstack\u001b[39m(context\u001b[38;5;241m=\u001b[39m\u001b[38;5;241m1\u001b[39m):\n\u001b[0;32m   1553\u001b[0m     \u001b[38;5;124;03m\"\"\"Return a list of records for the stack above the caller's frame.\"\"\"\u001b[39;00m\n\u001b[1;32m-> 1554\u001b[0m     \u001b[38;5;28;01mreturn\u001b[39;00m \u001b[43mgetouterframes\u001b[49m\u001b[43m(\u001b[49m\u001b[43msys\u001b[49m\u001b[38;5;241;43m.\u001b[39;49m\u001b[43m_getframe\u001b[49m\u001b[43m(\u001b[49m\u001b[38;5;241;43m1\u001b[39;49m\u001b[43m)\u001b[49m\u001b[43m,\u001b[49m\u001b[43m \u001b[49m\u001b[43mcontext\u001b[49m\u001b[43m)\u001b[49m\n",
      "File \u001b[1;32mC:\\Anaconda\\lib\\inspect.py:1531\u001b[0m, in \u001b[0;36mgetouterframes\u001b[1;34m(frame, context)\u001b[0m\n\u001b[0;32m   1529\u001b[0m framelist \u001b[38;5;241m=\u001b[39m []\n\u001b[0;32m   1530\u001b[0m \u001b[38;5;28;01mwhile\u001b[39;00m frame:\n\u001b[1;32m-> 1531\u001b[0m     frameinfo \u001b[38;5;241m=\u001b[39m (frame,) \u001b[38;5;241m+\u001b[39m \u001b[43mgetframeinfo\u001b[49m\u001b[43m(\u001b[49m\u001b[43mframe\u001b[49m\u001b[43m,\u001b[49m\u001b[43m \u001b[49m\u001b[43mcontext\u001b[49m\u001b[43m)\u001b[49m\n\u001b[0;32m   1532\u001b[0m     framelist\u001b[38;5;241m.\u001b[39mappend(FrameInfo(\u001b[38;5;241m*\u001b[39mframeinfo))\n\u001b[0;32m   1533\u001b[0m     frame \u001b[38;5;241m=\u001b[39m frame\u001b[38;5;241m.\u001b[39mf_back\n",
      "File \u001b[1;32mC:\\Anaconda\\lib\\inspect.py:1505\u001b[0m, in \u001b[0;36mgetframeinfo\u001b[1;34m(frame, context)\u001b[0m\n\u001b[0;32m   1503\u001b[0m start \u001b[38;5;241m=\u001b[39m lineno \u001b[38;5;241m-\u001b[39m \u001b[38;5;241m1\u001b[39m \u001b[38;5;241m-\u001b[39m context\u001b[38;5;241m/\u001b[39m\u001b[38;5;241m/\u001b[39m\u001b[38;5;241m2\u001b[39m\n\u001b[0;32m   1504\u001b[0m \u001b[38;5;28;01mtry\u001b[39;00m:\n\u001b[1;32m-> 1505\u001b[0m     lines, lnum \u001b[38;5;241m=\u001b[39m \u001b[43mfindsource\u001b[49m\u001b[43m(\u001b[49m\u001b[43mframe\u001b[49m\u001b[43m)\u001b[49m\n\u001b[0;32m   1506\u001b[0m \u001b[38;5;28;01mexcept\u001b[39;00m \u001b[38;5;167;01mOSError\u001b[39;00m:\n\u001b[0;32m   1507\u001b[0m     lines \u001b[38;5;241m=\u001b[39m index \u001b[38;5;241m=\u001b[39m \u001b[38;5;28;01mNone\u001b[39;00m\n",
      "File \u001b[1;32mC:\\Anaconda\\lib\\inspect.py:820\u001b[0m, in \u001b[0;36mfindsource\u001b[1;34m(object)\u001b[0m\n\u001b[0;32m    817\u001b[0m file \u001b[38;5;241m=\u001b[39m getsourcefile(\u001b[38;5;28mobject\u001b[39m)\n\u001b[0;32m    818\u001b[0m \u001b[38;5;28;01mif\u001b[39;00m file:\n\u001b[0;32m    819\u001b[0m     \u001b[38;5;66;03m# Invalidate cache if needed.\u001b[39;00m\n\u001b[1;32m--> 820\u001b[0m     \u001b[43mlinecache\u001b[49m\u001b[38;5;241;43m.\u001b[39;49m\u001b[43mcheckcache\u001b[49m\u001b[43m(\u001b[49m\u001b[43mfile\u001b[49m\u001b[43m)\u001b[49m\n\u001b[0;32m    821\u001b[0m \u001b[38;5;28;01melse\u001b[39;00m:\n\u001b[0;32m    822\u001b[0m     file \u001b[38;5;241m=\u001b[39m getfile(\u001b[38;5;28mobject\u001b[39m)\n",
      "File \u001b[1;32mC:\\Anaconda\\lib\\site-packages\\IPython\\core\\compilerop.py:193\u001b[0m, in \u001b[0;36mcheck_linecache_ipython\u001b[1;34m(*args)\u001b[0m\n\u001b[0;32m    190\u001b[0m \u001b[38;5;124;03m\"\"\"Call linecache.checkcache() safely protecting our cached values.\u001b[39;00m\n\u001b[0;32m    191\u001b[0m \u001b[38;5;124;03m\"\"\"\u001b[39;00m\n\u001b[0;32m    192\u001b[0m \u001b[38;5;66;03m# First call the original checkcache as intended\u001b[39;00m\n\u001b[1;32m--> 193\u001b[0m \u001b[43mlinecache\u001b[49m\u001b[38;5;241;43m.\u001b[39;49m\u001b[43m_checkcache_ori\u001b[49m\u001b[43m(\u001b[49m\u001b[38;5;241;43m*\u001b[39;49m\u001b[43margs\u001b[49m\u001b[43m)\u001b[49m\n\u001b[0;32m    194\u001b[0m \u001b[38;5;66;03m# Then, update back the cache with our data, so that tracebacks related\u001b[39;00m\n\u001b[0;32m    195\u001b[0m \u001b[38;5;66;03m# to our compiled codes can be produced.\u001b[39;00m\n\u001b[0;32m    196\u001b[0m linecache\u001b[38;5;241m.\u001b[39mcache\u001b[38;5;241m.\u001b[39mupdate(linecache\u001b[38;5;241m.\u001b[39m_ipython_cache)\n",
      "File \u001b[1;32mC:\\Anaconda\\lib\\linecache.py:72\u001b[0m, in \u001b[0;36mcheckcache\u001b[1;34m(filename)\u001b[0m\n\u001b[0;32m     70\u001b[0m     \u001b[38;5;28;01mcontinue\u001b[39;00m   \u001b[38;5;66;03m# no-op for files loaded via a __loader__\u001b[39;00m\n\u001b[0;32m     71\u001b[0m \u001b[38;5;28;01mtry\u001b[39;00m:\n\u001b[1;32m---> 72\u001b[0m     stat \u001b[38;5;241m=\u001b[39m \u001b[43mos\u001b[49m\u001b[38;5;241;43m.\u001b[39;49m\u001b[43mstat\u001b[49m\u001b[43m(\u001b[49m\u001b[43mfullname\u001b[49m\u001b[43m)\u001b[49m\n\u001b[0;32m     73\u001b[0m \u001b[38;5;28;01mexcept\u001b[39;00m \u001b[38;5;167;01mOSError\u001b[39;00m:\n\u001b[0;32m     74\u001b[0m     cache\u001b[38;5;241m.\u001b[39mpop(filename, \u001b[38;5;28;01mNone\u001b[39;00m)\n",
      "\u001b[1;31mKeyboardInterrupt\u001b[0m: "
     ]
    }
   ],
   "source": [
    "resample_to_constant_volume(df1,4000)"
   ]
  },
  {
   "cell_type": "code",
   "execution_count": 91,
   "id": "8f18f6dc",
   "metadata": {},
   "outputs": [
    {
     "data": {
      "text/plain": [
       "date      2021-07-28 15:29:00+05:30\n",
       "close                        2392.0\n",
       "low                          2386.0\n",
       "open                         2386.1\n",
       "volume                          846\n",
       "Name: 554674, dtype: object"
      ]
     },
     "execution_count": 91,
     "metadata": {},
     "output_type": "execute_result"
    }
   ],
   "source": [
    "df.iloc[554674]"
   ]
  },
  {
   "cell_type": "code",
   "execution_count": 89,
   "id": "a1ac78c0",
   "metadata": {},
   "outputs": [
    {
     "data": {
      "text/plain": [
       "566171.1428571428"
      ]
     },
     "execution_count": 89,
     "metadata": {},
     "output_type": "execute_result"
    }
   ],
   "source": [
    "len(df)/7*6\n",
    "\n"
   ]
  },
  {
   "cell_type": "code",
   "execution_count": null,
   "id": "59a13ca0",
   "metadata": {},
   "outputs": [],
   "source": []
  }
 ],
 "metadata": {
  "kernelspec": {
   "display_name": "Python 3 (ipykernel)",
   "language": "python",
   "name": "python3"
  },
  "language_info": {
   "codemirror_mode": {
    "name": "ipython",
    "version": 3
   },
   "file_extension": ".py",
   "mimetype": "text/x-python",
   "name": "python",
   "nbconvert_exporter": "python",
   "pygments_lexer": "ipython3",
   "version": "3.9.12"
  }
 },
 "nbformat": 4,
 "nbformat_minor": 5
}
