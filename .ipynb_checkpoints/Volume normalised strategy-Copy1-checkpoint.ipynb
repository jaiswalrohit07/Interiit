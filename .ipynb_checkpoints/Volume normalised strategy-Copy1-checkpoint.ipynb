{
 "cells": [
  {
   "cell_type": "code",
   "execution_count": 1,
   "id": "a60e17d0",
   "metadata": {},
   "outputs": [],
   "source": [
    "import pandas as pd\n",
    "import numpy as np\n",
    "\n",
    "def resample_to_constant_volume(df, volume_per_candle):\n",
    "    # sort by time\n",
    "    #df = df.sort_values(by='time')\n",
    "    # create cumulative volume column\n",
    "    df['cumulative_volume'] = df['vol'].cumsum()\n",
    "    print(len(df))\n",
    "    # initialize the new dataframe to hold resampled data\n",
    "    resampled_df = pd.DataFrame(columns=['open', 'high', 'low', 'close', 'volume',\"time\"])\n",
    "    \n",
    "    start_index = 0\n",
    "    while start_index < len(df):\n",
    "        end_index = start_index\n",
    "        cumulative_volume = 0#df.iloc[end_index]['vol']\n",
    "        while cumulative_volume < volume_per_candle and end_index < len(df) - 1:\n",
    "            #print(end_index)\n",
    "            end_index += 1\n",
    "            cumulative_volume = df.iloc[end_index]['cumulative_volume'] - df.iloc[start_index]['cumulative_volume']\n",
    "        #print(\"fdv\")\n",
    "        \n",
    "        candle_df = df.iloc[start_index:end_index+1]\n",
    "        open_price = candle_df.iloc[0]['open']\n",
    "        high_price = candle_df['high'].max()\n",
    "        low_price = candle_df['low'].min()\n",
    "        close_price = candle_df.iloc[-1]['close']\n",
    "        date_time = str(df.iloc[end_index][\"w\"]) + \" \" + df.iloc[end_index][\"S\"]\n",
    "        resampled_df = resampled_df.append({'open': open_price, 'high': high_price, 'low': low_price, 'close': close_price, 'volume': cumulative_volume,\"time\":date_time}, ignore_index=True)\n",
    "        if df.iloc[len(df)-1]['cumulative_volume'] - df.iloc[end_index]['cumulative_volume'] < volume_per_candle:\n",
    "            candle_df = df.iloc[end_index:len(df)]\n",
    "            open_price = candle_df.iloc[0]['open']\n",
    "            high_price = candle_df['high'].max()\n",
    "            low_price = candle_df['low'].min()\n",
    "            close_price = candle_df.iloc[-1]['close']\n",
    "            resampled_df = resampled_df.append({'open': open_price, 'high': high_price, 'low': low_price, 'close': close_price, 'volume': volume_per_candle}, ignore_index=True)\n",
    "            break\n",
    "        start_index = end_index\n",
    "    return resampled_df"
   ]
  },
  {
   "cell_type": "code",
   "execution_count": 31,
   "id": "3ecbfb5e",
   "metadata": {},
   "outputs": [
    {
     "data": {
      "text/html": [
       "<div>\n",
       "<style scoped>\n",
       "    .dataframe tbody tr th:only-of-type {\n",
       "        vertical-align: middle;\n",
       "    }\n",
       "\n",
       "    .dataframe tbody tr th {\n",
       "        vertical-align: top;\n",
       "    }\n",
       "\n",
       "    .dataframe thead th {\n",
       "        text-align: right;\n",
       "    }\n",
       "</style>\n",
       "<table border=\"1\" class=\"dataframe\">\n",
       "  <thead>\n",
       "    <tr style=\"text-align: right;\">\n",
       "      <th></th>\n",
       "      <th>as</th>\n",
       "      <th>date</th>\n",
       "      <th>time</th>\n",
       "      <th>open</th>\n",
       "      <th>high</th>\n",
       "      <th>low</th>\n",
       "      <th>close</th>\n",
       "      <th>vol</th>\n",
       "    </tr>\n",
       "  </thead>\n",
       "  <tbody>\n",
       "    <tr>\n",
       "      <th>0</th>\n",
       "      <td>NIFTY</td>\n",
       "      <td>20170102</td>\n",
       "      <td>09:16</td>\n",
       "      <td>8212.00</td>\n",
       "      <td>8212.00</td>\n",
       "      <td>8188.60</td>\n",
       "      <td>8189.55</td>\n",
       "      <td>58</td>\n",
       "    </tr>\n",
       "    <tr>\n",
       "      <th>1</th>\n",
       "      <td>NIFTY</td>\n",
       "      <td>20170102</td>\n",
       "      <td>09:17</td>\n",
       "      <td>8188.75</td>\n",
       "      <td>8193.95</td>\n",
       "      <td>8188.75</td>\n",
       "      <td>8189.95</td>\n",
       "      <td>59</td>\n",
       "    </tr>\n",
       "    <tr>\n",
       "      <th>2</th>\n",
       "      <td>NIFTY</td>\n",
       "      <td>20170102</td>\n",
       "      <td>09:18</td>\n",
       "      <td>8190.15</td>\n",
       "      <td>8190.75</td>\n",
       "      <td>8173.60</td>\n",
       "      <td>8173.70</td>\n",
       "      <td>59</td>\n",
       "    </tr>\n",
       "    <tr>\n",
       "      <th>3</th>\n",
       "      <td>NIFTY</td>\n",
       "      <td>20170102</td>\n",
       "      <td>09:19</td>\n",
       "      <td>8173.00</td>\n",
       "      <td>8177.55</td>\n",
       "      <td>8168.80</td>\n",
       "      <td>8177.55</td>\n",
       "      <td>55</td>\n",
       "    </tr>\n",
       "    <tr>\n",
       "      <th>4</th>\n",
       "      <td>NIFTY</td>\n",
       "      <td>20170102</td>\n",
       "      <td>09:20</td>\n",
       "      <td>8177.85</td>\n",
       "      <td>8178.15</td>\n",
       "      <td>8173.45</td>\n",
       "      <td>8174.40</td>\n",
       "      <td>57</td>\n",
       "    </tr>\n",
       "    <tr>\n",
       "      <th>...</th>\n",
       "      <td>...</td>\n",
       "      <td>...</td>\n",
       "      <td>...</td>\n",
       "      <td>...</td>\n",
       "      <td>...</td>\n",
       "      <td>...</td>\n",
       "      <td>...</td>\n",
       "      <td>...</td>\n",
       "    </tr>\n",
       "    <tr>\n",
       "      <th>93180</th>\n",
       "      <td>NIFTY</td>\n",
       "      <td>20171229</td>\n",
       "      <td>15:28</td>\n",
       "      <td>10532.40</td>\n",
       "      <td>10535.20</td>\n",
       "      <td>10532.20</td>\n",
       "      <td>10533.10</td>\n",
       "      <td>58</td>\n",
       "    </tr>\n",
       "    <tr>\n",
       "      <th>93181</th>\n",
       "      <td>NIFTY</td>\n",
       "      <td>20171229</td>\n",
       "      <td>15:29</td>\n",
       "      <td>10532.80</td>\n",
       "      <td>10533.70</td>\n",
       "      <td>10529.00</td>\n",
       "      <td>10531.30</td>\n",
       "      <td>58</td>\n",
       "    </tr>\n",
       "    <tr>\n",
       "      <th>93182</th>\n",
       "      <td>NIFTY</td>\n",
       "      <td>20171229</td>\n",
       "      <td>15:30</td>\n",
       "      <td>10530.20</td>\n",
       "      <td>10533.20</td>\n",
       "      <td>10526.50</td>\n",
       "      <td>10526.50</td>\n",
       "      <td>60</td>\n",
       "    </tr>\n",
       "    <tr>\n",
       "      <th>93183</th>\n",
       "      <td>NIFTY</td>\n",
       "      <td>20171229</td>\n",
       "      <td>15:31</td>\n",
       "      <td>10528.80</td>\n",
       "      <td>10528.80</td>\n",
       "      <td>10528.80</td>\n",
       "      <td>10528.80</td>\n",
       "      <td>1</td>\n",
       "    </tr>\n",
       "    <tr>\n",
       "      <th>93184</th>\n",
       "      <td>NIFTY</td>\n",
       "      <td>20171229</td>\n",
       "      <td>15:32</td>\n",
       "      <td>10530.50</td>\n",
       "      <td>10530.70</td>\n",
       "      <td>10530.30</td>\n",
       "      <td>10530.70</td>\n",
       "      <td>3</td>\n",
       "    </tr>\n",
       "  </tbody>\n",
       "</table>\n",
       "<p>93185 rows × 8 columns</p>\n",
       "</div>"
      ],
      "text/plain": [
       "          as      date   time      open      high       low     close  vol\n",
       "0      NIFTY  20170102  09:16   8212.00   8212.00   8188.60   8189.55   58\n",
       "1      NIFTY  20170102  09:17   8188.75   8193.95   8188.75   8189.95   59\n",
       "2      NIFTY  20170102  09:18   8190.15   8190.75   8173.60   8173.70   59\n",
       "3      NIFTY  20170102  09:19   8173.00   8177.55   8168.80   8177.55   55\n",
       "4      NIFTY  20170102  09:20   8177.85   8178.15   8173.45   8174.40   57\n",
       "...      ...       ...    ...       ...       ...       ...       ...  ...\n",
       "93180  NIFTY  20171229  15:28  10532.40  10535.20  10532.20  10533.10   58\n",
       "93181  NIFTY  20171229  15:29  10532.80  10533.70  10529.00  10531.30   58\n",
       "93182  NIFTY  20171229  15:30  10530.20  10533.20  10526.50  10526.50   60\n",
       "93183  NIFTY  20171229  15:31  10528.80  10528.80  10528.80  10528.80    1\n",
       "93184  NIFTY  20171229  15:32  10530.50  10530.70  10530.30  10530.70    3\n",
       "\n",
       "[93185 rows x 8 columns]"
      ]
     },
     "execution_count": 31,
     "metadata": {},
     "output_type": "execute_result"
    }
   ],
   "source": [
    "data = pd.read_csv(\"data_2017.txt\")#.rename([\"as\",\"w\",\"S\",\"open\",\"high\",\"low\",\"close\",\"vol\"])\n",
    "data.columns = [\"as\",\"date\",\"time\",\"open\",\"high\",\"low\",\"close\",\"vol\"]\n",
    "data"
   ]
  },
  {
   "cell_type": "code",
   "execution_count": 19,
   "id": "b7f06c91",
   "metadata": {},
   "outputs": [
    {
     "name": "stdout",
     "output_type": "stream",
     "text": [
      "93185\n"
     ]
    }
   ],
   "source": [
    "import warnings\n",
    "warnings.filterwarnings('ignore')\n",
    "data2 = resample_to_constant_volume(data,5000)"
   ]
  },
  {
   "cell_type": "code",
   "execution_count": 15,
   "id": "1a8afee7",
   "metadata": {},
   "outputs": [
    {
     "data": {
      "text/plain": [
       "56.93845509958791"
      ]
     },
     "execution_count": 15,
     "metadata": {},
     "output_type": "execute_result"
    }
   ],
   "source": [
    "data['vol'].sum()/93184"
   ]
  },
  {
   "cell_type": "code",
   "execution_count": 17,
   "id": "740c7202",
   "metadata": {},
   "outputs": [],
   "source": [
    "def filter_candles(df, body_threshold, untouched_threshold):\n",
    "    # Calculate the body of each candle\n",
    "    df['body'] = df['close'] - df['open']\n",
    "    # Select only those candles where the body is high\n",
    "    df = df[df['body'].abs() >= body_threshold]\n",
    "    # Find the percentage of the price range covered by the body that has not been touched by the previous 10 candles\n",
    "    df['body_min'] = df[['open', 'close']].min(axis=1)\n",
    "    df['body_max'] = df[['open', 'close']].max(axis=1)\n",
    "    df['prev_min'] = df['body_min'].shift(1).rolling(window=10).min()\n",
    "    df['prev_max'] = df['body_max'].shift(1).rolling(window=10).max()\n",
    "    df['price_range_untouched'] = df[['body_min', 'body_max']].where((df['body_min'] > df['prev_max']) | (df['body_max'] < df['prev_min']), 0)\n",
    "    df['untouched_percentage'] = df['price_range_untouched'].abs() / df['body'].abs()\n",
    "    # Select only those candles where the percentage is large\n",
    "    df = df[df['untouched_percentage'] >= untouched_threshold]\n",
    "    return df\n",
    "def filter_candles(df, body_threshold, untouched_threshold):\n",
    "    # Calculate the body of each candle\n",
    "    df['body'] = df['close'] - df['open']\n",
    "    # Select only those candles where the body is high\n",
    "    df = df[df['body'].abs() >= body_threshold]\n",
    "    # Find the percentage of the price range covered by the body that has not been touched by the previous 10 candles\n",
    "    df['body_min'] = df[['open', 'close']].min(axis=1)\n",
    "    df['body_max'] = df[['open', 'close']].max(axis=1)\n",
    "    df['prev_min'] = df['body_min'].shift(1).rolling(window=10).min()\n",
    "    df['prev_max'] = df['body_max'].shift(1).rolling(window=10).max()\n",
    "    df['price_range_untouched_min'] = df['body_min'].where(df['body_min'] > df['prev_max'], 0)\n",
    "    df['price_range_untouched_max'] = df['body_max'].where(df['body_max'] < df['prev_min'], 0)\n",
    "    df['price_range_untouched'] = df[['price_range_untouched_min', 'price_range_untouched_max']].max(axis=1) - df[['price_range_untouched_min', 'price_range_untouched_max']].min(axis=1)\n",
    "    df['untouched_percentage'] = df['price_range_untouched'].abs() / df['body'].abs()\n",
    "    # Select only those candles where the percentage is large\n",
    "    df = df[df['untouched_percentage'] >= untouched_threshold]\n",
    "    return df\n"
   ]
  },
  {
   "cell_type": "code",
   "execution_count": 66,
   "id": "7b21e8af",
   "metadata": {},
   "outputs": [],
   "source": [
    "data3 = filter_candles(data2, 27, 8)"
   ]
  },
  {
   "cell_type": "code",
   "execution_count": 67,
   "id": "deb1d673",
   "metadata": {},
   "outputs": [
    {
     "data": {
      "text/html": [
       "<div>\n",
       "<style scoped>\n",
       "    .dataframe tbody tr th:only-of-type {\n",
       "        vertical-align: middle;\n",
       "    }\n",
       "\n",
       "    .dataframe tbody tr th {\n",
       "        vertical-align: top;\n",
       "    }\n",
       "\n",
       "    .dataframe thead th {\n",
       "        text-align: right;\n",
       "    }\n",
       "</style>\n",
       "<table border=\"1\" class=\"dataframe\">\n",
       "  <thead>\n",
       "    <tr style=\"text-align: right;\">\n",
       "      <th></th>\n",
       "      <th>open</th>\n",
       "      <th>high</th>\n",
       "      <th>low</th>\n",
       "      <th>close</th>\n",
       "      <th>volume</th>\n",
       "      <th>time</th>\n",
       "      <th>body</th>\n",
       "      <th>body_min</th>\n",
       "      <th>body_max</th>\n",
       "      <th>prev_min</th>\n",
       "      <th>prev_max</th>\n",
       "      <th>price_range_untouched_min</th>\n",
       "      <th>price_range_untouched_max</th>\n",
       "      <th>price_range_untouched</th>\n",
       "      <th>untouched_percentage</th>\n",
       "    </tr>\n",
       "  </thead>\n",
       "  <tbody>\n",
       "    <tr>\n",
       "      <th>70</th>\n",
       "      <td>8478.85</td>\n",
       "      <td>8520.50</td>\n",
       "      <td>8475.80</td>\n",
       "      <td>8515.05</td>\n",
       "      <td>5056</td>\n",
       "      <td>20170125 10:47</td>\n",
       "      <td>36.20</td>\n",
       "      <td>8478.85</td>\n",
       "      <td>8515.05</td>\n",
       "      <td>8286.15</td>\n",
       "      <td>8478.25</td>\n",
       "      <td>8478.85</td>\n",
       "      <td>0.00</td>\n",
       "      <td>8478.85</td>\n",
       "      <td>234.222376</td>\n",
       "    </tr>\n",
       "    <tr>\n",
       "      <th>73</th>\n",
       "      <td>8550.55</td>\n",
       "      <td>8612.25</td>\n",
       "      <td>8545.60</td>\n",
       "      <td>8611.15</td>\n",
       "      <td>5046</td>\n",
       "      <td>20170125 15:22</td>\n",
       "      <td>60.60</td>\n",
       "      <td>8550.55</td>\n",
       "      <td>8611.15</td>\n",
       "      <td>8342.05</td>\n",
       "      <td>8515.05</td>\n",
       "      <td>8550.55</td>\n",
       "      <td>0.00</td>\n",
       "      <td>8550.55</td>\n",
       "      <td>141.098185</td>\n",
       "    </tr>\n",
       "    <tr>\n",
       "      <th>93</th>\n",
       "      <td>8705.85</td>\n",
       "      <td>8747.75</td>\n",
       "      <td>8705.35</td>\n",
       "      <td>8746.80</td>\n",
       "      <td>5017</td>\n",
       "      <td>20170202 14:12</td>\n",
       "      <td>40.95</td>\n",
       "      <td>8705.85</td>\n",
       "      <td>8746.80</td>\n",
       "      <td>8344.80</td>\n",
       "      <td>8687.80</td>\n",
       "      <td>8705.85</td>\n",
       "      <td>0.00</td>\n",
       "      <td>8705.85</td>\n",
       "      <td>212.597070</td>\n",
       "    </tr>\n",
       "    <tr>\n",
       "      <th>147</th>\n",
       "      <td>8869.15</td>\n",
       "      <td>8939.35</td>\n",
       "      <td>8869.05</td>\n",
       "      <td>8934.25</td>\n",
       "      <td>5001</td>\n",
       "      <td>20170222 09:24</td>\n",
       "      <td>65.10</td>\n",
       "      <td>8869.15</td>\n",
       "      <td>8934.25</td>\n",
       "      <td>8550.55</td>\n",
       "      <td>8821.40</td>\n",
       "      <td>8869.15</td>\n",
       "      <td>0.00</td>\n",
       "      <td>8869.15</td>\n",
       "      <td>136.238863</td>\n",
       "    </tr>\n",
       "    <tr>\n",
       "      <th>204</th>\n",
       "      <td>9095.00</td>\n",
       "      <td>9143.00</td>\n",
       "      <td>9075.50</td>\n",
       "      <td>9137.60</td>\n",
       "      <td>5025</td>\n",
       "      <td>20170316 09:21</td>\n",
       "      <td>42.60</td>\n",
       "      <td>9095.00</td>\n",
       "      <td>9137.60</td>\n",
       "      <td>8866.15</td>\n",
       "      <td>9070.95</td>\n",
       "      <td>9095.00</td>\n",
       "      <td>0.00</td>\n",
       "      <td>9095.00</td>\n",
       "      <td>213.497653</td>\n",
       "    </tr>\n",
       "    <tr>\n",
       "      <th>257</th>\n",
       "      <td>9223.95</td>\n",
       "      <td>9264.40</td>\n",
       "      <td>9217.40</td>\n",
       "      <td>9264.40</td>\n",
       "      <td>5056</td>\n",
       "      <td>20170405 09:08</td>\n",
       "      <td>40.45</td>\n",
       "      <td>9223.95</td>\n",
       "      <td>9264.40</td>\n",
       "      <td>9048.60</td>\n",
       "      <td>9207.80</td>\n",
       "      <td>9223.95</td>\n",
       "      <td>0.00</td>\n",
       "      <td>9223.95</td>\n",
       "      <td>228.033375</td>\n",
       "    </tr>\n",
       "    <tr>\n",
       "      <th>315</th>\n",
       "      <td>9293.70</td>\n",
       "      <td>9336.20</td>\n",
       "      <td>9291.60</td>\n",
       "      <td>9336.20</td>\n",
       "      <td>6831</td>\n",
       "      <td>20170426 09:08</td>\n",
       "      <td>42.50</td>\n",
       "      <td>9293.70</td>\n",
       "      <td>9336.20</td>\n",
       "      <td>9109.90</td>\n",
       "      <td>9262.00</td>\n",
       "      <td>9293.70</td>\n",
       "      <td>0.00</td>\n",
       "      <td>9293.70</td>\n",
       "      <td>218.675294</td>\n",
       "    </tr>\n",
       "    <tr>\n",
       "      <th>357</th>\n",
       "      <td>9397.35</td>\n",
       "      <td>9448.60</td>\n",
       "      <td>9390.55</td>\n",
       "      <td>9448.60</td>\n",
       "      <td>5246</td>\n",
       "      <td>20170511 09:08</td>\n",
       "      <td>51.25</td>\n",
       "      <td>9397.35</td>\n",
       "      <td>9448.60</td>\n",
       "      <td>9280.15</td>\n",
       "      <td>9387.40</td>\n",
       "      <td>9397.35</td>\n",
       "      <td>0.00</td>\n",
       "      <td>9397.35</td>\n",
       "      <td>183.362927</td>\n",
       "    </tr>\n",
       "    <tr>\n",
       "      <th>378</th>\n",
       "      <td>9517.30</td>\n",
       "      <td>9532.60</td>\n",
       "      <td>9448.75</td>\n",
       "      <td>9462.15</td>\n",
       "      <td>5004</td>\n",
       "      <td>20170518 10:02</td>\n",
       "      <td>-55.15</td>\n",
       "      <td>9462.15</td>\n",
       "      <td>9517.30</td>\n",
       "      <td>9280.15</td>\n",
       "      <td>9448.60</td>\n",
       "      <td>9462.15</td>\n",
       "      <td>0.00</td>\n",
       "      <td>9462.15</td>\n",
       "      <td>171.571170</td>\n",
       "    </tr>\n",
       "    <tr>\n",
       "      <th>405</th>\n",
       "      <td>9540.05</td>\n",
       "      <td>9575.10</td>\n",
       "      <td>9539.05</td>\n",
       "      <td>9572.40</td>\n",
       "      <td>5052</td>\n",
       "      <td>20170526 12:52</td>\n",
       "      <td>32.35</td>\n",
       "      <td>9540.05</td>\n",
       "      <td>9572.40</td>\n",
       "      <td>9359.90</td>\n",
       "      <td>9537.70</td>\n",
       "      <td>9540.05</td>\n",
       "      <td>0.00</td>\n",
       "      <td>9540.05</td>\n",
       "      <td>294.901082</td>\n",
       "    </tr>\n",
       "    <tr>\n",
       "      <th>411</th>\n",
       "      <td>9621.70</td>\n",
       "      <td>9637.75</td>\n",
       "      <td>9582.85</td>\n",
       "      <td>9591.20</td>\n",
       "      <td>5031</td>\n",
       "      <td>20170530 09:20</td>\n",
       "      <td>-30.50</td>\n",
       "      <td>9591.20</td>\n",
       "      <td>9621.70</td>\n",
       "      <td>9359.90</td>\n",
       "      <td>9572.40</td>\n",
       "      <td>9591.20</td>\n",
       "      <td>0.00</td>\n",
       "      <td>9591.20</td>\n",
       "      <td>314.465574</td>\n",
       "    </tr>\n",
       "    <tr>\n",
       "      <th>495</th>\n",
       "      <td>9480.95</td>\n",
       "      <td>9522.50</td>\n",
       "      <td>9480.10</td>\n",
       "      <td>9509.45</td>\n",
       "      <td>5000</td>\n",
       "      <td>20170628 10:50</td>\n",
       "      <td>28.50</td>\n",
       "      <td>9480.95</td>\n",
       "      <td>9509.45</td>\n",
       "      <td>9524.40</td>\n",
       "      <td>9691.55</td>\n",
       "      <td>0.00</td>\n",
       "      <td>9509.45</td>\n",
       "      <td>9509.45</td>\n",
       "      <td>333.664912</td>\n",
       "    </tr>\n",
       "    <tr>\n",
       "      <th>528</th>\n",
       "      <td>9695.20</td>\n",
       "      <td>9772.20</td>\n",
       "      <td>9668.10</td>\n",
       "      <td>9759.80</td>\n",
       "      <td>5054</td>\n",
       "      <td>20170710 13:50</td>\n",
       "      <td>64.60</td>\n",
       "      <td>9695.20</td>\n",
       "      <td>9759.80</td>\n",
       "      <td>9469.65</td>\n",
       "      <td>9692.60</td>\n",
       "      <td>9695.20</td>\n",
       "      <td>0.00</td>\n",
       "      <td>9695.20</td>\n",
       "      <td>150.080495</td>\n",
       "    </tr>\n",
       "    <tr>\n",
       "      <th>530</th>\n",
       "      <td>9771.40</td>\n",
       "      <td>9814.60</td>\n",
       "      <td>9760.95</td>\n",
       "      <td>9799.50</td>\n",
       "      <td>5009</td>\n",
       "      <td>20170711 10:33</td>\n",
       "      <td>28.10</td>\n",
       "      <td>9771.40</td>\n",
       "      <td>9799.50</td>\n",
       "      <td>9469.65</td>\n",
       "      <td>9759.80</td>\n",
       "      <td>9771.40</td>\n",
       "      <td>0.00</td>\n",
       "      <td>9771.40</td>\n",
       "      <td>347.736655</td>\n",
       "    </tr>\n",
       "    <tr>\n",
       "      <th>538</th>\n",
       "      <td>9811.50</td>\n",
       "      <td>9881.25</td>\n",
       "      <td>9804.70</td>\n",
       "      <td>9873.50</td>\n",
       "      <td>5034</td>\n",
       "      <td>20170713 09:51</td>\n",
       "      <td>62.00</td>\n",
       "      <td>9811.50</td>\n",
       "      <td>9873.50</td>\n",
       "      <td>9469.65</td>\n",
       "      <td>9799.50</td>\n",
       "      <td>9811.50</td>\n",
       "      <td>0.00</td>\n",
       "      <td>9811.50</td>\n",
       "      <td>158.250000</td>\n",
       "    </tr>\n",
       "    <tr>\n",
       "      <th>546</th>\n",
       "      <td>9879.10</td>\n",
       "      <td>9911.95</td>\n",
       "      <td>9864.85</td>\n",
       "      <td>9907.30</td>\n",
       "      <td>5005</td>\n",
       "      <td>20170717 09:27</td>\n",
       "      <td>28.20</td>\n",
       "      <td>9879.10</td>\n",
       "      <td>9907.30</td>\n",
       "      <td>9469.65</td>\n",
       "      <td>9873.50</td>\n",
       "      <td>9879.10</td>\n",
       "      <td>0.00</td>\n",
       "      <td>9879.10</td>\n",
       "      <td>350.322695</td>\n",
       "    </tr>\n",
       "    <tr>\n",
       "      <th>579</th>\n",
       "      <td>9994.90</td>\n",
       "      <td>10025.50</td>\n",
       "      <td>9993.05</td>\n",
       "      <td>10023.50</td>\n",
       "      <td>5052</td>\n",
       "      <td>20170726 15:13</td>\n",
       "      <td>28.60</td>\n",
       "      <td>9994.90</td>\n",
       "      <td>10023.50</td>\n",
       "      <td>9805.45</td>\n",
       "      <td>9987.50</td>\n",
       "      <td>9994.90</td>\n",
       "      <td>0.00</td>\n",
       "      <td>9994.90</td>\n",
       "      <td>349.472028</td>\n",
       "    </tr>\n",
       "    <tr>\n",
       "      <th>596</th>\n",
       "      <td>10091.40</td>\n",
       "      <td>10128.60</td>\n",
       "      <td>10077.00</td>\n",
       "      <td>10120.30</td>\n",
       "      <td>5005</td>\n",
       "      <td>20170801 15:30</td>\n",
       "      <td>28.90</td>\n",
       "      <td>10091.40</td>\n",
       "      <td>10120.30</td>\n",
       "      <td>9846.40</td>\n",
       "      <td>10091.30</td>\n",
       "      <td>10091.40</td>\n",
       "      <td>0.00</td>\n",
       "      <td>10091.40</td>\n",
       "      <td>349.183391</td>\n",
       "    </tr>\n",
       "    <tr>\n",
       "      <th>626</th>\n",
       "      <td>9825.10</td>\n",
       "      <td>9852.30</td>\n",
       "      <td>9704.35</td>\n",
       "      <td>9753.95</td>\n",
       "      <td>5016</td>\n",
       "      <td>20170811 10:33</td>\n",
       "      <td>-71.15</td>\n",
       "      <td>9753.95</td>\n",
       "      <td>9825.10</td>\n",
       "      <td>9873.60</td>\n",
       "      <td>10120.30</td>\n",
       "      <td>0.00</td>\n",
       "      <td>9825.10</td>\n",
       "      <td>9825.10</td>\n",
       "      <td>138.089951</td>\n",
       "    </tr>\n",
       "    <tr>\n",
       "      <th>629</th>\n",
       "      <td>9734.45</td>\n",
       "      <td>9735.95</td>\n",
       "      <td>9685.55</td>\n",
       "      <td>9687.30</td>\n",
       "      <td>5017</td>\n",
       "      <td>20170811 15:01</td>\n",
       "      <td>-47.15</td>\n",
       "      <td>9687.30</td>\n",
       "      <td>9734.45</td>\n",
       "      <td>9753.95</td>\n",
       "      <td>10120.30</td>\n",
       "      <td>0.00</td>\n",
       "      <td>9734.45</td>\n",
       "      <td>9734.45</td>\n",
       "      <td>206.457052</td>\n",
       "    </tr>\n",
       "    <tr>\n",
       "      <th>710</th>\n",
       "      <td>10011.00</td>\n",
       "      <td>10056.80</td>\n",
       "      <td>9999.20</td>\n",
       "      <td>10043.20</td>\n",
       "      <td>5029</td>\n",
       "      <td>20170912 10:22</td>\n",
       "      <td>32.20</td>\n",
       "      <td>10011.00</td>\n",
       "      <td>10043.20</td>\n",
       "      <td>9792.45</td>\n",
       "      <td>9984.00</td>\n",
       "      <td>10011.00</td>\n",
       "      <td>0.00</td>\n",
       "      <td>10011.00</td>\n",
       "      <td>310.900621</td>\n",
       "    </tr>\n",
       "    <tr>\n",
       "      <th>713</th>\n",
       "      <td>10057.00</td>\n",
       "      <td>10090.70</td>\n",
       "      <td>10056.40</td>\n",
       "      <td>10089.80</td>\n",
       "      <td>5000</td>\n",
       "      <td>20170912 15:02</td>\n",
       "      <td>32.80</td>\n",
       "      <td>10057.00</td>\n",
       "      <td>10089.80</td>\n",
       "      <td>9793.10</td>\n",
       "      <td>10043.20</td>\n",
       "      <td>10057.00</td>\n",
       "      <td>0.00</td>\n",
       "      <td>10057.00</td>\n",
       "      <td>306.615854</td>\n",
       "    </tr>\n",
       "    <tr>\n",
       "      <th>746</th>\n",
       "      <td>10006.20</td>\n",
       "      <td>10012.20</td>\n",
       "      <td>9963.25</td>\n",
       "      <td>9977.35</td>\n",
       "      <td>5017</td>\n",
       "      <td>20170922 15:07</td>\n",
       "      <td>-28.85</td>\n",
       "      <td>9977.35</td>\n",
       "      <td>10006.20</td>\n",
       "      <td>10011.00</td>\n",
       "      <td>10164.10</td>\n",
       "      <td>0.00</td>\n",
       "      <td>10006.20</td>\n",
       "      <td>10006.20</td>\n",
       "      <td>346.835355</td>\n",
       "    </tr>\n",
       "    <tr>\n",
       "      <th>747</th>\n",
       "      <td>9976.55</td>\n",
       "      <td>9978.10</td>\n",
       "      <td>9844.45</td>\n",
       "      <td>9844.65</td>\n",
       "      <td>5048</td>\n",
       "      <td>20170925 10:18</td>\n",
       "      <td>-131.90</td>\n",
       "      <td>9844.65</td>\n",
       "      <td>9976.55</td>\n",
       "      <td>9977.35</td>\n",
       "      <td>10164.10</td>\n",
       "      <td>0.00</td>\n",
       "      <td>9976.55</td>\n",
       "      <td>9976.55</td>\n",
       "      <td>75.637225</td>\n",
       "    </tr>\n",
       "    <tr>\n",
       "      <th>759</th>\n",
       "      <td>9780.50</td>\n",
       "      <td>9789.85</td>\n",
       "      <td>9705.30</td>\n",
       "      <td>9732.10</td>\n",
       "      <td>5043</td>\n",
       "      <td>20170928 09:23</td>\n",
       "      <td>-48.40</td>\n",
       "      <td>9732.10</td>\n",
       "      <td>9780.50</td>\n",
       "      <td>9789.80</td>\n",
       "      <td>10164.10</td>\n",
       "      <td>0.00</td>\n",
       "      <td>9780.50</td>\n",
       "      <td>9780.50</td>\n",
       "      <td>202.076446</td>\n",
       "    </tr>\n",
       "    <tr>\n",
       "      <th>781</th>\n",
       "      <td>9929.90</td>\n",
       "      <td>9967.75</td>\n",
       "      <td>9929.30</td>\n",
       "      <td>9962.40</td>\n",
       "      <td>5024</td>\n",
       "      <td>20171006 11:13</td>\n",
       "      <td>32.50</td>\n",
       "      <td>9929.90</td>\n",
       "      <td>9962.40</td>\n",
       "      <td>9718.60</td>\n",
       "      <td>9886.55</td>\n",
       "      <td>9929.90</td>\n",
       "      <td>0.00</td>\n",
       "      <td>9929.90</td>\n",
       "      <td>305.535385</td>\n",
       "    </tr>\n",
       "    <tr>\n",
       "      <th>792</th>\n",
       "      <td>10012.20</td>\n",
       "      <td>10046.00</td>\n",
       "      <td>10002.30</td>\n",
       "      <td>10042.90</td>\n",
       "      <td>5045</td>\n",
       "      <td>20171011 09:17</td>\n",
       "      <td>30.70</td>\n",
       "      <td>10012.20</td>\n",
       "      <td>10042.90</td>\n",
       "      <td>9718.60</td>\n",
       "      <td>9996.55</td>\n",
       "      <td>10012.20</td>\n",
       "      <td>0.00</td>\n",
       "      <td>10012.20</td>\n",
       "      <td>326.130293</td>\n",
       "    </tr>\n",
       "    <tr>\n",
       "      <th>805</th>\n",
       "      <td>10179.20</td>\n",
       "      <td>10243.00</td>\n",
       "      <td>10161.00</td>\n",
       "      <td>10231.50</td>\n",
       "      <td>5017</td>\n",
       "      <td>20171016 10:16</td>\n",
       "      <td>52.30</td>\n",
       "      <td>10179.20</td>\n",
       "      <td>10231.50</td>\n",
       "      <td>9836.35</td>\n",
       "      <td>10144.90</td>\n",
       "      <td>10179.20</td>\n",
       "      <td>0.00</td>\n",
       "      <td>10179.20</td>\n",
       "      <td>194.630975</td>\n",
       "    </tr>\n",
       "    <tr>\n",
       "      <th>829</th>\n",
       "      <td>10262.20</td>\n",
       "      <td>10313.20</td>\n",
       "      <td>10260.30</td>\n",
       "      <td>10308.70</td>\n",
       "      <td>5004</td>\n",
       "      <td>20171025 14:14</td>\n",
       "      <td>46.50</td>\n",
       "      <td>10262.20</td>\n",
       "      <td>10308.70</td>\n",
       "      <td>10097.30</td>\n",
       "      <td>10261.80</td>\n",
       "      <td>10262.20</td>\n",
       "      <td>0.00</td>\n",
       "      <td>10262.20</td>\n",
       "      <td>220.692473</td>\n",
       "    </tr>\n",
       "    <tr>\n",
       "      <th>848</th>\n",
       "      <td>10343.00</td>\n",
       "      <td>10425.30</td>\n",
       "      <td>10328.40</td>\n",
       "      <td>10421.50</td>\n",
       "      <td>5056</td>\n",
       "      <td>20171101 09:50</td>\n",
       "      <td>78.50</td>\n",
       "      <td>10343.00</td>\n",
       "      <td>10421.50</td>\n",
       "      <td>10133.80</td>\n",
       "      <td>10308.70</td>\n",
       "      <td>10343.00</td>\n",
       "      <td>0.00</td>\n",
       "      <td>10343.00</td>\n",
       "      <td>131.757962</td>\n",
       "    </tr>\n",
       "    <tr>\n",
       "      <th>863</th>\n",
       "      <td>10444.90</td>\n",
       "      <td>10490.50</td>\n",
       "      <td>10443.00</td>\n",
       "      <td>10482.50</td>\n",
       "      <td>5028</td>\n",
       "      <td>20171106 13:50</td>\n",
       "      <td>37.60</td>\n",
       "      <td>10444.90</td>\n",
       "      <td>10482.50</td>\n",
       "      <td>10133.80</td>\n",
       "      <td>10421.50</td>\n",
       "      <td>10444.90</td>\n",
       "      <td>0.00</td>\n",
       "      <td>10444.90</td>\n",
       "      <td>277.789894</td>\n",
       "    </tr>\n",
       "    <tr>\n",
       "      <th>893</th>\n",
       "      <td>10152.90</td>\n",
       "      <td>10153.20</td>\n",
       "      <td>10094.00</td>\n",
       "      <td>10108.40</td>\n",
       "      <td>5045</td>\n",
       "      <td>20171115 14:48</td>\n",
       "      <td>-44.50</td>\n",
       "      <td>10108.40</td>\n",
       "      <td>10152.90</td>\n",
       "      <td>10166.70</td>\n",
       "      <td>10426.10</td>\n",
       "      <td>0.00</td>\n",
       "      <td>10152.90</td>\n",
       "      <td>10152.90</td>\n",
       "      <td>228.155056</td>\n",
       "    </tr>\n",
       "    <tr>\n",
       "      <th>917</th>\n",
       "      <td>10367.80</td>\n",
       "      <td>10374.30</td>\n",
       "      <td>10333.60</td>\n",
       "      <td>10337.70</td>\n",
       "      <td>5037</td>\n",
       "      <td>20171123 13:05</td>\n",
       "      <td>-30.10</td>\n",
       "      <td>10337.70</td>\n",
       "      <td>10367.80</td>\n",
       "      <td>10108.40</td>\n",
       "      <td>10334.80</td>\n",
       "      <td>10337.70</td>\n",
       "      <td>0.00</td>\n",
       "      <td>10337.70</td>\n",
       "      <td>343.445183</td>\n",
       "    </tr>\n",
       "  </tbody>\n",
       "</table>\n",
       "</div>"
      ],
      "text/plain": [
       "         open      high       low     close volume            time    body  \\\n",
       "70    8478.85   8520.50   8475.80   8515.05   5056  20170125 10:47   36.20   \n",
       "73    8550.55   8612.25   8545.60   8611.15   5046  20170125 15:22   60.60   \n",
       "93    8705.85   8747.75   8705.35   8746.80   5017  20170202 14:12   40.95   \n",
       "147   8869.15   8939.35   8869.05   8934.25   5001  20170222 09:24   65.10   \n",
       "204   9095.00   9143.00   9075.50   9137.60   5025  20170316 09:21   42.60   \n",
       "257   9223.95   9264.40   9217.40   9264.40   5056  20170405 09:08   40.45   \n",
       "315   9293.70   9336.20   9291.60   9336.20   6831  20170426 09:08   42.50   \n",
       "357   9397.35   9448.60   9390.55   9448.60   5246  20170511 09:08   51.25   \n",
       "378   9517.30   9532.60   9448.75   9462.15   5004  20170518 10:02  -55.15   \n",
       "405   9540.05   9575.10   9539.05   9572.40   5052  20170526 12:52   32.35   \n",
       "411   9621.70   9637.75   9582.85   9591.20   5031  20170530 09:20  -30.50   \n",
       "495   9480.95   9522.50   9480.10   9509.45   5000  20170628 10:50   28.50   \n",
       "528   9695.20   9772.20   9668.10   9759.80   5054  20170710 13:50   64.60   \n",
       "530   9771.40   9814.60   9760.95   9799.50   5009  20170711 10:33   28.10   \n",
       "538   9811.50   9881.25   9804.70   9873.50   5034  20170713 09:51   62.00   \n",
       "546   9879.10   9911.95   9864.85   9907.30   5005  20170717 09:27   28.20   \n",
       "579   9994.90  10025.50   9993.05  10023.50   5052  20170726 15:13   28.60   \n",
       "596  10091.40  10128.60  10077.00  10120.30   5005  20170801 15:30   28.90   \n",
       "626   9825.10   9852.30   9704.35   9753.95   5016  20170811 10:33  -71.15   \n",
       "629   9734.45   9735.95   9685.55   9687.30   5017  20170811 15:01  -47.15   \n",
       "710  10011.00  10056.80   9999.20  10043.20   5029  20170912 10:22   32.20   \n",
       "713  10057.00  10090.70  10056.40  10089.80   5000  20170912 15:02   32.80   \n",
       "746  10006.20  10012.20   9963.25   9977.35   5017  20170922 15:07  -28.85   \n",
       "747   9976.55   9978.10   9844.45   9844.65   5048  20170925 10:18 -131.90   \n",
       "759   9780.50   9789.85   9705.30   9732.10   5043  20170928 09:23  -48.40   \n",
       "781   9929.90   9967.75   9929.30   9962.40   5024  20171006 11:13   32.50   \n",
       "792  10012.20  10046.00  10002.30  10042.90   5045  20171011 09:17   30.70   \n",
       "805  10179.20  10243.00  10161.00  10231.50   5017  20171016 10:16   52.30   \n",
       "829  10262.20  10313.20  10260.30  10308.70   5004  20171025 14:14   46.50   \n",
       "848  10343.00  10425.30  10328.40  10421.50   5056  20171101 09:50   78.50   \n",
       "863  10444.90  10490.50  10443.00  10482.50   5028  20171106 13:50   37.60   \n",
       "893  10152.90  10153.20  10094.00  10108.40   5045  20171115 14:48  -44.50   \n",
       "917  10367.80  10374.30  10333.60  10337.70   5037  20171123 13:05  -30.10   \n",
       "\n",
       "     body_min  body_max  prev_min  prev_max  price_range_untouched_min  \\\n",
       "70    8478.85   8515.05   8286.15   8478.25                    8478.85   \n",
       "73    8550.55   8611.15   8342.05   8515.05                    8550.55   \n",
       "93    8705.85   8746.80   8344.80   8687.80                    8705.85   \n",
       "147   8869.15   8934.25   8550.55   8821.40                    8869.15   \n",
       "204   9095.00   9137.60   8866.15   9070.95                    9095.00   \n",
       "257   9223.95   9264.40   9048.60   9207.80                    9223.95   \n",
       "315   9293.70   9336.20   9109.90   9262.00                    9293.70   \n",
       "357   9397.35   9448.60   9280.15   9387.40                    9397.35   \n",
       "378   9462.15   9517.30   9280.15   9448.60                    9462.15   \n",
       "405   9540.05   9572.40   9359.90   9537.70                    9540.05   \n",
       "411   9591.20   9621.70   9359.90   9572.40                    9591.20   \n",
       "495   9480.95   9509.45   9524.40   9691.55                       0.00   \n",
       "528   9695.20   9759.80   9469.65   9692.60                    9695.20   \n",
       "530   9771.40   9799.50   9469.65   9759.80                    9771.40   \n",
       "538   9811.50   9873.50   9469.65   9799.50                    9811.50   \n",
       "546   9879.10   9907.30   9469.65   9873.50                    9879.10   \n",
       "579   9994.90  10023.50   9805.45   9987.50                    9994.90   \n",
       "596  10091.40  10120.30   9846.40  10091.30                   10091.40   \n",
       "626   9753.95   9825.10   9873.60  10120.30                       0.00   \n",
       "629   9687.30   9734.45   9753.95  10120.30                       0.00   \n",
       "710  10011.00  10043.20   9792.45   9984.00                   10011.00   \n",
       "713  10057.00  10089.80   9793.10  10043.20                   10057.00   \n",
       "746   9977.35  10006.20  10011.00  10164.10                       0.00   \n",
       "747   9844.65   9976.55   9977.35  10164.10                       0.00   \n",
       "759   9732.10   9780.50   9789.80  10164.10                       0.00   \n",
       "781   9929.90   9962.40   9718.60   9886.55                    9929.90   \n",
       "792  10012.20  10042.90   9718.60   9996.55                   10012.20   \n",
       "805  10179.20  10231.50   9836.35  10144.90                   10179.20   \n",
       "829  10262.20  10308.70  10097.30  10261.80                   10262.20   \n",
       "848  10343.00  10421.50  10133.80  10308.70                   10343.00   \n",
       "863  10444.90  10482.50  10133.80  10421.50                   10444.90   \n",
       "893  10108.40  10152.90  10166.70  10426.10                       0.00   \n",
       "917  10337.70  10367.80  10108.40  10334.80                   10337.70   \n",
       "\n",
       "     price_range_untouched_max  price_range_untouched  untouched_percentage  \n",
       "70                        0.00                8478.85            234.222376  \n",
       "73                        0.00                8550.55            141.098185  \n",
       "93                        0.00                8705.85            212.597070  \n",
       "147                       0.00                8869.15            136.238863  \n",
       "204                       0.00                9095.00            213.497653  \n",
       "257                       0.00                9223.95            228.033375  \n",
       "315                       0.00                9293.70            218.675294  \n",
       "357                       0.00                9397.35            183.362927  \n",
       "378                       0.00                9462.15            171.571170  \n",
       "405                       0.00                9540.05            294.901082  \n",
       "411                       0.00                9591.20            314.465574  \n",
       "495                    9509.45                9509.45            333.664912  \n",
       "528                       0.00                9695.20            150.080495  \n",
       "530                       0.00                9771.40            347.736655  \n",
       "538                       0.00                9811.50            158.250000  \n",
       "546                       0.00                9879.10            350.322695  \n",
       "579                       0.00                9994.90            349.472028  \n",
       "596                       0.00               10091.40            349.183391  \n",
       "626                    9825.10                9825.10            138.089951  \n",
       "629                    9734.45                9734.45            206.457052  \n",
       "710                       0.00               10011.00            310.900621  \n",
       "713                       0.00               10057.00            306.615854  \n",
       "746                   10006.20               10006.20            346.835355  \n",
       "747                    9976.55                9976.55             75.637225  \n",
       "759                    9780.50                9780.50            202.076446  \n",
       "781                       0.00                9929.90            305.535385  \n",
       "792                       0.00               10012.20            326.130293  \n",
       "805                       0.00               10179.20            194.630975  \n",
       "829                       0.00               10262.20            220.692473  \n",
       "848                       0.00               10343.00            131.757962  \n",
       "863                       0.00               10444.90            277.789894  \n",
       "893                   10152.90               10152.90            228.155056  \n",
       "917                       0.00               10337.70            343.445183  "
      ]
     },
     "execution_count": 67,
     "metadata": {},
     "output_type": "execute_result"
    }
   ],
   "source": [
    "data3"
   ]
  },
  {
   "cell_type": "code",
   "execution_count": 27,
   "id": "a42f0ee7",
   "metadata": {},
   "outputs": [],
   "source": [
    "import pandas as pd\n",
    "\n",
    "def filter_candles(df, body_threshold, untouched_threshold):\n",
    "    # Calculate the body of each candle\n",
    "    df['body'] = df['close'] - df['open']\n",
    "    # Select only those candles where the body is high\n",
    "    df = df[df['body'].abs() >= body_threshold]\n",
    "    # Find the percentage of the price range covered by the body that has not been touched by the previous 10 candles\n",
    "    df['body_min'] = df[['open', 'close']].min(axis=1)\n",
    "    df['body_max'] = df[['open', 'close']].max(axis=1)\n",
    "    df['prev_min'] = df['body_min'].shift(1).rolling(window=10).min()\n",
    "    df['prev_max'] = df['body_max'].shift(1).rolling(window=10).max()\n",
    "    df['price_range_untouched_min'] = df['body_min'].where(df['body_min'] > df['prev_max'], 0)\n",
    "    df['price_range_untouched_max'] = df['body_max'].where(df['body_max'] < df['prev_min'], 0)\n",
    "    df['price_range_untouched'] = df[['price_range_untouched_min', 'price_range_untouched_max']].max(axis=1) - df[['price_range_untouched_min', 'price_range_untouched_max']].min(axis=1)\n",
    "    df['untouched_percentage'] = df['price_range_untouched'].abs() / df['body'].abs()\n",
    "    # Select only those candles where the percentage is large\n",
    "    df = df[df['untouched_percentage'] >= untouched_threshold]\n",
    "    return df\n"
   ]
  },
  {
   "cell_type": "code",
   "execution_count": 28,
   "id": "67595d7a",
   "metadata": {},
   "outputs": [
    {
     "name": "stdout",
     "output_type": "stream",
     "text": [
      "Collecting plotly\n",
      "  Downloading plotly-5.13.0-py2.py3-none-any.whl (15.2 MB)\n",
      "\u001b[2K     \u001b[90m━━━━━━━━━━━━━━━━━━━━━━━━━━━━━━━━━━━━━━━━\u001b[0m \u001b[32m15.2/15.2 MB\u001b[0m \u001b[31m10.7 MB/s\u001b[0m eta \u001b[36m0:00:00\u001b[0m00:01\u001b[0m00:01\u001b[0m\n",
      "\u001b[?25hCollecting tenacity>=6.2.0\n",
      "  Downloading tenacity-8.1.0-py3-none-any.whl (23 kB)\n",
      "Installing collected packages: tenacity, plotly\n",
      "Successfully installed plotly-5.13.0 tenacity-8.1.0\n"
     ]
    }
   ],
   "source": [
    "!pip install plotly"
   ]
  },
  {
   "cell_type": "code",
   "execution_count": 70,
   "id": "35fe80c1",
   "metadata": {},
   "outputs": [
    {
     "data": {
      "application/vnd.plotly.v1+json": {
       "config": {
        "plotlyServerURL": "https://plot.ly"
       },
       "data": [
        {
         "close": [
          9978.1,
          9986.9,
          9968.05,
          9975.65,
          10030.7,
          10037.8,
          10053.2,
          10059,
          10091.3,
          10078.2,
          10089.1,
          10093,
          10120.3,
          10098.5,
          10098.3,
          10097.1
         ],
         "high": [
          10067.1,
          9999.35,
          9990.65,
          9989.5,
          10048.9,
          10048,
          10069.5,
          10063.5,
          10101,
          10101.9,
          10092.2,
          10096.7,
          10128.6,
          10137.8,
          10106.5,
          10102.7
         ],
         "low": [
          9963.05,
          9973.35,
          9967.45,
          9944.5,
          9970.3,
          10023.7,
          10035.3,
          10047.7,
          10043.5,
          10076.8,
          10065.8,
          10078.8,
          10077,
          10097,
          10091.7,
          10087.5
         ],
         "open": [
          10065,
          9974.65,
          9989.95,
          9969.6,
          9970.3,
          10030.8,
          10036.8,
          10052.6,
          10059.5,
          10087.8,
          10080.3,
          10088.5,
          10091.4,
          10123.2,
          10099.7,
          10098.9
         ],
         "type": "candlestick",
         "x": [
          584,
          585,
          586,
          587,
          588,
          589,
          590,
          591,
          592,
          593,
          594,
          595,
          596,
          597,
          598,
          599
         ]
        }
       ],
       "layout": {
        "template": {
         "data": {
          "bar": [
           {
            "error_x": {
             "color": "#2a3f5f"
            },
            "error_y": {
             "color": "#2a3f5f"
            },
            "marker": {
             "line": {
              "color": "#E5ECF6",
              "width": 0.5
             },
             "pattern": {
              "fillmode": "overlay",
              "size": 10,
              "solidity": 0.2
             }
            },
            "type": "bar"
           }
          ],
          "barpolar": [
           {
            "marker": {
             "line": {
              "color": "#E5ECF6",
              "width": 0.5
             },
             "pattern": {
              "fillmode": "overlay",
              "size": 10,
              "solidity": 0.2
             }
            },
            "type": "barpolar"
           }
          ],
          "carpet": [
           {
            "aaxis": {
             "endlinecolor": "#2a3f5f",
             "gridcolor": "white",
             "linecolor": "white",
             "minorgridcolor": "white",
             "startlinecolor": "#2a3f5f"
            },
            "baxis": {
             "endlinecolor": "#2a3f5f",
             "gridcolor": "white",
             "linecolor": "white",
             "minorgridcolor": "white",
             "startlinecolor": "#2a3f5f"
            },
            "type": "carpet"
           }
          ],
          "choropleth": [
           {
            "colorbar": {
             "outlinewidth": 0,
             "ticks": ""
            },
            "type": "choropleth"
           }
          ],
          "contour": [
           {
            "colorbar": {
             "outlinewidth": 0,
             "ticks": ""
            },
            "colorscale": [
             [
              0,
              "#0d0887"
             ],
             [
              0.1111111111111111,
              "#46039f"
             ],
             [
              0.2222222222222222,
              "#7201a8"
             ],
             [
              0.3333333333333333,
              "#9c179e"
             ],
             [
              0.4444444444444444,
              "#bd3786"
             ],
             [
              0.5555555555555556,
              "#d8576b"
             ],
             [
              0.6666666666666666,
              "#ed7953"
             ],
             [
              0.7777777777777778,
              "#fb9f3a"
             ],
             [
              0.8888888888888888,
              "#fdca26"
             ],
             [
              1,
              "#f0f921"
             ]
            ],
            "type": "contour"
           }
          ],
          "contourcarpet": [
           {
            "colorbar": {
             "outlinewidth": 0,
             "ticks": ""
            },
            "type": "contourcarpet"
           }
          ],
          "heatmap": [
           {
            "colorbar": {
             "outlinewidth": 0,
             "ticks": ""
            },
            "colorscale": [
             [
              0,
              "#0d0887"
             ],
             [
              0.1111111111111111,
              "#46039f"
             ],
             [
              0.2222222222222222,
              "#7201a8"
             ],
             [
              0.3333333333333333,
              "#9c179e"
             ],
             [
              0.4444444444444444,
              "#bd3786"
             ],
             [
              0.5555555555555556,
              "#d8576b"
             ],
             [
              0.6666666666666666,
              "#ed7953"
             ],
             [
              0.7777777777777778,
              "#fb9f3a"
             ],
             [
              0.8888888888888888,
              "#fdca26"
             ],
             [
              1,
              "#f0f921"
             ]
            ],
            "type": "heatmap"
           }
          ],
          "heatmapgl": [
           {
            "colorbar": {
             "outlinewidth": 0,
             "ticks": ""
            },
            "colorscale": [
             [
              0,
              "#0d0887"
             ],
             [
              0.1111111111111111,
              "#46039f"
             ],
             [
              0.2222222222222222,
              "#7201a8"
             ],
             [
              0.3333333333333333,
              "#9c179e"
             ],
             [
              0.4444444444444444,
              "#bd3786"
             ],
             [
              0.5555555555555556,
              "#d8576b"
             ],
             [
              0.6666666666666666,
              "#ed7953"
             ],
             [
              0.7777777777777778,
              "#fb9f3a"
             ],
             [
              0.8888888888888888,
              "#fdca26"
             ],
             [
              1,
              "#f0f921"
             ]
            ],
            "type": "heatmapgl"
           }
          ],
          "histogram": [
           {
            "marker": {
             "pattern": {
              "fillmode": "overlay",
              "size": 10,
              "solidity": 0.2
             }
            },
            "type": "histogram"
           }
          ],
          "histogram2d": [
           {
            "colorbar": {
             "outlinewidth": 0,
             "ticks": ""
            },
            "colorscale": [
             [
              0,
              "#0d0887"
             ],
             [
              0.1111111111111111,
              "#46039f"
             ],
             [
              0.2222222222222222,
              "#7201a8"
             ],
             [
              0.3333333333333333,
              "#9c179e"
             ],
             [
              0.4444444444444444,
              "#bd3786"
             ],
             [
              0.5555555555555556,
              "#d8576b"
             ],
             [
              0.6666666666666666,
              "#ed7953"
             ],
             [
              0.7777777777777778,
              "#fb9f3a"
             ],
             [
              0.8888888888888888,
              "#fdca26"
             ],
             [
              1,
              "#f0f921"
             ]
            ],
            "type": "histogram2d"
           }
          ],
          "histogram2dcontour": [
           {
            "colorbar": {
             "outlinewidth": 0,
             "ticks": ""
            },
            "colorscale": [
             [
              0,
              "#0d0887"
             ],
             [
              0.1111111111111111,
              "#46039f"
             ],
             [
              0.2222222222222222,
              "#7201a8"
             ],
             [
              0.3333333333333333,
              "#9c179e"
             ],
             [
              0.4444444444444444,
              "#bd3786"
             ],
             [
              0.5555555555555556,
              "#d8576b"
             ],
             [
              0.6666666666666666,
              "#ed7953"
             ],
             [
              0.7777777777777778,
              "#fb9f3a"
             ],
             [
              0.8888888888888888,
              "#fdca26"
             ],
             [
              1,
              "#f0f921"
             ]
            ],
            "type": "histogram2dcontour"
           }
          ],
          "mesh3d": [
           {
            "colorbar": {
             "outlinewidth": 0,
             "ticks": ""
            },
            "type": "mesh3d"
           }
          ],
          "parcoords": [
           {
            "line": {
             "colorbar": {
              "outlinewidth": 0,
              "ticks": ""
             }
            },
            "type": "parcoords"
           }
          ],
          "pie": [
           {
            "automargin": true,
            "type": "pie"
           }
          ],
          "scatter": [
           {
            "fillpattern": {
             "fillmode": "overlay",
             "size": 10,
             "solidity": 0.2
            },
            "type": "scatter"
           }
          ],
          "scatter3d": [
           {
            "line": {
             "colorbar": {
              "outlinewidth": 0,
              "ticks": ""
             }
            },
            "marker": {
             "colorbar": {
              "outlinewidth": 0,
              "ticks": ""
             }
            },
            "type": "scatter3d"
           }
          ],
          "scattercarpet": [
           {
            "marker": {
             "colorbar": {
              "outlinewidth": 0,
              "ticks": ""
             }
            },
            "type": "scattercarpet"
           }
          ],
          "scattergeo": [
           {
            "marker": {
             "colorbar": {
              "outlinewidth": 0,
              "ticks": ""
             }
            },
            "type": "scattergeo"
           }
          ],
          "scattergl": [
           {
            "marker": {
             "colorbar": {
              "outlinewidth": 0,
              "ticks": ""
             }
            },
            "type": "scattergl"
           }
          ],
          "scattermapbox": [
           {
            "marker": {
             "colorbar": {
              "outlinewidth": 0,
              "ticks": ""
             }
            },
            "type": "scattermapbox"
           }
          ],
          "scatterpolar": [
           {
            "marker": {
             "colorbar": {
              "outlinewidth": 0,
              "ticks": ""
             }
            },
            "type": "scatterpolar"
           }
          ],
          "scatterpolargl": [
           {
            "marker": {
             "colorbar": {
              "outlinewidth": 0,
              "ticks": ""
             }
            },
            "type": "scatterpolargl"
           }
          ],
          "scatterternary": [
           {
            "marker": {
             "colorbar": {
              "outlinewidth": 0,
              "ticks": ""
             }
            },
            "type": "scatterternary"
           }
          ],
          "surface": [
           {
            "colorbar": {
             "outlinewidth": 0,
             "ticks": ""
            },
            "colorscale": [
             [
              0,
              "#0d0887"
             ],
             [
              0.1111111111111111,
              "#46039f"
             ],
             [
              0.2222222222222222,
              "#7201a8"
             ],
             [
              0.3333333333333333,
              "#9c179e"
             ],
             [
              0.4444444444444444,
              "#bd3786"
             ],
             [
              0.5555555555555556,
              "#d8576b"
             ],
             [
              0.6666666666666666,
              "#ed7953"
             ],
             [
              0.7777777777777778,
              "#fb9f3a"
             ],
             [
              0.8888888888888888,
              "#fdca26"
             ],
             [
              1,
              "#f0f921"
             ]
            ],
            "type": "surface"
           }
          ],
          "table": [
           {
            "cells": {
             "fill": {
              "color": "#EBF0F8"
             },
             "line": {
              "color": "white"
             }
            },
            "header": {
             "fill": {
              "color": "#C8D4E3"
             },
             "line": {
              "color": "white"
             }
            },
            "type": "table"
           }
          ]
         },
         "layout": {
          "annotationdefaults": {
           "arrowcolor": "#2a3f5f",
           "arrowhead": 0,
           "arrowwidth": 1
          },
          "autotypenumbers": "strict",
          "coloraxis": {
           "colorbar": {
            "outlinewidth": 0,
            "ticks": ""
           }
          },
          "colorscale": {
           "diverging": [
            [
             0,
             "#8e0152"
            ],
            [
             0.1,
             "#c51b7d"
            ],
            [
             0.2,
             "#de77ae"
            ],
            [
             0.3,
             "#f1b6da"
            ],
            [
             0.4,
             "#fde0ef"
            ],
            [
             0.5,
             "#f7f7f7"
            ],
            [
             0.6,
             "#e6f5d0"
            ],
            [
             0.7,
             "#b8e186"
            ],
            [
             0.8,
             "#7fbc41"
            ],
            [
             0.9,
             "#4d9221"
            ],
            [
             1,
             "#276419"
            ]
           ],
           "sequential": [
            [
             0,
             "#0d0887"
            ],
            [
             0.1111111111111111,
             "#46039f"
            ],
            [
             0.2222222222222222,
             "#7201a8"
            ],
            [
             0.3333333333333333,
             "#9c179e"
            ],
            [
             0.4444444444444444,
             "#bd3786"
            ],
            [
             0.5555555555555556,
             "#d8576b"
            ],
            [
             0.6666666666666666,
             "#ed7953"
            ],
            [
             0.7777777777777778,
             "#fb9f3a"
            ],
            [
             0.8888888888888888,
             "#fdca26"
            ],
            [
             1,
             "#f0f921"
            ]
           ],
           "sequentialminus": [
            [
             0,
             "#0d0887"
            ],
            [
             0.1111111111111111,
             "#46039f"
            ],
            [
             0.2222222222222222,
             "#7201a8"
            ],
            [
             0.3333333333333333,
             "#9c179e"
            ],
            [
             0.4444444444444444,
             "#bd3786"
            ],
            [
             0.5555555555555556,
             "#d8576b"
            ],
            [
             0.6666666666666666,
             "#ed7953"
            ],
            [
             0.7777777777777778,
             "#fb9f3a"
            ],
            [
             0.8888888888888888,
             "#fdca26"
            ],
            [
             1,
             "#f0f921"
            ]
           ]
          },
          "colorway": [
           "#636efa",
           "#EF553B",
           "#00cc96",
           "#ab63fa",
           "#FFA15A",
           "#19d3f3",
           "#FF6692",
           "#B6E880",
           "#FF97FF",
           "#FECB52"
          ],
          "font": {
           "color": "#2a3f5f"
          },
          "geo": {
           "bgcolor": "white",
           "lakecolor": "white",
           "landcolor": "#E5ECF6",
           "showlakes": true,
           "showland": true,
           "subunitcolor": "white"
          },
          "hoverlabel": {
           "align": "left"
          },
          "hovermode": "closest",
          "mapbox": {
           "style": "light"
          },
          "paper_bgcolor": "white",
          "plot_bgcolor": "#E5ECF6",
          "polar": {
           "angularaxis": {
            "gridcolor": "white",
            "linecolor": "white",
            "ticks": ""
           },
           "bgcolor": "#E5ECF6",
           "radialaxis": {
            "gridcolor": "white",
            "linecolor": "white",
            "ticks": ""
           }
          },
          "scene": {
           "xaxis": {
            "backgroundcolor": "#E5ECF6",
            "gridcolor": "white",
            "gridwidth": 2,
            "linecolor": "white",
            "showbackground": true,
            "ticks": "",
            "zerolinecolor": "white"
           },
           "yaxis": {
            "backgroundcolor": "#E5ECF6",
            "gridcolor": "white",
            "gridwidth": 2,
            "linecolor": "white",
            "showbackground": true,
            "ticks": "",
            "zerolinecolor": "white"
           },
           "zaxis": {
            "backgroundcolor": "#E5ECF6",
            "gridcolor": "white",
            "gridwidth": 2,
            "linecolor": "white",
            "showbackground": true,
            "ticks": "",
            "zerolinecolor": "white"
           }
          },
          "shapedefaults": {
           "line": {
            "color": "#2a3f5f"
           }
          },
          "ternary": {
           "aaxis": {
            "gridcolor": "white",
            "linecolor": "white",
            "ticks": ""
           },
           "baxis": {
            "gridcolor": "white",
            "linecolor": "white",
            "ticks": ""
           },
           "bgcolor": "#E5ECF6",
           "caxis": {
            "gridcolor": "white",
            "linecolor": "white",
            "ticks": ""
           }
          },
          "title": {
           "x": 0.05
          },
          "xaxis": {
           "automargin": true,
           "gridcolor": "white",
           "linecolor": "white",
           "ticks": "",
           "title": {
            "standoff": 15
           },
           "zerolinecolor": "white",
           "zerolinewidth": 2
          },
          "yaxis": {
           "automargin": true,
           "gridcolor": "white",
           "linecolor": "white",
           "ticks": "",
           "title": {
            "standoff": 15
           },
           "zerolinecolor": "white",
           "zerolinewidth": 2
          }
         }
        },
        "xaxis": {
         "rangeslider": {
          "visible": false
         }
        }
       }
      },
      "text/html": [
       "<div>                            <div id=\"7c56f711-d43f-4df5-b9c8-fbd5d5ae3a7f\" class=\"plotly-graph-div\" style=\"height:525px; width:100%;\"></div>            <script type=\"text/javascript\">                require([\"plotly\"], function(Plotly) {                    window.PLOTLYENV=window.PLOTLYENV || {};                                    if (document.getElementById(\"7c56f711-d43f-4df5-b9c8-fbd5d5ae3a7f\")) {                    Plotly.newPlot(                        \"7c56f711-d43f-4df5-b9c8-fbd5d5ae3a7f\",                        [{\"close\":[9978.1,9986.9,9968.05,9975.65,10030.7,10037.8,10053.2,10059.0,10091.3,10078.2,10089.1,10093.0,10120.3,10098.5,10098.3,10097.1],\"high\":[10067.1,9999.35,9990.65,9989.5,10048.9,10048.0,10069.5,10063.5,10101.0,10101.9,10092.2,10096.7,10128.6,10137.8,10106.5,10102.7],\"low\":[9963.05,9973.35,9967.45,9944.5,9970.3,10023.7,10035.3,10047.7,10043.5,10076.8,10065.8,10078.8,10077.0,10097.0,10091.7,10087.5],\"open\":[10065.0,9974.65,9989.95,9969.6,9970.3,10030.8,10036.8,10052.6,10059.5,10087.8,10080.3,10088.5,10091.4,10123.2,10099.7,10098.9],\"x\":[584,585,586,587,588,589,590,591,592,593,594,595,596,597,598,599],\"type\":\"candlestick\"}],                        {\"template\":{\"data\":{\"histogram2dcontour\":[{\"type\":\"histogram2dcontour\",\"colorbar\":{\"outlinewidth\":0,\"ticks\":\"\"},\"colorscale\":[[0.0,\"#0d0887\"],[0.1111111111111111,\"#46039f\"],[0.2222222222222222,\"#7201a8\"],[0.3333333333333333,\"#9c179e\"],[0.4444444444444444,\"#bd3786\"],[0.5555555555555556,\"#d8576b\"],[0.6666666666666666,\"#ed7953\"],[0.7777777777777778,\"#fb9f3a\"],[0.8888888888888888,\"#fdca26\"],[1.0,\"#f0f921\"]]}],\"choropleth\":[{\"type\":\"choropleth\",\"colorbar\":{\"outlinewidth\":0,\"ticks\":\"\"}}],\"histogram2d\":[{\"type\":\"histogram2d\",\"colorbar\":{\"outlinewidth\":0,\"ticks\":\"\"},\"colorscale\":[[0.0,\"#0d0887\"],[0.1111111111111111,\"#46039f\"],[0.2222222222222222,\"#7201a8\"],[0.3333333333333333,\"#9c179e\"],[0.4444444444444444,\"#bd3786\"],[0.5555555555555556,\"#d8576b\"],[0.6666666666666666,\"#ed7953\"],[0.7777777777777778,\"#fb9f3a\"],[0.8888888888888888,\"#fdca26\"],[1.0,\"#f0f921\"]]}],\"heatmap\":[{\"type\":\"heatmap\",\"colorbar\":{\"outlinewidth\":0,\"ticks\":\"\"},\"colorscale\":[[0.0,\"#0d0887\"],[0.1111111111111111,\"#46039f\"],[0.2222222222222222,\"#7201a8\"],[0.3333333333333333,\"#9c179e\"],[0.4444444444444444,\"#bd3786\"],[0.5555555555555556,\"#d8576b\"],[0.6666666666666666,\"#ed7953\"],[0.7777777777777778,\"#fb9f3a\"],[0.8888888888888888,\"#fdca26\"],[1.0,\"#f0f921\"]]}],\"heatmapgl\":[{\"type\":\"heatmapgl\",\"colorbar\":{\"outlinewidth\":0,\"ticks\":\"\"},\"colorscale\":[[0.0,\"#0d0887\"],[0.1111111111111111,\"#46039f\"],[0.2222222222222222,\"#7201a8\"],[0.3333333333333333,\"#9c179e\"],[0.4444444444444444,\"#bd3786\"],[0.5555555555555556,\"#d8576b\"],[0.6666666666666666,\"#ed7953\"],[0.7777777777777778,\"#fb9f3a\"],[0.8888888888888888,\"#fdca26\"],[1.0,\"#f0f921\"]]}],\"contourcarpet\":[{\"type\":\"contourcarpet\",\"colorbar\":{\"outlinewidth\":0,\"ticks\":\"\"}}],\"contour\":[{\"type\":\"contour\",\"colorbar\":{\"outlinewidth\":0,\"ticks\":\"\"},\"colorscale\":[[0.0,\"#0d0887\"],[0.1111111111111111,\"#46039f\"],[0.2222222222222222,\"#7201a8\"],[0.3333333333333333,\"#9c179e\"],[0.4444444444444444,\"#bd3786\"],[0.5555555555555556,\"#d8576b\"],[0.6666666666666666,\"#ed7953\"],[0.7777777777777778,\"#fb9f3a\"],[0.8888888888888888,\"#fdca26\"],[1.0,\"#f0f921\"]]}],\"surface\":[{\"type\":\"surface\",\"colorbar\":{\"outlinewidth\":0,\"ticks\":\"\"},\"colorscale\":[[0.0,\"#0d0887\"],[0.1111111111111111,\"#46039f\"],[0.2222222222222222,\"#7201a8\"],[0.3333333333333333,\"#9c179e\"],[0.4444444444444444,\"#bd3786\"],[0.5555555555555556,\"#d8576b\"],[0.6666666666666666,\"#ed7953\"],[0.7777777777777778,\"#fb9f3a\"],[0.8888888888888888,\"#fdca26\"],[1.0,\"#f0f921\"]]}],\"mesh3d\":[{\"type\":\"mesh3d\",\"colorbar\":{\"outlinewidth\":0,\"ticks\":\"\"}}],\"scatter\":[{\"fillpattern\":{\"fillmode\":\"overlay\",\"size\":10,\"solidity\":0.2},\"type\":\"scatter\"}],\"parcoords\":[{\"type\":\"parcoords\",\"line\":{\"colorbar\":{\"outlinewidth\":0,\"ticks\":\"\"}}}],\"scatterpolargl\":[{\"type\":\"scatterpolargl\",\"marker\":{\"colorbar\":{\"outlinewidth\":0,\"ticks\":\"\"}}}],\"bar\":[{\"error_x\":{\"color\":\"#2a3f5f\"},\"error_y\":{\"color\":\"#2a3f5f\"},\"marker\":{\"line\":{\"color\":\"#E5ECF6\",\"width\":0.5},\"pattern\":{\"fillmode\":\"overlay\",\"size\":10,\"solidity\":0.2}},\"type\":\"bar\"}],\"scattergeo\":[{\"type\":\"scattergeo\",\"marker\":{\"colorbar\":{\"outlinewidth\":0,\"ticks\":\"\"}}}],\"scatterpolar\":[{\"type\":\"scatterpolar\",\"marker\":{\"colorbar\":{\"outlinewidth\":0,\"ticks\":\"\"}}}],\"histogram\":[{\"marker\":{\"pattern\":{\"fillmode\":\"overlay\",\"size\":10,\"solidity\":0.2}},\"type\":\"histogram\"}],\"scattergl\":[{\"type\":\"scattergl\",\"marker\":{\"colorbar\":{\"outlinewidth\":0,\"ticks\":\"\"}}}],\"scatter3d\":[{\"type\":\"scatter3d\",\"line\":{\"colorbar\":{\"outlinewidth\":0,\"ticks\":\"\"}},\"marker\":{\"colorbar\":{\"outlinewidth\":0,\"ticks\":\"\"}}}],\"scattermapbox\":[{\"type\":\"scattermapbox\",\"marker\":{\"colorbar\":{\"outlinewidth\":0,\"ticks\":\"\"}}}],\"scatterternary\":[{\"type\":\"scatterternary\",\"marker\":{\"colorbar\":{\"outlinewidth\":0,\"ticks\":\"\"}}}],\"scattercarpet\":[{\"type\":\"scattercarpet\",\"marker\":{\"colorbar\":{\"outlinewidth\":0,\"ticks\":\"\"}}}],\"carpet\":[{\"aaxis\":{\"endlinecolor\":\"#2a3f5f\",\"gridcolor\":\"white\",\"linecolor\":\"white\",\"minorgridcolor\":\"white\",\"startlinecolor\":\"#2a3f5f\"},\"baxis\":{\"endlinecolor\":\"#2a3f5f\",\"gridcolor\":\"white\",\"linecolor\":\"white\",\"minorgridcolor\":\"white\",\"startlinecolor\":\"#2a3f5f\"},\"type\":\"carpet\"}],\"table\":[{\"cells\":{\"fill\":{\"color\":\"#EBF0F8\"},\"line\":{\"color\":\"white\"}},\"header\":{\"fill\":{\"color\":\"#C8D4E3\"},\"line\":{\"color\":\"white\"}},\"type\":\"table\"}],\"barpolar\":[{\"marker\":{\"line\":{\"color\":\"#E5ECF6\",\"width\":0.5},\"pattern\":{\"fillmode\":\"overlay\",\"size\":10,\"solidity\":0.2}},\"type\":\"barpolar\"}],\"pie\":[{\"automargin\":true,\"type\":\"pie\"}]},\"layout\":{\"autotypenumbers\":\"strict\",\"colorway\":[\"#636efa\",\"#EF553B\",\"#00cc96\",\"#ab63fa\",\"#FFA15A\",\"#19d3f3\",\"#FF6692\",\"#B6E880\",\"#FF97FF\",\"#FECB52\"],\"font\":{\"color\":\"#2a3f5f\"},\"hovermode\":\"closest\",\"hoverlabel\":{\"align\":\"left\"},\"paper_bgcolor\":\"white\",\"plot_bgcolor\":\"#E5ECF6\",\"polar\":{\"bgcolor\":\"#E5ECF6\",\"angularaxis\":{\"gridcolor\":\"white\",\"linecolor\":\"white\",\"ticks\":\"\"},\"radialaxis\":{\"gridcolor\":\"white\",\"linecolor\":\"white\",\"ticks\":\"\"}},\"ternary\":{\"bgcolor\":\"#E5ECF6\",\"aaxis\":{\"gridcolor\":\"white\",\"linecolor\":\"white\",\"ticks\":\"\"},\"baxis\":{\"gridcolor\":\"white\",\"linecolor\":\"white\",\"ticks\":\"\"},\"caxis\":{\"gridcolor\":\"white\",\"linecolor\":\"white\",\"ticks\":\"\"}},\"coloraxis\":{\"colorbar\":{\"outlinewidth\":0,\"ticks\":\"\"}},\"colorscale\":{\"sequential\":[[0.0,\"#0d0887\"],[0.1111111111111111,\"#46039f\"],[0.2222222222222222,\"#7201a8\"],[0.3333333333333333,\"#9c179e\"],[0.4444444444444444,\"#bd3786\"],[0.5555555555555556,\"#d8576b\"],[0.6666666666666666,\"#ed7953\"],[0.7777777777777778,\"#fb9f3a\"],[0.8888888888888888,\"#fdca26\"],[1.0,\"#f0f921\"]],\"sequentialminus\":[[0.0,\"#0d0887\"],[0.1111111111111111,\"#46039f\"],[0.2222222222222222,\"#7201a8\"],[0.3333333333333333,\"#9c179e\"],[0.4444444444444444,\"#bd3786\"],[0.5555555555555556,\"#d8576b\"],[0.6666666666666666,\"#ed7953\"],[0.7777777777777778,\"#fb9f3a\"],[0.8888888888888888,\"#fdca26\"],[1.0,\"#f0f921\"]],\"diverging\":[[0,\"#8e0152\"],[0.1,\"#c51b7d\"],[0.2,\"#de77ae\"],[0.3,\"#f1b6da\"],[0.4,\"#fde0ef\"],[0.5,\"#f7f7f7\"],[0.6,\"#e6f5d0\"],[0.7,\"#b8e186\"],[0.8,\"#7fbc41\"],[0.9,\"#4d9221\"],[1,\"#276419\"]]},\"xaxis\":{\"gridcolor\":\"white\",\"linecolor\":\"white\",\"ticks\":\"\",\"title\":{\"standoff\":15},\"zerolinecolor\":\"white\",\"automargin\":true,\"zerolinewidth\":2},\"yaxis\":{\"gridcolor\":\"white\",\"linecolor\":\"white\",\"ticks\":\"\",\"title\":{\"standoff\":15},\"zerolinecolor\":\"white\",\"automargin\":true,\"zerolinewidth\":2},\"scene\":{\"xaxis\":{\"backgroundcolor\":\"#E5ECF6\",\"gridcolor\":\"white\",\"linecolor\":\"white\",\"showbackground\":true,\"ticks\":\"\",\"zerolinecolor\":\"white\",\"gridwidth\":2},\"yaxis\":{\"backgroundcolor\":\"#E5ECF6\",\"gridcolor\":\"white\",\"linecolor\":\"white\",\"showbackground\":true,\"ticks\":\"\",\"zerolinecolor\":\"white\",\"gridwidth\":2},\"zaxis\":{\"backgroundcolor\":\"#E5ECF6\",\"gridcolor\":\"white\",\"linecolor\":\"white\",\"showbackground\":true,\"ticks\":\"\",\"zerolinecolor\":\"white\",\"gridwidth\":2}},\"shapedefaults\":{\"line\":{\"color\":\"#2a3f5f\"}},\"annotationdefaults\":{\"arrowcolor\":\"#2a3f5f\",\"arrowhead\":0,\"arrowwidth\":1},\"geo\":{\"bgcolor\":\"white\",\"landcolor\":\"#E5ECF6\",\"subunitcolor\":\"white\",\"showland\":true,\"showlakes\":true,\"lakecolor\":\"white\"},\"title\":{\"x\":0.05},\"mapbox\":{\"style\":\"light\"}}},\"xaxis\":{\"rangeslider\":{\"visible\":false}}},                        {\"responsive\": true}                    ).then(function(){\n",
       "                            \n",
       "var gd = document.getElementById('7c56f711-d43f-4df5-b9c8-fbd5d5ae3a7f');\n",
       "var x = new MutationObserver(function (mutations, observer) {{\n",
       "        var display = window.getComputedStyle(gd).display;\n",
       "        if (!display || display === 'none') {{\n",
       "            console.log([gd, 'removed!']);\n",
       "            Plotly.purge(gd);\n",
       "            observer.disconnect();\n",
       "        }}\n",
       "}});\n",
       "\n",
       "// Listen for the removal of the full notebook cells\n",
       "var notebookContainer = gd.closest('#notebook-container');\n",
       "if (notebookContainer) {{\n",
       "    x.observe(notebookContainer, {childList: true});\n",
       "}}\n",
       "\n",
       "// Listen for the clearing of the current output cell\n",
       "var outputEl = gd.closest('.output');\n",
       "if (outputEl) {{\n",
       "    x.observe(outputEl, {childList: true});\n",
       "}}\n",
       "\n",
       "                        })                };                });            </script>        </div>"
      ]
     },
     "metadata": {},
     "output_type": "display_data"
    },
    {
     "data": {
      "application/vnd.plotly.v1+json": {
       "config": {
        "plotlyServerURL": "https://plot.ly"
       },
       "data": [
        {
         "close": [
          9907.3,
          10023.5,
          10120.3
         ],
         "high": [
          9911.95,
          10025.5,
          10128.6
         ],
         "low": [
          9864.85,
          9993.05,
          10077
         ],
         "open": [
          9879.1,
          9994.9,
          10091.4
         ],
         "type": "candlestick",
         "x": [
          546,
          579,
          596
         ]
        }
       ],
       "layout": {
        "template": {
         "data": {
          "bar": [
           {
            "error_x": {
             "color": "#2a3f5f"
            },
            "error_y": {
             "color": "#2a3f5f"
            },
            "marker": {
             "line": {
              "color": "#E5ECF6",
              "width": 0.5
             },
             "pattern": {
              "fillmode": "overlay",
              "size": 10,
              "solidity": 0.2
             }
            },
            "type": "bar"
           }
          ],
          "barpolar": [
           {
            "marker": {
             "line": {
              "color": "#E5ECF6",
              "width": 0.5
             },
             "pattern": {
              "fillmode": "overlay",
              "size": 10,
              "solidity": 0.2
             }
            },
            "type": "barpolar"
           }
          ],
          "carpet": [
           {
            "aaxis": {
             "endlinecolor": "#2a3f5f",
             "gridcolor": "white",
             "linecolor": "white",
             "minorgridcolor": "white",
             "startlinecolor": "#2a3f5f"
            },
            "baxis": {
             "endlinecolor": "#2a3f5f",
             "gridcolor": "white",
             "linecolor": "white",
             "minorgridcolor": "white",
             "startlinecolor": "#2a3f5f"
            },
            "type": "carpet"
           }
          ],
          "choropleth": [
           {
            "colorbar": {
             "outlinewidth": 0,
             "ticks": ""
            },
            "type": "choropleth"
           }
          ],
          "contour": [
           {
            "colorbar": {
             "outlinewidth": 0,
             "ticks": ""
            },
            "colorscale": [
             [
              0,
              "#0d0887"
             ],
             [
              0.1111111111111111,
              "#46039f"
             ],
             [
              0.2222222222222222,
              "#7201a8"
             ],
             [
              0.3333333333333333,
              "#9c179e"
             ],
             [
              0.4444444444444444,
              "#bd3786"
             ],
             [
              0.5555555555555556,
              "#d8576b"
             ],
             [
              0.6666666666666666,
              "#ed7953"
             ],
             [
              0.7777777777777778,
              "#fb9f3a"
             ],
             [
              0.8888888888888888,
              "#fdca26"
             ],
             [
              1,
              "#f0f921"
             ]
            ],
            "type": "contour"
           }
          ],
          "contourcarpet": [
           {
            "colorbar": {
             "outlinewidth": 0,
             "ticks": ""
            },
            "type": "contourcarpet"
           }
          ],
          "heatmap": [
           {
            "colorbar": {
             "outlinewidth": 0,
             "ticks": ""
            },
            "colorscale": [
             [
              0,
              "#0d0887"
             ],
             [
              0.1111111111111111,
              "#46039f"
             ],
             [
              0.2222222222222222,
              "#7201a8"
             ],
             [
              0.3333333333333333,
              "#9c179e"
             ],
             [
              0.4444444444444444,
              "#bd3786"
             ],
             [
              0.5555555555555556,
              "#d8576b"
             ],
             [
              0.6666666666666666,
              "#ed7953"
             ],
             [
              0.7777777777777778,
              "#fb9f3a"
             ],
             [
              0.8888888888888888,
              "#fdca26"
             ],
             [
              1,
              "#f0f921"
             ]
            ],
            "type": "heatmap"
           }
          ],
          "heatmapgl": [
           {
            "colorbar": {
             "outlinewidth": 0,
             "ticks": ""
            },
            "colorscale": [
             [
              0,
              "#0d0887"
             ],
             [
              0.1111111111111111,
              "#46039f"
             ],
             [
              0.2222222222222222,
              "#7201a8"
             ],
             [
              0.3333333333333333,
              "#9c179e"
             ],
             [
              0.4444444444444444,
              "#bd3786"
             ],
             [
              0.5555555555555556,
              "#d8576b"
             ],
             [
              0.6666666666666666,
              "#ed7953"
             ],
             [
              0.7777777777777778,
              "#fb9f3a"
             ],
             [
              0.8888888888888888,
              "#fdca26"
             ],
             [
              1,
              "#f0f921"
             ]
            ],
            "type": "heatmapgl"
           }
          ],
          "histogram": [
           {
            "marker": {
             "pattern": {
              "fillmode": "overlay",
              "size": 10,
              "solidity": 0.2
             }
            },
            "type": "histogram"
           }
          ],
          "histogram2d": [
           {
            "colorbar": {
             "outlinewidth": 0,
             "ticks": ""
            },
            "colorscale": [
             [
              0,
              "#0d0887"
             ],
             [
              0.1111111111111111,
              "#46039f"
             ],
             [
              0.2222222222222222,
              "#7201a8"
             ],
             [
              0.3333333333333333,
              "#9c179e"
             ],
             [
              0.4444444444444444,
              "#bd3786"
             ],
             [
              0.5555555555555556,
              "#d8576b"
             ],
             [
              0.6666666666666666,
              "#ed7953"
             ],
             [
              0.7777777777777778,
              "#fb9f3a"
             ],
             [
              0.8888888888888888,
              "#fdca26"
             ],
             [
              1,
              "#f0f921"
             ]
            ],
            "type": "histogram2d"
           }
          ],
          "histogram2dcontour": [
           {
            "colorbar": {
             "outlinewidth": 0,
             "ticks": ""
            },
            "colorscale": [
             [
              0,
              "#0d0887"
             ],
             [
              0.1111111111111111,
              "#46039f"
             ],
             [
              0.2222222222222222,
              "#7201a8"
             ],
             [
              0.3333333333333333,
              "#9c179e"
             ],
             [
              0.4444444444444444,
              "#bd3786"
             ],
             [
              0.5555555555555556,
              "#d8576b"
             ],
             [
              0.6666666666666666,
              "#ed7953"
             ],
             [
              0.7777777777777778,
              "#fb9f3a"
             ],
             [
              0.8888888888888888,
              "#fdca26"
             ],
             [
              1,
              "#f0f921"
             ]
            ],
            "type": "histogram2dcontour"
           }
          ],
          "mesh3d": [
           {
            "colorbar": {
             "outlinewidth": 0,
             "ticks": ""
            },
            "type": "mesh3d"
           }
          ],
          "parcoords": [
           {
            "line": {
             "colorbar": {
              "outlinewidth": 0,
              "ticks": ""
             }
            },
            "type": "parcoords"
           }
          ],
          "pie": [
           {
            "automargin": true,
            "type": "pie"
           }
          ],
          "scatter": [
           {
            "fillpattern": {
             "fillmode": "overlay",
             "size": 10,
             "solidity": 0.2
            },
            "type": "scatter"
           }
          ],
          "scatter3d": [
           {
            "line": {
             "colorbar": {
              "outlinewidth": 0,
              "ticks": ""
             }
            },
            "marker": {
             "colorbar": {
              "outlinewidth": 0,
              "ticks": ""
             }
            },
            "type": "scatter3d"
           }
          ],
          "scattercarpet": [
           {
            "marker": {
             "colorbar": {
              "outlinewidth": 0,
              "ticks": ""
             }
            },
            "type": "scattercarpet"
           }
          ],
          "scattergeo": [
           {
            "marker": {
             "colorbar": {
              "outlinewidth": 0,
              "ticks": ""
             }
            },
            "type": "scattergeo"
           }
          ],
          "scattergl": [
           {
            "marker": {
             "colorbar": {
              "outlinewidth": 0,
              "ticks": ""
             }
            },
            "type": "scattergl"
           }
          ],
          "scattermapbox": [
           {
            "marker": {
             "colorbar": {
              "outlinewidth": 0,
              "ticks": ""
             }
            },
            "type": "scattermapbox"
           }
          ],
          "scatterpolar": [
           {
            "marker": {
             "colorbar": {
              "outlinewidth": 0,
              "ticks": ""
             }
            },
            "type": "scatterpolar"
           }
          ],
          "scatterpolargl": [
           {
            "marker": {
             "colorbar": {
              "outlinewidth": 0,
              "ticks": ""
             }
            },
            "type": "scatterpolargl"
           }
          ],
          "scatterternary": [
           {
            "marker": {
             "colorbar": {
              "outlinewidth": 0,
              "ticks": ""
             }
            },
            "type": "scatterternary"
           }
          ],
          "surface": [
           {
            "colorbar": {
             "outlinewidth": 0,
             "ticks": ""
            },
            "colorscale": [
             [
              0,
              "#0d0887"
             ],
             [
              0.1111111111111111,
              "#46039f"
             ],
             [
              0.2222222222222222,
              "#7201a8"
             ],
             [
              0.3333333333333333,
              "#9c179e"
             ],
             [
              0.4444444444444444,
              "#bd3786"
             ],
             [
              0.5555555555555556,
              "#d8576b"
             ],
             [
              0.6666666666666666,
              "#ed7953"
             ],
             [
              0.7777777777777778,
              "#fb9f3a"
             ],
             [
              0.8888888888888888,
              "#fdca26"
             ],
             [
              1,
              "#f0f921"
             ]
            ],
            "type": "surface"
           }
          ],
          "table": [
           {
            "cells": {
             "fill": {
              "color": "#EBF0F8"
             },
             "line": {
              "color": "white"
             }
            },
            "header": {
             "fill": {
              "color": "#C8D4E3"
             },
             "line": {
              "color": "white"
             }
            },
            "type": "table"
           }
          ]
         },
         "layout": {
          "annotationdefaults": {
           "arrowcolor": "#2a3f5f",
           "arrowhead": 0,
           "arrowwidth": 1
          },
          "autotypenumbers": "strict",
          "coloraxis": {
           "colorbar": {
            "outlinewidth": 0,
            "ticks": ""
           }
          },
          "colorscale": {
           "diverging": [
            [
             0,
             "#8e0152"
            ],
            [
             0.1,
             "#c51b7d"
            ],
            [
             0.2,
             "#de77ae"
            ],
            [
             0.3,
             "#f1b6da"
            ],
            [
             0.4,
             "#fde0ef"
            ],
            [
             0.5,
             "#f7f7f7"
            ],
            [
             0.6,
             "#e6f5d0"
            ],
            [
             0.7,
             "#b8e186"
            ],
            [
             0.8,
             "#7fbc41"
            ],
            [
             0.9,
             "#4d9221"
            ],
            [
             1,
             "#276419"
            ]
           ],
           "sequential": [
            [
             0,
             "#0d0887"
            ],
            [
             0.1111111111111111,
             "#46039f"
            ],
            [
             0.2222222222222222,
             "#7201a8"
            ],
            [
             0.3333333333333333,
             "#9c179e"
            ],
            [
             0.4444444444444444,
             "#bd3786"
            ],
            [
             0.5555555555555556,
             "#d8576b"
            ],
            [
             0.6666666666666666,
             "#ed7953"
            ],
            [
             0.7777777777777778,
             "#fb9f3a"
            ],
            [
             0.8888888888888888,
             "#fdca26"
            ],
            [
             1,
             "#f0f921"
            ]
           ],
           "sequentialminus": [
            [
             0,
             "#0d0887"
            ],
            [
             0.1111111111111111,
             "#46039f"
            ],
            [
             0.2222222222222222,
             "#7201a8"
            ],
            [
             0.3333333333333333,
             "#9c179e"
            ],
            [
             0.4444444444444444,
             "#bd3786"
            ],
            [
             0.5555555555555556,
             "#d8576b"
            ],
            [
             0.6666666666666666,
             "#ed7953"
            ],
            [
             0.7777777777777778,
             "#fb9f3a"
            ],
            [
             0.8888888888888888,
             "#fdca26"
            ],
            [
             1,
             "#f0f921"
            ]
           ]
          },
          "colorway": [
           "#636efa",
           "#EF553B",
           "#00cc96",
           "#ab63fa",
           "#FFA15A",
           "#19d3f3",
           "#FF6692",
           "#B6E880",
           "#FF97FF",
           "#FECB52"
          ],
          "font": {
           "color": "#2a3f5f"
          },
          "geo": {
           "bgcolor": "white",
           "lakecolor": "white",
           "landcolor": "#E5ECF6",
           "showlakes": true,
           "showland": true,
           "subunitcolor": "white"
          },
          "hoverlabel": {
           "align": "left"
          },
          "hovermode": "closest",
          "mapbox": {
           "style": "light"
          },
          "paper_bgcolor": "white",
          "plot_bgcolor": "#E5ECF6",
          "polar": {
           "angularaxis": {
            "gridcolor": "white",
            "linecolor": "white",
            "ticks": ""
           },
           "bgcolor": "#E5ECF6",
           "radialaxis": {
            "gridcolor": "white",
            "linecolor": "white",
            "ticks": ""
           }
          },
          "scene": {
           "xaxis": {
            "backgroundcolor": "#E5ECF6",
            "gridcolor": "white",
            "gridwidth": 2,
            "linecolor": "white",
            "showbackground": true,
            "ticks": "",
            "zerolinecolor": "white"
           },
           "yaxis": {
            "backgroundcolor": "#E5ECF6",
            "gridcolor": "white",
            "gridwidth": 2,
            "linecolor": "white",
            "showbackground": true,
            "ticks": "",
            "zerolinecolor": "white"
           },
           "zaxis": {
            "backgroundcolor": "#E5ECF6",
            "gridcolor": "white",
            "gridwidth": 2,
            "linecolor": "white",
            "showbackground": true,
            "ticks": "",
            "zerolinecolor": "white"
           }
          },
          "shapedefaults": {
           "line": {
            "color": "#2a3f5f"
           }
          },
          "ternary": {
           "aaxis": {
            "gridcolor": "white",
            "linecolor": "white",
            "ticks": ""
           },
           "baxis": {
            "gridcolor": "white",
            "linecolor": "white",
            "ticks": ""
           },
           "bgcolor": "#E5ECF6",
           "caxis": {
            "gridcolor": "white",
            "linecolor": "white",
            "ticks": ""
           }
          },
          "title": {
           "x": 0.05
          },
          "xaxis": {
           "automargin": true,
           "gridcolor": "white",
           "linecolor": "white",
           "ticks": "",
           "title": {
            "standoff": 15
           },
           "zerolinecolor": "white",
           "zerolinewidth": 2
          },
          "yaxis": {
           "automargin": true,
           "gridcolor": "white",
           "linecolor": "white",
           "ticks": "",
           "title": {
            "standoff": 15
           },
           "zerolinecolor": "white",
           "zerolinewidth": 2
          }
         }
        },
        "xaxis": {
         "rangeslider": {
          "visible": false
         }
        }
       }
      },
      "text/html": [
       "<div>                            <div id=\"dfd56a8c-c64e-4dfa-96c6-b4f977a01110\" class=\"plotly-graph-div\" style=\"height:525px; width:100%;\"></div>            <script type=\"text/javascript\">                require([\"plotly\"], function(Plotly) {                    window.PLOTLYENV=window.PLOTLYENV || {};                                    if (document.getElementById(\"dfd56a8c-c64e-4dfa-96c6-b4f977a01110\")) {                    Plotly.newPlot(                        \"dfd56a8c-c64e-4dfa-96c6-b4f977a01110\",                        [{\"close\":[9907.3,10023.5,10120.3],\"high\":[9911.95,10025.5,10128.6],\"low\":[9864.85,9993.05,10077.0],\"open\":[9879.1,9994.9,10091.4],\"x\":[546,579,596],\"type\":\"candlestick\"}],                        {\"template\":{\"data\":{\"histogram2dcontour\":[{\"type\":\"histogram2dcontour\",\"colorbar\":{\"outlinewidth\":0,\"ticks\":\"\"},\"colorscale\":[[0.0,\"#0d0887\"],[0.1111111111111111,\"#46039f\"],[0.2222222222222222,\"#7201a8\"],[0.3333333333333333,\"#9c179e\"],[0.4444444444444444,\"#bd3786\"],[0.5555555555555556,\"#d8576b\"],[0.6666666666666666,\"#ed7953\"],[0.7777777777777778,\"#fb9f3a\"],[0.8888888888888888,\"#fdca26\"],[1.0,\"#f0f921\"]]}],\"choropleth\":[{\"type\":\"choropleth\",\"colorbar\":{\"outlinewidth\":0,\"ticks\":\"\"}}],\"histogram2d\":[{\"type\":\"histogram2d\",\"colorbar\":{\"outlinewidth\":0,\"ticks\":\"\"},\"colorscale\":[[0.0,\"#0d0887\"],[0.1111111111111111,\"#46039f\"],[0.2222222222222222,\"#7201a8\"],[0.3333333333333333,\"#9c179e\"],[0.4444444444444444,\"#bd3786\"],[0.5555555555555556,\"#d8576b\"],[0.6666666666666666,\"#ed7953\"],[0.7777777777777778,\"#fb9f3a\"],[0.8888888888888888,\"#fdca26\"],[1.0,\"#f0f921\"]]}],\"heatmap\":[{\"type\":\"heatmap\",\"colorbar\":{\"outlinewidth\":0,\"ticks\":\"\"},\"colorscale\":[[0.0,\"#0d0887\"],[0.1111111111111111,\"#46039f\"],[0.2222222222222222,\"#7201a8\"],[0.3333333333333333,\"#9c179e\"],[0.4444444444444444,\"#bd3786\"],[0.5555555555555556,\"#d8576b\"],[0.6666666666666666,\"#ed7953\"],[0.7777777777777778,\"#fb9f3a\"],[0.8888888888888888,\"#fdca26\"],[1.0,\"#f0f921\"]]}],\"heatmapgl\":[{\"type\":\"heatmapgl\",\"colorbar\":{\"outlinewidth\":0,\"ticks\":\"\"},\"colorscale\":[[0.0,\"#0d0887\"],[0.1111111111111111,\"#46039f\"],[0.2222222222222222,\"#7201a8\"],[0.3333333333333333,\"#9c179e\"],[0.4444444444444444,\"#bd3786\"],[0.5555555555555556,\"#d8576b\"],[0.6666666666666666,\"#ed7953\"],[0.7777777777777778,\"#fb9f3a\"],[0.8888888888888888,\"#fdca26\"],[1.0,\"#f0f921\"]]}],\"contourcarpet\":[{\"type\":\"contourcarpet\",\"colorbar\":{\"outlinewidth\":0,\"ticks\":\"\"}}],\"contour\":[{\"type\":\"contour\",\"colorbar\":{\"outlinewidth\":0,\"ticks\":\"\"},\"colorscale\":[[0.0,\"#0d0887\"],[0.1111111111111111,\"#46039f\"],[0.2222222222222222,\"#7201a8\"],[0.3333333333333333,\"#9c179e\"],[0.4444444444444444,\"#bd3786\"],[0.5555555555555556,\"#d8576b\"],[0.6666666666666666,\"#ed7953\"],[0.7777777777777778,\"#fb9f3a\"],[0.8888888888888888,\"#fdca26\"],[1.0,\"#f0f921\"]]}],\"surface\":[{\"type\":\"surface\",\"colorbar\":{\"outlinewidth\":0,\"ticks\":\"\"},\"colorscale\":[[0.0,\"#0d0887\"],[0.1111111111111111,\"#46039f\"],[0.2222222222222222,\"#7201a8\"],[0.3333333333333333,\"#9c179e\"],[0.4444444444444444,\"#bd3786\"],[0.5555555555555556,\"#d8576b\"],[0.6666666666666666,\"#ed7953\"],[0.7777777777777778,\"#fb9f3a\"],[0.8888888888888888,\"#fdca26\"],[1.0,\"#f0f921\"]]}],\"mesh3d\":[{\"type\":\"mesh3d\",\"colorbar\":{\"outlinewidth\":0,\"ticks\":\"\"}}],\"scatter\":[{\"fillpattern\":{\"fillmode\":\"overlay\",\"size\":10,\"solidity\":0.2},\"type\":\"scatter\"}],\"parcoords\":[{\"type\":\"parcoords\",\"line\":{\"colorbar\":{\"outlinewidth\":0,\"ticks\":\"\"}}}],\"scatterpolargl\":[{\"type\":\"scatterpolargl\",\"marker\":{\"colorbar\":{\"outlinewidth\":0,\"ticks\":\"\"}}}],\"bar\":[{\"error_x\":{\"color\":\"#2a3f5f\"},\"error_y\":{\"color\":\"#2a3f5f\"},\"marker\":{\"line\":{\"color\":\"#E5ECF6\",\"width\":0.5},\"pattern\":{\"fillmode\":\"overlay\",\"size\":10,\"solidity\":0.2}},\"type\":\"bar\"}],\"scattergeo\":[{\"type\":\"scattergeo\",\"marker\":{\"colorbar\":{\"outlinewidth\":0,\"ticks\":\"\"}}}],\"scatterpolar\":[{\"type\":\"scatterpolar\",\"marker\":{\"colorbar\":{\"outlinewidth\":0,\"ticks\":\"\"}}}],\"histogram\":[{\"marker\":{\"pattern\":{\"fillmode\":\"overlay\",\"size\":10,\"solidity\":0.2}},\"type\":\"histogram\"}],\"scattergl\":[{\"type\":\"scattergl\",\"marker\":{\"colorbar\":{\"outlinewidth\":0,\"ticks\":\"\"}}}],\"scatter3d\":[{\"type\":\"scatter3d\",\"line\":{\"colorbar\":{\"outlinewidth\":0,\"ticks\":\"\"}},\"marker\":{\"colorbar\":{\"outlinewidth\":0,\"ticks\":\"\"}}}],\"scattermapbox\":[{\"type\":\"scattermapbox\",\"marker\":{\"colorbar\":{\"outlinewidth\":0,\"ticks\":\"\"}}}],\"scatterternary\":[{\"type\":\"scatterternary\",\"marker\":{\"colorbar\":{\"outlinewidth\":0,\"ticks\":\"\"}}}],\"scattercarpet\":[{\"type\":\"scattercarpet\",\"marker\":{\"colorbar\":{\"outlinewidth\":0,\"ticks\":\"\"}}}],\"carpet\":[{\"aaxis\":{\"endlinecolor\":\"#2a3f5f\",\"gridcolor\":\"white\",\"linecolor\":\"white\",\"minorgridcolor\":\"white\",\"startlinecolor\":\"#2a3f5f\"},\"baxis\":{\"endlinecolor\":\"#2a3f5f\",\"gridcolor\":\"white\",\"linecolor\":\"white\",\"minorgridcolor\":\"white\",\"startlinecolor\":\"#2a3f5f\"},\"type\":\"carpet\"}],\"table\":[{\"cells\":{\"fill\":{\"color\":\"#EBF0F8\"},\"line\":{\"color\":\"white\"}},\"header\":{\"fill\":{\"color\":\"#C8D4E3\"},\"line\":{\"color\":\"white\"}},\"type\":\"table\"}],\"barpolar\":[{\"marker\":{\"line\":{\"color\":\"#E5ECF6\",\"width\":0.5},\"pattern\":{\"fillmode\":\"overlay\",\"size\":10,\"solidity\":0.2}},\"type\":\"barpolar\"}],\"pie\":[{\"automargin\":true,\"type\":\"pie\"}]},\"layout\":{\"autotypenumbers\":\"strict\",\"colorway\":[\"#636efa\",\"#EF553B\",\"#00cc96\",\"#ab63fa\",\"#FFA15A\",\"#19d3f3\",\"#FF6692\",\"#B6E880\",\"#FF97FF\",\"#FECB52\"],\"font\":{\"color\":\"#2a3f5f\"},\"hovermode\":\"closest\",\"hoverlabel\":{\"align\":\"left\"},\"paper_bgcolor\":\"white\",\"plot_bgcolor\":\"#E5ECF6\",\"polar\":{\"bgcolor\":\"#E5ECF6\",\"angularaxis\":{\"gridcolor\":\"white\",\"linecolor\":\"white\",\"ticks\":\"\"},\"radialaxis\":{\"gridcolor\":\"white\",\"linecolor\":\"white\",\"ticks\":\"\"}},\"ternary\":{\"bgcolor\":\"#E5ECF6\",\"aaxis\":{\"gridcolor\":\"white\",\"linecolor\":\"white\",\"ticks\":\"\"},\"baxis\":{\"gridcolor\":\"white\",\"linecolor\":\"white\",\"ticks\":\"\"},\"caxis\":{\"gridcolor\":\"white\",\"linecolor\":\"white\",\"ticks\":\"\"}},\"coloraxis\":{\"colorbar\":{\"outlinewidth\":0,\"ticks\":\"\"}},\"colorscale\":{\"sequential\":[[0.0,\"#0d0887\"],[0.1111111111111111,\"#46039f\"],[0.2222222222222222,\"#7201a8\"],[0.3333333333333333,\"#9c179e\"],[0.4444444444444444,\"#bd3786\"],[0.5555555555555556,\"#d8576b\"],[0.6666666666666666,\"#ed7953\"],[0.7777777777777778,\"#fb9f3a\"],[0.8888888888888888,\"#fdca26\"],[1.0,\"#f0f921\"]],\"sequentialminus\":[[0.0,\"#0d0887\"],[0.1111111111111111,\"#46039f\"],[0.2222222222222222,\"#7201a8\"],[0.3333333333333333,\"#9c179e\"],[0.4444444444444444,\"#bd3786\"],[0.5555555555555556,\"#d8576b\"],[0.6666666666666666,\"#ed7953\"],[0.7777777777777778,\"#fb9f3a\"],[0.8888888888888888,\"#fdca26\"],[1.0,\"#f0f921\"]],\"diverging\":[[0,\"#8e0152\"],[0.1,\"#c51b7d\"],[0.2,\"#de77ae\"],[0.3,\"#f1b6da\"],[0.4,\"#fde0ef\"],[0.5,\"#f7f7f7\"],[0.6,\"#e6f5d0\"],[0.7,\"#b8e186\"],[0.8,\"#7fbc41\"],[0.9,\"#4d9221\"],[1,\"#276419\"]]},\"xaxis\":{\"gridcolor\":\"white\",\"linecolor\":\"white\",\"ticks\":\"\",\"title\":{\"standoff\":15},\"zerolinecolor\":\"white\",\"automargin\":true,\"zerolinewidth\":2},\"yaxis\":{\"gridcolor\":\"white\",\"linecolor\":\"white\",\"ticks\":\"\",\"title\":{\"standoff\":15},\"zerolinecolor\":\"white\",\"automargin\":true,\"zerolinewidth\":2},\"scene\":{\"xaxis\":{\"backgroundcolor\":\"#E5ECF6\",\"gridcolor\":\"white\",\"linecolor\":\"white\",\"showbackground\":true,\"ticks\":\"\",\"zerolinecolor\":\"white\",\"gridwidth\":2},\"yaxis\":{\"backgroundcolor\":\"#E5ECF6\",\"gridcolor\":\"white\",\"linecolor\":\"white\",\"showbackground\":true,\"ticks\":\"\",\"zerolinecolor\":\"white\",\"gridwidth\":2},\"zaxis\":{\"backgroundcolor\":\"#E5ECF6\",\"gridcolor\":\"white\",\"linecolor\":\"white\",\"showbackground\":true,\"ticks\":\"\",\"zerolinecolor\":\"white\",\"gridwidth\":2}},\"shapedefaults\":{\"line\":{\"color\":\"#2a3f5f\"}},\"annotationdefaults\":{\"arrowcolor\":\"#2a3f5f\",\"arrowhead\":0,\"arrowwidth\":1},\"geo\":{\"bgcolor\":\"white\",\"landcolor\":\"#E5ECF6\",\"subunitcolor\":\"white\",\"showland\":true,\"showlakes\":true,\"lakecolor\":\"white\"},\"title\":{\"x\":0.05},\"mapbox\":{\"style\":\"light\"}}},\"xaxis\":{\"rangeslider\":{\"visible\":false}}},                        {\"responsive\": true}                    ).then(function(){\n",
       "                            \n",
       "var gd = document.getElementById('dfd56a8c-c64e-4dfa-96c6-b4f977a01110');\n",
       "var x = new MutationObserver(function (mutations, observer) {{\n",
       "        var display = window.getComputedStyle(gd).display;\n",
       "        if (!display || display === 'none') {{\n",
       "            console.log([gd, 'removed!']);\n",
       "            Plotly.purge(gd);\n",
       "            observer.disconnect();\n",
       "        }}\n",
       "}});\n",
       "\n",
       "// Listen for the removal of the full notebook cells\n",
       "var notebookContainer = gd.closest('#notebook-container');\n",
       "if (notebookContainer) {{\n",
       "    x.observe(notebookContainer, {childList: true});\n",
       "}}\n",
       "\n",
       "// Listen for the clearing of the current output cell\n",
       "var outputEl = gd.closest('.output');\n",
       "if (outputEl) {{\n",
       "    x.observe(outputEl, {childList: true});\n",
       "}}\n",
       "\n",
       "                        })                };                });            </script>        </div>"
      ]
     },
     "metadata": {},
     "output_type": "display_data"
    }
   ],
   "source": [
    "import plotly.graph_objs as go\n",
    "import pandas as pd\n",
    "\n",
    "df = pd.DataFrame(data2[584:600])\n",
    "\n",
    "# Create the candlestick chart\n",
    "candlestick = go.Candlestick(x=df.index, open=df['open'], close=df['close'], high=df['high'], low=df['low'])\n",
    "fig = go.Figure(data=[candlestick])\n",
    "\n",
    "# Show the chart\n",
    "fig.update_layout(xaxis_rangeslider_visible=False)\n",
    "fig.show()\n",
    "\n",
    "df = pd.DataFrame(data3[15:18])\n",
    "\n",
    "# Create the candlestick chart\n",
    "candlestick = go.Candlestick(x=df.index, open=df['open'], close=df['close'], high=df['high'], low=df['low'])\n",
    "fig = go.Figure(data=[candlestick])\n",
    "\n",
    "# Show the chart\n",
    "fig.update_layout(xaxis_rangeslider_visible=False)\n",
    "fig.show()\n",
    "#fig.update_layout(xaxis_rangeslider_visible=False)"
   ]
  },
  {
   "cell_type": "code",
   "execution_count": 71,
   "id": "5ddc88ea",
   "metadata": {},
   "outputs": [
    {
     "data": {
      "text/plain": [
       "open             10123.2\n",
       "high             10137.8\n",
       "low              10097.0\n",
       "close            10098.5\n",
       "volume              5051\n",
       "time      20170802 10:46\n",
       "body               -24.7\n",
       "Name: 597, dtype: object"
      ]
     },
     "execution_count": 71,
     "metadata": {},
     "output_type": "execute_result"
    }
   ],
   "source": [
    "data2.iloc[597]"
   ]
  },
  {
   "cell_type": "code",
   "execution_count": 72,
   "id": "28d996a0",
   "metadata": {},
   "outputs": [
    {
     "data": {
      "text/plain": [
       "open             10091.4\n",
       "high             10128.6\n",
       "low              10077.0\n",
       "close            10120.3\n",
       "volume              5005\n",
       "time      20170801 15:30\n",
       "body                28.9\n",
       "Name: 596, dtype: object"
      ]
     },
     "execution_count": 72,
     "metadata": {},
     "output_type": "execute_result"
    }
   ],
   "source": [
    "data2.iloc[596]"
   ]
  },
  {
   "cell_type": "code",
   "execution_count": null,
   "id": "c1c62fbd",
   "metadata": {},
   "outputs": [],
   "source": []
  }
 ],
 "metadata": {
  "kernelspec": {
   "display_name": "Python 3 (ipykernel)",
   "language": "python",
   "name": "python3"
  },
  "language_info": {
   "codemirror_mode": {
    "name": "ipython",
    "version": 3
   },
   "file_extension": ".py",
   "mimetype": "text/x-python",
   "name": "python",
   "nbconvert_exporter": "python",
   "pygments_lexer": "ipython3",
   "version": "3.9.12"
  }
 },
 "nbformat": 4,
 "nbformat_minor": 5
}
