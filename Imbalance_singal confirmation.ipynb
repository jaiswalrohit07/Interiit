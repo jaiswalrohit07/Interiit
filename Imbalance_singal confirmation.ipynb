{
 "cells": [
  {
   "cell_type": "code",
   "execution_count": 1,
   "id": "8cd7dde8",
   "metadata": {},
   "outputs": [
    {
     "name": "stderr",
     "output_type": "stream",
     "text": [
      "C:\\Anaconda\\lib\\site-packages\\pyfolio\\pos.py:26: UserWarning: Module \"zipline.assets\" not found; mutltipliers will not be applied to position notionals.\n",
      "  warnings.warn(\n"
     ]
    },
    {
     "name": "stdout",
     "output_type": "stream",
     "text": [
      "adv\n"
     ]
    }
   ],
   "source": [
    "import pandas as pd\n",
    "import numpy as np\n",
    "import datetime\n",
    "from datetime import datetime\n",
    "import plotly.graph_objs as go\n",
    "import pandas as pd\n",
    "import pyfolio\n",
    "import warnings\n",
    "\n",
    "import matplotlib.pyplot as plt\n",
    "warnings.filterwarnings(\"ignore\")\n",
    "\n",
    "\n",
    "def resample_to_constant_volume(df, volume_per_candle, convertTime= False):\n",
    "    # sort by time\n",
    "    #df = df.sort_values(by='time')\n",
    "    # create cumulative volume column\n",
    "    df['cumulative_volume'] = df['volume'].cumsum()\n",
    "    \n",
    "    #print(len(df))\n",
    "    # initialize the new dataframe to hold resampled data\n",
    "    resampled_df = pd.DataFrame(columns=['open', 'high', 'low', 'close','volume',\"date\"])\n",
    "    \n",
    "    start_index = 0\n",
    "    end_index = 0\n",
    "    cumulative_volume = 0\n",
    "    for i in range(len(df)):\n",
    "        cumulative_volume += df.iloc[i]['volume']\n",
    "        end_index = i\n",
    "        if cumulative_volume >= volume_per_candle : # make function dynamic in next round\n",
    "            candle_df = df.iloc[start_index:end_index+1]\n",
    "            open_price = candle_df.iloc[0]['open']\n",
    "            high_price = candle_df['high'].max()\n",
    "            low_price = candle_df['low'].min()\n",
    "            close_price = candle_df.iloc[-1]['close']\n",
    "            date_end = df.iloc[start_index][\"date\"]\n",
    "            #x =  pd.to_datetime(datetime.strptime(mask, '%Y-%m-%d %H:%M:%S'))\n",
    "            ## similarly for date_end,, this is to quickly find what 5 minute candle it belong to\n",
    "            #date_end = x.strftime(f\"%Y-%m-%d %H:{5*int(x.minute/5)}:%S\")\n",
    "            if convertTime:\n",
    "                mask = df.iloc[end_index][\"date\"].split(\"+\")[0]\n",
    "                x =  pd.to_datetime(datetime.strptime(mask, '%Y-%m-%d %H:%M:%S'))\n",
    "                ## similarly for date_end,, this is to quickly find what 5 minute candle it belong to\n",
    "                temp = (\"0\"+str(5*int(x.minute/5)))\n",
    "                date_end = x.strftime(f\"%Y-%m-%d %H:{temp[-2:]}:%S\")\n",
    "            \"\"\"resampled_df = resampled_df.append({'open': open_price, 'high': high_price, 'low': low_price, \n",
    "                                                'close': close_price, 'volume': cumulative_volume,\n",
    "                                                 \"date_end\": date_end}, \n",
    "                                                 ignore_index=True)\"\"\"\n",
    "            for i in range(int(1)):\n",
    "                resampled_df = resampled_df.append({'open': open_price, 'high': high_price, 'low': low_price, \n",
    "                                                    'close': close_price, 'volume': cumulative_volume,\n",
    "                                                     \"date\": date_end}, \n",
    "                                                     ignore_index=True)\n",
    "            cumulative_volume = 0\n",
    "            start_index = end_index + 1\n",
    "    \n",
    "    if start_index < len(df):\n",
    "        candle_df = df.iloc[start_index:len(df)]\n",
    "        open_price = candle_df.iloc[0]['open']\n",
    "        high_price = candle_df['high'].max()\n",
    "        low_price = candle_df['low'].min()\n",
    "        close_price = candle_df.iloc[-1]['close']\n",
    "        volume = sum(candle_df[\"volume\"])\n",
    "        date_end = df.iloc[start_index][\"date\"]\n",
    "        #x =  pd.to_datetime(datetime.strptime(mask, '%Y-%m-%d %H:%M:%S'))\n",
    "        ## similarly for date_end,, this is to quickly find what 5 minute candle it belong to\n",
    "        #date_end = x.strftime(f\"%Y-%m-%d %H:{5*int(x.minute/5)}:%S\")\n",
    "        if convertTime:\n",
    "            mask = df.iloc[end_index][\"date\"].split(\"+\")[0]\n",
    "            x =  pd.to_datetime(datetime.strptime(mask, '%Y-%m-%d %H:%M:%S'))\n",
    "            ## similarly for date_end,, this is to quickly find what 5 minute candle it belong to\n",
    "            temp = (\"0\"+str(5*int(x.minute/5)))\n",
    "            date_end = x.strftime(f\"%Y-%m-%d %H:{temp[-2:]}:%S\")\n",
    "        resampled_df = resampled_df.append({'open': open_price, 'high': high_price, 'low': low_price, 'close': close_price, 'volume': volume,\"date\": str(date_end)}, ignore_index=True)\n",
    "\n",
    "    return resampled_df\n",
    "from datetime import timedelta\n",
    "def is_body_size_greater_than_nx_average(dataframe, index,atr_multiple,look_back):\n",
    "    body_sizes = (dataframe['close'] - dataframe['open']).loc[index - look_back:index].abs()\n",
    "    #print(body_sizes,\"efb\")\n",
    "    average_body_size = body_sizes.mean()\n",
    "    #print(average_body_size)\n",
    "    current_body_size = abs(dataframe['close'].loc[index] - dataframe['open'].loc[index])\n",
    "    return current_body_size > atr_multiple * average_body_size\n",
    "\n",
    "\n",
    "def imbalance_from_volume(df, dateTime_index_to_check, context = {}):\n",
    "    \n",
    "    ind = df[df[\"date\"] == dateTime_index_to_check].index[0]\n",
    "   \n",
    "    \n",
    "#     x =  pd.to_datetime(datetime.strptime(dateTime_index_to_check, '%Y-%m-%d %H:%M:%S')+timedelta(minutes=1))\n",
    "#     endTime = x.strftime(f\"%Y-%m-%d %H:%M:%S\")\n",
    "\n",
    "#     end_index = (df[df[\"date\"] == endTime].index)\n",
    "#     if len(end_index):\n",
    "#         end_index=end_index[0] ## corner case 15:30\n",
    "#     else:\n",
    "#         return False\n",
    "    \n",
    "    volume_per_candle = df[\"volume\"].rolling(window=200).mean().rolling(window=30).quantile(0.7).loc[ind]\n",
    "    if context:\n",
    "        vol_resampled_data1 = resample_to_constant_volume(context[\"resampled_candles\"], volume_per_candle ,convertTime = True)\n",
    "        context[\"resampled_candles\"] = vol_resampled_data1\n",
    "   \n",
    "    \n",
    "#     index_in_vol = vol_resampled_data1.index[-1]#vol_resampled_data1[vol_resampled_data1[\"date_end\"] == dateTime_index_to_check].index[0]\n",
    "    #print(index_in_vol,\"jk\")\n",
    "    #print((vol_resampled_data1['volume'][index_in_vol]),volume_per_candle)\n",
    "    if(((df['volume'][ind])/volume_per_candle) > 1.3): \n",
    "        return True\n",
    "    else :\n",
    "        return False\n",
    "def is_body_size_greater_than_3x_average(dataframe, index,atr_multiple,look_back):   #price-time \n",
    "    body_sizes = (dataframe['close'] - dataframe['open']).loc[index - look_back:index].abs()\n",
    "    #print(body_sizes)\n",
    "    average_body_size = body_sizes.mean()\n",
    "    #print(average_body_size,\"Wrv__________\")\n",
    "    current_body_size = abs(dataframe['close'].loc[index] - dataframe['open'].loc[index])\n",
    "    #print(current_body_size,\"current\")\n",
    "    return current_body_size > atr_multiple * average_body_size\n",
    "\n",
    "def imbalance_zone(df,dateTime_index_to_check,look_back=30):   #return imbalance zone ( price levels)\n",
    "    imbalance_candle = df[df[\"date\"] == dateTime_index_to_check].index[0]\n",
    "    verify_candle  = imbalance_candle+1\n",
    "    current_candle = imbalance_candle+2\n",
    "\n",
    "    \n",
    "    if is_body_size_greater_than_3x_average(df,imbalance_candle,1.2,look_back):\n",
    "        upper = min(df[\"low\"].loc[imbalance_candle-look_back:imbalance_candle-1])\n",
    "        lower = df[\"high\"].loc[verify_candle]\n",
    "        #print(upper,lower)\n",
    "\n",
    "        if (upper-lower) > 0 :\n",
    "            return [ lower , upper ]  ## test in future the difference of lines more than some % of body\n",
    "\n",
    "        else :\n",
    "            return [0 , 0]\n",
    "    else:\n",
    "        return [0 , 0]\n",
    "def filter_candles_at_index(df, index, body_threshold = 10, untouched_threshold = 20):\n",
    "    # Calculate the body of the specified candle\n",
    "    #index = df[df[\"date\"] == dateTime_index_to_check].index[0]\n",
    "#     print(index)\n",
    "    df['body'] = df['close'] - df['open']\n",
    "    body_threshold = (body_threshold+1)*df[\"body\"].mean()\n",
    "#     print(df[\"body\"])\n",
    "    body = df.loc[index]['body']\n",
    "#     print(df)\n",
    "    # Select only the specified candle if the body is high\n",
    "    if abs(body) >= body_threshold:\n",
    "        # Find the percentage of the price range covered by the body that has not been touched by the previous 10 candles\n",
    "        df['body_min'] = df[['open', 'close']].min(axis=1)\n",
    "        df['body_max'] = df[['open', 'close']].max(axis=1)\n",
    "        df['prev_min'] = df['body_min'].shift(1).rolling(window=10).min()\n",
    "        df['prev_max'] = df['body_max'].shift(1).rolling(window=10).max()\n",
    "        df['price_range_untouched_min'] = df['body_min'].where(df['body_min'] > df['prev_max'], 0)\n",
    "        df['price_range_untouched_max'] = df['body_max'].where(df['body_max'] < df['prev_min'], 0)\n",
    "        df['price_range_untouched'] = df[['price_range_untouched_min', 'price_range_untouched_max']].max(axis=1) - df[['price_range_untouched_min', 'price_range_untouched_max']].min(axis=1)\n",
    "        df['untouched_percentage'] = df['price_range_untouched'].abs() / df['body'].abs()\n",
    "        # Select only the specified candle if the percentage is large\n",
    "        if df.at[index, 'untouched_percentage'] >= untouched_threshold:\n",
    "            return True\n",
    "        else:\n",
    "            return False\n",
    "    else:\n",
    "        return False\n",
    "    \n",
    "def volCheck(df,dateTime_index_to_check):\n",
    "    ind = df[df[\"date\"] == dateTime_index_to_check].index[0]\n",
    "    x =  pd.to_datetime(datetime.strptime(dateTime_index_to_check, '%Y-%m-%d %H:%M:%S')+timedelta(minutes=5))\n",
    "    #temp = (\"0\"+str(5*int((x.minute+5)/5)))\n",
    "    endTime = x.strftime(f\"%Y-%m-%d %H:%M:%S\")\n",
    "    # ind2 = df[df[\"date\"] == endTime].index[0]\n",
    "    # df = df[:ind+1]\n",
    "    #print(endTime)\n",
    "    end_index = (df[df[\"date\"] == endTime].index)\n",
    "    if len(end_index):\n",
    "        end_index=end_index[0] ## corner case 15:30\n",
    "    else:\n",
    "        return False\n",
    "    \n",
    "    #print(data[\"volume\"].rolling(window=80000).mean()[ind])\n",
    "    #vol_resampled_data = resample_to_constant_volume(df[ind-2000:end_index],df[\"volume\"].rolling(window=80000).mean()[ind]*1.7)\n",
    "    \n",
    "    volume_per_candle = df[\"volume\"].rolling(window=8000).quantile(0.95).loc[ind]*2.5\n",
    "    vol_resampled_data1 = resample_to_constant_volume(df.loc[ind-2000:end_index], volume_per_candle ,convertTime = True)\n",
    "    index = vol_resampled_data1.index[-1]\n",
    "    return filter_candles_at_index(vol_resampled_data1,index)\n",
    "\n",
    "    \n",
    "\n",
    "from collections import defaultdict\n",
    "\n",
    "def to_intervals(data,n):   # to convert it n minute candle \n",
    "    # Read in the data from the text file\n",
    "    data\n",
    "    data = data.reset_index()\n",
    "    data = np.array(data)\n",
    "    \"\"\"data = []\n",
    "    name = \"data_2017.txt\" #input()\n",
    "    with open(name, 'r') as f:\n",
    "        reader = csv.reader(f, delimiter=',')\n",
    "        for row in reader:\n",
    "            # Ignore the first column (stock name)\n",
    "            data.append(row[1:])\"\"\"\n",
    "\n",
    "    # Convert the data to n-minute intervals\n",
    "    interval_data =  defaultdict(list)\n",
    "    for row in data:\n",
    "        date = row[1].split()[0]\n",
    "        time = row[1].split()[1].split(\"+\")[0][:-3]\n",
    "        if time == \"09:08:00\":\n",
    "            continue\n",
    "\n",
    "        open_price = float(row[2])\n",
    "        high_price = float(row[3])\n",
    "        low_price = float(row[4])\n",
    "        close_price = float(row[5])\n",
    "        volume = float(row[6])\n",
    "        # Extract the interval from the time and use it as the key in the dictionary\n",
    "        interval = int(time[-2:]) // n\n",
    "        interval = f\"{time[:2]}:{interval * n:02d}\"\n",
    "        interval = str(date) +\" \" + interval + \":00\"\n",
    "        interval_data[interval].append((date, time, open_price, high_price, low_price, close_price, volume))\n",
    "\n",
    "    # Calculate the final open, high, low, and close prices for each interval\n",
    "    final_prices = {}\n",
    "    for interval, prices in interval_data.items():\n",
    "        # Unpack the tuples into separate lists for each price type\n",
    "        dates, times, opens, highs, lows, closes, volume = zip(*prices)\n",
    "        # The final open price is the same as the first open price in the interval\n",
    "        final_open = opens[0]\n",
    "\n",
    "        # The final high price is the highest of all the high prices in the interval\n",
    "        final_high = max(highs)\n",
    "        # The final low price is the lowest of all the low prices in the interval\n",
    "        final_low = min(lows)\n",
    "        # The final close price is the same as the last close price in the interval\n",
    "        final_close = closes[-1]\n",
    "        # The final volume will be the sum of all volumes of the candels\n",
    "        final_volume = sum(volume)\n",
    "        # Store the final prices in a tuple in the dictionary\n",
    "        final_prices[interval] = (dates[0], times[0], final_open, final_high, final_low, final_close, final_volume)\n",
    "    \n",
    "    ws = []\n",
    "    # Write the data rows\n",
    "    for interval, final in final_prices.items():\n",
    "        date, time, open_price, high_price, low_price, close_price, volume = final\n",
    "        ws.append([date, time, interval, open_price, high_price, low_price, close_price, volume])\n",
    "    return pd.DataFrame(ws,columns = [\"Date\", \"Time\", \"date\", \"open\", \"high\", \"low\", \"close\",\"volume\"])\n",
    "    \n",
    "\n",
    "def handle_data(context,data):\n",
    "    ### check on index n-1::\n",
    "    ## Fetch n-1 candles volume candles:::\n",
    "    #data = data.reset_index()\n",
    "    \n",
    "    ## exit prev conditions\n",
    "    if context[\"position\"] == True:\n",
    "        if data[\"close\"].iloc[-1]>=sum(context[\"priceLevels\"])/2:\n",
    "            prof = data[\"close\"].iloc[-1] - context[\"buy\"]\n",
    "            context[\"profit\"] += prof\n",
    "            if prof<0:\n",
    "                context[\"losses\"] += 1   \n",
    "            context[\"profitList\"].append(context[\"profit\"])\n",
    "            context[\"position\"]  = 0\n",
    "            context[\"trades\"] += 1\n",
    "        elif data[\"close\"].iloc[-1]<=context[\"stoploss\"]:\n",
    "            context[\"losses\"] += 1\n",
    "            context[\"position\"] = 0\n",
    "            context[\"profit\"] += data[\"close\"].iloc[-1] - context[\"buy\"]\n",
    "            context[\"profitList\"].append(context[\"profit\"])\n",
    "            context[\"trades\"] += 1\n",
    "        if context[\"position\"]==0:\n",
    "            print(\"squaredOff\",data[\"date\"].iloc[-1])\n",
    "        return\n",
    "    #data_5min = to_intervals(data[['date',\"open\",'high',\"low\",\"close\",\"volume\"]].iloc[-5000:],5)\n",
    "    \n",
    "    candleToCheck = data[\"date\"].iloc[-5]\n",
    "\n",
    "    if not imbalance_from_volume(data,candleToCheck,context):\n",
    "        return\n",
    "#     print(\"imbalance Found in volume!!\")\n",
    "#     print(candleToCheck,\"__________\")\n",
    "#     print(data_5min)\n",
    "    p1,p2 = imbalance_zone(data, candleToCheck , 30) ##zone funciton....\n",
    "#     print(p1,p2)\n",
    "    if p1==p2:\n",
    "        return\n",
    "    \n",
    "    if max(data[\"high\"].iloc[-4:])>(p1):#-data[\"low\"].iloc[-4:]\n",
    "        return\n",
    "    if data[\"close\"].iloc[-1]>p1:\n",
    "        return\n",
    "    if (data[\"close\"].iloc[-1]-data[\"open\"].iloc[-1])<0:#p1*0.99:\n",
    "        return\n",
    "    ## apply price conditions \n",
    "    ## between previous 30 5 minute candles low, current candle high -- range of body of imbalance greater than threshold\n",
    "    ## 5 min data\n",
    "    \n",
    "    context[\"priceLevels\"] = [p1,p2]\n",
    "   \n",
    "    # strategy_trade(context,data_5min,candleToCheck) #TODO send volume data\n",
    "    context[\"imbalanceCandles\"].append(candleToCheck)\n",
    "    next_candle_strategy_trade(context , data)\n",
    "\n",
    "def buy(context,price):\n",
    "    context[\"position\"] = True\n",
    "    context[\"buy\"] = price\n",
    "    context['stoploss'] = price - 0.002*price   # to be change \n",
    "\n",
    "def next_candle_strategy_trade( context , data):\n",
    "    print(\"buy order\",data[\"date\"].iloc[-1])\n",
    "    buy(context,data[\"close\"].iloc[-1])\n",
    "\n",
    "\n",
    "def strategy_trade(context,df,candleToCheck):\n",
    "    data = df.iloc[-50:]\n",
    "    data[\"mid\"] = (data[\"high\"]+data[\"low\"])/2\n",
    "    data[\"ao\"] = data[\"mid\"].rolling(window = 5).mean() - data[\"mid\"].rolling(window = 34).mean()\n",
    "    signals = data[(data[\"ao\"].shift(4)< data[\"ao\"].shift(3)) & (data[\"ao\"].shift(3)< data[\"ao\"].shift(2)) & (data[\"ao\"].shift(2) > data[\"ao\"])]\n",
    "    if len(signal):\n",
    "        ind = signal.index[-1]\n",
    "        datetime_ = signal[\"datetime\"].loc[ind]  #latest or not ==== send data only after signal\n",
    "        # datetime.datetime.strptime(datetime_,\"\")>candleToCheck:\n",
    "\n",
    "        #TODO \n",
    "\n",
    "        buy(context,data[\"open\"].iloc[-1])\n",
    "        \n",
    "    #data[data[\"ao\"].shift(3)< data[\"ao\"].shift(2) and data[\"ao\"].shift(2)< data[\"ao\"].shift(1) and data[\"ao\"].shift(1) > data[\"ao\"]]\n",
    "\n",
    "def plot(df3):\n",
    "    \n",
    "    # Create the candlestick chart\n",
    "    candlestick = go.Candlestick(x=df3.index, open=df3['open'], close=df3['close'], high=df3['high'], low=df3['low'])\n",
    "\n",
    "    # Add a line plot with secondary x-axis\n",
    "    #line = go.Scatter(x=df3['date'], y=df3['close'], name='date', xaxis='x2')\n",
    "    #line = go.Bar(x=df3.index, y=df3['volume'], name='Volume')\n",
    "\n",
    "    # Create the figure with both the candlestick and line plots\n",
    "    fig = go.Figure(data=[candlestick])\n",
    "\n",
    "    # Update the layout to add a secondary x-axis\n",
    "#     fig.update_layout(xaxis2=dict(title='volume', overlaying='x', side='top'),yaxis2 = dict(title='volume', overlaying='y', side='top'))\n",
    "    fig.update_layout(xaxis_rangeslider_visible=False)\n",
    "\n",
    "    # Show the chart\n",
    "    fig.show()\n",
    "#     return\n",
    "def plot_candlestick_with_volume(df3):\n",
    "    candlestick = go.Candlestick(x=df3.index, open=df3['open'], close=df3['close'], high=df3['high'], low=df3['low'])\n",
    "\n",
    "    # Add a line plot with secondary x-axis\n",
    "    #line = go.Scatter(x=df3['date'], y=df3['close'], name='date', xaxis='x2')\n",
    "    line = go.Bar(x=df3.index, y=df3['volume'], name='Volume')\n",
    "\n",
    "    # Create the figure with both the candlestick and line plots\n",
    "    fig = go.Figure(data=[candlestick,line])\n",
    "\n",
    "    # Update the layout to add a secondary x-axis\n",
    "    fig.update_layout(xaxis2=dict(title='volume', overlaying='x', side='top'),yaxis2 = dict(title='volume', overlaying='y', side='top'))\n",
    "    fig.update_layout(xaxis_rangeslider_visible=False)\n",
    "\n",
    "    # Show the chart\n",
    "    fig.show()\n",
    "    return\n",
    "\n",
    "def filter_candles_at_index(df, index, body_threshold, untouched_threshold):\n",
    "    # Calculate the body of the specified candle\n",
    "    df['body'] = df['close'] - df['open']\n",
    "    body = df.at[index, 'body']\n",
    "    # Select only the specified candle if the body is high\n",
    "    if abs(body) >= body_threshold:\n",
    "        # Find the percentage of the price range covered by the body that has not been touched by the previous 10 candles\n",
    "        df['body_min'] = df[['open', 'close']].min(axis=1)\n",
    "        df['body_max'] = df[['open', 'close']].max(axis=1)\n",
    "        df['prev_min'] = df['body_min'].shift(1).rolling(window=10).min()\n",
    "        df['prev_max'] = df['body_max'].shift(1).rolling(window=10).max()\n",
    "        df['price_range_untouched_min'] = df['body_min'].where(df['body_min'] > df['prev_max'], 0)\n",
    "        df['price_range_untouched_max'] = df['body_max'].where(df['body_max'] < df['prev_min'], 0)\n",
    "        df['price_range_untouched'] = df[['price_range_untouched_min', 'price_range_untouched_max']].max(axis=1) - df[['price_range_untouched_min', 'price_range_untouched_max']].min(axis=1)\n",
    "        df['untouched_percentage'] = df['price_range_untouched'].abs() / df['body'].abs()\n",
    "        # Select only the specified candle if the percentage is large\n",
    "        if df.at[index, 'untouched_percentage'] >= untouched_threshold:\n",
    "            return True\n",
    "        else:\n",
    "            return False\n",
    "    else:\n",
    "        return False\n",
    "\n",
    "    \n",
    "def filter_candles(df, body_threshold=10, untouched_threshold=20):\n",
    "    \n",
    "    # Calculate the body of each candle\n",
    "    df['body'] = df['close'] - df['open']\n",
    "    body_threshold = (body_threshold+1)*df[\"body\"].mean()\n",
    "    # Select only those candles where the body is high\n",
    "    df = df[df['body'].abs() >= body_threshold]\n",
    "    # Find the percentage of the price range covered by the body that has not been touched by the previous 10 candles\n",
    "    df['body_min'] = df[['open', 'close']].min(axis=1)\n",
    "    df['body_max'] = df[['open', 'close']].max(axis=1)\n",
    "    df['prev_min'] = df['body_min'].shift(1).rolling(window=10).min()\n",
    "    df['prev_max'] = df['body_max'].shift(1).rolling(window=10).max()\n",
    "    df['price_range_untouched_min'] = df['body_min'].where(df['body_min'] > df['prev_max'], 0)\n",
    "    df['price_range_untouched_max'] = df['body_max'].where(df['body_max'] < df['prev_min'], 0)\n",
    "    df['price_range_untouched'] = df[['price_range_untouched_min', 'price_range_untouched_max']].max(axis=1) - df[['price_range_untouched_min', 'price_range_untouched_max']].min(axis=1)\n",
    "    df['untouched_percentage'] = df['price_range_untouched'].abs() / df['body'].abs()\n",
    "    # Select only those candles where the percentage is large\n",
    "    df = df[df['untouched_percentage'] >= untouched_threshold]\n",
    "    return df\n",
    "print(\"adv\")"
   ]
  },
  {
   "cell_type": "code",
   "execution_count": 2,
   "id": "ff8857c7",
   "metadata": {},
   "outputs": [],
   "source": [
    "df_1min = pd.read_csv('ACC_minute_data_with_indicators.csv')"
   ]
  },
  {
   "cell_type": "code",
   "execution_count": 3,
   "id": "88db04ef",
   "metadata": {},
   "outputs": [
    {
     "data": {
      "text/html": [
       "<div>\n",
       "<style scoped>\n",
       "    .dataframe tbody tr th:only-of-type {\n",
       "        vertical-align: middle;\n",
       "    }\n",
       "\n",
       "    .dataframe tbody tr th {\n",
       "        vertical-align: top;\n",
       "    }\n",
       "\n",
       "    .dataframe thead th {\n",
       "        text-align: right;\n",
       "    }\n",
       "</style>\n",
       "<table border=\"1\" class=\"dataframe\">\n",
       "  <thead>\n",
       "    <tr style=\"text-align: right;\">\n",
       "      <th></th>\n",
       "      <th>date</th>\n",
       "      <th>open</th>\n",
       "      <th>high</th>\n",
       "      <th>low</th>\n",
       "      <th>close</th>\n",
       "      <th>volume</th>\n",
       "    </tr>\n",
       "  </thead>\n",
       "  <tbody>\n",
       "    <tr>\n",
       "      <th>169971</th>\n",
       "      <td>2017-01-25 11:10:00+05:30</td>\n",
       "      <td>1364.4</td>\n",
       "      <td>1364.40</td>\n",
       "      <td>1364.00</td>\n",
       "      <td>1364.40</td>\n",
       "      <td>232</td>\n",
       "    </tr>\n",
       "    <tr>\n",
       "      <th>169972</th>\n",
       "      <td>2017-01-25 11:11:00+05:30</td>\n",
       "      <td>1364.4</td>\n",
       "      <td>1364.40</td>\n",
       "      <td>1364.40</td>\n",
       "      <td>1364.40</td>\n",
       "      <td>693</td>\n",
       "    </tr>\n",
       "    <tr>\n",
       "      <th>169973</th>\n",
       "      <td>2017-01-25 11:12:00+05:30</td>\n",
       "      <td>1364.4</td>\n",
       "      <td>1366.50</td>\n",
       "      <td>1364.40</td>\n",
       "      <td>1366.50</td>\n",
       "      <td>740</td>\n",
       "    </tr>\n",
       "    <tr>\n",
       "      <th>169974</th>\n",
       "      <td>2017-01-25 11:13:00+05:30</td>\n",
       "      <td>1366.5</td>\n",
       "      <td>1367.75</td>\n",
       "      <td>1366.45</td>\n",
       "      <td>1367.40</td>\n",
       "      <td>1264</td>\n",
       "    </tr>\n",
       "    <tr>\n",
       "      <th>169975</th>\n",
       "      <td>2017-01-25 11:14:00+05:30</td>\n",
       "      <td>1367.4</td>\n",
       "      <td>1367.45</td>\n",
       "      <td>1367.40</td>\n",
       "      <td>1367.45</td>\n",
       "      <td>247</td>\n",
       "    </tr>\n",
       "  </tbody>\n",
       "</table>\n",
       "</div>"
      ],
      "text/plain": [
       "                             date    open     high      low    close  volume\n",
       "169971  2017-01-25 11:10:00+05:30  1364.4  1364.40  1364.00  1364.40     232\n",
       "169972  2017-01-25 11:11:00+05:30  1364.4  1364.40  1364.40  1364.40     693\n",
       "169973  2017-01-25 11:12:00+05:30  1364.4  1366.50  1364.40  1366.50     740\n",
       "169974  2017-01-25 11:13:00+05:30  1366.5  1367.75  1366.45  1367.40    1264\n",
       "169975  2017-01-25 11:14:00+05:30  1367.4  1367.45  1367.40  1367.45     247"
      ]
     },
     "execution_count": 3,
     "metadata": {},
     "output_type": "execute_result"
    }
   ],
   "source": [
    "df_1min = df_1min[['date' , 'open' , 'high', 'low' , 'close' , 'volume']]\n",
    "df_1min = df_1min.iloc[249971-80000 :654674]\n",
    "df_1min.head()"
   ]
  },
  {
   "cell_type": "code",
   "execution_count": 4,
   "id": "991f0901",
   "metadata": {},
   "outputs": [],
   "source": [
    "def ss(x):\n",
    "    return datetime.strptime(x,\"%Y-%m-%d %H:%M:%S+05:30\").strftime(\"%Y-%m-%d %H:%M:%S\")\n",
    "\n",
    "df_1min[\"date\"]=list(map(ss,df_1min[\"date\"]))"
   ]
  },
  {
   "cell_type": "code",
   "execution_count": null,
   "id": "819c3ea4",
   "metadata": {},
   "outputs": [],
   "source": []
  },
  {
   "cell_type": "code",
   "execution_count": 5,
   "id": "7dcfd8ad",
   "metadata": {},
   "outputs": [],
   "source": [
    "# for i in dic:\n",
    "#     print(i)"
   ]
  },
  {
   "cell_type": "code",
   "execution_count": null,
   "id": "55f24ce7",
   "metadata": {},
   "outputs": [],
   "source": []
  },
  {
   "cell_type": "code",
   "execution_count": null,
   "id": "4378749e",
   "metadata": {},
   "outputs": [],
   "source": []
  },
  {
   "cell_type": "code",
   "execution_count": 13,
   "id": "8e77749b",
   "metadata": {},
   "outputs": [
    {
     "data": {
      "text/plain": [
       "470122"
      ]
     },
     "execution_count": 13,
     "metadata": {},
     "output_type": "execute_result"
    }
   ],
   "source": [
    "t = df_1min[df_1min['date'] == '2020-08-04 09:57:00'].index[0]\n",
    "t"
   ]
  },
  {
   "cell_type": "code",
   "execution_count": 18,
   "id": "e5fb12d7",
   "metadata": {},
   "outputs": [
    {
     "data": {
      "application/vnd.plotly.v1+json": {
       "config": {
        "plotlyServerURL": "https://plot.ly"
       },
       "data": [
        {
         "close": [
          1419,
          1419.6,
          1420.6,
          1416,
          1415.25,
          1416.7,
          1416.5,
          1415.4,
          1413.75,
          1415.45,
          1414.05,
          1413,
          1413.8,
          1415,
          1417.5,
          1417.05,
          1417.15,
          1416.25,
          1418.85,
          1417.6,
          1416.6,
          1417.5,
          1417,
          1415.65,
          1415.3,
          1415.4,
          1412,
          1412.5,
          1411.65,
          1411.6,
          1406.9,
          1405.35,
          1407.45,
          1407.05,
          1408.35,
          1409.5,
          1410.05,
          1407.25,
          1406.4,
          1406,
          1406.55
         ],
         "high": [
          1419.75,
          1419.95,
          1420.6,
          1420.6,
          1417,
          1416.95,
          1417.1,
          1416.5,
          1415.4,
          1415.45,
          1416.5,
          1413.7,
          1414.8,
          1415.95,
          1418.45,
          1418.5,
          1419,
          1417.15,
          1419,
          1418.85,
          1418,
          1417.5,
          1417.65,
          1417,
          1416.7,
          1416.4,
          1415.45,
          1412.85,
          1412.85,
          1412.6,
          1411.7,
          1407.25,
          1407.45,
          1408.55,
          1409.35,
          1409.8,
          1410.05,
          1410.05,
          1407.3,
          1406.45,
          1406.65
         ],
         "low": [
          1417.8,
          1418.55,
          1419.6,
          1415.3,
          1415.15,
          1415.85,
          1415.9,
          1415.25,
          1413.05,
          1412.9,
          1414.05,
          1412.45,
          1413,
          1413.7,
          1415,
          1417.05,
          1416.8,
          1415.55,
          1416.25,
          1417.6,
          1415,
          1416,
          1416.75,
          1415,
          1415.3,
          1415,
          1412,
          1411.3,
          1411.65,
          1411.5,
          1406.9,
          1404.25,
          1405.1,
          1406.5,
          1407.05,
          1408.35,
          1409,
          1406.2,
          1406,
          1406,
          1405.1
         ],
         "open": [
          1417.8,
          1418.55,
          1419.6,
          1419,
          1416,
          1416,
          1416.7,
          1416.5,
          1415.4,
          1413.75,
          1415.45,
          1413.25,
          1413,
          1413.8,
          1415,
          1417.5,
          1417.05,
          1416.75,
          1416.25,
          1418.85,
          1417.6,
          1416.6,
          1417.5,
          1416.75,
          1415.65,
          1415.3,
          1415.4,
          1412.15,
          1412,
          1411.65,
          1411.05,
          1406.85,
          1405.1,
          1407.45,
          1407.05,
          1408.35,
          1409,
          1410.05,
          1406.8,
          1406.4,
          1406
         ],
         "type": "candlestick",
         "x": [
          470092,
          470093,
          470094,
          470095,
          470096,
          470097,
          470098,
          470099,
          470100,
          470101,
          470102,
          470103,
          470104,
          470105,
          470106,
          470107,
          470108,
          470109,
          470110,
          470111,
          470112,
          470113,
          470114,
          470115,
          470116,
          470117,
          470118,
          470119,
          470120,
          470121,
          470122,
          470123,
          470124,
          470125,
          470126,
          470127,
          470128,
          470129,
          470130,
          470131,
          470132
         ]
        }
       ],
       "layout": {
        "template": {
         "data": {
          "bar": [
           {
            "error_x": {
             "color": "#2a3f5f"
            },
            "error_y": {
             "color": "#2a3f5f"
            },
            "marker": {
             "line": {
              "color": "#E5ECF6",
              "width": 0.5
             },
             "pattern": {
              "fillmode": "overlay",
              "size": 10,
              "solidity": 0.2
             }
            },
            "type": "bar"
           }
          ],
          "barpolar": [
           {
            "marker": {
             "line": {
              "color": "#E5ECF6",
              "width": 0.5
             },
             "pattern": {
              "fillmode": "overlay",
              "size": 10,
              "solidity": 0.2
             }
            },
            "type": "barpolar"
           }
          ],
          "carpet": [
           {
            "aaxis": {
             "endlinecolor": "#2a3f5f",
             "gridcolor": "white",
             "linecolor": "white",
             "minorgridcolor": "white",
             "startlinecolor": "#2a3f5f"
            },
            "baxis": {
             "endlinecolor": "#2a3f5f",
             "gridcolor": "white",
             "linecolor": "white",
             "minorgridcolor": "white",
             "startlinecolor": "#2a3f5f"
            },
            "type": "carpet"
           }
          ],
          "choropleth": [
           {
            "colorbar": {
             "outlinewidth": 0,
             "ticks": ""
            },
            "type": "choropleth"
           }
          ],
          "contour": [
           {
            "colorbar": {
             "outlinewidth": 0,
             "ticks": ""
            },
            "colorscale": [
             [
              0,
              "#0d0887"
             ],
             [
              0.1111111111111111,
              "#46039f"
             ],
             [
              0.2222222222222222,
              "#7201a8"
             ],
             [
              0.3333333333333333,
              "#9c179e"
             ],
             [
              0.4444444444444444,
              "#bd3786"
             ],
             [
              0.5555555555555556,
              "#d8576b"
             ],
             [
              0.6666666666666666,
              "#ed7953"
             ],
             [
              0.7777777777777778,
              "#fb9f3a"
             ],
             [
              0.8888888888888888,
              "#fdca26"
             ],
             [
              1,
              "#f0f921"
             ]
            ],
            "type": "contour"
           }
          ],
          "contourcarpet": [
           {
            "colorbar": {
             "outlinewidth": 0,
             "ticks": ""
            },
            "type": "contourcarpet"
           }
          ],
          "heatmap": [
           {
            "colorbar": {
             "outlinewidth": 0,
             "ticks": ""
            },
            "colorscale": [
             [
              0,
              "#0d0887"
             ],
             [
              0.1111111111111111,
              "#46039f"
             ],
             [
              0.2222222222222222,
              "#7201a8"
             ],
             [
              0.3333333333333333,
              "#9c179e"
             ],
             [
              0.4444444444444444,
              "#bd3786"
             ],
             [
              0.5555555555555556,
              "#d8576b"
             ],
             [
              0.6666666666666666,
              "#ed7953"
             ],
             [
              0.7777777777777778,
              "#fb9f3a"
             ],
             [
              0.8888888888888888,
              "#fdca26"
             ],
             [
              1,
              "#f0f921"
             ]
            ],
            "type": "heatmap"
           }
          ],
          "heatmapgl": [
           {
            "colorbar": {
             "outlinewidth": 0,
             "ticks": ""
            },
            "colorscale": [
             [
              0,
              "#0d0887"
             ],
             [
              0.1111111111111111,
              "#46039f"
             ],
             [
              0.2222222222222222,
              "#7201a8"
             ],
             [
              0.3333333333333333,
              "#9c179e"
             ],
             [
              0.4444444444444444,
              "#bd3786"
             ],
             [
              0.5555555555555556,
              "#d8576b"
             ],
             [
              0.6666666666666666,
              "#ed7953"
             ],
             [
              0.7777777777777778,
              "#fb9f3a"
             ],
             [
              0.8888888888888888,
              "#fdca26"
             ],
             [
              1,
              "#f0f921"
             ]
            ],
            "type": "heatmapgl"
           }
          ],
          "histogram": [
           {
            "marker": {
             "pattern": {
              "fillmode": "overlay",
              "size": 10,
              "solidity": 0.2
             }
            },
            "type": "histogram"
           }
          ],
          "histogram2d": [
           {
            "colorbar": {
             "outlinewidth": 0,
             "ticks": ""
            },
            "colorscale": [
             [
              0,
              "#0d0887"
             ],
             [
              0.1111111111111111,
              "#46039f"
             ],
             [
              0.2222222222222222,
              "#7201a8"
             ],
             [
              0.3333333333333333,
              "#9c179e"
             ],
             [
              0.4444444444444444,
              "#bd3786"
             ],
             [
              0.5555555555555556,
              "#d8576b"
             ],
             [
              0.6666666666666666,
              "#ed7953"
             ],
             [
              0.7777777777777778,
              "#fb9f3a"
             ],
             [
              0.8888888888888888,
              "#fdca26"
             ],
             [
              1,
              "#f0f921"
             ]
            ],
            "type": "histogram2d"
           }
          ],
          "histogram2dcontour": [
           {
            "colorbar": {
             "outlinewidth": 0,
             "ticks": ""
            },
            "colorscale": [
             [
              0,
              "#0d0887"
             ],
             [
              0.1111111111111111,
              "#46039f"
             ],
             [
              0.2222222222222222,
              "#7201a8"
             ],
             [
              0.3333333333333333,
              "#9c179e"
             ],
             [
              0.4444444444444444,
              "#bd3786"
             ],
             [
              0.5555555555555556,
              "#d8576b"
             ],
             [
              0.6666666666666666,
              "#ed7953"
             ],
             [
              0.7777777777777778,
              "#fb9f3a"
             ],
             [
              0.8888888888888888,
              "#fdca26"
             ],
             [
              1,
              "#f0f921"
             ]
            ],
            "type": "histogram2dcontour"
           }
          ],
          "mesh3d": [
           {
            "colorbar": {
             "outlinewidth": 0,
             "ticks": ""
            },
            "type": "mesh3d"
           }
          ],
          "parcoords": [
           {
            "line": {
             "colorbar": {
              "outlinewidth": 0,
              "ticks": ""
             }
            },
            "type": "parcoords"
           }
          ],
          "pie": [
           {
            "automargin": true,
            "type": "pie"
           }
          ],
          "scatter": [
           {
            "marker": {
             "colorbar": {
              "outlinewidth": 0,
              "ticks": ""
             }
            },
            "type": "scatter"
           }
          ],
          "scatter3d": [
           {
            "line": {
             "colorbar": {
              "outlinewidth": 0,
              "ticks": ""
             }
            },
            "marker": {
             "colorbar": {
              "outlinewidth": 0,
              "ticks": ""
             }
            },
            "type": "scatter3d"
           }
          ],
          "scattercarpet": [
           {
            "marker": {
             "colorbar": {
              "outlinewidth": 0,
              "ticks": ""
             }
            },
            "type": "scattercarpet"
           }
          ],
          "scattergeo": [
           {
            "marker": {
             "colorbar": {
              "outlinewidth": 0,
              "ticks": ""
             }
            },
            "type": "scattergeo"
           }
          ],
          "scattergl": [
           {
            "marker": {
             "colorbar": {
              "outlinewidth": 0,
              "ticks": ""
             }
            },
            "type": "scattergl"
           }
          ],
          "scattermapbox": [
           {
            "marker": {
             "colorbar": {
              "outlinewidth": 0,
              "ticks": ""
             }
            },
            "type": "scattermapbox"
           }
          ],
          "scatterpolar": [
           {
            "marker": {
             "colorbar": {
              "outlinewidth": 0,
              "ticks": ""
             }
            },
            "type": "scatterpolar"
           }
          ],
          "scatterpolargl": [
           {
            "marker": {
             "colorbar": {
              "outlinewidth": 0,
              "ticks": ""
             }
            },
            "type": "scatterpolargl"
           }
          ],
          "scatterternary": [
           {
            "marker": {
             "colorbar": {
              "outlinewidth": 0,
              "ticks": ""
             }
            },
            "type": "scatterternary"
           }
          ],
          "surface": [
           {
            "colorbar": {
             "outlinewidth": 0,
             "ticks": ""
            },
            "colorscale": [
             [
              0,
              "#0d0887"
             ],
             [
              0.1111111111111111,
              "#46039f"
             ],
             [
              0.2222222222222222,
              "#7201a8"
             ],
             [
              0.3333333333333333,
              "#9c179e"
             ],
             [
              0.4444444444444444,
              "#bd3786"
             ],
             [
              0.5555555555555556,
              "#d8576b"
             ],
             [
              0.6666666666666666,
              "#ed7953"
             ],
             [
              0.7777777777777778,
              "#fb9f3a"
             ],
             [
              0.8888888888888888,
              "#fdca26"
             ],
             [
              1,
              "#f0f921"
             ]
            ],
            "type": "surface"
           }
          ],
          "table": [
           {
            "cells": {
             "fill": {
              "color": "#EBF0F8"
             },
             "line": {
              "color": "white"
             }
            },
            "header": {
             "fill": {
              "color": "#C8D4E3"
             },
             "line": {
              "color": "white"
             }
            },
            "type": "table"
           }
          ]
         },
         "layout": {
          "annotationdefaults": {
           "arrowcolor": "#2a3f5f",
           "arrowhead": 0,
           "arrowwidth": 1
          },
          "autotypenumbers": "strict",
          "coloraxis": {
           "colorbar": {
            "outlinewidth": 0,
            "ticks": ""
           }
          },
          "colorscale": {
           "diverging": [
            [
             0,
             "#8e0152"
            ],
            [
             0.1,
             "#c51b7d"
            ],
            [
             0.2,
             "#de77ae"
            ],
            [
             0.3,
             "#f1b6da"
            ],
            [
             0.4,
             "#fde0ef"
            ],
            [
             0.5,
             "#f7f7f7"
            ],
            [
             0.6,
             "#e6f5d0"
            ],
            [
             0.7,
             "#b8e186"
            ],
            [
             0.8,
             "#7fbc41"
            ],
            [
             0.9,
             "#4d9221"
            ],
            [
             1,
             "#276419"
            ]
           ],
           "sequential": [
            [
             0,
             "#0d0887"
            ],
            [
             0.1111111111111111,
             "#46039f"
            ],
            [
             0.2222222222222222,
             "#7201a8"
            ],
            [
             0.3333333333333333,
             "#9c179e"
            ],
            [
             0.4444444444444444,
             "#bd3786"
            ],
            [
             0.5555555555555556,
             "#d8576b"
            ],
            [
             0.6666666666666666,
             "#ed7953"
            ],
            [
             0.7777777777777778,
             "#fb9f3a"
            ],
            [
             0.8888888888888888,
             "#fdca26"
            ],
            [
             1,
             "#f0f921"
            ]
           ],
           "sequentialminus": [
            [
             0,
             "#0d0887"
            ],
            [
             0.1111111111111111,
             "#46039f"
            ],
            [
             0.2222222222222222,
             "#7201a8"
            ],
            [
             0.3333333333333333,
             "#9c179e"
            ],
            [
             0.4444444444444444,
             "#bd3786"
            ],
            [
             0.5555555555555556,
             "#d8576b"
            ],
            [
             0.6666666666666666,
             "#ed7953"
            ],
            [
             0.7777777777777778,
             "#fb9f3a"
            ],
            [
             0.8888888888888888,
             "#fdca26"
            ],
            [
             1,
             "#f0f921"
            ]
           ]
          },
          "colorway": [
           "#636efa",
           "#EF553B",
           "#00cc96",
           "#ab63fa",
           "#FFA15A",
           "#19d3f3",
           "#FF6692",
           "#B6E880",
           "#FF97FF",
           "#FECB52"
          ],
          "font": {
           "color": "#2a3f5f"
          },
          "geo": {
           "bgcolor": "white",
           "lakecolor": "white",
           "landcolor": "#E5ECF6",
           "showlakes": true,
           "showland": true,
           "subunitcolor": "white"
          },
          "hoverlabel": {
           "align": "left"
          },
          "hovermode": "closest",
          "mapbox": {
           "style": "light"
          },
          "paper_bgcolor": "white",
          "plot_bgcolor": "#E5ECF6",
          "polar": {
           "angularaxis": {
            "gridcolor": "white",
            "linecolor": "white",
            "ticks": ""
           },
           "bgcolor": "#E5ECF6",
           "radialaxis": {
            "gridcolor": "white",
            "linecolor": "white",
            "ticks": ""
           }
          },
          "scene": {
           "xaxis": {
            "backgroundcolor": "#E5ECF6",
            "gridcolor": "white",
            "gridwidth": 2,
            "linecolor": "white",
            "showbackground": true,
            "ticks": "",
            "zerolinecolor": "white"
           },
           "yaxis": {
            "backgroundcolor": "#E5ECF6",
            "gridcolor": "white",
            "gridwidth": 2,
            "linecolor": "white",
            "showbackground": true,
            "ticks": "",
            "zerolinecolor": "white"
           },
           "zaxis": {
            "backgroundcolor": "#E5ECF6",
            "gridcolor": "white",
            "gridwidth": 2,
            "linecolor": "white",
            "showbackground": true,
            "ticks": "",
            "zerolinecolor": "white"
           }
          },
          "shapedefaults": {
           "line": {
            "color": "#2a3f5f"
           }
          },
          "ternary": {
           "aaxis": {
            "gridcolor": "white",
            "linecolor": "white",
            "ticks": ""
           },
           "baxis": {
            "gridcolor": "white",
            "linecolor": "white",
            "ticks": ""
           },
           "bgcolor": "#E5ECF6",
           "caxis": {
            "gridcolor": "white",
            "linecolor": "white",
            "ticks": ""
           }
          },
          "title": {
           "x": 0.05
          },
          "xaxis": {
           "automargin": true,
           "gridcolor": "white",
           "linecolor": "white",
           "ticks": "",
           "title": {
            "standoff": 15
           },
           "zerolinecolor": "white",
           "zerolinewidth": 2
          },
          "yaxis": {
           "automargin": true,
           "gridcolor": "white",
           "linecolor": "white",
           "ticks": "",
           "title": {
            "standoff": 15
           },
           "zerolinecolor": "white",
           "zerolinewidth": 2
          }
         }
        },
        "xaxis": {
         "rangeslider": {
          "visible": false
         }
        }
       }
      },
      "text/html": [
       "<div>                            <div id=\"ea8d12c1-0063-4c41-8bcf-9ce13f5a9aa3\" class=\"plotly-graph-div\" style=\"height:525px; width:100%;\"></div>            <script type=\"text/javascript\">                require([\"plotly\"], function(Plotly) {                    window.PLOTLYENV=window.PLOTLYENV || {};                                    if (document.getElementById(\"ea8d12c1-0063-4c41-8bcf-9ce13f5a9aa3\")) {                    Plotly.newPlot(                        \"ea8d12c1-0063-4c41-8bcf-9ce13f5a9aa3\",                        [{\"close\":[1419.0,1419.6,1420.6,1416.0,1415.25,1416.7,1416.5,1415.4,1413.75,1415.45,1414.05,1413.0,1413.8,1415.0,1417.5,1417.05,1417.15,1416.25,1418.85,1417.6,1416.6,1417.5,1417.0,1415.65,1415.3,1415.4,1412.0,1412.5,1411.65,1411.6,1406.9,1405.35,1407.45,1407.05,1408.35,1409.5,1410.05,1407.25,1406.4,1406.0,1406.55],\"high\":[1419.75,1419.95,1420.6,1420.6,1417.0,1416.95,1417.1,1416.5,1415.4,1415.45,1416.5,1413.7,1414.8,1415.95,1418.45,1418.5,1419.0,1417.15,1419.0,1418.85,1418.0,1417.5,1417.65,1417.0,1416.7,1416.4,1415.45,1412.85,1412.85,1412.6,1411.7,1407.25,1407.45,1408.55,1409.35,1409.8,1410.05,1410.05,1407.3,1406.45,1406.65],\"low\":[1417.8,1418.55,1419.6,1415.3,1415.15,1415.85,1415.9,1415.25,1413.05,1412.9,1414.05,1412.45,1413.0,1413.7,1415.0,1417.05,1416.8,1415.55,1416.25,1417.6,1415.0,1416.0,1416.75,1415.0,1415.3,1415.0,1412.0,1411.3,1411.65,1411.5,1406.9,1404.25,1405.1,1406.5,1407.05,1408.35,1409.0,1406.2,1406.0,1406.0,1405.1],\"open\":[1417.8,1418.55,1419.6,1419.0,1416.0,1416.0,1416.7,1416.5,1415.4,1413.75,1415.45,1413.25,1413.0,1413.8,1415.0,1417.5,1417.05,1416.75,1416.25,1418.85,1417.6,1416.6,1417.5,1416.75,1415.65,1415.3,1415.4,1412.15,1412.0,1411.65,1411.05,1406.85,1405.1,1407.45,1407.05,1408.35,1409.0,1410.05,1406.8,1406.4,1406.0],\"x\":[470092,470093,470094,470095,470096,470097,470098,470099,470100,470101,470102,470103,470104,470105,470106,470107,470108,470109,470110,470111,470112,470113,470114,470115,470116,470117,470118,470119,470120,470121,470122,470123,470124,470125,470126,470127,470128,470129,470130,470131,470132],\"type\":\"candlestick\"}],                        {\"template\":{\"data\":{\"bar\":[{\"error_x\":{\"color\":\"#2a3f5f\"},\"error_y\":{\"color\":\"#2a3f5f\"},\"marker\":{\"line\":{\"color\":\"#E5ECF6\",\"width\":0.5},\"pattern\":{\"fillmode\":\"overlay\",\"size\":10,\"solidity\":0.2}},\"type\":\"bar\"}],\"barpolar\":[{\"marker\":{\"line\":{\"color\":\"#E5ECF6\",\"width\":0.5},\"pattern\":{\"fillmode\":\"overlay\",\"size\":10,\"solidity\":0.2}},\"type\":\"barpolar\"}],\"carpet\":[{\"aaxis\":{\"endlinecolor\":\"#2a3f5f\",\"gridcolor\":\"white\",\"linecolor\":\"white\",\"minorgridcolor\":\"white\",\"startlinecolor\":\"#2a3f5f\"},\"baxis\":{\"endlinecolor\":\"#2a3f5f\",\"gridcolor\":\"white\",\"linecolor\":\"white\",\"minorgridcolor\":\"white\",\"startlinecolor\":\"#2a3f5f\"},\"type\":\"carpet\"}],\"choropleth\":[{\"colorbar\":{\"outlinewidth\":0,\"ticks\":\"\"},\"type\":\"choropleth\"}],\"contour\":[{\"colorbar\":{\"outlinewidth\":0,\"ticks\":\"\"},\"colorscale\":[[0.0,\"#0d0887\"],[0.1111111111111111,\"#46039f\"],[0.2222222222222222,\"#7201a8\"],[0.3333333333333333,\"#9c179e\"],[0.4444444444444444,\"#bd3786\"],[0.5555555555555556,\"#d8576b\"],[0.6666666666666666,\"#ed7953\"],[0.7777777777777778,\"#fb9f3a\"],[0.8888888888888888,\"#fdca26\"],[1.0,\"#f0f921\"]],\"type\":\"contour\"}],\"contourcarpet\":[{\"colorbar\":{\"outlinewidth\":0,\"ticks\":\"\"},\"type\":\"contourcarpet\"}],\"heatmap\":[{\"colorbar\":{\"outlinewidth\":0,\"ticks\":\"\"},\"colorscale\":[[0.0,\"#0d0887\"],[0.1111111111111111,\"#46039f\"],[0.2222222222222222,\"#7201a8\"],[0.3333333333333333,\"#9c179e\"],[0.4444444444444444,\"#bd3786\"],[0.5555555555555556,\"#d8576b\"],[0.6666666666666666,\"#ed7953\"],[0.7777777777777778,\"#fb9f3a\"],[0.8888888888888888,\"#fdca26\"],[1.0,\"#f0f921\"]],\"type\":\"heatmap\"}],\"heatmapgl\":[{\"colorbar\":{\"outlinewidth\":0,\"ticks\":\"\"},\"colorscale\":[[0.0,\"#0d0887\"],[0.1111111111111111,\"#46039f\"],[0.2222222222222222,\"#7201a8\"],[0.3333333333333333,\"#9c179e\"],[0.4444444444444444,\"#bd3786\"],[0.5555555555555556,\"#d8576b\"],[0.6666666666666666,\"#ed7953\"],[0.7777777777777778,\"#fb9f3a\"],[0.8888888888888888,\"#fdca26\"],[1.0,\"#f0f921\"]],\"type\":\"heatmapgl\"}],\"histogram\":[{\"marker\":{\"pattern\":{\"fillmode\":\"overlay\",\"size\":10,\"solidity\":0.2}},\"type\":\"histogram\"}],\"histogram2d\":[{\"colorbar\":{\"outlinewidth\":0,\"ticks\":\"\"},\"colorscale\":[[0.0,\"#0d0887\"],[0.1111111111111111,\"#46039f\"],[0.2222222222222222,\"#7201a8\"],[0.3333333333333333,\"#9c179e\"],[0.4444444444444444,\"#bd3786\"],[0.5555555555555556,\"#d8576b\"],[0.6666666666666666,\"#ed7953\"],[0.7777777777777778,\"#fb9f3a\"],[0.8888888888888888,\"#fdca26\"],[1.0,\"#f0f921\"]],\"type\":\"histogram2d\"}],\"histogram2dcontour\":[{\"colorbar\":{\"outlinewidth\":0,\"ticks\":\"\"},\"colorscale\":[[0.0,\"#0d0887\"],[0.1111111111111111,\"#46039f\"],[0.2222222222222222,\"#7201a8\"],[0.3333333333333333,\"#9c179e\"],[0.4444444444444444,\"#bd3786\"],[0.5555555555555556,\"#d8576b\"],[0.6666666666666666,\"#ed7953\"],[0.7777777777777778,\"#fb9f3a\"],[0.8888888888888888,\"#fdca26\"],[1.0,\"#f0f921\"]],\"type\":\"histogram2dcontour\"}],\"mesh3d\":[{\"colorbar\":{\"outlinewidth\":0,\"ticks\":\"\"},\"type\":\"mesh3d\"}],\"parcoords\":[{\"line\":{\"colorbar\":{\"outlinewidth\":0,\"ticks\":\"\"}},\"type\":\"parcoords\"}],\"pie\":[{\"automargin\":true,\"type\":\"pie\"}],\"scatter\":[{\"marker\":{\"colorbar\":{\"outlinewidth\":0,\"ticks\":\"\"}},\"type\":\"scatter\"}],\"scatter3d\":[{\"line\":{\"colorbar\":{\"outlinewidth\":0,\"ticks\":\"\"}},\"marker\":{\"colorbar\":{\"outlinewidth\":0,\"ticks\":\"\"}},\"type\":\"scatter3d\"}],\"scattercarpet\":[{\"marker\":{\"colorbar\":{\"outlinewidth\":0,\"ticks\":\"\"}},\"type\":\"scattercarpet\"}],\"scattergeo\":[{\"marker\":{\"colorbar\":{\"outlinewidth\":0,\"ticks\":\"\"}},\"type\":\"scattergeo\"}],\"scattergl\":[{\"marker\":{\"colorbar\":{\"outlinewidth\":0,\"ticks\":\"\"}},\"type\":\"scattergl\"}],\"scattermapbox\":[{\"marker\":{\"colorbar\":{\"outlinewidth\":0,\"ticks\":\"\"}},\"type\":\"scattermapbox\"}],\"scatterpolar\":[{\"marker\":{\"colorbar\":{\"outlinewidth\":0,\"ticks\":\"\"}},\"type\":\"scatterpolar\"}],\"scatterpolargl\":[{\"marker\":{\"colorbar\":{\"outlinewidth\":0,\"ticks\":\"\"}},\"type\":\"scatterpolargl\"}],\"scatterternary\":[{\"marker\":{\"colorbar\":{\"outlinewidth\":0,\"ticks\":\"\"}},\"type\":\"scatterternary\"}],\"surface\":[{\"colorbar\":{\"outlinewidth\":0,\"ticks\":\"\"},\"colorscale\":[[0.0,\"#0d0887\"],[0.1111111111111111,\"#46039f\"],[0.2222222222222222,\"#7201a8\"],[0.3333333333333333,\"#9c179e\"],[0.4444444444444444,\"#bd3786\"],[0.5555555555555556,\"#d8576b\"],[0.6666666666666666,\"#ed7953\"],[0.7777777777777778,\"#fb9f3a\"],[0.8888888888888888,\"#fdca26\"],[1.0,\"#f0f921\"]],\"type\":\"surface\"}],\"table\":[{\"cells\":{\"fill\":{\"color\":\"#EBF0F8\"},\"line\":{\"color\":\"white\"}},\"header\":{\"fill\":{\"color\":\"#C8D4E3\"},\"line\":{\"color\":\"white\"}},\"type\":\"table\"}]},\"layout\":{\"annotationdefaults\":{\"arrowcolor\":\"#2a3f5f\",\"arrowhead\":0,\"arrowwidth\":1},\"autotypenumbers\":\"strict\",\"coloraxis\":{\"colorbar\":{\"outlinewidth\":0,\"ticks\":\"\"}},\"colorscale\":{\"diverging\":[[0,\"#8e0152\"],[0.1,\"#c51b7d\"],[0.2,\"#de77ae\"],[0.3,\"#f1b6da\"],[0.4,\"#fde0ef\"],[0.5,\"#f7f7f7\"],[0.6,\"#e6f5d0\"],[0.7,\"#b8e186\"],[0.8,\"#7fbc41\"],[0.9,\"#4d9221\"],[1,\"#276419\"]],\"sequential\":[[0.0,\"#0d0887\"],[0.1111111111111111,\"#46039f\"],[0.2222222222222222,\"#7201a8\"],[0.3333333333333333,\"#9c179e\"],[0.4444444444444444,\"#bd3786\"],[0.5555555555555556,\"#d8576b\"],[0.6666666666666666,\"#ed7953\"],[0.7777777777777778,\"#fb9f3a\"],[0.8888888888888888,\"#fdca26\"],[1.0,\"#f0f921\"]],\"sequentialminus\":[[0.0,\"#0d0887\"],[0.1111111111111111,\"#46039f\"],[0.2222222222222222,\"#7201a8\"],[0.3333333333333333,\"#9c179e\"],[0.4444444444444444,\"#bd3786\"],[0.5555555555555556,\"#d8576b\"],[0.6666666666666666,\"#ed7953\"],[0.7777777777777778,\"#fb9f3a\"],[0.8888888888888888,\"#fdca26\"],[1.0,\"#f0f921\"]]},\"colorway\":[\"#636efa\",\"#EF553B\",\"#00cc96\",\"#ab63fa\",\"#FFA15A\",\"#19d3f3\",\"#FF6692\",\"#B6E880\",\"#FF97FF\",\"#FECB52\"],\"font\":{\"color\":\"#2a3f5f\"},\"geo\":{\"bgcolor\":\"white\",\"lakecolor\":\"white\",\"landcolor\":\"#E5ECF6\",\"showlakes\":true,\"showland\":true,\"subunitcolor\":\"white\"},\"hoverlabel\":{\"align\":\"left\"},\"hovermode\":\"closest\",\"mapbox\":{\"style\":\"light\"},\"paper_bgcolor\":\"white\",\"plot_bgcolor\":\"#E5ECF6\",\"polar\":{\"angularaxis\":{\"gridcolor\":\"white\",\"linecolor\":\"white\",\"ticks\":\"\"},\"bgcolor\":\"#E5ECF6\",\"radialaxis\":{\"gridcolor\":\"white\",\"linecolor\":\"white\",\"ticks\":\"\"}},\"scene\":{\"xaxis\":{\"backgroundcolor\":\"#E5ECF6\",\"gridcolor\":\"white\",\"gridwidth\":2,\"linecolor\":\"white\",\"showbackground\":true,\"ticks\":\"\",\"zerolinecolor\":\"white\"},\"yaxis\":{\"backgroundcolor\":\"#E5ECF6\",\"gridcolor\":\"white\",\"gridwidth\":2,\"linecolor\":\"white\",\"showbackground\":true,\"ticks\":\"\",\"zerolinecolor\":\"white\"},\"zaxis\":{\"backgroundcolor\":\"#E5ECF6\",\"gridcolor\":\"white\",\"gridwidth\":2,\"linecolor\":\"white\",\"showbackground\":true,\"ticks\":\"\",\"zerolinecolor\":\"white\"}},\"shapedefaults\":{\"line\":{\"color\":\"#2a3f5f\"}},\"ternary\":{\"aaxis\":{\"gridcolor\":\"white\",\"linecolor\":\"white\",\"ticks\":\"\"},\"baxis\":{\"gridcolor\":\"white\",\"linecolor\":\"white\",\"ticks\":\"\"},\"bgcolor\":\"#E5ECF6\",\"caxis\":{\"gridcolor\":\"white\",\"linecolor\":\"white\",\"ticks\":\"\"}},\"title\":{\"x\":0.05},\"xaxis\":{\"automargin\":true,\"gridcolor\":\"white\",\"linecolor\":\"white\",\"ticks\":\"\",\"title\":{\"standoff\":15},\"zerolinecolor\":\"white\",\"zerolinewidth\":2},\"yaxis\":{\"automargin\":true,\"gridcolor\":\"white\",\"linecolor\":\"white\",\"ticks\":\"\",\"title\":{\"standoff\":15},\"zerolinecolor\":\"white\",\"zerolinewidth\":2}}},\"xaxis\":{\"rangeslider\":{\"visible\":false}}},                        {\"responsive\": true}                    ).then(function(){\n",
       "                            \n",
       "var gd = document.getElementById('ea8d12c1-0063-4c41-8bcf-9ce13f5a9aa3');\n",
       "var x = new MutationObserver(function (mutations, observer) {{\n",
       "        var display = window.getComputedStyle(gd).display;\n",
       "        if (!display || display === 'none') {{\n",
       "            console.log([gd, 'removed!']);\n",
       "            Plotly.purge(gd);\n",
       "            observer.disconnect();\n",
       "        }}\n",
       "}});\n",
       "\n",
       "// Listen for the removal of the full notebook cells\n",
       "var notebookContainer = gd.closest('#notebook-container');\n",
       "if (notebookContainer) {{\n",
       "    x.observe(notebookContainer, {childList: true});\n",
       "}}\n",
       "\n",
       "// Listen for the clearing of the current output cell\n",
       "var outputEl = gd.closest('.output');\n",
       "if (outputEl) {{\n",
       "    x.observe(outputEl, {childList: true});\n",
       "}}\n",
       "\n",
       "                        })                };                });            </script>        </div>"
      ]
     },
     "metadata": {},
     "output_type": "display_data"
    }
   ],
   "source": [
    "\n",
    "check_df = df_1min.loc[t-30 :t+10]\n",
    "plot(check_df)\n"
   ]
  },
  {
   "cell_type": "code",
   "execution_count": null,
   "id": "e1c6bbde",
   "metadata": {},
   "outputs": [],
   "source": []
  },
  {
   "cell_type": "code",
   "execution_count": null,
   "id": "45db8fe2",
   "metadata": {},
   "outputs": [],
   "source": []
  },
  {
   "cell_type": "code",
   "execution_count": null,
   "id": "adbb9235",
   "metadata": {},
   "outputs": [],
   "source": []
  },
  {
   "cell_type": "code",
   "execution_count": null,
   "id": "739b324c",
   "metadata": {},
   "outputs": [],
   "source": []
  },
  {
   "cell_type": "code",
   "execution_count": null,
   "id": "4d16a14c",
   "metadata": {},
   "outputs": [],
   "source": []
  },
  {
   "cell_type": "code",
   "execution_count": null,
   "id": "2f968abd",
   "metadata": {},
   "outputs": [],
   "source": []
  },
  {
   "cell_type": "code",
   "execution_count": null,
   "id": "2b62c6d3",
   "metadata": {},
   "outputs": [],
   "source": []
  },
  {
   "cell_type": "code",
   "execution_count": null,
   "id": "922385d0",
   "metadata": {},
   "outputs": [],
   "source": []
  },
  {
   "cell_type": "code",
   "execution_count": null,
   "id": "1af52bf9",
   "metadata": {},
   "outputs": [],
   "source": []
  },
  {
   "cell_type": "code",
   "execution_count": 21,
   "id": "eae48c9e",
   "metadata": {},
   "outputs": [],
   "source": [
    "# dic = {'2017-12-27 14:43:00': [1733.55, 1732.0],\n",
    "#   '2017-12-29 11:59:00': [1762.5, 1759.6],\n",
    "#   '2018-01-01 12:07:00': [1748.4, 1746.85],\n",
    "#   '2018-01-01 13:08:00': [1748.0, 1746.3],\n",
    "#   '2018-01-01 14:55:00': [1742.5, 1741.0],\n",
    "#   '2018-01-01 15:06:00': [1732.05, 1731.3],\n",
    "#   '2018-01-05 10:25:00': [1807.0, 1805.7],\n",
    "#   '2018-01-05 13:55:00': [1803.55, 1802.0],\n",
    "#   '2018-01-11 13:46:00': [1810.05, 1807.8],\n",
    "#   '2018-01-12 10:08:00': [1808.0, 1802.75],\n",
    "#   '2018-01-12 12:33:00': [1802.2, 1800.8],\n",
    "#   '2018-01-18 13:50:00': [1840.65, 1837.85],\n",
    "#   '2018-01-18 14:48:00': [1835.8, 1833.95],\n",
    "#   '2018-01-19 12:26:00': [1821.0, 1818.65],\n",
    "#   '2018-01-23 13:11:00': [1802.25, 1798.95],\n",
    "#   '2018-01-23 14:12:00': [1791.5, 1789.95],\n",
    "#   '2018-01-24 10:00:00': [1771.0, 1770.65],\n",
    "#   '2018-01-24 10:24:00': [1768.0, 1766.35],\n",
    "#   '2018-01-24 12:26:00': [1752.35, 1751.95],\n",
    "#   '2018-01-29 14:06:00': [1747.0, 1743.95],\n",
    "#   '2018-01-29 14:12:00': [1742.6, 1742.0],\n",
    "#   '2018-01-31 10:01:00': [1727.15, 1722.45],\n",
    "#   '2018-01-31 13:56:00': [1705.0, 1702.95],\n",
    "#   '2018-02-05 11:40:00': [1618.25, 1616.5],\n",
    "#   '2018-02-07 13:28:00': [1601.0, 1599.0],\n",
    "#   '2018-02-08 11:33:00': [1590.15, 1588.05],\n",
    "#   '2018-02-08 14:20:00': [1601.75, 1599.0],\n",
    "#   '2018-02-09 14:58:00': [1662.0, 1660.45],\n",
    "#   '2018-02-14 11:07:00': [1641.85, 1639.5],\n",
    "#   '2018-02-14 11:17:00': [1633.35, 1632.15],\n",
    "#   '2018-02-14 15:22:00': [1626.85, 1625.9],\n",
    "#   '2018-02-15 11:03:00': [1645.0, 1644.9],\n",
    "#   '2018-02-15 12:12:00': [1641.0, 1639.25],\n",
    "#   '2018-02-15 13:08:00': [1640.0, 1638.45],\n",
    "#   '2018-02-15 14:39:00': [1624.0, 1622.45],\n",
    "#   '2018-02-15 14:48:00': [1620.05, 1616.4],\n",
    "#   '2018-02-19 09:58:00': [1645.4, 1643.5],\n",
    "#   '2018-02-19 12:30:00': [1637.05, 1635.35],\n",
    "#   '2018-02-19 13:34:00': [1627.25, 1626.75],\n",
    "#   '2018-02-20 10:28:00': [1636.1, 1635.9],\n",
    "#   '2018-02-20 10:43:00': [1630.1, 1629.25],\n",
    "#   '2018-02-21 13:22:00': [1654.1, 1652.45],\n",
    "#   '2018-02-21 14:45:00': [1650.0, 1646.95],\n",
    "#   '2018-02-26 14:18:00': [1663.9, 1661.7],\n",
    "#   '2018-02-27 10:04:00': [1626.0, 1625.0],\n",
    "#   '2018-02-28 11:35:00': [1624.6, 1623.0],\n",
    "#   '2018-02-28 15:07:00': [1625.0, 1624.5],\n",
    "#   '2018-03-06 09:49:00': [1608.1, 1605.85],\n",
    "#   '2018-03-06 14:06:00': [1606.05, 1605.05],\n",
    "#   '2018-03-06 14:11:00': [1603.0, 1602.05],\n",
    "#   '2018-03-06 14:14:00': [1600.1, 1598.6],\n",
    "#   '2018-03-07 10:38:00': [1585.1, 1584.5],\n",
    "#   '2018-03-07 13:39:00': [1580.0, 1579.25],\n",
    "#   '2018-03-07 14:06:00': [1574.0, 1573.9],\n",
    "#   '2018-03-08 10:19:00': [1556.35, 1555.4],\n",
    "#   '2018-03-09 11:12:00': [1536.65, 1535.3],\n",
    "#   '2018-03-09 13:56:00': [1530.0, 1529.0],\n",
    "#   '2018-03-19 12:19:00': [1548.4, 1548.0],\n",
    "#   '2018-03-19 13:48:00': [1548.95, 1547.7],\n",
    "#   '2018-03-20 11:05:00': [1552.95, 1549.3],\n",
    "#   '2018-03-20 13:05:00': [1544.0, 1543.35],\n",
    "#   '2018-03-20 14:12:00': [1535.6, 1535.05],\n",
    "#   '2018-03-21 12:27:00': [1561.0, 1559.95],\n",
    "#   '2018-03-21 12:34:00': [1558.05, 1557.0],\n",
    "#   '2018-03-21 13:49:00': [1555.5, 1554.0],\n",
    "#   '2018-03-21 13:57:00': [1552.75, 1551.0],\n",
    "#   '2018-03-27 10:04:00': [1533.5, 1531.65],\n",
    "#   '2018-03-27 11:29:00': [1528.35, 1527.8],\n",
    "#   '2018-03-27 14:49:00': [1518.0, 1517.0],\n",
    "#   '2018-04-04 13:26:00': [1546.6, 1545.0],\n",
    "#   '2018-04-06 11:09:00': [1545.8, 1545.25],\n",
    "#   '2018-04-06 12:51:00': [1547.5, 1546.6],\n",
    "#   '2018-04-09 13:17:00': [1545.0, 1542.75],\n",
    "#   '2018-04-10 10:48:00': [1541.0, 1539.55],\n",
    "#   '2018-04-10 13:56:00': [1535.25, 1534.5],\n",
    "#   '2018-04-12 13:20:00': [1527.1, 1526.55],\n",
    "#   '2018-04-13 10:28:00': [1530.15, 1529.2],\n",
    "#   '2018-04-17 11:17:00': [1581.35, 1579.35],\n",
    "#   '2018-04-17 12:45:00': [1580.2, 1579.9],\n",
    "#   '2018-04-18 11:39:00': [1586.0, 1584.9],\n",
    "#   '2018-04-18 13:15:00': [1583.0, 1582.0],\n",
    "#   '2018-04-18 15:01:00': [1581.0, 1575.7],\n",
    "#   '2018-04-19 11:02:00': [1602.5, 1601.25],\n",
    "#   '2018-04-19 14:18:00': [1597.5, 1596.15],\n",
    "#   '2018-04-19 14:47:00': [1590.0, 1587.6],\n",
    "#   '2018-04-19 14:57:00': [1577.05, 1573.95],\n",
    "#   '2018-04-20 11:15:00': [1573.0, 1570.3],\n",
    "#   '2018-04-20 13:48:00': [1570.5, 1568.95],\n",
    "#   '2018-04-23 14:06:00': [1570.6, 1568.5],\n",
    "#   '2018-04-24 11:15:00': [1567.7, 1567.05],\n",
    "#   '2018-04-24 12:43:00': [1561.0, 1560.0],\n",
    "#   '2018-04-25 12:49:00': [1565.95, 1565.25],\n",
    "#   '2018-04-25 14:27:00': [1560.0, 1558.45],\n",
    "#   '2018-04-25 14:35:00': [1555.95, 1554.45],\n",
    "#   '2018-04-26 10:02:00': [1561.0, 1560.65],\n",
    "#   '2018-04-26 11:37:00': [1560.0, 1558.55],\n",
    "#   '2018-04-26 14:18:00': [1547.05, 1546.4],\n",
    "#   '2018-04-26 14:24:00': [1544.0, 1543.3],\n",
    "#   '2018-04-30 12:03:00': [1592.5, 1591.35],\n",
    "#   '2018-04-30 14:12:00': [1587.0, 1586.45],\n",
    "#   '2018-04-30 14:38:00': [1585.05, 1583.4],\n",
    "#   '2018-05-02 11:40:00': [1573.1, 1571.3],\n",
    "#   '2018-05-02 14:48:00': [1557.0, 1553.35],\n",
    "#   '2018-05-03 11:09:00': [1548.45, 1544.95],\n",
    "#   '2018-05-03 13:53:00': [1548.3, 1546.05],\n",
    "#   '2018-05-03 14:08:00': [1545.6, 1544.95],\n",
    "#   '2018-05-03 14:26:00': [1540.1, 1536.45],\n",
    "#   '2018-05-04 14:17:00': [1540.55, 1539.95],\n",
    "#   '2018-05-04 14:51:00': [1533.05, 1529.85],\n",
    "#   '2018-05-07 14:03:00': [1521.6, 1519.55],\n",
    "#   '2018-05-08 13:00:00': [1526.0, 1524.95],\n",
    "#   '2018-05-09 10:52:00': [1513.85, 1512.5],\n",
    "#   '2018-05-09 11:45:00': [1504.9, 1504.0],\n",
    "#   '2018-05-10 11:29:00': [1500.0, 1496.6],\n",
    "#   '2018-05-10 11:38:00': [1495.0, 1494.15],\n",
    "#   '2018-05-10 11:47:00': [1490.0, 1487.95],\n",
    "#   '2018-05-11 12:16:00': [1490.0, 1486.75],\n",
    "#   '2018-05-11 12:39:00': [1484.15, 1482.5],\n",
    "#   '2018-05-11 13:04:00': [1477.0, 1474.65],\n",
    "#   '2018-05-11 13:09:00': [1472.2, 1469.85],\n",
    "#   '2018-05-14 10:17:00': [1467.5, 1463.95],\n",
    "#   '2018-05-14 10:58:00': [1455.25, 1453.4],\n",
    "#   '2018-05-15 09:32:00': [1436.5, 1433.55],\n",
    "#   '2018-05-15 13:41:00': [1415.05, 1413.65],\n",
    "#   '2018-05-15 14:19:00': [1410.0, 1408.0],\n",
    "#   '2018-05-21 11:41:00': [1346.1, 1344.85],\n",
    "#   '2018-05-21 12:24:00': [1340.1, 1338.0],\n",
    "#   '2018-05-21 13:07:00': [1334.5, 1333.8],\n",
    "#   '2018-05-21 13:16:00': [1331.3, 1331.0],\n",
    "#   '2018-05-22 13:47:00': [1321.0, 1319.3],\n",
    "#   '2018-05-24 09:52:00': [1301.5, 1299.9],\n",
    "#   '2018-05-24 09:57:00': [1296.9, 1296.6],\n",
    "#   '2018-05-25 09:53:00': [1320.0, 1316.8],\n",
    "#   '2018-05-25 11:01:00': [1315.0, 1312.85],\n",
    "#   '2018-05-28 09:38:00': [1320.75, 1319.25],\n",
    "#   '2018-05-28 15:07:00': [1328.65, 1328.45],\n",
    "#   '2018-05-28 15:10:00': [1325.25, 1323.55],\n",
    "#   '2018-05-29 12:40:00': [1305.5, 1304.3],\n",
    "#   '2018-05-30 15:21:00': [1309.25, 1309.0],\n",
    "#   '2018-06-01 13:42:00': [1330.15, 1329.8],\n",
    "#   '2018-06-01 15:15:00': [1330.0, 1329.7],\n",
    "#   '2018-06-04 14:06:00': [1319.05, 1316.0],\n",
    "#   '2018-06-04 15:03:00': [1308.4, 1307.0],\n",
    "#   '2018-06-05 09:40:00': [1286.2, 1285.5],\n",
    "#   '2018-06-05 10:18:00': [1276.05, 1275.95],\n",
    "#   '2018-06-05 14:53:00': [1283.05, 1281.7],\n",
    "#   '2018-06-06 14:35:00': [1305.2, 1304.95],\n",
    "#   '2018-06-07 11:25:00': [1320.1, 1318.95],\n",
    "#   '2018-06-07 14:09:00': [1320.6, 1319.95],\n",
    "#   '2018-06-07 15:23:00': [1315.0, 1314.8],\n",
    "#   '2018-06-08 10:47:00': [1315.25, 1314.0],\n",
    "#   '2018-06-08 13:07:00': [1312.1, 1312.0],\n",
    "#   '2018-06-11 13:25:00': [1332.1, 1331.8],\n",
    "#   '2018-06-11 15:05:00': [1327.6, 1327.2],\n",
    "#   '2018-06-12 10:42:00': [1315.0, 1314.1],\n",
    "#   '2018-06-13 11:32:00': [1338.0, 1337.0],\n",
    "#   '2018-06-13 14:51:00': [1330.15, 1330.0],\n",
    "#   '2018-06-14 09:55:00': [1322.8, 1320.7],\n",
    "#   '2018-06-14 10:08:00': [1320.0, 1319.45],\n",
    "#   '2018-06-14 12:06:00': [1315.0, 1314.55],\n",
    "#   '2018-06-14 13:23:00': [1311.0, 1309.65],\n",
    "#   '2018-06-15 13:05:00': [1300.0, 1298.95],\n",
    "#   '2018-06-18 11:09:00': [1288.85, 1288.5],\n",
    "#   '2018-06-19 11:15:00': [1285.0, 1282.8],\n",
    "#   '2018-06-19 14:22:00': [1282.85, 1281.9],\n",
    "#   '2018-06-21 14:37:00': [1272.0, 1270.3],\n",
    "#   '2018-06-25 14:30:00': [1319.0, 1317.45],\n",
    "#   '2018-06-26 13:25:00': [1355.0, 1353.7],\n",
    "#   '2018-06-27 10:05:00': [1337.0, 1336.85],\n",
    "#   '2018-06-27 12:57:00': [1323.05, 1321.85],\n",
    "#   '2018-06-28 12:30:00': [1307.0, 1306.45],\n",
    "#   '2018-06-28 12:45:00': [1305.0, 1304.5],\n",
    "#   '2018-06-28 15:02:00': [1302.05, 1293.3],\n",
    "#   '2018-06-29 11:22:00': [1346.0, 1344.9],\n",
    "#   '2018-06-29 14:26:00': [1334.0, 1332.8],\n",
    "#   '2018-07-03 14:54:00': [1333.05, 1332.7],\n",
    "#   '2018-07-05 12:12:00': [1388.75, 1387.9],\n",
    "#   '2018-07-05 13:20:00': [1386.0, 1385.75],\n",
    "#   '2018-07-05 15:02:00': [1390.0, 1386.3],\n",
    "#   '2018-07-06 10:49:00': [1401.1, 1394.9],\n",
    "#   '2018-07-06 12:51:00': [1390.6, 1388.95],\n",
    "#   '2018-07-06 15:03:00': [1378.0, 1376.75],\n",
    "#   '2018-07-09 14:21:00': [1383.05, 1381.5],\n",
    "#   '2018-07-09 14:45:00': [1378.0, 1377.1],\n",
    "#   '2018-07-10 12:13:00': [1391.0, 1389.0],\n",
    "#   '2018-07-10 12:34:00': [1387.35, 1386.4],\n",
    "#   '2018-07-10 14:46:00': [1370.05, 1369.7],\n",
    "#   '2018-07-11 11:06:00': [1359.45, 1358.55],\n",
    "#   '2018-07-11 11:25:00': [1356.0, 1354.4],\n",
    "#   '2018-07-12 12:40:00': [1365.0, 1362.0],\n",
    "#   '2018-07-12 12:43:00': [1360.45, 1357.1],\n",
    "#   '2018-07-12 13:30:00': [1350.05, 1348.0],\n",
    "#   '2018-07-13 11:15:00': [1335.15, 1334.45],\n",
    "#   '2018-07-13 14:28:00': [1344.5, 1343.75],\n",
    "#   '2018-07-13 15:23:00': [1335.15, 1333.65],\n",
    "#   '2018-07-16 12:57:00': [1314.3, 1312.4],\n",
    "#   '2018-07-16 14:33:00': [1288.0, 1286.0],\n",
    "#   '2018-07-16 14:49:00': [1276.05, 1274.8],\n",
    "#   '2018-07-17 10:54:00': [1271.0, 1269.9],\n",
    "#   '2018-07-18 12:13:00': [1290.0, 1289.0],\n",
    "#   '2018-07-18 12:20:00': [1284.25, 1279.7],\n",
    "#   '2018-07-18 14:04:00': [1290.0, 1288.7],\n",
    "#   '2018-07-25 10:40:00': [1460.0, 1456.75],\n",
    "#   '2018-07-25 15:19:00': [1465.5, 1463.95],\n",
    "#   '2018-07-30 14:31:00': [1505.7, 1504.95],\n",
    "#   '2018-07-31 14:04:00': [1514.65, 1514.6],\n",
    "#   '2018-08-01 11:31:00': [1552.0, 1545.4],\n",
    "#   '2018-08-01 12:47:00': [1540.05, 1539.0],\n",
    "#   '2018-08-01 13:23:00': [1534.6, 1534.0],\n",
    "#   '2018-08-02 13:03:00': [1538.5, 1537.55],\n",
    "#   '2018-08-02 14:14:00': [1536.0, 1535.0],\n",
    "#   '2018-08-03 09:29:00': [1532.0, 1530.65],\n",
    "#   '2018-08-03 12:48:00': [1534.35, 1530.8],\n",
    "#   '2018-08-03 15:10:00': [1522.35, 1521.05],\n",
    "#   '2018-08-03 15:16:00': [1515.0, 1514.8],\n",
    "#   '2018-08-07 13:41:00': [1541.9, 1541.3],\n",
    "#   '2018-08-07 15:18:00': [1539.0, 1537.35],\n",
    "#   '2018-08-08 14:35:00': [1538.25, 1537.05],\n",
    "#   '2018-08-08 15:10:00': [1536.5, 1535.0],\n",
    "#   '2018-08-09 11:37:00': [1561.2, 1560.95],\n",
    "#   '2018-08-10 11:00:00': [1563.0, 1562.35],\n",
    "#   '2018-08-10 11:07:00': [1560.0, 1554.85],\n",
    "#   '2018-08-10 13:23:00': [1548.0, 1547.5],\n",
    "#   '2018-08-13 13:29:00': [1521.15, 1520.1],\n",
    "#   '2018-08-16 09:30:00': [1540.35, 1537.9],\n",
    "#   '2018-08-20 10:03:00': [1610.95, 1608.4],\n",
    "#   '2018-08-20 11:13:00': [1601.1, 1599.4],\n",
    "#   '2018-08-21 13:31:00': [1639.95, 1638.1],\n",
    "#   '2018-08-24 12:29:00': [1638.2, 1636.25],\n",
    "#   '2018-08-28 09:45:00': [1652.05, 1649.85],\n",
    "#   '2018-08-28 11:14:00': [1637.9, 1637.0],\n",
    "#   '2018-08-28 14:01:00': [1628.35, 1624.6],\n",
    "#   '2018-08-29 09:28:00': [1618.0, 1615.95],\n",
    "#   '2018-08-29 14:44:00': [1615.35, 1613.75],\n",
    "#   '2018-08-30 12:31:00': [1616.1, 1615.75],\n",
    "#   '2018-09-04 10:51:00': [1632.1, 1628.9],\n",
    "#   '2018-09-04 13:44:00': [1612.45, 1610.8],\n",
    "#   '2018-09-05 11:59:00': [1541.1, 1539.6],\n",
    "#   '2018-09-06 11:10:00': [1566.05, 1563.8],\n",
    "#   '2018-09-06 11:45:00': [1555.0, 1550.35],\n",
    "#   '2018-09-10 10:46:00': [1547.45, 1545.75],\n",
    "#   '2018-09-10 11:52:00': [1532.25, 1530.95],\n",
    "#   '2018-09-10 14:11:00': [1534.0, 1533.95],\n",
    "#   '2018-09-10 14:48:00': [1530.0, 1528.0],\n",
    "#   '2018-09-11 13:59:00': [1535.0, 1534.1],\n",
    "#   '2018-09-17 12:35:00': [1606.0, 1604.2],\n",
    "#   '2018-09-18 10:24:00': [1570.35, 1568.45],\n",
    "#   '2018-09-18 13:23:00': [1571.05, 1570.45],\n",
    "#   '2018-09-21 09:48:00': [1568.1, 1563.8],\n",
    "#   '2018-09-21 10:38:00': [1546.0, 1545.6],\n",
    "#   '2018-09-21 13:02:00': [1511.15, 1499.95],\n",
    "#   '2018-09-21 13:07:00': [1485.85, 1464.15],\n",
    "#   '2018-09-28 13:50:00': [1550.2, 1549.95],\n",
    "#   '2018-10-01 12:25:00': [1533.0, 1530.1],\n",
    "#   '2018-10-01 14:52:00': [1557.4, 1557.35],\n",
    "#   '2018-10-03 09:34:00': [1549.75, 1547.6],\n",
    "#   '2018-10-03 10:16:00': [1535.0, 1533.95],\n",
    "#   '2018-10-03 13:56:00': [1528.45, 1525.45],\n",
    "#   '2018-10-08 12:40:00': [1467.0, 1465.15],\n",
    "#   '2018-10-08 14:26:00': [1451.65, 1448.75],\n",
    "#   '2018-10-09 10:42:00': [1478.0, 1477.05],\n",
    "#   '2018-10-09 10:53:00': [1468.5, 1466.9],\n",
    "#   '2018-10-10 11:42:00': [1467.55, 1465.0],\n",
    "#   '2018-10-10 11:53:00': [1459.1, 1458.0],\n",
    "#   '2018-10-11 13:29:00': [1421.55, 1420.7],\n",
    "#   '2018-10-12 13:38:00': [1495.1, 1492.9],\n",
    "#   '2018-10-16 12:33:00': [1557.1, 1555.0],\n",
    "#   '2018-10-17 12:34:00': [1564.6, 1563.25],\n",
    "#   '2018-10-17 14:33:00': [1553.05, 1547.65],\n",
    "#   '2018-10-17 15:21:00': [1539.35, 1538.75],\n",
    "#   '2018-10-19 12:41:00': [1438.15, 1437.4],\n",
    "#   '2018-10-19 14:16:00': [1429.0, 1425.0],\n",
    "#   '2018-10-19 14:21:00': [1421.5, 1414.6],\n",
    "#   '2018-10-25 10:40:00': [1370.3, 1367.9],\n",
    "#   '2018-10-26 10:59:00': [1346.5, 1346.0],\n",
    "#   '2018-10-29 12:23:00': [1348.1, 1347.0],\n",
    "#   '2018-10-30 12:17:00': [1352.8, 1350.8],\n",
    "#   '2018-10-30 13:21:00': [1350.3, 1348.05],\n",
    "#   '2018-11-05 14:30:00': [1469.25, 1467.0],\n",
    "#   '2018-11-06 10:00:00': [1472.2, 1470.95],\n",
    "#   '2018-11-06 13:02:00': [1459.05, 1457.5],\n",
    "#   '2018-11-06 13:45:00': [1461.1, 1459.5],\n",
    "#   '2018-11-06 13:54:00': [1456.0, 1454.3],\n",
    "#   '2018-11-06 15:12:00': [1448.2, 1446.75],\n",
    "#   '2018-11-09 14:58:00': [1466.0, 1464.95],\n",
    "#   '2018-11-12 12:56:00': [1452.0, 1451.15],\n",
    "#   '2018-11-12 13:07:00': [1450.25, 1449.25],\n",
    "#   '2018-11-13 12:47:00': [1436.45, 1434.55],\n",
    "#   '2018-11-16 13:10:00': [1516.0, 1513.7],\n",
    "#   '2018-11-16 13:25:00': [1512.0, 1510.0],\n",
    "#   '2018-11-19 10:29:00': [1503.25, 1500.0],\n",
    "#   '2018-11-19 11:41:00': [1488.8, 1485.4],\n",
    "#   '2018-11-19 12:46:00': [1496.7, 1490.95],\n",
    "#   '2018-11-20 14:04:00': [1484.55, 1483.75],\n",
    "#   '2018-11-20 14:30:00': [1478.0, 1474.0],\n",
    "#   '2018-11-22 10:15:00': [1483.0, 1480.55],\n",
    "#   '2018-11-22 11:54:00': [1474.5, 1472.25],\n",
    "#   '2018-11-22 12:40:00': [1466.7, 1465.75],\n",
    "#   '2018-11-22 13:05:00': [1463.5, 1463.0],\n",
    "#   '2018-11-22 14:51:00': [1465.75, 1465.0],\n",
    "#   '2018-11-22 15:16:00': [1456.75, 1454.9],\n",
    "#   '2018-11-26 12:15:00': [1439.6, 1437.2],\n",
    "#   '2018-12-04 11:11:00': [1512.25, 1511.45],\n",
    "#   '2018-12-04 14:30:00': [1513.6, 1512.15],\n",
    "#   '2018-12-05 12:07:00': [1482.1, 1478.0],\n",
    "#   '2018-12-05 14:24:00': [1474.0, 1470.65],\n",
    "#   '2018-12-06 10:50:00': [1450.3, 1450.1],\n",
    "#   '2018-12-06 10:59:00': [1447.0, 1446.4],\n",
    "#   '2018-12-06 13:33:00': [1450.0, 1448.95],\n",
    "#   '2018-12-06 14:27:00': [1432.7, 1430.7],\n",
    "#   '2018-12-07 10:32:00': [1430.55, 1428.8],\n",
    "#   '2018-12-07 12:53:00': [1437.0, 1434.0],\n",
    "#   '2018-12-10 13:14:00': [1422.0, 1420.35],\n",
    "#   '2018-12-10 14:39:00': [1416.0, 1414.6],\n",
    "#   '2018-12-12 11:01:00': [1448.25, 1446.8],\n",
    "#   '2018-12-13 12:14:00': [1487.6, 1486.75],\n",
    "#   '2018-12-14 11:25:00': [1507.0, 1505.6],\n",
    "#   '2018-12-17 13:42:00': [1502.5, 1501.5],\n",
    "#   '2018-12-18 13:41:00': [1498.0, 1497.0],\n",
    "#   '2018-12-18 14:51:00': [1497.0, 1496.5],\n",
    "#   '2018-12-19 14:00:00': [1558.2, 1555.1],\n",
    "#   '2018-12-20 14:39:00': [1538.1, 1536.75],\n",
    "#   '2018-12-21 13:06:00': [1504.0, 1502.35],\n",
    "#   '2018-12-21 13:20:00': [1498.1, 1497.95],\n",
    "#   '2018-12-21 13:56:00': [1495.5, 1493.0],\n",
    "#   '2018-12-24 12:08:00': [1475.5, 1475.0],\n",
    "#   '2018-12-24 13:29:00': [1472.1, 1470.5],\n",
    "#   '2018-12-24 13:55:00': [1468.05, 1468.0],\n",
    "#   '2018-12-24 14:28:00': [1466.0, 1462.7],\n",
    "#   '2018-12-24 14:35:00': [1456.95, 1456.0],\n",
    "#   '2018-12-27 11:29:00': [1475.15, 1474.0],\n",
    "#   '2018-12-27 13:48:00': [1470.05, 1470.0],\n",
    "#   '2018-12-27 15:01:00': [1466.5, 1466.0],\n",
    "#   '2018-12-28 12:41:00': [1484.0, 1481.75],\n",
    "#   '2018-12-28 15:11:00': [1480.15, 1479.4],\n",
    "#   '2019-01-01 11:12:00': [1491.75, 1489.9],\n",
    "#   '2019-01-01 11:47:00': [1489.1, 1487.6],\n",
    "#   '2019-01-01 12:07:00': [1486.1, 1486.0],\n",
    "#   '2019-01-01 12:31:00': [1481.2, 1480.05],\n",
    "#   '2019-01-01 13:36:00': [1478.1, 1477.3],\n",
    "#   '2019-01-02 12:45:00': [1487.0, 1485.8],\n",
    "#   '2019-01-02 15:15:00': [1485.75, 1484.7],\n",
    "#   '2019-01-03 10:40:00': [1477.0, 1474.5],\n",
    "#   '2019-01-03 11:07:00': [1464.75, 1464.6],\n",
    "#   '2019-01-03 13:43:00': [1463.85, 1461.5],\n",
    "#   '2019-01-04 14:15:00': [1458.5, 1457.05],\n",
    "#   '2019-01-07 14:36:00': [1488.35, 1486.5],\n",
    "#   '2019-01-07 14:42:00': [1484.0, 1482.4],\n",
    "#   '2019-01-08 11:09:00': [1473.8, 1472.0],\n",
    "#   '2019-01-08 14:45:00': [1479.5, 1477.0],\n",
    "#   '2019-01-09 13:39:00': [1469.0, 1466.35],\n",
    "#   '2019-01-10 12:50:00': [1453.0, 1451.85],\n",
    "#   '2019-01-11 13:59:00': [1459.05, 1457.55],\n",
    "#   '2019-01-14 14:34:00': [1455.1, 1454.3],\n",
    "#   '2019-01-15 12:29:00': [1488.75, 1488.5],\n",
    "#   '2019-01-15 13:10:00': [1486.65, 1485.4],\n",
    "#   '2019-01-15 14:07:00': [1482.0, 1481.95],\n",
    "#   '2019-01-16 11:07:00': [1485.0, 1483.45],\n",
    "#   '2019-01-16 13:41:00': [1476.4, 1475.95],\n",
    "#   '2019-01-17 09:48:00': [1476.1, 1474.3],\n",
    "#   '2019-01-17 10:45:00': [1472.55, 1470.0],\n",
    "#   '2019-01-17 11:59:00': [1468.0, 1467.55],\n",
    "#   '2019-01-17 12:25:00': [1462.6, 1462.55],\n",
    "#   '2019-01-18 13:06:00': [1444.0, 1442.55],\n",
    "#   '2019-01-18 14:22:00': [1443.0, 1442.7],\n",
    "#   '2019-01-21 10:45:00': [1438.1, 1437.0],\n",
    "#   '2019-01-21 14:29:00': [1427.0, 1426.0],\n",
    "#   '2019-01-22 10:49:00': [1422.95, 1421.45],\n",
    "#   '2019-01-22 14:37:00': [1434.05, 1432.75],\n",
    "#   '2019-01-23 13:11:00': [1440.05, 1439.0],\n",
    "#   '2019-01-23 15:06:00': [1434.4, 1432.1],\n",
    "#   '2019-01-24 11:10:00': [1427.0, 1426.0],\n",
    "#   '2019-01-24 11:58:00': [1422.15, 1422.0],\n",
    "#   '2019-01-24 13:42:00': [1414.5, 1414.0],\n",
    "#   '2019-01-25 11:10:00': [1416.05, 1415.2],\n",
    "#   '2019-01-25 12:11:00': [1411.5, 1409.0],\n",
    "#   '2019-01-25 13:57:00': [1390.0, 1387.05],\n",
    "#   '2019-01-25 14:18:00': [1377.0, 1376.5],\n",
    "#   '2019-01-25 14:48:00': [1373.1, 1372.75],\n",
    "#   '2019-01-28 10:38:00': [1350.0, 1348.55],\n",
    "#   '2019-01-29 12:50:00': [1365.9, 1364.25],\n",
    "#   '2019-01-30 10:00:00': [1350.5, 1348.6],\n",
    "#   '2019-02-05 13:02:00': [1425.25, 1424.8],\n",
    "#   '2019-02-05 13:42:00': [1423.75, 1422.55],\n",
    "#   '2019-02-05 13:52:00': [1416.0, 1408.0],\n",
    "#   '2019-02-06 10:42:00': [1390.95, 1387.95],\n",
    "#   '2019-02-06 12:41:00': [1382.7, 1380.0],\n",
    "#   '2019-02-08 10:24:00': [1421.2, 1419.95],\n",
    "#   '2019-02-08 11:42:00': [1410.25, 1409.55],\n",
    "#   '2019-02-08 15:10:00': [1393.9, 1393.0],\n",
    "#   '2019-02-11 11:16:00': [1384.0, 1381.0],\n",
    "#   '2019-02-11 11:26:00': [1377.05, 1377.0],\n",
    "#   '2019-02-11 14:53:00': [1376.0, 1374.5],\n",
    "#   '2019-02-12 11:36:00': [1380.0, 1377.15],\n",
    "#   '2019-02-12 12:53:00': [1376.9, 1375.95],\n",
    "#   '2019-02-13 10:09:00': [1376.0, 1373.75],\n",
    "#   '2019-02-14 11:36:00': [1360.0, 1359.35],\n",
    "#   '2019-02-14 11:45:00': [1353.2, 1352.5],\n",
    "#   '2019-02-14 12:50:00': [1353.0, 1352.65],\n",
    "#   '2019-02-15 11:09:00': [1351.25, 1351.2],\n",
    "#   '2019-02-18 11:38:00': [1340.6, 1339.0],\n",
    "#   '2019-02-18 12:16:00': [1335.0, 1334.0],\n",
    "#   '2019-02-18 13:12:00': [1339.05, 1336.7],\n",
    "#   '2019-02-18 15:16:00': [1331.5, 1331.0],\n",
    "#   '2019-02-21 14:35:00': [1391.0, 1389.9],\n",
    "#   '2019-02-26 09:55:00': [1359.5, 1359.05],\n",
    "#   '2019-02-27 11:25:00': [1445.05, 1444.3],\n",
    "#   '2019-02-28 11:11:00': [1431.35, 1429.45],\n",
    "#   '2019-02-28 13:47:00': [1420.05, 1419.45],\n",
    "#   '2019-03-05 12:41:00': [1498.0, 1496.9],\n",
    "#   '2019-03-06 12:42:00': [1550.9, 1550.0],\n",
    "#   '2019-03-07 12:21:00': [1550.95, 1549.2],\n",
    "#   '2019-03-08 11:55:00': [1565.05, 1564.15],\n",
    "#   '2019-03-11 09:52:00': [1575.55, 1572.8],\n",
    "#   '2019-03-12 13:40:00': [1601.6, 1599.95],\n",
    "#   '2019-03-12 15:13:00': [1593.95, 1592.1],\n",
    "#   '2019-03-14 12:15:00': [1545.05, 1542.2],\n",
    "#   '2019-03-14 13:02:00': [1541.0, 1539.85],\n",
    "#   '2019-03-15 10:06:00': [1550.0, 1547.75],\n",
    "#   '2019-03-15 12:00:00': [1538.0, 1537.0],\n",
    "#   '2019-03-15 12:40:00': [1535.15, 1533.7],\n",
    "#   '2019-03-15 12:47:00': [1532.0, 1531.5],\n",
    "#   '2019-03-18 10:30:00': [1550.25, 1547.5],\n",
    "#   '2019-03-19 13:32:00': [1567.5, 1566.3],\n",
    "#   '2019-03-20 10:57:00': [1562.8, 1561.8],\n",
    "#   '2019-03-20 12:01:00': [1559.6, 1557.3],\n",
    "#   '2019-03-22 14:01:00': [1586.35, 1585.95],\n",
    "#   '2019-03-25 11:33:00': [1570.0, 1568.2],\n",
    "#   '2019-03-25 14:51:00': [1573.7, 1572.4],\n",
    "#   '2019-03-26 10:00:00': [1580.0, 1578.5],\n",
    "#   '2019-03-26 10:26:00': [1576.35, 1573.65],\n",
    "#   '2019-03-26 10:41:00': [1567.4, 1565.75],\n",
    "#   '2019-03-26 13:04:00': [1559.5, 1559.4],\n",
    "#   '2019-03-27 10:50:00': [1608.0, 1606.55],\n",
    "#   '2019-03-27 11:09:00': [1602.65, 1602.0],\n",
    "#   '2019-03-27 11:38:00': [1583.05, 1583.0],\n",
    "#   '2019-03-28 11:19:00': [1605.15, 1603.4],\n",
    "#   '2019-03-28 12:32:00': [1602.45, 1599.3],\n",
    "#   '2019-03-28 13:56:00': [1598.95, 1595.0],\n",
    "#   '2019-04-01 10:37:00': [1681.75, 1677.6],\n",
    "#   '2019-04-01 13:13:00': [1672.0, 1668.9],\n",
    "#   '2019-04-01 14:33:00': [1666.0, 1661.25],\n",
    "#   '2019-04-01 15:01:00': [1655.65, 1653.8],\n",
    "#   '2019-04-02 11:20:00': [1652.0, 1651.7],\n",
    "#   '2019-04-02 11:39:00': [1648.0, 1646.3],\n",
    "#   '2019-04-02 11:47:00': [1639.4, 1638.1],\n",
    "#   '2019-04-02 13:03:00': [1641.0, 1636.95],\n",
    "#   '2019-04-02 14:06:00': [1631.45, 1630.0],\n",
    "#   '2019-04-02 14:10:00': [1627.35, 1626.6],\n",
    "#   '2019-04-04 13:52:00': [1635.9, 1635.55],\n",
    "#   '2019-04-04 14:16:00': [1625.1, 1624.6],\n",
    "#   '2019-04-11 10:02:00': [1641.05, 1639.9],\n",
    "#   '2019-04-15 14:16:00': [1665.05, 1665.0],\n",
    "#   '2019-04-16 13:16:00': [1698.8, 1698.15],\n",
    "#   '2019-04-18 13:53:00': [1688.35, 1687.9],\n",
    "#   '2019-04-22 12:47:00': [1682.1, 1682.05],\n",
    "#   '2019-04-22 14:04:00': [1678.2, 1675.9],\n",
    "#   '2019-04-23 10:03:00': [1670.65, 1669.8],\n",
    "#   '2019-04-23 10:48:00': [1671.4, 1669.85],\n",
    "#   '2019-04-23 12:12:00': [1673.0, 1672.7],\n",
    "#   '2019-04-23 14:37:00': [1670.25, 1669.35],\n",
    "#   '2019-04-23 15:11:00': [1666.15, 1661.2],\n",
    "#   '2019-04-24 11:44:00': [1582.0, 1577.45],\n",
    "#   '2019-04-25 13:33:00': [1640.6, 1638.75],\n",
    "#   '2019-04-25 14:53:00': [1630.0, 1627.25],\n",
    "#   '2019-04-30 09:43:00': [1626.05, 1624.15],\n",
    "#   '2019-04-30 11:53:00': [1606.3, 1605.7],\n",
    "#   '2019-05-02 11:00:00': [1631.35, 1631.0],\n",
    "#   '2019-05-07 13:59:00': [1624.9, 1623.0],\n",
    "#   '2019-05-07 14:58:00': [1605.1, 1602.7],\n",
    "#   '2019-05-09 12:19:00': [1586.0, 1584.0],\n",
    "#   '2019-05-09 13:43:00': [1579.1, 1579.0],\n",
    "#   '2019-05-10 12:47:00': [1603.95, 1603.2],\n",
    "#   '2019-05-20 14:26:00': [1665.9, 1663.6],\n",
    "#   '2019-05-21 11:47:00': [1670.8, 1669.8],\n",
    "#   '2019-05-21 12:39:00': [1662.25, 1661.1],\n",
    "#   '2019-05-21 12:57:00': [1652.0, 1648.75],\n",
    "#   '2019-05-22 10:12:00': [1618.25, 1617.5],\n",
    "#   '2019-05-22 14:31:00': [1618.05, 1615.95],\n",
    "#   '2019-05-29 14:36:00': [1718.35, 1718.0],\n",
    "#   '2019-05-30 10:41:00': [1721.55, 1720.35],\n",
    "#   '2019-05-30 12:38:00': [1714.15, 1712.5],\n",
    "#   '2019-05-30 13:56:00': [1708.05, 1706.25],\n",
    "#   '2019-05-31 13:22:00': [1673.0, 1672.5],\n",
    "#   '2019-06-03 13:43:00': [1701.5, 1701.4],\n",
    "#   '2019-06-04 10:31:00': [1706.15, 1704.0],\n",
    "#   '2019-06-04 11:02:00': [1688.55, 1685.75],\n",
    "#   '2019-06-04 12:10:00': [1670.1, 1669.6],\n",
    "#   '2019-06-04 12:21:00': [1661.8, 1659.0],\n",
    "#   '2019-06-04 14:09:00': [1661.0, 1660.0],\n",
    "#   '2019-06-06 10:55:00': [1612.0, 1611.35],\n",
    "#   '2019-06-06 12:28:00': [1607.0, 1605.75],\n",
    "#   '2019-06-06 13:13:00': [1600.1, 1599.0],\n",
    "#   '2019-06-06 13:27:00': [1595.7, 1595.3],\n",
    "#   '2019-06-06 13:37:00': [1590.1, 1589.1],\n",
    "#   '2019-06-06 15:16:00': [1590.0, 1589.8],\n",
    "#   '2019-06-07 10:42:00': [1598.3, 1594.05],\n",
    "#   '2019-06-07 14:56:00': [1593.7, 1593.65],\n",
    "#   '2019-06-17 10:46:00': [1525.0, 1523.9],\n",
    "#   '2019-06-17 12:44:00': [1525.1, 1525.0],\n",
    "#   '2019-06-18 14:49:00': [1519.3, 1517.5],\n",
    "#   '2019-06-19 09:44:00': [1526.05, 1524.2],\n",
    "#   '2019-06-19 11:05:00': [1513.05, 1510.85],\n",
    "#   '2019-06-19 11:15:00': [1509.0, 1508.15],\n",
    "#   '2019-06-20 13:12:00': [1500.1, 1499.7],\n",
    "#   '2019-06-21 12:38:00': [1525.5, 1520.95],\n",
    "#   '2019-06-21 15:03:00': [1530.45, 1530.05],\n",
    "#   '2019-06-24 12:45:00': [1538.65, 1536.35],\n",
    "#   '2019-06-26 10:50:00': [1571.0, 1570.65],\n",
    "#   '2019-06-27 14:04:00': [1576.0, 1574.4],\n",
    "#   '2019-06-28 13:11:00': [1576.0, 1573.4],\n",
    "#   '2019-07-01 12:17:00': [1561.2, 1561.0],\n",
    "#   '2019-07-01 12:31:00': [1557.2, 1556.25],\n",
    "#   '2019-07-03 13:14:00': [1567.45, 1566.7],\n",
    "#   '2019-07-03 13:18:00': [1566.0, 1564.4],\n",
    "#   '2019-07-04 10:01:00': [1566.1, 1565.85],\n",
    "#   '2019-07-05 10:45:00': [1590.05, 1588.9],\n",
    "#   '2019-07-05 11:25:00': [1588.0, 1586.8],\n",
    "#   '2019-07-05 11:45:00': [1581.05, 1579.95],\n",
    "#   '2019-07-05 15:01:00': [1550.6, 1547.45],\n",
    "#   '2019-07-08 10:35:00': [1523.0, 1519.3],\n",
    "#   '2019-07-10 12:39:00': [1546.55, 1545.85],\n",
    "#   '2019-07-10 15:16:00': [1536.5, 1535.8],\n",
    "#   '2019-07-11 13:32:00': [1550.5, 1549.75],\n",
    "#   '2019-07-12 11:13:00': [1568.25, 1567.0],\n",
    "#   '2019-07-12 14:39:00': [1573.0, 1572.6],\n",
    "#   '2019-07-15 10:07:00': [1571.25, 1568.25],\n",
    "#   '2019-07-15 10:15:00': [1566.0, 1563.95],\n",
    "#   '2019-07-17 12:59:00': [1603.05, 1602.8],\n",
    "#   '2019-07-17 13:11:00': [1601.0, 1598.8],\n",
    "#   '2019-07-17 13:19:00': [1593.0, 1591.0],\n",
    "#   '2019-07-17 15:09:00': [1595.3, 1595.25],\n",
    "#   '2019-07-17 15:12:00': [1591.1, 1589.6],\n",
    "#   '2019-07-18 10:23:00': [1596.5, 1594.2],\n",
    "#   '2019-07-18 15:11:00': [1568.0, 1566.35],\n",
    "#   '2019-07-19 10:00:00': [1612.0, 1610.9],\n",
    "#   '2019-07-19 13:16:00': [1587.0, 1583.55],\n",
    "#   '2019-07-19 14:29:00': [1580.65, 1578.85],\n",
    "#   '2019-07-19 14:45:00': [1567.85, 1560.0],\n",
    "#   '2019-07-19 15:11:00': [1541.0, 1536.0],\n",
    "#   '2019-07-22 13:20:00': [1567.85, 1567.2],\n",
    "#   '2019-07-23 10:46:00': [1589.0, 1588.65],\n",
    "#   '2019-07-23 13:15:00': [1590.15, 1589.5],\n",
    "#   '2019-07-23 14:10:00': [1584.95, 1583.95],\n",
    "#   '2019-07-23 14:28:00': [1581.45, 1580.7],\n",
    "#   '2019-07-24 10:36:00': [1571.5, 1569.9],\n",
    "#   '2019-07-24 12:33:00': [1571.25, 1571.0],\n",
    "#   '2019-07-24 14:45:00': [1570.65, 1569.95],\n",
    "#   '2019-07-25 15:03:00': [1577.25, 1576.4],\n",
    "#   '2019-07-29 09:39:00': [1576.85, 1575.6],\n",
    "#   '2019-07-29 11:28:00': [1555.1, 1553.45],\n",
    "#   '2019-07-29 13:29:00': [1546.5, 1545.0],\n",
    "#   '2019-07-29 14:36:00': [1537.05, 1535.6],\n",
    "#   '2019-07-30 15:16:00': [1540.35, 1538.25],\n",
    "#   '2019-08-01 13:03:00': [1537.8, 1537.0],\n",
    "#   '2019-08-01 13:35:00': [1536.35, 1533.75],\n",
    "#   '2019-08-01 14:34:00': [1516.7, 1516.05],\n",
    "#   '2019-08-07 15:00:00': [1560.1, 1557.85],\n",
    "#   '2019-08-07 15:10:00': [1555.0, 1553.95],\n",
    "#   '2019-08-08 12:11:00': [1579.0, 1577.9],\n",
    "#   '2019-08-08 13:02:00': [1575.15, 1573.25],\n",
    "#   '2019-08-08 14:12:00': [1566.05, 1565.05],\n",
    "#   '2019-08-08 14:15:00': [1559.05, 1554.35],\n",
    "#   '2019-08-09 13:42:00': [1581.0, 1578.85],\n",
    "#   '2019-08-13 12:22:00': [1565.0, 1562.9],\n",
    "#   '2019-08-13 14:28:00': [1557.5, 1555.95],\n",
    "#   '2019-08-19 11:23:00': [1603.1, 1601.45],\n",
    "#   '2019-08-19 13:33:00': [1599.15, 1598.45],\n",
    "#   '2019-08-19 14:29:00': [1593.75, 1592.25],\n",
    "#   '2019-08-19 15:11:00': [1589.15, 1587.6],\n",
    "#   '2019-08-20 09:52:00': [1553.8, 1551.9],\n",
    "#   '2019-08-20 10:43:00': [1547.25, 1544.0],\n",
    "#   '2019-08-20 12:17:00': [1542.35, 1541.85],\n",
    "#   '2019-08-21 12:00:00': [1515.95, 1513.0],\n",
    "#   '2019-08-21 14:13:00': [1488.75, 1487.75],\n",
    "#   '2019-08-22 10:34:00': [1467.5, 1463.8],\n",
    "#   '2019-08-22 14:55:00': [1471.5, 1469.65],\n",
    "#   '2019-08-22 15:00:00': [1467.0, 1463.1],\n",
    "#   '2019-08-23 11:13:00': [1456.1, 1455.65],\n",
    "#   '2019-08-23 12:00:00': [1460.65, 1458.5],\n",
    "#   '2019-08-27 12:34:00': [1532.7, 1532.0],\n",
    "#   '2019-08-27 12:51:00': [1530.7, 1528.7],\n",
    "#   '2019-08-27 15:02:00': [1539.1, 1537.5],\n",
    "#   '2019-08-28 12:30:00': [1540.55, 1538.75],\n",
    "#   '2019-08-28 12:39:00': [1535.9, 1533.3],\n",
    "#   '2019-08-28 14:14:00': [1529.7, 1526.95],\n",
    "#   '2019-08-28 14:32:00': [1524.5, 1523.0],\n",
    "#   '2019-08-29 10:18:00': [1538.0, 1535.4],\n",
    "#   '2019-08-29 11:58:00': [1515.25, 1513.0],\n",
    "#   '2019-08-29 15:06:00': [1503.45, 1501.35],\n",
    "#   '2019-08-29 15:11:00': [1498.0, 1497.05],\n",
    "#   '2019-08-30 10:16:00': [1497.0, 1495.15],\n",
    "#   '2019-08-30 11:10:00': [1490.2, 1487.85],\n",
    "#   '2019-09-03 10:29:00': [1473.0, 1472.1],\n",
    "#   '2019-09-03 11:17:00': [1468.4, 1468.1],\n",
    "#   '2019-09-03 11:45:00': [1461.0, 1459.8],\n",
    "#   '2019-09-03 15:16:00': [1454.6, 1452.05],\n",
    "#   '2019-09-03 15:23:00': [1445.0, 1443.4],\n",
    "#   '2019-09-04 11:19:00': [1439.05, 1437.3],\n",
    "#   '2019-09-05 13:49:00': [1459.0, 1457.9],\n",
    "#   '2019-09-06 11:57:00': [1468.3, 1466.3],\n",
    "#   '2019-09-06 14:13:00': [1463.2, 1462.15],\n",
    "#   '2019-09-06 14:18:00': [1460.0, 1459.0],\n",
    "#   '2019-09-09 13:45:00': [1476.0, 1473.8],\n",
    "#   '2019-09-11 10:04:00': [1483.8, 1482.85],\n",
    "#   '2019-09-11 11:14:00': [1480.5, 1479.15],\n",
    "#   '2019-09-12 14:05:00': [1491.55, 1490.85],\n",
    "#   '2019-09-16 11:57:00': [1530.3, 1529.85],\n",
    "#   '2019-09-17 13:26:00': [1500.05, 1498.05],\n",
    "#   '2019-09-18 13:04:00': [1495.0, 1494.85],\n",
    "#   '2019-09-19 10:28:00': [1488.7, 1487.6],\n",
    "#   '2019-09-19 14:32:00': [1471.15, 1469.35],\n",
    "#   '2019-09-23 13:24:00': [1684.0, 1679.05],\n",
    "#   '2019-09-23 13:37:00': [1675.65, 1672.45],\n",
    "#   '2019-09-24 13:23:00': [1636.7, 1635.05],\n",
    "#   '2019-09-25 09:43:00': [1632.6, 1631.3],\n",
    "#   '2019-09-25 11:24:00': [1643.0, 1640.0],\n",
    "#   '2019-09-25 13:06:00': [1638.8, 1636.3],\n",
    "#   '2019-09-26 10:30:00': [1640.0, 1638.3],\n",
    "#   '2019-09-26 11:52:00': [1635.0, 1634.8],\n",
    "#   '2019-09-26 15:06:00': [1642.5, 1642.0],\n",
    "#   '2019-09-30 09:40:00': [1620.55, 1619.7],\n",
    "#   '2019-09-30 10:18:00': [1621.15, 1619.05],\n",
    "#   '2019-09-30 14:50:00': [1601.0, 1598.7],\n",
    "#   '2019-10-01 09:57:00': [1604.55, 1603.5],\n",
    "#   '2019-10-01 13:15:00': [1580.1, 1578.9],\n",
    "#   '2019-10-01 13:31:00': [1571.1, 1568.85],\n",
    "#   '2019-10-03 12:40:00': [1559.1, 1557.1],\n",
    "#   '2019-10-04 10:52:00': [1535.1, 1534.9],\n",
    "#   '2019-10-04 13:30:00': [1503.5, 1502.95],\n",
    "#   '2019-10-04 14:59:00': [1497.5, 1497.2],\n",
    "#   '2019-10-07 11:08:00': [1460.95, 1460.45],\n",
    "#   '2019-10-09 10:29:00': [1427.55, 1422.25],\n",
    "#   '2019-10-10 13:43:00': [1425.0, 1423.5],\n",
    "#   '2019-10-11 10:00:00': [1438.05, 1437.3],\n",
    "#   '2019-10-11 10:42:00': [1434.0, 1430.2],\n",
    "#   '2019-10-11 14:31:00': [1436.8, 1436.75],\n",
    "#   '2019-10-14 11:51:00': [1465.95, 1462.85],\n",
    "#   '2019-10-14 14:51:00': [1478.05, 1474.55],\n",
    "#   '2019-10-16 11:29:00': [1529.5, 1523.95],\n",
    "#   '2019-10-16 14:35:00': [1521.2, 1519.6],\n",
    "#   '2019-10-17 12:03:00': [1522.15, 1521.95],\n",
    "#   '2019-10-17 12:26:00': [1517.25, 1512.1],\n",
    "#   '2019-10-23 12:07:00': [1540.25, 1539.85],\n",
    "#   '2019-10-23 12:26:00': [1536.0, 1535.5],\n",
    "#   '2019-10-24 10:30:00': [1525.0, 1524.3],\n",
    "#   '2019-10-25 12:48:00': [1519.8, 1517.0],\n",
    "#   '2019-10-29 10:04:00': [1521.4, 1519.05],\n",
    "#   '2019-10-30 13:17:00': [1547.35, 1546.9],\n",
    "#   '2019-10-30 14:06:00': [1545.0, 1542.15],\n",
    "#   '2019-10-30 14:31:00': [1534.0, 1533.25],\n",
    "#   '2019-10-30 14:40:00': [1525.85, 1523.7],\n",
    "#   '2019-11-01 12:55:00': [1564.0, 1563.2],\n",
    "#   '2019-11-01 13:10:00': [1551.1, 1549.0],\n",
    "#   '2019-11-04 13:12:00': [1573.85, 1573.0],\n",
    "#   '2019-11-04 13:51:00': [1569.5, 1569.3],\n",
    "#   '2019-11-04 15:11:00': [1567.0, 1566.55],\n",
    "#   '2019-11-05 10:48:00': [1553.95, 1553.15],\n",
    "#   '2019-11-05 11:17:00': [1549.2, 1547.65],\n",
    "#   '2019-11-05 11:35:00': [1539.25, 1536.35],\n",
    "#   '2019-11-05 13:12:00': [1527.15, 1525.75],\n",
    "#   '2019-11-05 15:11:00': [1518.35, 1515.25],\n",
    "#   '2019-11-06 13:52:00': [1525.0, 1523.45],\n",
    "#   '2019-11-07 12:30:00': [1540.1, 1538.7],\n",
    "#   '2019-11-07 12:35:00': [1535.6, 1534.3],\n",
    "#   '2019-11-07 12:59:00': [1528.35, 1525.6],\n",
    "#   '2019-11-08 11:25:00': [1527.9, 1525.35],\n",
    "#   '2019-11-08 13:13:00': [1520.25, 1519.95],\n",
    "#   '2019-11-11 11:50:00': [1510.0, 1504.9],\n",
    "#   '2019-11-11 13:25:00': [1496.5, 1495.3],\n",
    "#   '2019-11-13 15:16:00': [1493.15, 1492.7],\n",
    "#   '2019-11-14 14:06:00': [1478.0, 1476.9],\n",
    "#   '2019-11-15 12:45:00': [1488.05, 1487.15],\n",
    "#   '2019-11-15 15:02:00': [1487.15, 1486.15],\n",
    "#   '2019-11-18 11:30:00': [1500.0, 1498.0],\n",
    "#   '2019-11-18 11:55:00': [1495.65, 1494.8],\n",
    "#   '2019-11-19 11:29:00': [1495.75, 1490.3],\n",
    "#   '2019-11-19 12:30:00': [1494.1, 1493.0],\n",
    "#   '2019-11-19 12:53:00': [1488.75, 1486.6],\n",
    "#   '2019-11-20 11:08:00': [1495.25, 1494.5],\n",
    "#   '2019-11-20 12:38:00': [1494.35, 1491.6],\n",
    "#   '2019-11-20 14:45:00': [1485.45, 1485.0],\n",
    "#   '2019-11-21 12:39:00': [1480.1, 1479.1],\n",
    "#   '2019-11-22 10:15:00': [1474.8, 1471.3],\n",
    "#   '2019-11-26 10:58:00': [1485.2, 1482.35],\n",
    "#   '2019-11-26 13:13:00': [1484.5, 1484.0],\n",
    "#   '2019-11-27 15:18:00': [1502.0, 1501.75],\n",
    "#   '2019-11-29 10:47:00': [1524.2, 1524.0],\n",
    "#   '2019-12-02 13:11:00': [1540.3, 1540.05],\n",
    "#   '2019-12-02 13:22:00': [1537.0, 1536.0],\n",
    "#   '2019-12-02 14:39:00': [1531.0, 1529.5],\n",
    "#   '2019-12-03 10:44:00': [1523.0, 1522.7],\n",
    "#   '2019-12-03 15:09:00': [1510.05, 1509.5],\n",
    "#   '2019-12-05 10:28:00': [1511.4, 1511.0],\n",
    "#   '2019-12-05 11:46:00': [1501.0, 1500.2],\n",
    "#   '2019-12-05 14:01:00': [1498.25, 1496.3],\n",
    "#   '2019-12-06 13:53:00': [1481.55, 1481.05],\n",
    "#   '2019-12-06 14:23:00': [1475.0, 1469.2],\n",
    "#   '2019-12-09 12:45:00': [1486.5, 1484.95],\n",
    "#   '2019-12-10 12:13:00': [1462.7, 1460.9],\n",
    "#   '2019-12-10 15:07:00': [1439.15, 1437.0],\n",
    "#   '2019-12-11 11:28:00': [1425.25, 1423.6],\n",
    "#   '2019-12-11 11:41:00': [1420.3, 1419.25],\n",
    "#   '2019-12-11 12:17:00': [1410.05, 1410.0],\n",
    "#   '2019-12-11 12:49:00': [1405.6, 1405.0],\n",
    "#   '2019-12-11 12:57:00': [1403.05, 1403.0],\n",
    "#   '2019-12-12 10:39:00': [1422.0, 1420.9],\n",
    "#   '2019-12-12 12:33:00': [1424.7, 1422.05],\n",
    "#   '2019-12-13 10:52:00': [1438.2, 1437.0],\n",
    "#   '2019-12-16 11:10:00': [1440.35, 1438.85],\n",
    "#   '2019-12-16 12:29:00': [1430.1, 1429.5],\n",
    "#   '2019-12-16 15:01:00': [1439.05, 1438.8],\n",
    "#   '2019-12-18 13:03:00': [1460.0, 1458.45],\n",
    "#   '2019-12-19 11:52:00': [1454.15, 1454.05],\n",
    "#   '2019-12-19 12:40:00': [1452.5, 1451.55],\n",
    "#   '2019-12-19 13:45:00': [1447.0, 1445.65],\n",
    "#   '2019-12-20 10:17:00': [1440.8, 1439.5],\n",
    "#   '2019-12-27 13:08:00': [1458.25, 1457.4],\n",
    "#   '2019-12-30 10:49:00': [1465.0, 1461.8],\n",
    "#   '2019-12-31 10:59:00': [1448.5, 1447.6],\n",
    "#   '2019-12-31 14:19:00': [1448.55, 1448.0],\n",
    "#   '2019-12-31 15:00:00': [1446.25, 1446.05],\n",
    "#   '2020-01-01 10:44:00': [1450.15, 1448.0],\n",
    "#   '2020-01-01 12:41:00': [1443.1, 1443.0],\n",
    "#   '2020-01-01 15:11:00': [1440.35, 1439.8],\n",
    "#   '2020-01-02 13:50:00': [1494.0, 1493.9],\n",
    "#   '2020-01-03 12:01:00': [1476.0, 1475.0],\n",
    "#   '2020-01-03 14:13:00': [1471.95, 1470.9],\n",
    "#   '2020-01-03 14:50:00': [1470.05, 1469.0],\n",
    "#   '2020-01-06 09:30:00': [1453.5, 1451.35],\n",
    "#   '2020-01-06 12:58:00': [1444.0, 1441.9],\n",
    "#   '2020-01-06 14:06:00': [1442.7, 1441.4],\n",
    "#   '2020-01-06 15:12:00': [1433.85, 1433.7],\n",
    "#   '2020-01-07 11:11:00': [1446.0, 1444.2],\n",
    "#   '2020-01-08 14:15:00': [1466.05, 1465.0],\n",
    "#   '2020-01-09 11:10:00': [1482.35, 1481.2],\n",
    "#   '2020-01-10 13:06:00': [1520.0, 1519.2],\n",
    "#   '2020-01-13 12:06:00': [1522.5, 1521.05],\n",
    "#   '2020-01-14 13:00:00': [1522.85, 1521.0],\n",
    "#   '2020-01-14 13:48:00': [1517.6, 1516.8],\n",
    "#   '2020-01-14 14:13:00': [1515.15, 1515.0],\n",
    "#   '2020-01-15 12:06:00': [1494.6, 1494.4],\n",
    "#   '2020-01-16 09:51:00': [1520.3, 1518.0],\n",
    "#   '2020-01-16 10:25:00': [1512.5, 1509.8],\n",
    "#   '2020-01-16 11:51:00': [1506.65, 1502.1],\n",
    "#   '2020-01-16 14:21:00': [1505.5, 1504.9],\n",
    "#   '2020-01-17 13:19:00': [1512.75, 1512.4],\n",
    "#   '2020-01-20 09:55:00': [1509.1, 1507.95],\n",
    "#   '2020-01-20 12:25:00': [1503.5, 1503.25],\n",
    "#   '2020-01-20 14:26:00': [1499.3, 1497.55],\n",
    "#   '2020-01-21 10:45:00': [1500.05, 1498.2],\n",
    "#   '2020-01-21 15:10:00': [1496.75, 1493.4],\n",
    "#   '2020-01-22 12:45:00': [1527.55, 1526.5],\n",
    "#   '2020-01-22 14:05:00': [1531.3, 1530.85],\n",
    "#   '2020-01-22 14:22:00': [1525.4, 1523.95],\n",
    "#   '2020-01-23 11:56:00': [1539.05, 1538.1],\n",
    "#   '2020-01-23 15:11:00': [1548.65, 1547.95],\n",
    "#   '2020-01-24 13:01:00': [1556.05, 1554.6],\n",
    "#   '2020-01-24 13:57:00': [1555.0, 1552.5],\n",
    "#   '2020-01-27 12:33:00': [1565.9, 1565.0],\n",
    "#   '2020-01-27 14:05:00': [1560.0, 1559.35],\n",
    "#   '2020-01-28 11:58:00': [1570.55, 1568.6],\n",
    "#   '2020-01-28 14:52:00': [1555.05, 1554.2],\n",
    "#   '2020-01-29 10:10:00': [1564.5, 1562.35],\n",
    "#   '2020-01-29 10:15:00': [1560.1, 1558.8],\n",
    "#   '2020-01-29 13:37:00': [1565.15, 1563.95],\n",
    "#   '2020-01-29 14:37:00': [1564.45, 1563.2],\n",
    "#   '2020-01-29 15:00:00': [1558.6, 1558.1],\n",
    "#   '2020-01-29 15:18:00': [1550.0, 1548.3],\n",
    "#   '2020-01-30 12:21:00': [1537.25, 1536.5],\n",
    "#   '2020-01-30 13:55:00': [1534.05, 1532.5],\n",
    "#   '2020-01-31 11:44:00': [1514.4, 1511.8],\n",
    "#   '2020-01-31 14:45:00': [1515.0, 1513.75],\n",
    "#   '2020-01-31 15:03:00': [1507.5, 1503.5],\n",
    "#   '2020-02-01 11:21:00': [1520.7, 1519.65],\n",
    "#   '2020-02-01 12:04:00': [1511.4, 1508.6],\n",
    "#   '2020-02-01 12:53:00': [1506.0, 1503.2],\n",
    "#   '2020-02-01 13:28:00': [1484.6, 1476.1],\n",
    "#   '2020-02-05 11:30:00': [1477.2, 1476.5],\n",
    "#   '2020-02-05 12:49:00': [1467.35, 1465.65],\n",
    "#   '2020-02-06 10:10:00': [1468.05, 1466.85],\n",
    "#   '2020-02-10 09:56:00': [1462.0, 1461.75],\n",
    "#   '2020-02-10 11:00:00': [1456.6, 1455.9],\n",
    "#   '2020-02-10 13:22:00': [1466.5, 1466.0],\n",
    "#   '2020-02-10 15:11:00': [1452.7, 1451.75],\n",
    "#   '2020-02-11 12:46:00': [1447.0, 1444.75],\n",
    "#   '2020-02-13 09:55:00': [1448.0, 1445.8],\n",
    "#   '2020-02-13 14:43:00': [1452.0, 1450.0],\n",
    "#   '2020-02-14 11:45:00': [1445.0, 1443.0],\n",
    "#   '2020-02-14 14:39:00': [1440.1, 1439.45],\n",
    "#   '2020-02-17 09:30:00': [1425.8, 1421.35],\n",
    "#   '2020-02-17 13:00:00': [1426.2, 1424.1],\n",
    "#   '2020-02-19 10:06:00': [1427.5, 1427.25],\n",
    "#   '2020-02-20 10:42:00': [1444.45, 1443.45],\n",
    "#   '2020-02-20 12:39:00': [1441.0, 1440.2],\n",
    "#   '2020-02-20 13:17:00': [1430.55, 1430.5],\n",
    "#   '2020-02-20 14:43:00': [1425.75, 1424.95],\n",
    "#   '2020-02-24 12:48:00': [1432.0, 1431.9],\n",
    "#   '2020-02-24 14:25:00': [1421.05, 1419.25],\n",
    "#   '2020-02-24 14:33:00': [1415.05, 1414.75],\n",
    "#   '2020-02-24 14:54:00': [1410.7, 1409.6],\n",
    "#   '2020-03-02 14:24:00': [1341.0, 1340.6],\n",
    "#   '2020-03-02 14:57:00': [1323.8, 1321.1],\n",
    "#   '2020-03-03 11:39:00': [1300.1, 1299.35],\n",
    "#   '2020-03-04 12:54:00': [1325.0, 1321.3],\n",
    "#   '2020-03-05 12:40:00': [1330.6, 1328.9],\n",
    "#   '2020-03-05 13:18:00': [1323.0, 1322.9],\n",
    "#   '2020-03-05 13:26:00': [1320.2, 1319.0],\n",
    "#   '2020-03-05 13:44:00': [1310.0, 1308.3],\n",
    "#   '2020-03-06 14:10:00': [1293.3, 1293.0],\n",
    "#   '2020-03-09 12:49:00': [1274.05, 1267.4],\n",
    "#   '2020-03-09 12:53:00': [1258.3, 1256.65],\n",
    "#   '2020-03-09 13:29:00': [1240.2, 1236.35],\n",
    "#   '2020-03-12 10:47:00': [1123.4, 1119.75],\n",
    "#   '2020-03-12 10:56:00': [1108.0, 1099.7],\n",
    "#   '2020-03-12 14:33:00': [1136.2, 1134.35],\n",
    "#   '2020-03-18 12:09:00': [1100.35, 1097.9],\n",
    "#   '2020-03-18 14:12:00': [1081.15, 1077.95],\n",
    "#   '2020-03-19 15:10:00': [1086.35, 1085.0],\n",
    "#   '2020-03-20 12:34:00': [1132.25, 1132.1],\n",
    "#   '2020-03-20 13:50:00': [1119.0, 1117.35],\n",
    "#   '2020-03-20 13:53:00': [1111.0, 1109.0],\n",
    "#   '2020-03-23 09:35:00': [1030.0, 1022.8],\n",
    "#   '2020-03-23 15:16:00': [995.25, 993.0],\n",
    "#   '2020-03-24 09:49:00': [977.25, 968.65],\n",
    "#   '2020-03-24 10:57:00': [956.0, 955.7],\n",
    "#   '2020-03-25 10:15:00': [901.2, 900.0],\n",
    "#   '2020-03-26 10:48:00': [930.0, 924.2],\n",
    "#   '2020-03-30 14:47:00': [940.5, 940.35],\n",
    "#   '2020-04-01 14:51:00': [956.15, 955.2],\n",
    "#   '2020-04-07 11:46:00': [1002.5, 999.15],\n",
    "#   '2020-04-07 12:36:00': [989.5, 986.7],\n",
    "#   '2020-04-08 11:46:00': [969.2, 964.15],\n",
    "#   '2020-04-08 12:25:00': [953.8, 952.0],\n",
    "#   '2020-04-09 10:06:00': [957.45, 956.0],\n",
    "#   '2020-04-09 14:25:00': [1002.1, 998.0],\n",
    "#   '2020-04-13 13:42:00': [1071.45, 1067.85],\n",
    "#   '2020-04-15 13:46:00': [1149.8, 1145.6],\n",
    "#   '2020-04-15 14:09:00': [1129.1, 1128.4],\n",
    "#   '2020-04-16 10:33:00': [1147.0, 1146.7],\n",
    "#   '2020-04-17 10:45:00': [1160.3, 1158.5],\n",
    "#   '2020-04-17 11:56:00': [1156.3, 1155.0],\n",
    "#   '2020-04-20 13:46:00': [1192.65, 1191.4],\n",
    "#   '2020-04-21 12:18:00': [1148.95, 1147.15],\n",
    "#   '2020-04-22 09:41:00': [1135.35, 1134.2],\n",
    "#   '2020-04-23 11:08:00': [1216.8, 1214.2],\n",
    "#   '2020-04-23 12:35:00': [1206.0, 1201.05],\n",
    "#   '2020-04-23 13:05:00': [1194.65, 1194.0],\n",
    "#   '2020-04-23 13:15:00': [1187.25, 1186.9],\n",
    "#   '2020-04-27 12:31:00': [1145.0, 1142.35],\n",
    "#   '2020-04-28 11:50:00': [1145.85, 1138.75],\n",
    "#   '2020-04-28 12:23:00': [1132.7, 1131.0],\n",
    "#   '2020-04-28 13:04:00': [1130.55, 1128.75],\n",
    "#   '2020-04-28 14:20:00': [1130.7, 1127.6],\n",
    "#   '2020-04-28 14:37:00': [1126.0, 1123.55],\n",
    "#   '2020-04-29 14:17:00': [1125.0, 1122.45],\n",
    "#   '2020-05-07 13:25:00': [1165.1, 1165.0],\n",
    "#   '2020-05-07 14:45:00': [1157.75, 1156.85],\n",
    "#   '2020-05-07 15:11:00': [1153.0, 1152.0],\n",
    "#   '2020-05-08 11:02:00': [1155.0, 1152.0],\n",
    "#   '2020-05-08 13:23:00': [1156.0, 1154.5],\n",
    "#   '2020-05-08 14:41:00': [1150.0, 1149.85],\n",
    "#   '2020-05-12 11:32:00': [1155.25, 1154.9],\n",
    "#   '2020-05-12 12:15:00': [1151.55, 1150.65],\n",
    "#   '2020-05-13 11:18:00': [1243.0, 1239.95],\n",
    "#   '2020-05-13 12:24:00': [1233.0, 1230.0],\n",
    "#   '2020-05-13 13:04:00': [1222.1, 1220.0],\n",
    "#   '2020-05-15 10:36:00': [1190.0, 1189.0],\n",
    "#   '2020-05-15 14:15:00': [1183.05, 1182.0],\n",
    "#   '2020-05-18 10:59:00': [1157.35, 1155.15],\n",
    "#   '2020-05-18 12:11:00': [1147.35, 1144.9],\n",
    "#   '2020-05-18 15:00:00': [1141.0, 1139.35],\n",
    "#   '2020-05-19 15:00:00': [1139.8, 1138.5],\n",
    "#   '2020-05-26 11:20:00': [1255.0, 1252.2],\n",
    "#   '2020-05-27 12:49:00': [1251.4, 1246.25],\n",
    "#   '2020-05-28 11:18:00': [1259.5, 1259.0],\n",
    "#   '2020-05-28 13:59:00': [1270.3, 1269.9],\n",
    "#   '2020-05-29 13:40:00': [1281.3, 1279.8],\n",
    "#   '2020-05-29 13:53:00': [1272.65, 1270.5],\n",
    "#   '2020-06-01 10:35:00': [1303.0, 1301.55],\n",
    "#   '2020-06-01 13:45:00': [1290.0, 1289.6],\n",
    "#   '2020-06-01 15:25:00': [1280.05, 1279.5],\n",
    "#   '2020-06-03 14:43:00': [1277.0, 1275.85],\n",
    "#   '2020-06-09 13:59:00': [1269.75, 1269.4],\n",
    "#   '2020-06-09 14:09:00': [1262.0, 1261.75],\n",
    "#   '2020-06-09 14:33:00': [1255.85, 1255.0],\n",
    "#   '2020-06-10 11:56:00': [1270.3, 1270.1],\n",
    "#   '2020-06-11 10:49:00': [1270.5, 1269.95],\n",
    "#   '2020-06-12 12:22:00': [1241.05, 1239.85],\n",
    "#   '2020-06-15 10:59:00': [1246.05, 1246.0],\n",
    "#   '2020-06-16 13:06:00': [1244.8, 1244.0],\n",
    "#   '2020-06-16 13:15:00': [1235.35, 1231.15],\n",
    "#   '2020-06-17 11:00:00': [1230.5, 1230.4],\n",
    "#   '2020-06-17 13:33:00': [1238.15, 1237.85],\n",
    "#   '2020-06-22 10:12:00': [1265.0, 1263.3],\n",
    "#   '2020-06-22 15:04:00': [1261.7, 1260.2],\n",
    "#   '2020-06-23 11:15:00': [1278.0, 1277.9],\n",
    "#   '2020-06-23 13:50:00': [1297.1, 1294.85],\n",
    "#   '2020-06-24 11:35:00': [1291.0, 1289.85],\n",
    "#   '2020-06-24 12:34:00': [1283.75, 1283.7],\n",
    "#   '2020-06-25 11:44:00': [1265.4, 1264.0],\n",
    "#   '2020-06-26 10:17:00': [1261.65, 1260.0],\n",
    "#   '2020-06-26 12:45:00': [1274.3, 1273.9],\n",
    "#   '2020-06-30 14:17:00': [1323.7, 1322.5],\n",
    "#   '2020-06-30 14:28:00': [1318.05, 1315.55],\n",
    "#   '2020-07-01 10:19:00': [1322.05, 1320.35],\n",
    "#   '2020-07-02 11:05:00': [1322.5, 1320.9],\n",
    "#   '2020-07-02 12:34:00': [1325.0, 1322.7],\n",
    "#   '2020-07-03 12:58:00': [1313.0, 1310.0],\n",
    "#   '2020-07-09 13:05:00': [1322.35, 1322.3],\n",
    "#   '2020-07-10 10:30:00': [1318.55, 1317.25],\n",
    "#   '2020-07-10 14:25:00': [1310.0, 1309.3],\n",
    "#   '2020-07-14 10:31:00': [1335.0, 1333.5],\n",
    "#   '2020-07-14 12:49:00': [1305.0, 1302.75],\n",
    "#   '2020-07-14 12:55:00': [1300.1, 1298.45],\n",
    "#   '2020-07-15 12:04:00': [1300.0, 1298.3],\n",
    "#   '2020-07-16 09:27:00': [1285.0, 1282.3],\n",
    "#   '2020-07-16 11:07:00': [1260.1, 1256.35],\n",
    "#   '2020-07-17 10:32:00': [1305.0, 1302.55],\n",
    "#   '2020-07-20 13:32:00': [1322.0, 1321.55],\n",
    "#   '2020-07-21 13:33:00': [1387.25, 1385.55],\n",
    "#   '2020-07-23 10:59:00': [1363.0, 1362.95],\n",
    "#   '2020-07-23 11:23:00': [1361.0, 1359.75],\n",
    "#   '2020-07-23 12:45:00': [1361.0, 1360.45],\n",
    "#   '2020-07-27 13:22:00': [1354.35, 1352.45],\n",
    "#   '2020-07-28 11:59:00': [1385.0, 1383.3],\n",
    "#   '2020-07-29 09:58:00': [1403.05, 1399.95],\n",
    "#   '2020-07-29 12:17:00': [1403.5, 1402.15],\n",
    "#   '2020-07-30 11:33:00': [1438.0, 1437.5],\n",
    "#   '2020-07-31 10:35:00': [1425.55, 1420.35],\n",
    "#   '2020-07-31 14:45:00': [1425.0, 1423.4],\n",
    "#   '2020-08-03 12:06:00': [1443.05, 1442.3],\n",
    "#   '2020-08-03 12:22:00': [1438.75, 1438.0],\n",
    "#   '2020-08-03 13:36:00': [1433.5, 1429.8],\n",
    "#   '2020-08-03 13:51:00': [1425.1, 1423.25],\n",
    "#   '2020-08-03 15:03:00': [1416.15, 1414.9],\n",
    "#   '2020-08-04 09:57:00': [1411.3, 1407.25],\n",
    "#   '2020-08-05 11:31:00': [1418.0, 1416.95],\n",
    "#   '2020-08-05 11:40:00': [1412.1, 1409.0],\n",
    "#   '2020-08-06 15:18:00': [1406.75, 1405.95],\n",
    "#   '2020-08-07 11:19:00': [1401.3, 1398.5],\n",
    "#   '2020-08-11 15:11:00': [1413.55, 1412.15],\n",
    "#   '2020-08-12 11:59:00': [1397.1, 1396.15],\n",
    "#   '2020-08-13 10:35:00': [1418.45, 1417.9],\n",
    "#   '2020-08-13 14:14:00': [1414.0, 1410.15],\n",
    "#   '2020-08-14 13:53:00': [1391.2, 1386.0],\n",
    "#   '2020-08-17 13:29:00': [1380.8, 1380.4],\n",
    "#   '2020-08-18 13:07:00': [1422.2, 1421.55],\n",
    "#   '2020-08-19 13:20:00': [1435.0, 1434.95],\n",
    "#   '2020-08-19 14:36:00': [1430.0, 1428.0],\n",
    "#   '2020-08-21 11:42:00': [1423.0, 1422.1],\n",
    "#   '2020-08-21 12:47:00': [1425.3, 1423.2],\n",
    "#   '2020-08-21 15:00:00': [1424.1, 1422.9],\n",
    "#   '2020-08-24 10:37:00': [1428.05, 1427.9],\n",
    "#   '2020-08-24 10:56:00': [1424.15, 1423.8],\n",
    "#   '2020-08-24 15:11:00': [1422.5, 1421.95],\n",
    "#   '2020-08-25 11:20:00': [1412.2, 1411.4],\n",
    "#   '2020-08-26 10:03:00': [1398.55, 1394.9],\n",
    "#   '2020-08-27 12:02:00': [1398.3, 1397.4],\n",
    "#   '2020-08-27 15:16:00': [1399.85, 1398.95],\n",
    "#   '2020-08-28 13:02:00': [1402.0, 1401.0],\n",
    "#   '2020-08-28 13:21:00': [1398.8, 1398.65],\n",
    "#   '2020-08-31 11:38:00': [1372.0, 1369.1],\n",
    "#   '2020-08-31 13:02:00': [1353.6, 1352.75],\n",
    "#   '2020-08-31 14:15:00': [1328.7, 1327.7],\n",
    "#   '2020-09-03 10:17:00': [1344.25, 1343.4],\n",
    "#   '2020-09-03 11:30:00': [1340.0, 1338.95],\n",
    "#   '2020-09-04 14:12:00': [1315.45, 1315.3],\n",
    "#   '2020-09-14 13:00:00': [1371.6, 1370.0],\n",
    "#   '2020-09-16 11:11:00': [1388.1, 1386.55],\n",
    "#   '2020-09-21 15:04:00': [1379.7, 1378.9],\n",
    "#   '2020-09-22 13:06:00': [1378.7, 1378.25],\n",
    "#   '2020-09-22 13:29:00': [1376.1, 1374.35],\n",
    "#   '2020-09-23 13:26:00': [1336.0, 1335.2],\n",
    "#   '2020-09-23 13:55:00': [1331.35, 1331.0],\n",
    "#   '2020-09-24 10:27:00': [1328.7, 1325.95],\n",
    "#   '2020-09-24 11:38:00': [1325.1, 1324.45],\n",
    "#   '2020-09-29 10:07:00': [1378.8, 1378.0],\n",
    "#   '2020-09-29 12:37:00': [1368.65, 1367.0],\n",
    "#   '2020-10-01 10:09:00': [1400.2, 1399.0],\n",
    "#   '2020-10-05 09:53:00': [1411.1, 1409.5],\n",
    "#   '2020-10-07 14:51:00': [1486.1, 1484.85],\n",
    "#   '2020-10-09 13:05:00': [1512.95, 1511.4],\n",
    "#   '2020-10-15 14:11:00': [1521.8, 1521.35],\n",
    "#   '2020-10-20 12:37:00': [1575.85, 1575.1],\n",
    "#   '2020-10-26 12:41:00': [1591.4, 1590.75],\n",
    "#   '2020-11-02 12:15:00': [1655.05, 1655.0],\n",
    "#   '2020-11-06 10:52:00': [1688.25, 1686.75],\n",
    "#   '2020-11-06 12:15:00': [1676.55, 1675.95],\n",
    "#   '2020-11-06 13:02:00': [1670.0, 1668.7],\n",
    "#   '2020-11-06 13:14:00': [1659.0, 1657.2],\n",
    "#   '2020-11-06 14:27:00': [1660.3, 1660.2],\n",
    "#   '2020-11-09 13:18:00': [1656.0, 1655.2],\n",
    "#   '2020-11-10 12:17:00': [1682.5, 1681.9],\n",
    "#   '2020-11-17 11:59:00': [1712.8, 1712.0],\n",
    "#   '2020-11-17 12:14:00': [1705.05, 1702.35],\n",
    "#   '2020-11-17 14:59:00': [1700.25, 1699.5],\n",
    "#   '2020-11-18 09:57:00': [1691.0, 1689.95],\n",
    "#   '2020-11-18 12:40:00': [1697.3, 1695.0],\n",
    "#   '2020-11-18 13:56:00': [1698.1, 1696.05]}"
   ]
  },
  {
   "cell_type": "code",
   "execution_count": 10,
   "id": "0930f518",
   "metadata": {},
   "outputs": [
    {
     "data": {
      "application/vnd.plotly.v1+json": {
       "config": {
        "plotlyServerURL": "https://plot.ly"
       },
       "data": [
        {
         "close": [
          1739.9,
          1739.45,
          1739.8,
          1738.55,
          1739.05,
          1739.25,
          1739.25,
          1739.8,
          1739.25,
          1739.2,
          1738.7,
          1738.6,
          1738.75,
          1738.7,
          1738.1,
          1738,
          1736.25,
          1736.5,
          1735,
          1735.05,
          1736.4,
          1736,
          1734.8,
          1737.6,
          1735.5,
          1736.3,
          1735.5,
          1735,
          1735,
          1735,
          1730.9
         ],
         "high": [
          1739.9,
          1739.45,
          1739.85,
          1739.05,
          1739.6,
          1739.35,
          1739.85,
          1739.8,
          1739.7,
          1739.95,
          1739.2,
          1738.6,
          1739.25,
          1738.8,
          1738.75,
          1738.5,
          1738.35,
          1737.8,
          1736.25,
          1736.15,
          1737.75,
          1736,
          1736.6,
          1737.6,
          1736.4,
          1736.35,
          1737,
          1736.4,
          1737.05,
          1736,
          1735
         ],
         "low": [
          1739.05,
          1738.55,
          1738.55,
          1738.55,
          1739.05,
          1739,
          1739.05,
          1739,
          1739.25,
          1738.6,
          1738,
          1738,
          1737.6,
          1737.05,
          1737.9,
          1737.25,
          1736.25,
          1736.05,
          1735,
          1735,
          1735.75,
          1735,
          1734.8,
          1734.15,
          1735.5,
          1734.35,
          1735.5,
          1735,
          1733.55,
          1735,
          1730.9
         ],
         "open": [
          1739.1,
          1739,
          1739.05,
          1739.05,
          1739.05,
          1739.05,
          1739.25,
          1739,
          1739.25,
          1739.65,
          1739.2,
          1738,
          1738.3,
          1738,
          1738,
          1738.1,
          1738,
          1736.05,
          1736,
          1735,
          1736.35,
          1735.1,
          1735.5,
          1735.5,
          1735.5,
          1735.5,
          1735.5,
          1735.5,
          1734.15,
          1735,
          1734.15
         ],
         "type": "candlestick",
         "x": [
          249144,
          249145,
          249146,
          249147,
          249148,
          249149,
          249150,
          249151,
          249152,
          249153,
          249154,
          249155,
          249156,
          249157,
          249158,
          249159,
          249160,
          249161,
          249162,
          249163,
          249164,
          249165,
          249166,
          249167,
          249168,
          249169,
          249170,
          249171,
          249172,
          249173,
          249174
         ]
        }
       ],
       "layout": {
        "template": {
         "data": {
          "bar": [
           {
            "error_x": {
             "color": "#2a3f5f"
            },
            "error_y": {
             "color": "#2a3f5f"
            },
            "marker": {
             "line": {
              "color": "#E5ECF6",
              "width": 0.5
             },
             "pattern": {
              "fillmode": "overlay",
              "size": 10,
              "solidity": 0.2
             }
            },
            "type": "bar"
           }
          ],
          "barpolar": [
           {
            "marker": {
             "line": {
              "color": "#E5ECF6",
              "width": 0.5
             },
             "pattern": {
              "fillmode": "overlay",
              "size": 10,
              "solidity": 0.2
             }
            },
            "type": "barpolar"
           }
          ],
          "carpet": [
           {
            "aaxis": {
             "endlinecolor": "#2a3f5f",
             "gridcolor": "white",
             "linecolor": "white",
             "minorgridcolor": "white",
             "startlinecolor": "#2a3f5f"
            },
            "baxis": {
             "endlinecolor": "#2a3f5f",
             "gridcolor": "white",
             "linecolor": "white",
             "minorgridcolor": "white",
             "startlinecolor": "#2a3f5f"
            },
            "type": "carpet"
           }
          ],
          "choropleth": [
           {
            "colorbar": {
             "outlinewidth": 0,
             "ticks": ""
            },
            "type": "choropleth"
           }
          ],
          "contour": [
           {
            "colorbar": {
             "outlinewidth": 0,
             "ticks": ""
            },
            "colorscale": [
             [
              0,
              "#0d0887"
             ],
             [
              0.1111111111111111,
              "#46039f"
             ],
             [
              0.2222222222222222,
              "#7201a8"
             ],
             [
              0.3333333333333333,
              "#9c179e"
             ],
             [
              0.4444444444444444,
              "#bd3786"
             ],
             [
              0.5555555555555556,
              "#d8576b"
             ],
             [
              0.6666666666666666,
              "#ed7953"
             ],
             [
              0.7777777777777778,
              "#fb9f3a"
             ],
             [
              0.8888888888888888,
              "#fdca26"
             ],
             [
              1,
              "#f0f921"
             ]
            ],
            "type": "contour"
           }
          ],
          "contourcarpet": [
           {
            "colorbar": {
             "outlinewidth": 0,
             "ticks": ""
            },
            "type": "contourcarpet"
           }
          ],
          "heatmap": [
           {
            "colorbar": {
             "outlinewidth": 0,
             "ticks": ""
            },
            "colorscale": [
             [
              0,
              "#0d0887"
             ],
             [
              0.1111111111111111,
              "#46039f"
             ],
             [
              0.2222222222222222,
              "#7201a8"
             ],
             [
              0.3333333333333333,
              "#9c179e"
             ],
             [
              0.4444444444444444,
              "#bd3786"
             ],
             [
              0.5555555555555556,
              "#d8576b"
             ],
             [
              0.6666666666666666,
              "#ed7953"
             ],
             [
              0.7777777777777778,
              "#fb9f3a"
             ],
             [
              0.8888888888888888,
              "#fdca26"
             ],
             [
              1,
              "#f0f921"
             ]
            ],
            "type": "heatmap"
           }
          ],
          "heatmapgl": [
           {
            "colorbar": {
             "outlinewidth": 0,
             "ticks": ""
            },
            "colorscale": [
             [
              0,
              "#0d0887"
             ],
             [
              0.1111111111111111,
              "#46039f"
             ],
             [
              0.2222222222222222,
              "#7201a8"
             ],
             [
              0.3333333333333333,
              "#9c179e"
             ],
             [
              0.4444444444444444,
              "#bd3786"
             ],
             [
              0.5555555555555556,
              "#d8576b"
             ],
             [
              0.6666666666666666,
              "#ed7953"
             ],
             [
              0.7777777777777778,
              "#fb9f3a"
             ],
             [
              0.8888888888888888,
              "#fdca26"
             ],
             [
              1,
              "#f0f921"
             ]
            ],
            "type": "heatmapgl"
           }
          ],
          "histogram": [
           {
            "marker": {
             "pattern": {
              "fillmode": "overlay",
              "size": 10,
              "solidity": 0.2
             }
            },
            "type": "histogram"
           }
          ],
          "histogram2d": [
           {
            "colorbar": {
             "outlinewidth": 0,
             "ticks": ""
            },
            "colorscale": [
             [
              0,
              "#0d0887"
             ],
             [
              0.1111111111111111,
              "#46039f"
             ],
             [
              0.2222222222222222,
              "#7201a8"
             ],
             [
              0.3333333333333333,
              "#9c179e"
             ],
             [
              0.4444444444444444,
              "#bd3786"
             ],
             [
              0.5555555555555556,
              "#d8576b"
             ],
             [
              0.6666666666666666,
              "#ed7953"
             ],
             [
              0.7777777777777778,
              "#fb9f3a"
             ],
             [
              0.8888888888888888,
              "#fdca26"
             ],
             [
              1,
              "#f0f921"
             ]
            ],
            "type": "histogram2d"
           }
          ],
          "histogram2dcontour": [
           {
            "colorbar": {
             "outlinewidth": 0,
             "ticks": ""
            },
            "colorscale": [
             [
              0,
              "#0d0887"
             ],
             [
              0.1111111111111111,
              "#46039f"
             ],
             [
              0.2222222222222222,
              "#7201a8"
             ],
             [
              0.3333333333333333,
              "#9c179e"
             ],
             [
              0.4444444444444444,
              "#bd3786"
             ],
             [
              0.5555555555555556,
              "#d8576b"
             ],
             [
              0.6666666666666666,
              "#ed7953"
             ],
             [
              0.7777777777777778,
              "#fb9f3a"
             ],
             [
              0.8888888888888888,
              "#fdca26"
             ],
             [
              1,
              "#f0f921"
             ]
            ],
            "type": "histogram2dcontour"
           }
          ],
          "mesh3d": [
           {
            "colorbar": {
             "outlinewidth": 0,
             "ticks": ""
            },
            "type": "mesh3d"
           }
          ],
          "parcoords": [
           {
            "line": {
             "colorbar": {
              "outlinewidth": 0,
              "ticks": ""
             }
            },
            "type": "parcoords"
           }
          ],
          "pie": [
           {
            "automargin": true,
            "type": "pie"
           }
          ],
          "scatter": [
           {
            "marker": {
             "colorbar": {
              "outlinewidth": 0,
              "ticks": ""
             }
            },
            "type": "scatter"
           }
          ],
          "scatter3d": [
           {
            "line": {
             "colorbar": {
              "outlinewidth": 0,
              "ticks": ""
             }
            },
            "marker": {
             "colorbar": {
              "outlinewidth": 0,
              "ticks": ""
             }
            },
            "type": "scatter3d"
           }
          ],
          "scattercarpet": [
           {
            "marker": {
             "colorbar": {
              "outlinewidth": 0,
              "ticks": ""
             }
            },
            "type": "scattercarpet"
           }
          ],
          "scattergeo": [
           {
            "marker": {
             "colorbar": {
              "outlinewidth": 0,
              "ticks": ""
             }
            },
            "type": "scattergeo"
           }
          ],
          "scattergl": [
           {
            "marker": {
             "colorbar": {
              "outlinewidth": 0,
              "ticks": ""
             }
            },
            "type": "scattergl"
           }
          ],
          "scattermapbox": [
           {
            "marker": {
             "colorbar": {
              "outlinewidth": 0,
              "ticks": ""
             }
            },
            "type": "scattermapbox"
           }
          ],
          "scatterpolar": [
           {
            "marker": {
             "colorbar": {
              "outlinewidth": 0,
              "ticks": ""
             }
            },
            "type": "scatterpolar"
           }
          ],
          "scatterpolargl": [
           {
            "marker": {
             "colorbar": {
              "outlinewidth": 0,
              "ticks": ""
             }
            },
            "type": "scatterpolargl"
           }
          ],
          "scatterternary": [
           {
            "marker": {
             "colorbar": {
              "outlinewidth": 0,
              "ticks": ""
             }
            },
            "type": "scatterternary"
           }
          ],
          "surface": [
           {
            "colorbar": {
             "outlinewidth": 0,
             "ticks": ""
            },
            "colorscale": [
             [
              0,
              "#0d0887"
             ],
             [
              0.1111111111111111,
              "#46039f"
             ],
             [
              0.2222222222222222,
              "#7201a8"
             ],
             [
              0.3333333333333333,
              "#9c179e"
             ],
             [
              0.4444444444444444,
              "#bd3786"
             ],
             [
              0.5555555555555556,
              "#d8576b"
             ],
             [
              0.6666666666666666,
              "#ed7953"
             ],
             [
              0.7777777777777778,
              "#fb9f3a"
             ],
             [
              0.8888888888888888,
              "#fdca26"
             ],
             [
              1,
              "#f0f921"
             ]
            ],
            "type": "surface"
           }
          ],
          "table": [
           {
            "cells": {
             "fill": {
              "color": "#EBF0F8"
             },
             "line": {
              "color": "white"
             }
            },
            "header": {
             "fill": {
              "color": "#C8D4E3"
             },
             "line": {
              "color": "white"
             }
            },
            "type": "table"
           }
          ]
         },
         "layout": {
          "annotationdefaults": {
           "arrowcolor": "#2a3f5f",
           "arrowhead": 0,
           "arrowwidth": 1
          },
          "autotypenumbers": "strict",
          "coloraxis": {
           "colorbar": {
            "outlinewidth": 0,
            "ticks": ""
           }
          },
          "colorscale": {
           "diverging": [
            [
             0,
             "#8e0152"
            ],
            [
             0.1,
             "#c51b7d"
            ],
            [
             0.2,
             "#de77ae"
            ],
            [
             0.3,
             "#f1b6da"
            ],
            [
             0.4,
             "#fde0ef"
            ],
            [
             0.5,
             "#f7f7f7"
            ],
            [
             0.6,
             "#e6f5d0"
            ],
            [
             0.7,
             "#b8e186"
            ],
            [
             0.8,
             "#7fbc41"
            ],
            [
             0.9,
             "#4d9221"
            ],
            [
             1,
             "#276419"
            ]
           ],
           "sequential": [
            [
             0,
             "#0d0887"
            ],
            [
             0.1111111111111111,
             "#46039f"
            ],
            [
             0.2222222222222222,
             "#7201a8"
            ],
            [
             0.3333333333333333,
             "#9c179e"
            ],
            [
             0.4444444444444444,
             "#bd3786"
            ],
            [
             0.5555555555555556,
             "#d8576b"
            ],
            [
             0.6666666666666666,
             "#ed7953"
            ],
            [
             0.7777777777777778,
             "#fb9f3a"
            ],
            [
             0.8888888888888888,
             "#fdca26"
            ],
            [
             1,
             "#f0f921"
            ]
           ],
           "sequentialminus": [
            [
             0,
             "#0d0887"
            ],
            [
             0.1111111111111111,
             "#46039f"
            ],
            [
             0.2222222222222222,
             "#7201a8"
            ],
            [
             0.3333333333333333,
             "#9c179e"
            ],
            [
             0.4444444444444444,
             "#bd3786"
            ],
            [
             0.5555555555555556,
             "#d8576b"
            ],
            [
             0.6666666666666666,
             "#ed7953"
            ],
            [
             0.7777777777777778,
             "#fb9f3a"
            ],
            [
             0.8888888888888888,
             "#fdca26"
            ],
            [
             1,
             "#f0f921"
            ]
           ]
          },
          "colorway": [
           "#636efa",
           "#EF553B",
           "#00cc96",
           "#ab63fa",
           "#FFA15A",
           "#19d3f3",
           "#FF6692",
           "#B6E880",
           "#FF97FF",
           "#FECB52"
          ],
          "font": {
           "color": "#2a3f5f"
          },
          "geo": {
           "bgcolor": "white",
           "lakecolor": "white",
           "landcolor": "#E5ECF6",
           "showlakes": true,
           "showland": true,
           "subunitcolor": "white"
          },
          "hoverlabel": {
           "align": "left"
          },
          "hovermode": "closest",
          "mapbox": {
           "style": "light"
          },
          "paper_bgcolor": "white",
          "plot_bgcolor": "#E5ECF6",
          "polar": {
           "angularaxis": {
            "gridcolor": "white",
            "linecolor": "white",
            "ticks": ""
           },
           "bgcolor": "#E5ECF6",
           "radialaxis": {
            "gridcolor": "white",
            "linecolor": "white",
            "ticks": ""
           }
          },
          "scene": {
           "xaxis": {
            "backgroundcolor": "#E5ECF6",
            "gridcolor": "white",
            "gridwidth": 2,
            "linecolor": "white",
            "showbackground": true,
            "ticks": "",
            "zerolinecolor": "white"
           },
           "yaxis": {
            "backgroundcolor": "#E5ECF6",
            "gridcolor": "white",
            "gridwidth": 2,
            "linecolor": "white",
            "showbackground": true,
            "ticks": "",
            "zerolinecolor": "white"
           },
           "zaxis": {
            "backgroundcolor": "#E5ECF6",
            "gridcolor": "white",
            "gridwidth": 2,
            "linecolor": "white",
            "showbackground": true,
            "ticks": "",
            "zerolinecolor": "white"
           }
          },
          "shapedefaults": {
           "line": {
            "color": "#2a3f5f"
           }
          },
          "ternary": {
           "aaxis": {
            "gridcolor": "white",
            "linecolor": "white",
            "ticks": ""
           },
           "baxis": {
            "gridcolor": "white",
            "linecolor": "white",
            "ticks": ""
           },
           "bgcolor": "#E5ECF6",
           "caxis": {
            "gridcolor": "white",
            "linecolor": "white",
            "ticks": ""
           }
          },
          "title": {
           "x": 0.05
          },
          "xaxis": {
           "automargin": true,
           "gridcolor": "white",
           "linecolor": "white",
           "ticks": "",
           "title": {
            "standoff": 15
           },
           "zerolinecolor": "white",
           "zerolinewidth": 2
          },
          "yaxis": {
           "automargin": true,
           "gridcolor": "white",
           "linecolor": "white",
           "ticks": "",
           "title": {
            "standoff": 15
           },
           "zerolinecolor": "white",
           "zerolinewidth": 2
          }
         }
        },
        "xaxis": {
         "rangeslider": {
          "visible": false
         }
        }
       }
      },
      "text/html": [
       "<div>                            <div id=\"e2db893b-4b1f-4f13-a5e1-3aef380b64ce\" class=\"plotly-graph-div\" style=\"height:525px; width:100%;\"></div>            <script type=\"text/javascript\">                require([\"plotly\"], function(Plotly) {                    window.PLOTLYENV=window.PLOTLYENV || {};                                    if (document.getElementById(\"e2db893b-4b1f-4f13-a5e1-3aef380b64ce\")) {                    Plotly.newPlot(                        \"e2db893b-4b1f-4f13-a5e1-3aef380b64ce\",                        [{\"close\":[1739.9,1739.45,1739.8,1738.55,1739.05,1739.25,1739.25,1739.8,1739.25,1739.2,1738.7,1738.6,1738.75,1738.7,1738.1,1738.0,1736.25,1736.5,1735.0,1735.05,1736.4,1736.0,1734.8,1737.6,1735.5,1736.3,1735.5,1735.0,1735.0,1735.0,1730.9],\"high\":[1739.9,1739.45,1739.85,1739.05,1739.6,1739.35,1739.85,1739.8,1739.7,1739.95,1739.2,1738.6,1739.25,1738.8,1738.75,1738.5,1738.35,1737.8,1736.25,1736.15,1737.75,1736.0,1736.6,1737.6,1736.4,1736.35,1737.0,1736.4,1737.05,1736.0,1735.0],\"low\":[1739.05,1738.55,1738.55,1738.55,1739.05,1739.0,1739.05,1739.0,1739.25,1738.6,1738.0,1738.0,1737.6,1737.05,1737.9,1737.25,1736.25,1736.05,1735.0,1735.0,1735.75,1735.0,1734.8,1734.15,1735.5,1734.35,1735.5,1735.0,1733.55,1735.0,1730.9],\"open\":[1739.1,1739.0,1739.05,1739.05,1739.05,1739.05,1739.25,1739.0,1739.25,1739.65,1739.2,1738.0,1738.3,1738.0,1738.0,1738.1,1738.0,1736.05,1736.0,1735.0,1736.35,1735.1,1735.5,1735.5,1735.5,1735.5,1735.5,1735.5,1734.15,1735.0,1734.15],\"x\":[249144,249145,249146,249147,249148,249149,249150,249151,249152,249153,249154,249155,249156,249157,249158,249159,249160,249161,249162,249163,249164,249165,249166,249167,249168,249169,249170,249171,249172,249173,249174],\"type\":\"candlestick\"}],                        {\"template\":{\"data\":{\"bar\":[{\"error_x\":{\"color\":\"#2a3f5f\"},\"error_y\":{\"color\":\"#2a3f5f\"},\"marker\":{\"line\":{\"color\":\"#E5ECF6\",\"width\":0.5},\"pattern\":{\"fillmode\":\"overlay\",\"size\":10,\"solidity\":0.2}},\"type\":\"bar\"}],\"barpolar\":[{\"marker\":{\"line\":{\"color\":\"#E5ECF6\",\"width\":0.5},\"pattern\":{\"fillmode\":\"overlay\",\"size\":10,\"solidity\":0.2}},\"type\":\"barpolar\"}],\"carpet\":[{\"aaxis\":{\"endlinecolor\":\"#2a3f5f\",\"gridcolor\":\"white\",\"linecolor\":\"white\",\"minorgridcolor\":\"white\",\"startlinecolor\":\"#2a3f5f\"},\"baxis\":{\"endlinecolor\":\"#2a3f5f\",\"gridcolor\":\"white\",\"linecolor\":\"white\",\"minorgridcolor\":\"white\",\"startlinecolor\":\"#2a3f5f\"},\"type\":\"carpet\"}],\"choropleth\":[{\"colorbar\":{\"outlinewidth\":0,\"ticks\":\"\"},\"type\":\"choropleth\"}],\"contour\":[{\"colorbar\":{\"outlinewidth\":0,\"ticks\":\"\"},\"colorscale\":[[0.0,\"#0d0887\"],[0.1111111111111111,\"#46039f\"],[0.2222222222222222,\"#7201a8\"],[0.3333333333333333,\"#9c179e\"],[0.4444444444444444,\"#bd3786\"],[0.5555555555555556,\"#d8576b\"],[0.6666666666666666,\"#ed7953\"],[0.7777777777777778,\"#fb9f3a\"],[0.8888888888888888,\"#fdca26\"],[1.0,\"#f0f921\"]],\"type\":\"contour\"}],\"contourcarpet\":[{\"colorbar\":{\"outlinewidth\":0,\"ticks\":\"\"},\"type\":\"contourcarpet\"}],\"heatmap\":[{\"colorbar\":{\"outlinewidth\":0,\"ticks\":\"\"},\"colorscale\":[[0.0,\"#0d0887\"],[0.1111111111111111,\"#46039f\"],[0.2222222222222222,\"#7201a8\"],[0.3333333333333333,\"#9c179e\"],[0.4444444444444444,\"#bd3786\"],[0.5555555555555556,\"#d8576b\"],[0.6666666666666666,\"#ed7953\"],[0.7777777777777778,\"#fb9f3a\"],[0.8888888888888888,\"#fdca26\"],[1.0,\"#f0f921\"]],\"type\":\"heatmap\"}],\"heatmapgl\":[{\"colorbar\":{\"outlinewidth\":0,\"ticks\":\"\"},\"colorscale\":[[0.0,\"#0d0887\"],[0.1111111111111111,\"#46039f\"],[0.2222222222222222,\"#7201a8\"],[0.3333333333333333,\"#9c179e\"],[0.4444444444444444,\"#bd3786\"],[0.5555555555555556,\"#d8576b\"],[0.6666666666666666,\"#ed7953\"],[0.7777777777777778,\"#fb9f3a\"],[0.8888888888888888,\"#fdca26\"],[1.0,\"#f0f921\"]],\"type\":\"heatmapgl\"}],\"histogram\":[{\"marker\":{\"pattern\":{\"fillmode\":\"overlay\",\"size\":10,\"solidity\":0.2}},\"type\":\"histogram\"}],\"histogram2d\":[{\"colorbar\":{\"outlinewidth\":0,\"ticks\":\"\"},\"colorscale\":[[0.0,\"#0d0887\"],[0.1111111111111111,\"#46039f\"],[0.2222222222222222,\"#7201a8\"],[0.3333333333333333,\"#9c179e\"],[0.4444444444444444,\"#bd3786\"],[0.5555555555555556,\"#d8576b\"],[0.6666666666666666,\"#ed7953\"],[0.7777777777777778,\"#fb9f3a\"],[0.8888888888888888,\"#fdca26\"],[1.0,\"#f0f921\"]],\"type\":\"histogram2d\"}],\"histogram2dcontour\":[{\"colorbar\":{\"outlinewidth\":0,\"ticks\":\"\"},\"colorscale\":[[0.0,\"#0d0887\"],[0.1111111111111111,\"#46039f\"],[0.2222222222222222,\"#7201a8\"],[0.3333333333333333,\"#9c179e\"],[0.4444444444444444,\"#bd3786\"],[0.5555555555555556,\"#d8576b\"],[0.6666666666666666,\"#ed7953\"],[0.7777777777777778,\"#fb9f3a\"],[0.8888888888888888,\"#fdca26\"],[1.0,\"#f0f921\"]],\"type\":\"histogram2dcontour\"}],\"mesh3d\":[{\"colorbar\":{\"outlinewidth\":0,\"ticks\":\"\"},\"type\":\"mesh3d\"}],\"parcoords\":[{\"line\":{\"colorbar\":{\"outlinewidth\":0,\"ticks\":\"\"}},\"type\":\"parcoords\"}],\"pie\":[{\"automargin\":true,\"type\":\"pie\"}],\"scatter\":[{\"marker\":{\"colorbar\":{\"outlinewidth\":0,\"ticks\":\"\"}},\"type\":\"scatter\"}],\"scatter3d\":[{\"line\":{\"colorbar\":{\"outlinewidth\":0,\"ticks\":\"\"}},\"marker\":{\"colorbar\":{\"outlinewidth\":0,\"ticks\":\"\"}},\"type\":\"scatter3d\"}],\"scattercarpet\":[{\"marker\":{\"colorbar\":{\"outlinewidth\":0,\"ticks\":\"\"}},\"type\":\"scattercarpet\"}],\"scattergeo\":[{\"marker\":{\"colorbar\":{\"outlinewidth\":0,\"ticks\":\"\"}},\"type\":\"scattergeo\"}],\"scattergl\":[{\"marker\":{\"colorbar\":{\"outlinewidth\":0,\"ticks\":\"\"}},\"type\":\"scattergl\"}],\"scattermapbox\":[{\"marker\":{\"colorbar\":{\"outlinewidth\":0,\"ticks\":\"\"}},\"type\":\"scattermapbox\"}],\"scatterpolar\":[{\"marker\":{\"colorbar\":{\"outlinewidth\":0,\"ticks\":\"\"}},\"type\":\"scatterpolar\"}],\"scatterpolargl\":[{\"marker\":{\"colorbar\":{\"outlinewidth\":0,\"ticks\":\"\"}},\"type\":\"scatterpolargl\"}],\"scatterternary\":[{\"marker\":{\"colorbar\":{\"outlinewidth\":0,\"ticks\":\"\"}},\"type\":\"scatterternary\"}],\"surface\":[{\"colorbar\":{\"outlinewidth\":0,\"ticks\":\"\"},\"colorscale\":[[0.0,\"#0d0887\"],[0.1111111111111111,\"#46039f\"],[0.2222222222222222,\"#7201a8\"],[0.3333333333333333,\"#9c179e\"],[0.4444444444444444,\"#bd3786\"],[0.5555555555555556,\"#d8576b\"],[0.6666666666666666,\"#ed7953\"],[0.7777777777777778,\"#fb9f3a\"],[0.8888888888888888,\"#fdca26\"],[1.0,\"#f0f921\"]],\"type\":\"surface\"}],\"table\":[{\"cells\":{\"fill\":{\"color\":\"#EBF0F8\"},\"line\":{\"color\":\"white\"}},\"header\":{\"fill\":{\"color\":\"#C8D4E3\"},\"line\":{\"color\":\"white\"}},\"type\":\"table\"}]},\"layout\":{\"annotationdefaults\":{\"arrowcolor\":\"#2a3f5f\",\"arrowhead\":0,\"arrowwidth\":1},\"autotypenumbers\":\"strict\",\"coloraxis\":{\"colorbar\":{\"outlinewidth\":0,\"ticks\":\"\"}},\"colorscale\":{\"diverging\":[[0,\"#8e0152\"],[0.1,\"#c51b7d\"],[0.2,\"#de77ae\"],[0.3,\"#f1b6da\"],[0.4,\"#fde0ef\"],[0.5,\"#f7f7f7\"],[0.6,\"#e6f5d0\"],[0.7,\"#b8e186\"],[0.8,\"#7fbc41\"],[0.9,\"#4d9221\"],[1,\"#276419\"]],\"sequential\":[[0.0,\"#0d0887\"],[0.1111111111111111,\"#46039f\"],[0.2222222222222222,\"#7201a8\"],[0.3333333333333333,\"#9c179e\"],[0.4444444444444444,\"#bd3786\"],[0.5555555555555556,\"#d8576b\"],[0.6666666666666666,\"#ed7953\"],[0.7777777777777778,\"#fb9f3a\"],[0.8888888888888888,\"#fdca26\"],[1.0,\"#f0f921\"]],\"sequentialminus\":[[0.0,\"#0d0887\"],[0.1111111111111111,\"#46039f\"],[0.2222222222222222,\"#7201a8\"],[0.3333333333333333,\"#9c179e\"],[0.4444444444444444,\"#bd3786\"],[0.5555555555555556,\"#d8576b\"],[0.6666666666666666,\"#ed7953\"],[0.7777777777777778,\"#fb9f3a\"],[0.8888888888888888,\"#fdca26\"],[1.0,\"#f0f921\"]]},\"colorway\":[\"#636efa\",\"#EF553B\",\"#00cc96\",\"#ab63fa\",\"#FFA15A\",\"#19d3f3\",\"#FF6692\",\"#B6E880\",\"#FF97FF\",\"#FECB52\"],\"font\":{\"color\":\"#2a3f5f\"},\"geo\":{\"bgcolor\":\"white\",\"lakecolor\":\"white\",\"landcolor\":\"#E5ECF6\",\"showlakes\":true,\"showland\":true,\"subunitcolor\":\"white\"},\"hoverlabel\":{\"align\":\"left\"},\"hovermode\":\"closest\",\"mapbox\":{\"style\":\"light\"},\"paper_bgcolor\":\"white\",\"plot_bgcolor\":\"#E5ECF6\",\"polar\":{\"angularaxis\":{\"gridcolor\":\"white\",\"linecolor\":\"white\",\"ticks\":\"\"},\"bgcolor\":\"#E5ECF6\",\"radialaxis\":{\"gridcolor\":\"white\",\"linecolor\":\"white\",\"ticks\":\"\"}},\"scene\":{\"xaxis\":{\"backgroundcolor\":\"#E5ECF6\",\"gridcolor\":\"white\",\"gridwidth\":2,\"linecolor\":\"white\",\"showbackground\":true,\"ticks\":\"\",\"zerolinecolor\":\"white\"},\"yaxis\":{\"backgroundcolor\":\"#E5ECF6\",\"gridcolor\":\"white\",\"gridwidth\":2,\"linecolor\":\"white\",\"showbackground\":true,\"ticks\":\"\",\"zerolinecolor\":\"white\"},\"zaxis\":{\"backgroundcolor\":\"#E5ECF6\",\"gridcolor\":\"white\",\"gridwidth\":2,\"linecolor\":\"white\",\"showbackground\":true,\"ticks\":\"\",\"zerolinecolor\":\"white\"}},\"shapedefaults\":{\"line\":{\"color\":\"#2a3f5f\"}},\"ternary\":{\"aaxis\":{\"gridcolor\":\"white\",\"linecolor\":\"white\",\"ticks\":\"\"},\"baxis\":{\"gridcolor\":\"white\",\"linecolor\":\"white\",\"ticks\":\"\"},\"bgcolor\":\"#E5ECF6\",\"caxis\":{\"gridcolor\":\"white\",\"linecolor\":\"white\",\"ticks\":\"\"}},\"title\":{\"x\":0.05},\"xaxis\":{\"automargin\":true,\"gridcolor\":\"white\",\"linecolor\":\"white\",\"ticks\":\"\",\"title\":{\"standoff\":15},\"zerolinecolor\":\"white\",\"zerolinewidth\":2},\"yaxis\":{\"automargin\":true,\"gridcolor\":\"white\",\"linecolor\":\"white\",\"ticks\":\"\",\"title\":{\"standoff\":15},\"zerolinecolor\":\"white\",\"zerolinewidth\":2}}},\"xaxis\":{\"rangeslider\":{\"visible\":false}}},                        {\"responsive\": true}                    ).then(function(){\n",
       "                            \n",
       "var gd = document.getElementById('e2db893b-4b1f-4f13-a5e1-3aef380b64ce');\n",
       "var x = new MutationObserver(function (mutations, observer) {{\n",
       "        var display = window.getComputedStyle(gd).display;\n",
       "        if (!display || display === 'none') {{\n",
       "            console.log([gd, 'removed!']);\n",
       "            Plotly.purge(gd);\n",
       "            observer.disconnect();\n",
       "        }}\n",
       "}});\n",
       "\n",
       "// Listen for the removal of the full notebook cells\n",
       "var notebookContainer = gd.closest('#notebook-container');\n",
       "if (notebookContainer) {{\n",
       "    x.observe(notebookContainer, {childList: true});\n",
       "}}\n",
       "\n",
       "// Listen for the clearing of the current output cell\n",
       "var outputEl = gd.closest('.output');\n",
       "if (outputEl) {{\n",
       "    x.observe(outputEl, {childList: true});\n",
       "}}\n",
       "\n",
       "                        })                };                });            </script>        </div>"
      ]
     },
     "metadata": {},
     "output_type": "display_data"
    }
   ],
   "source": [
    "plot(check_df)"
   ]
  },
  {
   "cell_type": "code",
   "execution_count": null,
   "id": "6c7851c6",
   "metadata": {},
   "outputs": [],
   "source": []
  }
 ],
 "metadata": {
  "kernelspec": {
   "display_name": "Python 3 (ipykernel)",
   "language": "python",
   "name": "python3"
  },
  "language_info": {
   "codemirror_mode": {
    "name": "ipython",
    "version": 3
   },
   "file_extension": ".py",
   "mimetype": "text/x-python",
   "name": "python",
   "nbconvert_exporter": "python",
   "pygments_lexer": "ipython3",
   "version": "3.9.12"
  }
 },
 "nbformat": 4,
 "nbformat_minor": 5
}
