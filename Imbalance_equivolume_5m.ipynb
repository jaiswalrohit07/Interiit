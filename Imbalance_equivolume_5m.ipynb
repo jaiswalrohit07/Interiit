{
 "cells": [
  {
   "cell_type": "code",
   "execution_count": 15,
   "id": "973728ad",
   "metadata": {},
   "outputs": [],
   "source": [
    "import pandas as pd\n",
    "import numpy as np\n",
    "import matplotlib.pyplot as plt\n",
    "import datetime\n",
    "from datetime import datetime"
   ]
  },
  {
   "cell_type": "code",
   "execution_count": 16,
   "id": "1f206e43",
   "metadata": {},
   "outputs": [],
   "source": [
    "def resample_to_constant_volume(df, volume_per_candle):\n",
    "    # sort by time\n",
    "    #df = df.sort_values(by='time')\n",
    "    # create cumulative volume column\n",
    "    df['cumulative_volume'] = df['volume'].cumsum()\n",
    "    print(len(df))\n",
    "    # initialize the new dataframe to hold resampled data\n",
    "    resampled_df = pd.DataFrame(columns=['open', 'high', 'low', 'close', 'volume'])\n",
    "    \n",
    "    start_index = 0\n",
    "    end_index = 0\n",
    "    cumulative_volume = 0\n",
    "    for i in range(len(df)):\n",
    "        cumulative_volume += df.iloc[i]['volume']\n",
    "        end_index = i\n",
    "        if cumulative_volume >= volume_per_candle:\n",
    "            candle_df = df.iloc[start_index:end_index+1]\n",
    "            open_price = candle_df.iloc[0]['open']\n",
    "            high_price = candle_df['high'].max()\n",
    "            low_price = candle_df['low'].min()\n",
    "            close_price = candle_df.iloc[-1]['close']\n",
    "            mask = df.iloc[start_index][\"date\"].split(\"+\")[0]\n",
    "            date_open =  pd.to_datetime(datetime.strptime(mask, '%Y-%m-%d %H:%M:%S'))\n",
    "            mask = df.iloc[end_index][\"date\"].split(\"+\")[0]\n",
    "            date_end = pd.to_datetime(datetime.strptime(mask, '%Y-%m-%d %H:%M:%S'))\n",
    "       \n",
    "            \n",
    "            \n",
    "            resampled_df = resampled_df.append({'open': open_price, 'high': high_price, 'low': low_price, \n",
    "                                                'close': close_price, 'volume': cumulative_volume,\n",
    "                                                \"date_open\": date_open, #\"time_open\":time_open,\n",
    "                                                \"date_end\": date_end} #\"time_end\":time_end}\n",
    "                                                 ,ignore_index=True)\n",
    "            cumulative_volume = 0\n",
    "            start_index = end_index + 1\n",
    "    \n",
    "    if start_index < len(df):\n",
    "        candle_df = df.iloc[start_index:len(df)]\n",
    "        open_price = candle_df.iloc[0]['open']\n",
    "        high_price = candle_df['high'].max()\n",
    "        low_price = candle_df['low'].min()\n",
    "        close_price = candle_df.iloc[-1]['close']\n",
    "        resampled_df = resampled_df.append({'open': open_price, 'high': high_price, 'low': low_price, 'close': close_price, 'volume': volume_per_candle}, ignore_index=True)\n",
    "\n",
    "    return resampled_df"
   ]
  },
  {
   "cell_type": "code",
   "execution_count": 4,
   "id": "b5950f29",
   "metadata": {},
   "outputs": [],
   "source": [
    "df_5min = pd.read_csv('ACC_5min-2.csv')"
   ]
  },
  {
   "cell_type": "code",
   "execution_count": 5,
   "id": "77c6f12f",
   "metadata": {},
   "outputs": [
    {
     "data": {
      "text/plain": [
       "count    6.094500e+04\n",
       "mean     1.195023e+04\n",
       "std      2.249710e+04\n",
       "min      1.900000e+01\n",
       "25%      3.315000e+03\n",
       "50%      6.845000e+03\n",
       "75%      1.365000e+04\n",
       "max      1.254536e+06\n",
       "Name: volume, dtype: float64"
      ]
     },
     "execution_count": 5,
     "metadata": {},
     "output_type": "execute_result"
    }
   ],
   "source": [
    "df_5min.volume.describe()"
   ]
  },
  {
   "cell_type": "code",
   "execution_count": 6,
   "id": "27f3b877",
   "metadata": {},
   "outputs": [],
   "source": [
    "df_total = pd.read_csv('ACC_minute_data_with_indicators.csv')"
   ]
  },
  {
   "cell_type": "code",
   "execution_count": 8,
   "id": "29292691",
   "metadata": {},
   "outputs": [],
   "source": [
    "df_1min_all = df_total[['date' , 'close','high' , 'low' , 'open' , 'volume']]"
   ]
  },
  {
   "cell_type": "code",
   "execution_count": 9,
   "id": "65c0d73f",
   "metadata": {},
   "outputs": [],
   "source": [
    "df_18_21_1min = df_1min_all.iloc[249971:554674]"
   ]
  },
  {
   "cell_type": "code",
   "execution_count": 10,
   "id": "b69621fc",
   "metadata": {},
   "outputs": [
    {
     "data": {
      "text/html": [
       "<div>\n",
       "<style scoped>\n",
       "    .dataframe tbody tr th:only-of-type {\n",
       "        vertical-align: middle;\n",
       "    }\n",
       "\n",
       "    .dataframe tbody tr th {\n",
       "        vertical-align: top;\n",
       "    }\n",
       "\n",
       "    .dataframe thead th {\n",
       "        text-align: right;\n",
       "    }\n",
       "</style>\n",
       "<table border=\"1\" class=\"dataframe\">\n",
       "  <thead>\n",
       "    <tr style=\"text-align: right;\">\n",
       "      <th></th>\n",
       "      <th>date</th>\n",
       "      <th>close</th>\n",
       "      <th>high</th>\n",
       "      <th>low</th>\n",
       "      <th>open</th>\n",
       "      <th>volume</th>\n",
       "    </tr>\n",
       "  </thead>\n",
       "  <tbody>\n",
       "    <tr>\n",
       "      <th>249971</th>\n",
       "      <td>2018-01-01 09:15:00+05:30</td>\n",
       "      <td>1760.00</td>\n",
       "      <td>1763.90</td>\n",
       "      <td>1758.65</td>\n",
       "      <td>1763.90</td>\n",
       "      <td>718</td>\n",
       "    </tr>\n",
       "    <tr>\n",
       "      <th>249972</th>\n",
       "      <td>2018-01-01 09:16:00+05:30</td>\n",
       "      <td>1763.80</td>\n",
       "      <td>1763.80</td>\n",
       "      <td>1760.00</td>\n",
       "      <td>1760.00</td>\n",
       "      <td>409</td>\n",
       "    </tr>\n",
       "    <tr>\n",
       "      <th>249973</th>\n",
       "      <td>2018-01-01 09:17:00+05:30</td>\n",
       "      <td>1760.10</td>\n",
       "      <td>1763.45</td>\n",
       "      <td>1760.00</td>\n",
       "      <td>1763.45</td>\n",
       "      <td>867</td>\n",
       "    </tr>\n",
       "    <tr>\n",
       "      <th>249974</th>\n",
       "      <td>2018-01-01 09:18:00+05:30</td>\n",
       "      <td>1759.35</td>\n",
       "      <td>1760.45</td>\n",
       "      <td>1759.35</td>\n",
       "      <td>1760.10</td>\n",
       "      <td>1065</td>\n",
       "    </tr>\n",
       "    <tr>\n",
       "      <th>249975</th>\n",
       "      <td>2018-01-01 09:19:00+05:30</td>\n",
       "      <td>1758.65</td>\n",
       "      <td>1759.90</td>\n",
       "      <td>1758.65</td>\n",
       "      <td>1759.35</td>\n",
       "      <td>436</td>\n",
       "    </tr>\n",
       "    <tr>\n",
       "      <th>...</th>\n",
       "      <td>...</td>\n",
       "      <td>...</td>\n",
       "      <td>...</td>\n",
       "      <td>...</td>\n",
       "      <td>...</td>\n",
       "      <td>...</td>\n",
       "    </tr>\n",
       "    <tr>\n",
       "      <th>554669</th>\n",
       "      <td>2021-07-28 15:24:00+05:30</td>\n",
       "      <td>2395.35</td>\n",
       "      <td>2395.65</td>\n",
       "      <td>2394.05</td>\n",
       "      <td>2395.65</td>\n",
       "      <td>1576</td>\n",
       "    </tr>\n",
       "    <tr>\n",
       "      <th>554670</th>\n",
       "      <td>2021-07-28 15:25:00+05:30</td>\n",
       "      <td>2391.70</td>\n",
       "      <td>2396.75</td>\n",
       "      <td>2390.15</td>\n",
       "      <td>2395.35</td>\n",
       "      <td>2622</td>\n",
       "    </tr>\n",
       "    <tr>\n",
       "      <th>554671</th>\n",
       "      <td>2021-07-28 15:26:00+05:30</td>\n",
       "      <td>2395.00</td>\n",
       "      <td>2395.35</td>\n",
       "      <td>2391.70</td>\n",
       "      <td>2391.70</td>\n",
       "      <td>2092</td>\n",
       "    </tr>\n",
       "    <tr>\n",
       "      <th>554672</th>\n",
       "      <td>2021-07-28 15:27:00+05:30</td>\n",
       "      <td>2391.15</td>\n",
       "      <td>2395.00</td>\n",
       "      <td>2391.15</td>\n",
       "      <td>2394.95</td>\n",
       "      <td>1189</td>\n",
       "    </tr>\n",
       "    <tr>\n",
       "      <th>554673</th>\n",
       "      <td>2021-07-28 15:28:00+05:30</td>\n",
       "      <td>2386.10</td>\n",
       "      <td>2394.60</td>\n",
       "      <td>2384.80</td>\n",
       "      <td>2391.15</td>\n",
       "      <td>3110</td>\n",
       "    </tr>\n",
       "  </tbody>\n",
       "</table>\n",
       "<p>304703 rows × 6 columns</p>\n",
       "</div>"
      ],
      "text/plain": [
       "                             date    close     high      low     open  volume\n",
       "249971  2018-01-01 09:15:00+05:30  1760.00  1763.90  1758.65  1763.90     718\n",
       "249972  2018-01-01 09:16:00+05:30  1763.80  1763.80  1760.00  1760.00     409\n",
       "249973  2018-01-01 09:17:00+05:30  1760.10  1763.45  1760.00  1763.45     867\n",
       "249974  2018-01-01 09:18:00+05:30  1759.35  1760.45  1759.35  1760.10    1065\n",
       "249975  2018-01-01 09:19:00+05:30  1758.65  1759.90  1758.65  1759.35     436\n",
       "...                           ...      ...      ...      ...      ...     ...\n",
       "554669  2021-07-28 15:24:00+05:30  2395.35  2395.65  2394.05  2395.65    1576\n",
       "554670  2021-07-28 15:25:00+05:30  2391.70  2396.75  2390.15  2395.35    2622\n",
       "554671  2021-07-28 15:26:00+05:30  2395.00  2395.35  2391.70  2391.70    2092\n",
       "554672  2021-07-28 15:27:00+05:30  2391.15  2395.00  2391.15  2394.95    1189\n",
       "554673  2021-07-28 15:28:00+05:30  2386.10  2394.60  2384.80  2391.15    3110\n",
       "\n",
       "[304703 rows x 6 columns]"
      ]
     },
     "execution_count": 10,
     "metadata": {},
     "output_type": "execute_result"
    }
   ],
   "source": [
    "df_18_21_1min"
   ]
  },
  {
   "cell_type": "code",
   "execution_count": 13,
   "id": "89173ec1",
   "metadata": {},
   "outputs": [
    {
     "data": {
      "text/plain": [
       "21240.0"
      ]
     },
     "execution_count": 13,
     "metadata": {},
     "output_type": "execute_result"
    }
   ],
   "source": [
    "# 4 times the 90% of 1 min data volume: 1 volume candle consist of 4 x 1 min candle \n",
    "vol_bar = df_18_21_1min.volume.quantile(0.90)*4\n",
    "vol_bar"
   ]
  },
  {
   "cell_type": "code",
   "execution_count": 18,
   "id": "64c11e12",
   "metadata": {},
   "outputs": [],
   "source": [
    "import warnings\n",
    "warnings.filterwarnings('ignore')"
   ]
  },
  {
   "cell_type": "code",
   "execution_count": null,
   "id": "13275312",
   "metadata": {},
   "outputs": [
    {
     "name": "stdout",
     "output_type": "stream",
     "text": [
      "304703\n"
     ]
    }
   ],
   "source": [
    "df_eq_vol = resample_to_constant_volume(df_18_21_1min, vol_bar)"
   ]
  },
  {
   "cell_type": "code",
   "execution_count": 21,
   "id": "aa575d68",
   "metadata": {},
   "outputs": [
    {
     "ename": "NameError",
     "evalue": "name 'df' is not defined",
     "output_type": "error",
     "traceback": [
      "\u001b[1;31m---------------------------------------------------------------------------\u001b[0m",
      "\u001b[1;31mNameError\u001b[0m                                 Traceback (most recent call last)",
      "Input \u001b[1;32mIn [21]\u001b[0m, in \u001b[0;36m<cell line: 1>\u001b[1;34m()\u001b[0m\n\u001b[1;32m----> 1\u001b[0m \u001b[43mdf\u001b[49m\n",
      "\u001b[1;31mNameError\u001b[0m: name 'df' is not defined"
     ]
    }
   ],
   "source": [
    "df"
   ]
  },
  {
   "cell_type": "code",
   "execution_count": 32,
   "id": "f2a66b4f",
   "metadata": {},
   "outputs": [
    {
     "data": {
      "text/plain": [
       "open     1670.8\n",
       "high    1672.45\n",
       "Name: 499943, dtype: object"
      ]
     },
     "execution_count": 32,
     "metadata": {},
     "output_type": "execute_result"
    }
   ],
   "source": [
    "df_18_21_1min.iloc[249972][['open' , 'high']]"
   ]
  },
  {
   "cell_type": "code",
   "execution_count": 33,
   "id": "4247fc82",
   "metadata": {},
   "outputs": [
    {
     "data": {
      "text/plain": [
       "open       NaN\n",
       "high    1670.8\n",
       "Name: 499943, dtype: object"
      ]
     },
     "execution_count": 33,
     "metadata": {},
     "output_type": "execute_result"
    }
   ],
   "source": [
    "df_18_21_1min.iloc[249972][['open' , 'high']].shift()"
   ]
  },
  {
   "cell_type": "code",
   "execution_count": null,
   "id": "afc3d991",
   "metadata": {},
   "outputs": [],
   "source": []
  }
 ],
 "metadata": {
  "kernelspec": {
   "display_name": "Python 3 (ipykernel)",
   "language": "python",
   "name": "python3"
  },
  "language_info": {
   "codemirror_mode": {
    "name": "ipython",
    "version": 3
   },
   "file_extension": ".py",
   "mimetype": "text/x-python",
   "name": "python",
   "nbconvert_exporter": "python",
   "pygments_lexer": "ipython3",
   "version": "3.9.12"
  }
 },
 "nbformat": 4,
 "nbformat_minor": 5
}
