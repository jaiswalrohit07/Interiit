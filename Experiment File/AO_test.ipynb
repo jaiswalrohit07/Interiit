{
 "cells": [
  {
   "cell_type": "code",
   "execution_count": 39,
   "id": "9ccd9a45",
   "metadata": {},
   "outputs": [],
   "source": [
    "import pandas as pd\n",
    "import numpy as np\n",
    "import yfinance as yf\n",
    "import datetime\n",
    "from datetime import datetime\n",
    "\n",
    "import matplotlib.pyplot as plt\n",
    "import warnings\n",
    "warnings.filterwarnings('ignore')\n",
    "\n",
    "import plotly.graph_objs as go"
   ]
  },
  {
   "cell_type": "code",
   "execution_count": 5,
   "id": "b1e551f4",
   "metadata": {},
   "outputs": [],
   "source": [
    "def data_filter(dat):\n",
    "    dat = dat[['date' , 'open' , 'high', 'low' , 'close' , 'volume']]\n",
    "    \n",
    "    def ss(x):\n",
    "        return datetime.strptime(x,\"%Y-%m-%d %H:%M:%S+05:30\").strftime(\"%Y-%m-%d %H:%M:%S\")\n",
    "\n",
    "    dat[\"date\"]=list(map(ss,dat[\"date\"]))\n",
    "    \n",
    "    dat['date'] = pd.to_datetime(dat['date']) # converting the date column to datetime format\n",
    "\n",
    "    dat = dat[dat['date'] > '2017-12-31' ]\n",
    "    dat = dat[dat['date'] < '2021-08-01' ]\n",
    "    \n",
    "    return dat"
   ]
  },
  {
   "cell_type": "code",
   "execution_count": 6,
   "id": "34d975cc",
   "metadata": {},
   "outputs": [],
   "source": [
    "df = pd.read_csv('ACC_minute_data_with_indicators.csv')"
   ]
  },
  {
   "cell_type": "code",
   "execution_count": 7,
   "id": "1fdd29ed",
   "metadata": {},
   "outputs": [],
   "source": [
    "dat = data_filter(df)"
   ]
  },
  {
   "cell_type": "code",
   "execution_count": 92,
   "id": "75c53cfd",
   "metadata": {},
   "outputs": [],
   "source": [
    "def resample_to_constant_volume_flex(data):\n",
    "    def volumeSum_threshold():\n",
    "        cumsum = 0\n",
    "        val = yield cumsum\n",
    "        while True:\n",
    "            if cumsum < val[1]:\n",
    "                cumsum += val[0]\n",
    "                val = yield cumsum\n",
    "            else:\n",
    "                cumsum = val[0]\n",
    "                val = yield cumsum\n",
    "    a = volumeSum_threshold()\n",
    "    next(a)\n",
    "    data[\"volume_per_candle\"] = data[\"volume\"].rolling(window=3600).mean().rolling(window = 3000).quantile(0.999)\n",
    "    data[\"volume_per_candle\"].fillna(method=\"bfill\",inplace=True)\n",
    "    data[\"cumsum\"] = data[\"volume\"].cumsum()\n",
    "\n",
    "    data[\"volume_vol\"] = [a.send(v) for v in np.array(data[[\"volume\",\"volume_per_candle\"]])]\n",
    "    \n",
    "    data[\"thesholdBreak\"] = data['volume_vol']>data[\"volume_per_candle\"]\n",
    "    \n",
    "    data[\"close_vol\"] = data[\"close\"]*data[\"thesholdBreak\"].astype(int)\n",
    "    data[\"open_vol\"] = data[\"open\"]*((data[\"thesholdBreak\"]).astype(int).shift(1))\n",
    "    data[\"open_vol\"].iloc[0] = data[\"open\"].iloc[0]\n",
    "    data[\"open_vol\"] = data['open_vol'].where(data[\"open_vol\"] != 0, np.nan)\n",
    "    data[\"open_vol\"].fillna(method=\"ffill\",inplace=True)\n",
    "    data[\"close_vol\"] = data['close_vol'].where(data[\"close_vol\"] != 0, np.nan)\n",
    "    data[\"close_vol\"].iloc[-1] = data['close'].iloc[-1]\n",
    "    data[\"close_vol\"].fillna(method=\"bfill\",inplace=True)\n",
    "    \n",
    "    def high_():\n",
    "        hh = 0\n",
    "        val = yield hh\n",
    "        while True:\n",
    "            if val[0]:\n",
    "                hh = max(hh,val[1])\n",
    "                val = yield hh\n",
    "                hh = 0\n",
    "            else:\n",
    "                hh = max(hh,val[1])\n",
    "                val = yield hh\n",
    "    h = high_()\n",
    "    next(h)\n",
    "    def low_():\n",
    "        ll = np.inf\n",
    "        val = yield ll\n",
    "        while True:\n",
    "            if val[0]:\n",
    "                ll = min(ll,val[1])\n",
    "                val = yield ll\n",
    "                ll = np.inf\n",
    "            else:\n",
    "                ll = min(ll,val[1])\n",
    "                val = yield ll\n",
    "    l = low_()\n",
    "    next(l)\n",
    "    \n",
    "    data[\"high_vol\"]=[h.send(v) for v in np.array(data[[\"thesholdBreak\",\"high\"]])]\n",
    "    data[\"low_vol\"] =[l.send(v) for v in np.array(data[[\"thesholdBreak\",\"low\"]])]\n",
    "    data[\"open\"] = data[\"open_vol\"]\n",
    "    data[\"high\"] = data[\"high_vol\"]\n",
    "    data[\"low\"] = data[\"low_vol\"]\n",
    "    data[\"close\"] = data[\"close_vol\"]\n",
    "    data[\"volume\"] = data[\"volume_vol\"]\n",
    "    \n",
    "    \n",
    "    return data[[\"date\",\"open\",\"high\",\"low\",\"close\",\"volume_per_candle\",\"volume\",\"thesholdBreak\"]]"
   ]
  },
  {
   "cell_type": "code",
   "execution_count": 93,
   "id": "216c35bf",
   "metadata": {},
   "outputs": [],
   "source": [
    "df_vol = resample_to_constant_volume_flex(dat.copy())\n"
   ]
  },
  {
   "cell_type": "code",
   "execution_count": 94,
   "id": "96a10fae",
   "metadata": {},
   "outputs": [],
   "source": [
    "# df_vol[\"upper\"] = np.array(df_1min_ind_date[\"upper\"])\n",
    "# df_vol['lower'] = np.array(df_1min_ind_date[\"lower\"])\n",
    "df_vol =df_vol[df_vol[\"thesholdBreak\"]]"
   ]
  },
  {
   "cell_type": "code",
   "execution_count": 95,
   "id": "9cd02781",
   "metadata": {},
   "outputs": [
    {
     "data": {
      "text/html": [
       "<div>\n",
       "<style scoped>\n",
       "    .dataframe tbody tr th:only-of-type {\n",
       "        vertical-align: middle;\n",
       "    }\n",
       "\n",
       "    .dataframe tbody tr th {\n",
       "        vertical-align: top;\n",
       "    }\n",
       "\n",
       "    .dataframe thead th {\n",
       "        text-align: right;\n",
       "    }\n",
       "</style>\n",
       "<table border=\"1\" class=\"dataframe\">\n",
       "  <thead>\n",
       "    <tr style=\"text-align: right;\">\n",
       "      <th></th>\n",
       "      <th>date</th>\n",
       "      <th>open</th>\n",
       "      <th>high</th>\n",
       "      <th>low</th>\n",
       "      <th>close</th>\n",
       "      <th>volume_per_candle</th>\n",
       "      <th>volume</th>\n",
       "      <th>thesholdBreak</th>\n",
       "    </tr>\n",
       "  </thead>\n",
       "  <tbody>\n",
       "    <tr>\n",
       "      <th>249972</th>\n",
       "      <td>2018-01-01 09:16:00</td>\n",
       "      <td>1763.90</td>\n",
       "      <td>1763.90</td>\n",
       "      <td>1758.65</td>\n",
       "      <td>1763.80</td>\n",
       "      <td>996.790345</td>\n",
       "      <td>1127.0</td>\n",
       "      <td>True</td>\n",
       "    </tr>\n",
       "    <tr>\n",
       "      <th>249974</th>\n",
       "      <td>2018-01-01 09:18:00</td>\n",
       "      <td>1763.45</td>\n",
       "      <td>1763.45</td>\n",
       "      <td>1759.35</td>\n",
       "      <td>1759.35</td>\n",
       "      <td>996.790345</td>\n",
       "      <td>1932.0</td>\n",
       "      <td>True</td>\n",
       "    </tr>\n",
       "    <tr>\n",
       "      <th>249976</th>\n",
       "      <td>2018-01-01 09:20:00</td>\n",
       "      <td>1759.35</td>\n",
       "      <td>1761.00</td>\n",
       "      <td>1758.50</td>\n",
       "      <td>1758.50</td>\n",
       "      <td>996.790345</td>\n",
       "      <td>1027.0</td>\n",
       "      <td>True</td>\n",
       "    </tr>\n",
       "    <tr>\n",
       "      <th>249978</th>\n",
       "      <td>2018-01-01 09:22:00</td>\n",
       "      <td>1758.50</td>\n",
       "      <td>1759.45</td>\n",
       "      <td>1756.00</td>\n",
       "      <td>1758.00</td>\n",
       "      <td>996.790345</td>\n",
       "      <td>1521.0</td>\n",
       "      <td>True</td>\n",
       "    </tr>\n",
       "    <tr>\n",
       "      <th>249980</th>\n",
       "      <td>2018-01-01 09:24:00</td>\n",
       "      <td>1758.00</td>\n",
       "      <td>1758.00</td>\n",
       "      <td>1754.60</td>\n",
       "      <td>1754.80</td>\n",
       "      <td>996.790345</td>\n",
       "      <td>1035.0</td>\n",
       "      <td>True</td>\n",
       "    </tr>\n",
       "    <tr>\n",
       "      <th>...</th>\n",
       "      <td>...</td>\n",
       "      <td>...</td>\n",
       "      <td>...</td>\n",
       "      <td>...</td>\n",
       "      <td>...</td>\n",
       "      <td>...</td>\n",
       "      <td>...</td>\n",
       "      <td>...</td>\n",
       "    </tr>\n",
       "    <tr>\n",
       "      <th>554663</th>\n",
       "      <td>2021-07-28 15:18:00</td>\n",
       "      <td>2395.00</td>\n",
       "      <td>2397.00</td>\n",
       "      <td>2394.25</td>\n",
       "      <td>2396.95</td>\n",
       "      <td>4266.070285</td>\n",
       "      <td>4647.0</td>\n",
       "      <td>True</td>\n",
       "    </tr>\n",
       "    <tr>\n",
       "      <th>554665</th>\n",
       "      <td>2021-07-28 15:20:00</td>\n",
       "      <td>2396.95</td>\n",
       "      <td>2397.00</td>\n",
       "      <td>2393.10</td>\n",
       "      <td>2394.45</td>\n",
       "      <td>4266.070285</td>\n",
       "      <td>4987.0</td>\n",
       "      <td>True</td>\n",
       "    </tr>\n",
       "    <tr>\n",
       "      <th>554666</th>\n",
       "      <td>2021-07-28 15:21:00</td>\n",
       "      <td>2395.00</td>\n",
       "      <td>2397.10</td>\n",
       "      <td>2393.35</td>\n",
       "      <td>2394.70</td>\n",
       "      <td>4266.070285</td>\n",
       "      <td>7102.0</td>\n",
       "      <td>True</td>\n",
       "    </tr>\n",
       "    <tr>\n",
       "      <th>554670</th>\n",
       "      <td>2021-07-28 15:25:00</td>\n",
       "      <td>2394.70</td>\n",
       "      <td>2396.75</td>\n",
       "      <td>2390.15</td>\n",
       "      <td>2391.70</td>\n",
       "      <td>4266.070285</td>\n",
       "      <td>6238.0</td>\n",
       "      <td>True</td>\n",
       "    </tr>\n",
       "    <tr>\n",
       "      <th>554673</th>\n",
       "      <td>2021-07-28 15:28:00</td>\n",
       "      <td>2391.70</td>\n",
       "      <td>2395.35</td>\n",
       "      <td>2384.80</td>\n",
       "      <td>2386.10</td>\n",
       "      <td>4266.077802</td>\n",
       "      <td>6391.0</td>\n",
       "      <td>True</td>\n",
       "    </tr>\n",
       "  </tbody>\n",
       "</table>\n",
       "<p>128943 rows × 8 columns</p>\n",
       "</div>"
      ],
      "text/plain": [
       "                      date     open     high      low    close  \\\n",
       "249972 2018-01-01 09:16:00  1763.90  1763.90  1758.65  1763.80   \n",
       "249974 2018-01-01 09:18:00  1763.45  1763.45  1759.35  1759.35   \n",
       "249976 2018-01-01 09:20:00  1759.35  1761.00  1758.50  1758.50   \n",
       "249978 2018-01-01 09:22:00  1758.50  1759.45  1756.00  1758.00   \n",
       "249980 2018-01-01 09:24:00  1758.00  1758.00  1754.60  1754.80   \n",
       "...                    ...      ...      ...      ...      ...   \n",
       "554663 2021-07-28 15:18:00  2395.00  2397.00  2394.25  2396.95   \n",
       "554665 2021-07-28 15:20:00  2396.95  2397.00  2393.10  2394.45   \n",
       "554666 2021-07-28 15:21:00  2395.00  2397.10  2393.35  2394.70   \n",
       "554670 2021-07-28 15:25:00  2394.70  2396.75  2390.15  2391.70   \n",
       "554673 2021-07-28 15:28:00  2391.70  2395.35  2384.80  2386.10   \n",
       "\n",
       "        volume_per_candle  volume  thesholdBreak  \n",
       "249972         996.790345  1127.0           True  \n",
       "249974         996.790345  1932.0           True  \n",
       "249976         996.790345  1027.0           True  \n",
       "249978         996.790345  1521.0           True  \n",
       "249980         996.790345  1035.0           True  \n",
       "...                   ...     ...            ...  \n",
       "554663        4266.070285  4647.0           True  \n",
       "554665        4266.070285  4987.0           True  \n",
       "554666        4266.070285  7102.0           True  \n",
       "554670        4266.070285  6238.0           True  \n",
       "554673        4266.077802  6391.0           True  \n",
       "\n",
       "[128943 rows x 8 columns]"
      ]
     },
     "execution_count": 95,
     "metadata": {},
     "output_type": "execute_result"
    }
   ],
   "source": [
    "df_vol"
   ]
  },
  {
   "cell_type": "code",
   "execution_count": 96,
   "id": "731a0a90",
   "metadata": {},
   "outputs": [],
   "source": [
    "def aosum(data):\n",
    "    \n",
    "    data[\"mid\"] = (data[\"high\"]+data[\"low\"])/2\n",
    "    data[\"ao\"] = data[\"mid\"].rolling(window = 5).mean() - data[\"mid\"].rolling(window = 34).mean()\n",
    "    data[\"signals1\"] = ((data[\"ao\"].shift(4))> (data[\"ao\"].shift(3))) & ((data[\"ao\"].shift(3))> (data[\"ao\"].shift(2))) & ((data[\"ao\"].shift(2)) < data[\"ao\"].shift(1)) \n",
    "#     data[\"signals2\"] = ((-data[\"ao\"].shift(4))< (-data[\"ao\"].shift(3))) & (-(data[\"ao\"].shift(3))< (-data[\"ao\"].shift(2))) & (-(data[\"ao\"].shift(2)) > -data[\"ao\"]) &(data[\"ao\"]>0)\n",
    "    data[\"signal\"] = data[\"signals1\"] \n",
    "    return data"
   ]
  },
  {
   "cell_type": "code",
   "execution_count": 97,
   "id": "82766b33",
   "metadata": {},
   "outputs": [],
   "source": [
    "def onlyAO(data):\n",
    "    data[\"mid\"] = (data[\"high\"]+data[\"low\"])/2\n",
    "    data[\"ao\"] = data[\"mid\"].rolling(window = 5).mean() - data[\"mid\"].rolling(window = 34).mean()\n",
    "    data[\"pos\"] = np.where(((data[\"ao\"].shift(4))> (data[\"ao\"].shift(3))) & ((data[\"ao\"].shift(3))> (data[\"ao\"].shift(2))) & ((data[\"ao\"].shift(2)) < data[\"ao\"].shift(1)) , 1, np.nan) \n",
    "    data['pos'] = np.where(((data[\"ao\"].shift(4))< (data[\"ao\"].shift(3))) & ((data[\"ao\"].shift(3))> (data[\"ao\"].shift(2))) & ((data[\"ao\"].shift(2)) > data[\"ao\"].shift(1)) , 0, data['pos']) \n",
    "    return data"
   ]
  },
  {
   "cell_type": "code",
   "execution_count": 98,
   "id": "f10118e3",
   "metadata": {},
   "outputs": [
    {
     "data": {
      "text/html": [
       "<div>\n",
       "<style scoped>\n",
       "    .dataframe tbody tr th:only-of-type {\n",
       "        vertical-align: middle;\n",
       "    }\n",
       "\n",
       "    .dataframe tbody tr th {\n",
       "        vertical-align: top;\n",
       "    }\n",
       "\n",
       "    .dataframe thead th {\n",
       "        text-align: right;\n",
       "    }\n",
       "</style>\n",
       "<table border=\"1\" class=\"dataframe\">\n",
       "  <thead>\n",
       "    <tr style=\"text-align: right;\">\n",
       "      <th></th>\n",
       "      <th>date</th>\n",
       "      <th>open</th>\n",
       "      <th>high</th>\n",
       "      <th>low</th>\n",
       "      <th>close</th>\n",
       "      <th>volume_per_candle</th>\n",
       "      <th>volume</th>\n",
       "      <th>thesholdBreak</th>\n",
       "      <th>mid</th>\n",
       "      <th>ao</th>\n",
       "      <th>pos</th>\n",
       "    </tr>\n",
       "  </thead>\n",
       "  <tbody>\n",
       "    <tr>\n",
       "      <th>250175</th>\n",
       "      <td>2018-01-01 12:39:00</td>\n",
       "      <td>1750.10</td>\n",
       "      <td>1752.00</td>\n",
       "      <td>1750.00</td>\n",
       "      <td>1751.20</td>\n",
       "      <td>996.790345</td>\n",
       "      <td>1351.0</td>\n",
       "      <td>True</td>\n",
       "      <td>1751.000</td>\n",
       "      <td>-1.062353</td>\n",
       "      <td>1.0</td>\n",
       "    </tr>\n",
       "    <tr>\n",
       "      <th>250264</th>\n",
       "      <td>2018-01-01 14:08:00</td>\n",
       "      <td>1745.00</td>\n",
       "      <td>1746.10</td>\n",
       "      <td>1745.00</td>\n",
       "      <td>1745.00</td>\n",
       "      <td>996.790345</td>\n",
       "      <td>1066.0</td>\n",
       "      <td>True</td>\n",
       "      <td>1745.550</td>\n",
       "      <td>-3.998824</td>\n",
       "      <td>1.0</td>\n",
       "    </tr>\n",
       "    <tr>\n",
       "      <th>250332</th>\n",
       "      <td>2018-01-01 15:16:00</td>\n",
       "      <td>1735.55</td>\n",
       "      <td>1735.95</td>\n",
       "      <td>1732.05</td>\n",
       "      <td>1732.80</td>\n",
       "      <td>996.790345</td>\n",
       "      <td>1392.0</td>\n",
       "      <td>True</td>\n",
       "      <td>1734.000</td>\n",
       "      <td>-11.703235</td>\n",
       "      <td>1.0</td>\n",
       "    </tr>\n",
       "    <tr>\n",
       "      <th>250363</th>\n",
       "      <td>2018-01-02 09:32:00</td>\n",
       "      <td>1744.00</td>\n",
       "      <td>1744.45</td>\n",
       "      <td>1738.30</td>\n",
       "      <td>1738.30</td>\n",
       "      <td>996.790345</td>\n",
       "      <td>1556.0</td>\n",
       "      <td>True</td>\n",
       "      <td>1741.375</td>\n",
       "      <td>2.621912</td>\n",
       "      <td>1.0</td>\n",
       "    </tr>\n",
       "    <tr>\n",
       "      <th>250374</th>\n",
       "      <td>2018-01-02 09:43:00</td>\n",
       "      <td>1739.80</td>\n",
       "      <td>1740.20</td>\n",
       "      <td>1738.55</td>\n",
       "      <td>1740.00</td>\n",
       "      <td>996.790345</td>\n",
       "      <td>3619.0</td>\n",
       "      <td>True</td>\n",
       "      <td>1739.375</td>\n",
       "      <td>2.894118</td>\n",
       "      <td>1.0</td>\n",
       "    </tr>\n",
       "    <tr>\n",
       "      <th>...</th>\n",
       "      <td>...</td>\n",
       "      <td>...</td>\n",
       "      <td>...</td>\n",
       "      <td>...</td>\n",
       "      <td>...</td>\n",
       "      <td>...</td>\n",
       "      <td>...</td>\n",
       "      <td>...</td>\n",
       "      <td>...</td>\n",
       "      <td>...</td>\n",
       "      <td>...</td>\n",
       "    </tr>\n",
       "    <tr>\n",
       "      <th>554315</th>\n",
       "      <td>2021-07-28 09:30:00</td>\n",
       "      <td>2360.70</td>\n",
       "      <td>2363.70</td>\n",
       "      <td>2359.00</td>\n",
       "      <td>2363.70</td>\n",
       "      <td>4239.227364</td>\n",
       "      <td>5129.0</td>\n",
       "      <td>True</td>\n",
       "      <td>2361.350</td>\n",
       "      <td>-8.478088</td>\n",
       "      <td>1.0</td>\n",
       "    </tr>\n",
       "    <tr>\n",
       "      <th>554360</th>\n",
       "      <td>2021-07-28 10:15:00</td>\n",
       "      <td>2355.50</td>\n",
       "      <td>2356.65</td>\n",
       "      <td>2352.00</td>\n",
       "      <td>2353.25</td>\n",
       "      <td>4251.270224</td>\n",
       "      <td>4367.0</td>\n",
       "      <td>True</td>\n",
       "      <td>2354.325</td>\n",
       "      <td>-7.534265</td>\n",
       "      <td>1.0</td>\n",
       "    </tr>\n",
       "    <tr>\n",
       "      <th>554399</th>\n",
       "      <td>2021-07-28 10:54:00</td>\n",
       "      <td>2338.60</td>\n",
       "      <td>2341.70</td>\n",
       "      <td>2336.20</td>\n",
       "      <td>2339.95</td>\n",
       "      <td>4266.070285</td>\n",
       "      <td>5019.0</td>\n",
       "      <td>True</td>\n",
       "      <td>2338.950</td>\n",
       "      <td>-17.367941</td>\n",
       "      <td>1.0</td>\n",
       "    </tr>\n",
       "    <tr>\n",
       "      <th>554584</th>\n",
       "      <td>2021-07-28 13:59:00</td>\n",
       "      <td>2367.00</td>\n",
       "      <td>2380.45</td>\n",
       "      <td>2367.00</td>\n",
       "      <td>2378.75</td>\n",
       "      <td>4266.070285</td>\n",
       "      <td>8369.0</td>\n",
       "      <td>True</td>\n",
       "      <td>2373.725</td>\n",
       "      <td>12.943824</td>\n",
       "      <td>1.0</td>\n",
       "    </tr>\n",
       "    <tr>\n",
       "      <th>554632</th>\n",
       "      <td>2021-07-28 14:47:00</td>\n",
       "      <td>2387.80</td>\n",
       "      <td>2394.30</td>\n",
       "      <td>2387.55</td>\n",
       "      <td>2393.00</td>\n",
       "      <td>4266.070285</td>\n",
       "      <td>16102.0</td>\n",
       "      <td>True</td>\n",
       "      <td>2390.925</td>\n",
       "      <td>13.700147</td>\n",
       "      <td>1.0</td>\n",
       "    </tr>\n",
       "  </tbody>\n",
       "</table>\n",
       "<p>9119 rows × 11 columns</p>\n",
       "</div>"
      ],
      "text/plain": [
       "                      date     open     high      low    close  \\\n",
       "250175 2018-01-01 12:39:00  1750.10  1752.00  1750.00  1751.20   \n",
       "250264 2018-01-01 14:08:00  1745.00  1746.10  1745.00  1745.00   \n",
       "250332 2018-01-01 15:16:00  1735.55  1735.95  1732.05  1732.80   \n",
       "250363 2018-01-02 09:32:00  1744.00  1744.45  1738.30  1738.30   \n",
       "250374 2018-01-02 09:43:00  1739.80  1740.20  1738.55  1740.00   \n",
       "...                    ...      ...      ...      ...      ...   \n",
       "554315 2021-07-28 09:30:00  2360.70  2363.70  2359.00  2363.70   \n",
       "554360 2021-07-28 10:15:00  2355.50  2356.65  2352.00  2353.25   \n",
       "554399 2021-07-28 10:54:00  2338.60  2341.70  2336.20  2339.95   \n",
       "554584 2021-07-28 13:59:00  2367.00  2380.45  2367.00  2378.75   \n",
       "554632 2021-07-28 14:47:00  2387.80  2394.30  2387.55  2393.00   \n",
       "\n",
       "        volume_per_candle   volume  thesholdBreak       mid         ao  pos  \n",
       "250175         996.790345   1351.0           True  1751.000  -1.062353  1.0  \n",
       "250264         996.790345   1066.0           True  1745.550  -3.998824  1.0  \n",
       "250332         996.790345   1392.0           True  1734.000 -11.703235  1.0  \n",
       "250363         996.790345   1556.0           True  1741.375   2.621912  1.0  \n",
       "250374         996.790345   3619.0           True  1739.375   2.894118  1.0  \n",
       "...                   ...      ...            ...       ...        ...  ...  \n",
       "554315        4239.227364   5129.0           True  2361.350  -8.478088  1.0  \n",
       "554360        4251.270224   4367.0           True  2354.325  -7.534265  1.0  \n",
       "554399        4266.070285   5019.0           True  2338.950 -17.367941  1.0  \n",
       "554584        4266.070285   8369.0           True  2373.725  12.943824  1.0  \n",
       "554632        4266.070285  16102.0           True  2390.925  13.700147  1.0  \n",
       "\n",
       "[9119 rows x 11 columns]"
      ]
     },
     "execution_count": 98,
     "metadata": {},
     "output_type": "execute_result"
    }
   ],
   "source": [
    "df_vol = onlyAO(df_vol)\n",
    "df_vol[df_vol['pos'] ==1]"
   ]
  },
  {
   "cell_type": "code",
   "execution_count": 99,
   "id": "3e64845a",
   "metadata": {},
   "outputs": [],
   "source": [
    "# df_vol['pos'] = df_vol['pos'].shift(1)"
   ]
  },
  {
   "cell_type": "code",
   "execution_count": 100,
   "id": "23a6162f",
   "metadata": {},
   "outputs": [
    {
     "data": {
      "text/html": [
       "<div>\n",
       "<style scoped>\n",
       "    .dataframe tbody tr th:only-of-type {\n",
       "        vertical-align: middle;\n",
       "    }\n",
       "\n",
       "    .dataframe tbody tr th {\n",
       "        vertical-align: top;\n",
       "    }\n",
       "\n",
       "    .dataframe thead th {\n",
       "        text-align: right;\n",
       "    }\n",
       "</style>\n",
       "<table border=\"1\" class=\"dataframe\">\n",
       "  <thead>\n",
       "    <tr style=\"text-align: right;\">\n",
       "      <th></th>\n",
       "      <th>date</th>\n",
       "      <th>open</th>\n",
       "      <th>high</th>\n",
       "      <th>low</th>\n",
       "      <th>close</th>\n",
       "      <th>volume_per_candle</th>\n",
       "      <th>volume</th>\n",
       "      <th>thesholdBreak</th>\n",
       "      <th>mid</th>\n",
       "      <th>ao</th>\n",
       "      <th>pos</th>\n",
       "    </tr>\n",
       "  </thead>\n",
       "  <tbody>\n",
       "    <tr>\n",
       "      <th>249972</th>\n",
       "      <td>2018-01-01 09:16:00</td>\n",
       "      <td>1763.90</td>\n",
       "      <td>1763.90</td>\n",
       "      <td>1758.65</td>\n",
       "      <td>1763.80</td>\n",
       "      <td>996.790345</td>\n",
       "      <td>1127.0</td>\n",
       "      <td>True</td>\n",
       "      <td>1761.275</td>\n",
       "      <td>NaN</td>\n",
       "      <td>NaN</td>\n",
       "    </tr>\n",
       "    <tr>\n",
       "      <th>249974</th>\n",
       "      <td>2018-01-01 09:18:00</td>\n",
       "      <td>1763.45</td>\n",
       "      <td>1763.45</td>\n",
       "      <td>1759.35</td>\n",
       "      <td>1759.35</td>\n",
       "      <td>996.790345</td>\n",
       "      <td>1932.0</td>\n",
       "      <td>True</td>\n",
       "      <td>1761.400</td>\n",
       "      <td>NaN</td>\n",
       "      <td>NaN</td>\n",
       "    </tr>\n",
       "    <tr>\n",
       "      <th>249976</th>\n",
       "      <td>2018-01-01 09:20:00</td>\n",
       "      <td>1759.35</td>\n",
       "      <td>1761.00</td>\n",
       "      <td>1758.50</td>\n",
       "      <td>1758.50</td>\n",
       "      <td>996.790345</td>\n",
       "      <td>1027.0</td>\n",
       "      <td>True</td>\n",
       "      <td>1759.750</td>\n",
       "      <td>NaN</td>\n",
       "      <td>NaN</td>\n",
       "    </tr>\n",
       "    <tr>\n",
       "      <th>249978</th>\n",
       "      <td>2018-01-01 09:22:00</td>\n",
       "      <td>1758.50</td>\n",
       "      <td>1759.45</td>\n",
       "      <td>1756.00</td>\n",
       "      <td>1758.00</td>\n",
       "      <td>996.790345</td>\n",
       "      <td>1521.0</td>\n",
       "      <td>True</td>\n",
       "      <td>1757.725</td>\n",
       "      <td>NaN</td>\n",
       "      <td>NaN</td>\n",
       "    </tr>\n",
       "    <tr>\n",
       "      <th>249980</th>\n",
       "      <td>2018-01-01 09:24:00</td>\n",
       "      <td>1758.00</td>\n",
       "      <td>1758.00</td>\n",
       "      <td>1754.60</td>\n",
       "      <td>1754.80</td>\n",
       "      <td>996.790345</td>\n",
       "      <td>1035.0</td>\n",
       "      <td>True</td>\n",
       "      <td>1756.300</td>\n",
       "      <td>NaN</td>\n",
       "      <td>NaN</td>\n",
       "    </tr>\n",
       "    <tr>\n",
       "      <th>...</th>\n",
       "      <td>...</td>\n",
       "      <td>...</td>\n",
       "      <td>...</td>\n",
       "      <td>...</td>\n",
       "      <td>...</td>\n",
       "      <td>...</td>\n",
       "      <td>...</td>\n",
       "      <td>...</td>\n",
       "      <td>...</td>\n",
       "      <td>...</td>\n",
       "      <td>...</td>\n",
       "    </tr>\n",
       "    <tr>\n",
       "      <th>554663</th>\n",
       "      <td>2021-07-28 15:18:00</td>\n",
       "      <td>2395.00</td>\n",
       "      <td>2397.00</td>\n",
       "      <td>2394.25</td>\n",
       "      <td>2396.95</td>\n",
       "      <td>4266.070285</td>\n",
       "      <td>4647.0</td>\n",
       "      <td>True</td>\n",
       "      <td>2395.625</td>\n",
       "      <td>14.519118</td>\n",
       "      <td>NaN</td>\n",
       "    </tr>\n",
       "    <tr>\n",
       "      <th>554665</th>\n",
       "      <td>2021-07-28 15:20:00</td>\n",
       "      <td>2396.95</td>\n",
       "      <td>2397.00</td>\n",
       "      <td>2393.10</td>\n",
       "      <td>2394.45</td>\n",
       "      <td>4266.070285</td>\n",
       "      <td>4987.0</td>\n",
       "      <td>True</td>\n",
       "      <td>2395.050</td>\n",
       "      <td>14.190294</td>\n",
       "      <td>NaN</td>\n",
       "    </tr>\n",
       "    <tr>\n",
       "      <th>554666</th>\n",
       "      <td>2021-07-28 15:21:00</td>\n",
       "      <td>2395.00</td>\n",
       "      <td>2397.10</td>\n",
       "      <td>2393.35</td>\n",
       "      <td>2394.70</td>\n",
       "      <td>4266.070285</td>\n",
       "      <td>7102.0</td>\n",
       "      <td>True</td>\n",
       "      <td>2395.225</td>\n",
       "      <td>13.800735</td>\n",
       "      <td>NaN</td>\n",
       "    </tr>\n",
       "    <tr>\n",
       "      <th>554670</th>\n",
       "      <td>2021-07-28 15:25:00</td>\n",
       "      <td>2394.70</td>\n",
       "      <td>2396.75</td>\n",
       "      <td>2390.15</td>\n",
       "      <td>2391.70</td>\n",
       "      <td>4266.070285</td>\n",
       "      <td>6238.0</td>\n",
       "      <td>True</td>\n",
       "      <td>2393.450</td>\n",
       "      <td>13.071029</td>\n",
       "      <td>NaN</td>\n",
       "    </tr>\n",
       "    <tr>\n",
       "      <th>554673</th>\n",
       "      <td>2021-07-28 15:28:00</td>\n",
       "      <td>2391.70</td>\n",
       "      <td>2395.35</td>\n",
       "      <td>2384.80</td>\n",
       "      <td>2386.10</td>\n",
       "      <td>4266.077802</td>\n",
       "      <td>6391.0</td>\n",
       "      <td>True</td>\n",
       "      <td>2390.075</td>\n",
       "      <td>11.459265</td>\n",
       "      <td>NaN</td>\n",
       "    </tr>\n",
       "  </tbody>\n",
       "</table>\n",
       "<p>128943 rows × 11 columns</p>\n",
       "</div>"
      ],
      "text/plain": [
       "                      date     open     high      low    close  \\\n",
       "249972 2018-01-01 09:16:00  1763.90  1763.90  1758.65  1763.80   \n",
       "249974 2018-01-01 09:18:00  1763.45  1763.45  1759.35  1759.35   \n",
       "249976 2018-01-01 09:20:00  1759.35  1761.00  1758.50  1758.50   \n",
       "249978 2018-01-01 09:22:00  1758.50  1759.45  1756.00  1758.00   \n",
       "249980 2018-01-01 09:24:00  1758.00  1758.00  1754.60  1754.80   \n",
       "...                    ...      ...      ...      ...      ...   \n",
       "554663 2021-07-28 15:18:00  2395.00  2397.00  2394.25  2396.95   \n",
       "554665 2021-07-28 15:20:00  2396.95  2397.00  2393.10  2394.45   \n",
       "554666 2021-07-28 15:21:00  2395.00  2397.10  2393.35  2394.70   \n",
       "554670 2021-07-28 15:25:00  2394.70  2396.75  2390.15  2391.70   \n",
       "554673 2021-07-28 15:28:00  2391.70  2395.35  2384.80  2386.10   \n",
       "\n",
       "        volume_per_candle  volume  thesholdBreak       mid         ao  pos  \n",
       "249972         996.790345  1127.0           True  1761.275        NaN  NaN  \n",
       "249974         996.790345  1932.0           True  1761.400        NaN  NaN  \n",
       "249976         996.790345  1027.0           True  1759.750        NaN  NaN  \n",
       "249978         996.790345  1521.0           True  1757.725        NaN  NaN  \n",
       "249980         996.790345  1035.0           True  1756.300        NaN  NaN  \n",
       "...                   ...     ...            ...       ...        ...  ...  \n",
       "554663        4266.070285  4647.0           True  2395.625  14.519118  NaN  \n",
       "554665        4266.070285  4987.0           True  2395.050  14.190294  NaN  \n",
       "554666        4266.070285  7102.0           True  2395.225  13.800735  NaN  \n",
       "554670        4266.070285  6238.0           True  2393.450  13.071029  NaN  \n",
       "554673        4266.077802  6391.0           True  2390.075  11.459265  NaN  \n",
       "\n",
       "[128943 rows x 11 columns]"
      ]
     },
     "execution_count": 100,
     "metadata": {},
     "output_type": "execute_result"
    }
   ],
   "source": [
    "df_vol"
   ]
  },
  {
   "cell_type": "code",
   "execution_count": 101,
   "id": "bf897ff5",
   "metadata": {},
   "outputs": [],
   "source": [
    "df_vol['pos'].fillna(method = \"ffill\",inplace = True)"
   ]
  },
  {
   "cell_type": "code",
   "execution_count": 102,
   "id": "9bbe137d",
   "metadata": {},
   "outputs": [],
   "source": [
    "# df_vol[]"
   ]
  },
  {
   "cell_type": "code",
   "execution_count": 103,
   "id": "e4959f2e",
   "metadata": {},
   "outputs": [],
   "source": [
    "# df_vol['>lower'] = df_vol['close']<df_vol['lower']"
   ]
  },
  {
   "cell_type": "code",
   "execution_count": 104,
   "id": "eb62b50f",
   "metadata": {},
   "outputs": [],
   "source": [
    "# df_vol['>lower']"
   ]
  },
  {
   "cell_type": "code",
   "execution_count": 105,
   "id": "4908709d",
   "metadata": {},
   "outputs": [],
   "source": [
    "# df_vol['position'] = df_vol['>lower']*df_vol['signal1']\n",
    "# df_vol['position'] = df_vol['position'].shift()"
   ]
  },
  {
   "cell_type": "code",
   "execution_count": 106,
   "id": "d68f2c17",
   "metadata": {},
   "outputs": [],
   "source": [
    "df_vol['return'] = df_vol['close'].pct_change()"
   ]
  },
  {
   "cell_type": "code",
   "execution_count": 107,
   "id": "042391dd",
   "metadata": {},
   "outputs": [],
   "source": [
    "df_vol['strat_return'] = df_vol['pos']*df_vol['return']"
   ]
  },
  {
   "cell_type": "code",
   "execution_count": 108,
   "id": "cbd9f61e",
   "metadata": {},
   "outputs": [],
   "source": [
    "df_vol['strat_return1'] = 1 + df_vol['strat_return']\n",
    "df_vol['cc_return1'] = 1 + df_vol['return']"
   ]
  },
  {
   "cell_type": "code",
   "execution_count": 109,
   "id": "c6491f95",
   "metadata": {},
   "outputs": [],
   "source": [
    "df_vol['stat_ret'] = df_vol['strat_return1'].cumprod()"
   ]
  },
  {
   "cell_type": "code",
   "execution_count": 110,
   "id": "b0a45444",
   "metadata": {},
   "outputs": [],
   "source": [
    "df_vol['cc_ret'] = df_vol['cc_return1'].cumprod()"
   ]
  },
  {
   "cell_type": "code",
   "execution_count": 111,
   "id": "628f8a73",
   "metadata": {},
   "outputs": [
    {
     "data": {
      "text/plain": [
       "<AxesSubplot:>"
      ]
     },
     "execution_count": 111,
     "metadata": {},
     "output_type": "execute_result"
    },
    {
     "data": {
      "image/png": "[encoded data removed]",
      "text/plain": [
       "<Figure size 720x576 with 1 Axes>"
      ]
     },
     "metadata": {
      "needs_background": "light"
     },
     "output_type": "display_data"
    }
   ],
   "source": [
    "df_vol[['stat_ret']].plot(figsize = (10,8))"
   ]
  },
  {
   "cell_type": "code",
   "execution_count": 112,
   "id": "20c6eb9c",
   "metadata": {},
   "outputs": [],
   "source": [
    "def plot(df3):\n",
    "    \n",
    "    # Create the candlestick chart\n",
    "    candlestick = go.Candlestick(x=df3.index, open=df3['open'], close=df3['close'], high=df3['high'], low=df3['low'])\n",
    "\n",
    "    # Add a line plot with secondary x-axis\n",
    "    #line = go.Scatter(x=df3['date'], y=df3['close'], name='date', xaxis='x2')\n",
    "    #line = go.Bar(x=df3.index, y=df3['volume'], name='Volume')\n",
    "\n",
    "    # Create the figure with both the candlestick and line plots\n",
    "    fig = go.Figure(data=[candlestick])\n",
    "\n",
    "    # Update the layout to add a secondary x-axis\n",
    "#     fig.update_layout(xaxis2=dict(title='volume', overlaying='x', side='top'),yaxis2 = dict(title='volume', overlaying='y', side='top'))\n",
    "    fig.update_layout(xaxis_rangeslider_visible=False)\n",
    "    fig.show()\n",
    "    \n",
    "    fig.add_bar(x=df3.index, y=df3['ao'], name='AO', yaxis='y3')\n",
    "\n",
    "# Update the layout to add a third y-axis for AO\n",
    "    fig.update_layout(yaxis3=dict(title='AO', side='right'))\n",
    "\n",
    "    # Show the chart\n",
    "    fig.show()"
   ]
  },
  {
   "cell_type": "code",
   "execution_count": 113,
   "id": "a30d6bc1",
   "metadata": {},
   "outputs": [
    {
     "data": {
      "text/plain": [
       "128943"
      ]
     },
     "execution_count": 113,
     "metadata": {},
     "output_type": "execute_result"
    }
   ],
   "source": [
    "# df_vol = df_vol.reset_index()\n",
    "len(df_vol)"
   ]
  },
  {
   "cell_type": "code",
   "execution_count": 114,
   "id": "171fd3c9",
   "metadata": {},
   "outputs": [
    {
     "data": {
      "application/vnd.plotly.v1+json": {
       "config": {
        "plotlyServerURL": "https://plot.ly"
       },
       "data": [
        {
         "close": [
          1592.7,
          1594.4,
          1594,
          1593.2,
          1592.65,
          1592.05,
          1590,
          1589.95,
          1588.4,
          1587.25,
          1587.65,
          1587.1,
          1585.2,
          1585.35,
          1586.5,
          1588,
          1587.3,
          1583.35,
          1582.35,
          1581.7,
          1581.5,
          1581.25,
          1581.65,
          1581.55,
          1581.5
         ],
         "high": [
          1592.8,
          1594.95,
          1595,
          1595,
          1594.5,
          1593.85,
          1592.1,
          1591,
          1590,
          1590,
          1588.6,
          1588.5,
          1588.75,
          1586.5,
          1587.4,
          1588.25,
          1589.25,
          1587.3,
          1583.4,
          1582.6,
          1582.55,
          1581.55,
          1581.95,
          1582.8,
          1582.05
         ],
         "low": [
          1591,
          1591.5,
          1592.15,
          1592.3,
          1592.3,
          1591.65,
          1589.15,
          1589,
          1588,
          1587,
          1587.25,
          1587,
          1585.05,
          1585.2,
          1585.35,
          1586.5,
          1587.3,
          1583.35,
          1582.25,
          1581.6,
          1581,
          1581.1,
          1581.15,
          1581.45,
          1581.5
         ],
         "open": [
          1592.35,
          1592.7,
          1594.4,
          1594,
          1593.2,
          1592.65,
          1592.05,
          1590,
          1589.95,
          1588.2,
          1587.25,
          1587.65,
          1587.1,
          1585.2,
          1585.35,
          1586.5,
          1588,
          1587.3,
          1583.35,
          1582.6,
          1582.55,
          1581.5,
          1581.2,
          1581.65,
          1581.55
         ],
         "type": "candlestick",
         "x": [
          10095,
          10096,
          10097,
          10098,
          10099,
          10100,
          10101,
          10102,
          10103,
          10104,
          10105,
          10106,
          10107,
          10108,
          10109,
          10110,
          10111,
          10112,
          10113,
          10114,
          10115,
          10116,
          10117,
          10118,
          10119
         ]
        }
       ],
       "layout": {
        "template": {
         "data": {
          "bar": [
           {
            "error_x": {
             "color": "#2a3f5f"
            },
            "error_y": {
             "color": "#2a3f5f"
            },
            "marker": {
             "line": {
              "color": "#E5ECF6",
              "width": 0.5
             },
             "pattern": {
              "fillmode": "overlay",
              "size": 10,
              "solidity": 0.2
             }
            },
            "type": "bar"
           }
          ],
          "barpolar": [
           {
            "marker": {
             "line": {
              "color": "#E5ECF6",
              "width": 0.5
             },
             "pattern": {
              "fillmode": "overlay",
              "size": 10,
              "solidity": 0.2
             }
            },
            "type": "barpolar"
           }
          ],
          "carpet": [
           {
            "aaxis": {
             "endlinecolor": "#2a3f5f",
             "gridcolor": "white",
             "linecolor": "white",
             "minorgridcolor": "white",
             "startlinecolor": "#2a3f5f"
            },
            "baxis": {
             "endlinecolor": "#2a3f5f",
             "gridcolor": "white",
             "linecolor": "white",
             "minorgridcolor": "white",
             "startlinecolor": "#2a3f5f"
            },
            "type": "carpet"
           }
          ],
          "choropleth": [
           {
            "colorbar": {
             "outlinewidth": 0,
             "ticks": ""
            },
            "type": "choropleth"
           }
          ],
          "contour": [
           {
            "colorbar": {
             "outlinewidth": 0,
             "ticks": ""
            },
            "colorscale": [
             [
              0,
              "#0d0887"
             ],
             [
              0.1111111111111111,
              "#46039f"
             ],
             [
              0.2222222222222222,
              "#7201a8"
             ],
             [
              0.3333333333333333,
              "#9c179e"
             ],
             [
              0.4444444444444444,
              "#bd3786"
             ],
             [
              0.5555555555555556,
              "#d8576b"
             ],
             [
              0.6666666666666666,
              "#ed7953"
             ],
             [
              0.7777777777777778,
              "#fb9f3a"
             ],
             [
              0.8888888888888888,
              "#fdca26"
             ],
             [
              1,
              "#f0f921"
             ]
            ],
            "type": "contour"
           }
          ],
          "contourcarpet": [
           {
            "colorbar": {
             "outlinewidth": 0,
             "ticks": ""
            },
            "type": "contourcarpet"
           }
          ],
          "heatmap": [
           {
            "colorbar": {
             "outlinewidth": 0,
             "ticks": ""
            },
            "colorscale": [
             [
              0,
              "#0d0887"
             ],
             [
              0.1111111111111111,
              "#46039f"
             ],
             [
              0.2222222222222222,
              "#7201a8"
             ],
             [
              0.3333333333333333,
              "#9c179e"
             ],
             [
              0.4444444444444444,
              "#bd3786"
             ],
             [
              0.5555555555555556,
              "#d8576b"
             ],
             [
              0.6666666666666666,
              "#ed7953"
             ],
             [
              0.7777777777777778,
              "#fb9f3a"
             ],
             [
              0.8888888888888888,
              "#fdca26"
             ],
             [
              1,
              "#f0f921"
             ]
            ],
            "type": "heatmap"
           }
          ],
          "heatmapgl": [
           {
            "colorbar": {
             "outlinewidth": 0,
             "ticks": ""
            },
            "colorscale": [
             [
              0,
              "#0d0887"
             ],
             [
              0.1111111111111111,
              "#46039f"
             ],
             [
              0.2222222222222222,
              "#7201a8"
             ],
             [
              0.3333333333333333,
              "#9c179e"
             ],
             [
              0.4444444444444444,
              "#bd3786"
             ],
             [
              0.5555555555555556,
              "#d8576b"
             ],
             [
              0.6666666666666666,
              "#ed7953"
             ],
             [
              0.7777777777777778,
              "#fb9f3a"
             ],
             [
              0.8888888888888888,
              "#fdca26"
             ],
             [
              1,
              "#f0f921"
             ]
            ],
            "type": "heatmapgl"
           }
          ],
          "histogram": [
           {
            "marker": {
             "pattern": {
              "fillmode": "overlay",
              "size": 10,
              "solidity": 0.2
             }
            },
            "type": "histogram"
           }
          ],
          "histogram2d": [
           {
            "colorbar": {
             "outlinewidth": 0,
             "ticks": ""
            },
            "colorscale": [
             [
              0,
              "#0d0887"
             ],
             [
              0.1111111111111111,
              "#46039f"
             ],
             [
              0.2222222222222222,
              "#7201a8"
             ],
             [
              0.3333333333333333,
              "#9c179e"
             ],
             [
              0.4444444444444444,
              "#bd3786"
             ],
             [
              0.5555555555555556,
              "#d8576b"
             ],
             [
              0.6666666666666666,
              "#ed7953"
             ],
             [
              0.7777777777777778,
              "#fb9f3a"
             ],
             [
              0.8888888888888888,
              "#fdca26"
             ],
             [
              1,
              "#f0f921"
             ]
            ],
            "type": "histogram2d"
           }
          ],
          "histogram2dcontour": [
           {
            "colorbar": {
             "outlinewidth": 0,
             "ticks": ""
            },
            "colorscale": [
             [
              0,
              "#0d0887"
             ],
             [
              0.1111111111111111,
              "#46039f"
             ],
             [
              0.2222222222222222,
              "#7201a8"
             ],
             [
              0.3333333333333333,
              "#9c179e"
             ],
             [
              0.4444444444444444,
              "#bd3786"
             ],
             [
              0.5555555555555556,
              "#d8576b"
             ],
             [
              0.6666666666666666,
              "#ed7953"
             ],
             [
              0.7777777777777778,
              "#fb9f3a"
             ],
             [
              0.8888888888888888,
              "#fdca26"
             ],
             [
              1,
              "#f0f921"
             ]
            ],
            "type": "histogram2dcontour"
           }
          ],
          "mesh3d": [
           {
            "colorbar": {
             "outlinewidth": 0,
             "ticks": ""
            },
            "type": "mesh3d"
           }
          ],
          "parcoords": [
           {
            "line": {
             "colorbar": {
              "outlinewidth": 0,
              "ticks": ""
             }
            },
            "type": "parcoords"
           }
          ],
          "pie": [
           {
            "automargin": true,
            "type": "pie"
           }
          ],
          "scatter": [
           {
            "marker": {
             "colorbar": {
              "outlinewidth": 0,
              "ticks": ""
             }
            },
            "type": "scatter"
           }
          ],
          "scatter3d": [
           {
            "line": {
             "colorbar": {
              "outlinewidth": 0,
              "ticks": ""
             }
            },
            "marker": {
             "colorbar": {
              "outlinewidth": 0,
              "ticks": ""
             }
            },
            "type": "scatter3d"
           }
          ],
          "scattercarpet": [
           {
            "marker": {
             "colorbar": {
              "outlinewidth": 0,
              "ticks": ""
             }
            },
            "type": "scattercarpet"
           }
          ],
          "scattergeo": [
           {
            "marker": {
             "colorbar": {
              "outlinewidth": 0,
              "ticks": ""
             }
            },
            "type": "scattergeo"
           }
          ],
          "scattergl": [
           {
            "marker": {
             "colorbar": {
              "outlinewidth": 0,
              "ticks": ""
             }
            },
            "type": "scattergl"
           }
          ],
          "scattermapbox": [
           {
            "marker": {
             "colorbar": {
              "outlinewidth": 0,
              "ticks": ""
             }
            },
            "type": "scattermapbox"
           }
          ],
          "scatterpolar": [
           {
            "marker": {
             "colorbar": {
              "outlinewidth": 0,
              "ticks": ""
             }
            },
            "type": "scatterpolar"
           }
          ],
          "scatterpolargl": [
           {
            "marker": {
             "colorbar": {
              "outlinewidth": 0,
              "ticks": ""
             }
            },
            "type": "scatterpolargl"
           }
          ],
          "scatterternary": [
           {
            "marker": {
             "colorbar": {
              "outlinewidth": 0,
              "ticks": ""
             }
            },
            "type": "scatterternary"
           }
          ],
          "surface": [
           {
            "colorbar": {
             "outlinewidth": 0,
             "ticks": ""
            },
            "colorscale": [
             [
              0,
              "#0d0887"
             ],
             [
              0.1111111111111111,
              "#46039f"
             ],
             [
              0.2222222222222222,
              "#7201a8"
             ],
             [
              0.3333333333333333,
              "#9c179e"
             ],
             [
              0.4444444444444444,
              "#bd3786"
             ],
             [
              0.5555555555555556,
              "#d8576b"
             ],
             [
              0.6666666666666666,
              "#ed7953"
             ],
             [
              0.7777777777777778,
              "#fb9f3a"
             ],
             [
              0.8888888888888888,
              "#fdca26"
             ],
             [
              1,
              "#f0f921"
             ]
            ],
            "type": "surface"
           }
          ],
          "table": [
           {
            "cells": {
             "fill": {
              "color": "#EBF0F8"
             },
             "line": {
              "color": "white"
             }
            },
            "header": {
             "fill": {
              "color": "#C8D4E3"
             },
             "line": {
              "color": "white"
             }
            },
            "type": "table"
           }
          ]
         },
         "layout": {
          "annotationdefaults": {
           "arrowcolor": "#2a3f5f",
           "arrowhead": 0,
           "arrowwidth": 1
          },
          "autotypenumbers": "strict",
          "coloraxis": {
           "colorbar": {
            "outlinewidth": 0,
            "ticks": ""
           }
          },
          "colorscale": {
           "diverging": [
            [
             0,
             "#8e0152"
            ],
            [
             0.1,
             "#c51b7d"
            ],
            [
             0.2,
             "#de77ae"
            ],
            [
             0.3,
             "#f1b6da"
            ],
            [
             0.4,
             "#fde0ef"
            ],
            [
             0.5,
             "#f7f7f7"
            ],
            [
             0.6,
             "#e6f5d0"
            ],
            [
             0.7,
             "#b8e186"
            ],
            [
             0.8,
             "#7fbc41"
            ],
            [
             0.9,
             "#4d9221"
            ],
            [
             1,
             "#276419"
            ]
           ],
           "sequential": [
            [
             0,
             "#0d0887"
            ],
            [
             0.1111111111111111,
             "#46039f"
            ],
            [
             0.2222222222222222,
             "#7201a8"
            ],
            [
             0.3333333333333333,
             "#9c179e"
            ],
            [
             0.4444444444444444,
             "#bd3786"
            ],
            [
             0.5555555555555556,
             "#d8576b"
            ],
            [
             0.6666666666666666,
             "#ed7953"
            ],
            [
             0.7777777777777778,
             "#fb9f3a"
            ],
            [
             0.8888888888888888,
             "#fdca26"
            ],
            [
             1,
             "#f0f921"
            ]
           ],
           "sequentialminus": [
            [
             0,
             "#0d0887"
            ],
            [
             0.1111111111111111,
             "#46039f"
            ],
            [
             0.2222222222222222,
             "#7201a8"
            ],
            [
             0.3333333333333333,
             "#9c179e"
            ],
            [
             0.4444444444444444,
             "#bd3786"
            ],
            [
             0.5555555555555556,
             "#d8576b"
            ],
            [
             0.6666666666666666,
             "#ed7953"
            ],
            [
             0.7777777777777778,
             "#fb9f3a"
            ],
            [
             0.8888888888888888,
             "#fdca26"
            ],
            [
             1,
             "#f0f921"
            ]
           ]
          },
          "colorway": [
           "#636efa",
           "#EF553B",
           "#00cc96",
           "#ab63fa",
           "#FFA15A",
           "#19d3f3",
           "#FF6692",
           "#B6E880",
           "#FF97FF",
           "#FECB52"
          ],
          "font": {
           "color": "#2a3f5f"
          },
          "geo": {
           "bgcolor": "white",
           "lakecolor": "white",
           "landcolor": "#E5ECF6",
           "showlakes": true,
           "showland": true,
           "subunitcolor": "white"
          },
          "hoverlabel": {
           "align": "left"
          },
          "hovermode": "closest",
          "mapbox": {
           "style": "light"
          },
          "paper_bgcolor": "white",
          "plot_bgcolor": "#E5ECF6",
          "polar": {
           "angularaxis": {
            "gridcolor": "white",
            "linecolor": "white",
            "ticks": ""
           },
           "bgcolor": "#E5ECF6",
           "radialaxis": {
            "gridcolor": "white",
            "linecolor": "white",
            "ticks": ""
           }
          },
          "scene": {
           "xaxis": {
            "backgroundcolor": "#E5ECF6",
            "gridcolor": "white",
            "gridwidth": 2,
            "linecolor": "white",
            "showbackground": true,
            "ticks": "",
            "zerolinecolor": "white"
           },
           "yaxis": {
            "backgroundcolor": "#E5ECF6",
            "gridcolor": "white",
            "gridwidth": 2,
            "linecolor": "white",
            "showbackground": true,
            "ticks": "",
            "zerolinecolor": "white"
           },
           "zaxis": {
            "backgroundcolor": "#E5ECF6",
            "gridcolor": "white",
            "gridwidth": 2,
            "linecolor": "white",
            "showbackground": true,
            "ticks": "",
            "zerolinecolor": "white"
           }
          },
          "shapedefaults": {
           "line": {
            "color": "#2a3f5f"
           }
          },
          "ternary": {
           "aaxis": {
            "gridcolor": "white",
            "linecolor": "white",
            "ticks": ""
           },
           "baxis": {
            "gridcolor": "white",
            "linecolor": "white",
            "ticks": ""
           },
           "bgcolor": "#E5ECF6",
           "caxis": {
            "gridcolor": "white",
            "linecolor": "white",
            "ticks": ""
           }
          },
          "title": {
           "x": 0.05
          },
          "xaxis": {
           "automargin": true,
           "gridcolor": "white",
           "linecolor": "white",
           "ticks": "",
           "title": {
            "standoff": 15
           },
           "zerolinecolor": "white",
           "zerolinewidth": 2
          },
          "yaxis": {
           "automargin": true,
           "gridcolor": "white",
           "linecolor": "white",
           "ticks": "",
           "title": {
            "standoff": 15
           },
           "zerolinecolor": "white",
           "zerolinewidth": 2
          }
         }
        },
        "xaxis": {
         "rangeslider": {
          "visible": false
         }
        }
       }
      },
      "text/html": [
       "<div>                            <div id=\"aa1430b6-3364-4928-b0bc-6efd32696ecb\" class=\"plotly-graph-div\" style=\"height:525px; width:100%;\"></div>            <script type=\"text/javascript\">                require([\"plotly\"], function(Plotly) {                    window.PLOTLYENV=window.PLOTLYENV || {};                                    if (document.getElementById(\"aa1430b6-3364-4928-b0bc-6efd32696ecb\")) {                    Plotly.newPlot(                        \"aa1430b6-3364-4928-b0bc-6efd32696ecb\",                        [{\"close\":[1592.7,1594.4,1594.0,1593.2,1592.65,1592.05,1590.0,1589.95,1588.4,1587.25,1587.65,1587.1,1585.2,1585.35,1586.5,1588.0,1587.3,1583.35,1582.35,1581.7,1581.5,1581.25,1581.65,1581.55,1581.5],\"high\":[1592.8,1594.95,1595.0,1595.0,1594.5,1593.85,1592.1,1591.0,1590.0,1590.0,1588.6,1588.5,1588.75,1586.5,1587.4,1588.25,1589.25,1587.3,1583.4,1582.6,1582.55,1581.55,1581.95,1582.8,1582.05],\"low\":[1591.0,1591.5,1592.15,1592.3,1592.3,1591.65,1589.15,1589.0,1588.0,1587.0,1587.25,1587.0,1585.05,1585.2,1585.35,1586.5,1587.3,1583.35,1582.25,1581.6,1581.0,1581.1,1581.15,1581.45,1581.5],\"open\":[1592.35,1592.7,1594.4,1594.0,1593.2,1592.65,1592.05,1590.0,1589.95,1588.2,1587.25,1587.65,1587.1,1585.2,1585.35,1586.5,1588.0,1587.3,1583.35,1582.6,1582.55,1581.5,1581.2,1581.65,1581.55],\"x\":[10095,10096,10097,10098,10099,10100,10101,10102,10103,10104,10105,10106,10107,10108,10109,10110,10111,10112,10113,10114,10115,10116,10117,10118,10119],\"type\":\"candlestick\"}],                        {\"template\":{\"data\":{\"bar\":[{\"error_x\":{\"color\":\"#2a3f5f\"},\"error_y\":{\"color\":\"#2a3f5f\"},\"marker\":{\"line\":{\"color\":\"#E5ECF6\",\"width\":0.5},\"pattern\":{\"fillmode\":\"overlay\",\"size\":10,\"solidity\":0.2}},\"type\":\"bar\"}],\"barpolar\":[{\"marker\":{\"line\":{\"color\":\"#E5ECF6\",\"width\":0.5},\"pattern\":{\"fillmode\":\"overlay\",\"size\":10,\"solidity\":0.2}},\"type\":\"barpolar\"}],\"carpet\":[{\"aaxis\":{\"endlinecolor\":\"#2a3f5f\",\"gridcolor\":\"white\",\"linecolor\":\"white\",\"minorgridcolor\":\"white\",\"startlinecolor\":\"#2a3f5f\"},\"baxis\":{\"endlinecolor\":\"#2a3f5f\",\"gridcolor\":\"white\",\"linecolor\":\"white\",\"minorgridcolor\":\"white\",\"startlinecolor\":\"#2a3f5f\"},\"type\":\"carpet\"}],\"choropleth\":[{\"colorbar\":{\"outlinewidth\":0,\"ticks\":\"\"},\"type\":\"choropleth\"}],\"contour\":[{\"colorbar\":{\"outlinewidth\":0,\"ticks\":\"\"},\"colorscale\":[[0.0,\"#0d0887\"],[0.1111111111111111,\"#46039f\"],[0.2222222222222222,\"#7201a8\"],[0.3333333333333333,\"#9c179e\"],[0.4444444444444444,\"#bd3786\"],[0.5555555555555556,\"#d8576b\"],[0.6666666666666666,\"#ed7953\"],[0.7777777777777778,\"#fb9f3a\"],[0.8888888888888888,\"#fdca26\"],[1.0,\"#f0f921\"]],\"type\":\"contour\"}],\"contourcarpet\":[{\"colorbar\":{\"outlinewidth\":0,\"ticks\":\"\"},\"type\":\"contourcarpet\"}],\"heatmap\":[{\"colorbar\":{\"outlinewidth\":0,\"ticks\":\"\"},\"colorscale\":[[0.0,\"#0d0887\"],[0.1111111111111111,\"#46039f\"],[0.2222222222222222,\"#7201a8\"],[0.3333333333333333,\"#9c179e\"],[0.4444444444444444,\"#bd3786\"],[0.5555555555555556,\"#d8576b\"],[0.6666666666666666,\"#ed7953\"],[0.7777777777777778,\"#fb9f3a\"],[0.8888888888888888,\"#fdca26\"],[1.0,\"#f0f921\"]],\"type\":\"heatmap\"}],\"heatmapgl\":[{\"colorbar\":{\"outlinewidth\":0,\"ticks\":\"\"},\"colorscale\":[[0.0,\"#0d0887\"],[0.1111111111111111,\"#46039f\"],[0.2222222222222222,\"#7201a8\"],[0.3333333333333333,\"#9c179e\"],[0.4444444444444444,\"#bd3786\"],[0.5555555555555556,\"#d8576b\"],[0.6666666666666666,\"#ed7953\"],[0.7777777777777778,\"#fb9f3a\"],[0.8888888888888888,\"#fdca26\"],[1.0,\"#f0f921\"]],\"type\":\"heatmapgl\"}],\"histogram\":[{\"marker\":{\"pattern\":{\"fillmode\":\"overlay\",\"size\":10,\"solidity\":0.2}},\"type\":\"histogram\"}],\"histogram2d\":[{\"colorbar\":{\"outlinewidth\":0,\"ticks\":\"\"},\"colorscale\":[[0.0,\"#0d0887\"],[0.1111111111111111,\"#46039f\"],[0.2222222222222222,\"#7201a8\"],[0.3333333333333333,\"#9c179e\"],[0.4444444444444444,\"#bd3786\"],[0.5555555555555556,\"#d8576b\"],[0.6666666666666666,\"#ed7953\"],[0.7777777777777778,\"#fb9f3a\"],[0.8888888888888888,\"#fdca26\"],[1.0,\"#f0f921\"]],\"type\":\"histogram2d\"}],\"histogram2dcontour\":[{\"colorbar\":{\"outlinewidth\":0,\"ticks\":\"\"},\"colorscale\":[[0.0,\"#0d0887\"],[0.1111111111111111,\"#46039f\"],[0.2222222222222222,\"#7201a8\"],[0.3333333333333333,\"#9c179e\"],[0.4444444444444444,\"#bd3786\"],[0.5555555555555556,\"#d8576b\"],[0.6666666666666666,\"#ed7953\"],[0.7777777777777778,\"#fb9f3a\"],[0.8888888888888888,\"#fdca26\"],[1.0,\"#f0f921\"]],\"type\":\"histogram2dcontour\"}],\"mesh3d\":[{\"colorbar\":{\"outlinewidth\":0,\"ticks\":\"\"},\"type\":\"mesh3d\"}],\"parcoords\":[{\"line\":{\"colorbar\":{\"outlinewidth\":0,\"ticks\":\"\"}},\"type\":\"parcoords\"}],\"pie\":[{\"automargin\":true,\"type\":\"pie\"}],\"scatter\":[{\"marker\":{\"colorbar\":{\"outlinewidth\":0,\"ticks\":\"\"}},\"type\":\"scatter\"}],\"scatter3d\":[{\"line\":{\"colorbar\":{\"outlinewidth\":0,\"ticks\":\"\"}},\"marker\":{\"colorbar\":{\"outlinewidth\":0,\"ticks\":\"\"}},\"type\":\"scatter3d\"}],\"scattercarpet\":[{\"marker\":{\"colorbar\":{\"outlinewidth\":0,\"ticks\":\"\"}},\"type\":\"scattercarpet\"}],\"scattergeo\":[{\"marker\":{\"colorbar\":{\"outlinewidth\":0,\"ticks\":\"\"}},\"type\":\"scattergeo\"}],\"scattergl\":[{\"marker\":{\"colorbar\":{\"outlinewidth\":0,\"ticks\":\"\"}},\"type\":\"scattergl\"}],\"scattermapbox\":[{\"marker\":{\"colorbar\":{\"outlinewidth\":0,\"ticks\":\"\"}},\"type\":\"scattermapbox\"}],\"scatterpolar\":[{\"marker\":{\"colorbar\":{\"outlinewidth\":0,\"ticks\":\"\"}},\"type\":\"scatterpolar\"}],\"scatterpolargl\":[{\"marker\":{\"colorbar\":{\"outlinewidth\":0,\"ticks\":\"\"}},\"type\":\"scatterpolargl\"}],\"scatterternary\":[{\"marker\":{\"colorbar\":{\"outlinewidth\":0,\"ticks\":\"\"}},\"type\":\"scatterternary\"}],\"surface\":[{\"colorbar\":{\"outlinewidth\":0,\"ticks\":\"\"},\"colorscale\":[[0.0,\"#0d0887\"],[0.1111111111111111,\"#46039f\"],[0.2222222222222222,\"#7201a8\"],[0.3333333333333333,\"#9c179e\"],[0.4444444444444444,\"#bd3786\"],[0.5555555555555556,\"#d8576b\"],[0.6666666666666666,\"#ed7953\"],[0.7777777777777778,\"#fb9f3a\"],[0.8888888888888888,\"#fdca26\"],[1.0,\"#f0f921\"]],\"type\":\"surface\"}],\"table\":[{\"cells\":{\"fill\":{\"color\":\"#EBF0F8\"},\"line\":{\"color\":\"white\"}},\"header\":{\"fill\":{\"color\":\"#C8D4E3\"},\"line\":{\"color\":\"white\"}},\"type\":\"table\"}]},\"layout\":{\"annotationdefaults\":{\"arrowcolor\":\"#2a3f5f\",\"arrowhead\":0,\"arrowwidth\":1},\"autotypenumbers\":\"strict\",\"coloraxis\":{\"colorbar\":{\"outlinewidth\":0,\"ticks\":\"\"}},\"colorscale\":{\"diverging\":[[0,\"#8e0152\"],[0.1,\"#c51b7d\"],[0.2,\"#de77ae\"],[0.3,\"#f1b6da\"],[0.4,\"#fde0ef\"],[0.5,\"#f7f7f7\"],[0.6,\"#e6f5d0\"],[0.7,\"#b8e186\"],[0.8,\"#7fbc41\"],[0.9,\"#4d9221\"],[1,\"#276419\"]],\"sequential\":[[0.0,\"#0d0887\"],[0.1111111111111111,\"#46039f\"],[0.2222222222222222,\"#7201a8\"],[0.3333333333333333,\"#9c179e\"],[0.4444444444444444,\"#bd3786\"],[0.5555555555555556,\"#d8576b\"],[0.6666666666666666,\"#ed7953\"],[0.7777777777777778,\"#fb9f3a\"],[0.8888888888888888,\"#fdca26\"],[1.0,\"#f0f921\"]],\"sequentialminus\":[[0.0,\"#0d0887\"],[0.1111111111111111,\"#46039f\"],[0.2222222222222222,\"#7201a8\"],[0.3333333333333333,\"#9c179e\"],[0.4444444444444444,\"#bd3786\"],[0.5555555555555556,\"#d8576b\"],[0.6666666666666666,\"#ed7953\"],[0.7777777777777778,\"#fb9f3a\"],[0.8888888888888888,\"#fdca26\"],[1.0,\"#f0f921\"]]},\"colorway\":[\"#636efa\",\"#EF553B\",\"#00cc96\",\"#ab63fa\",\"#FFA15A\",\"#19d3f3\",\"#FF6692\",\"#B6E880\",\"#FF97FF\",\"#FECB52\"],\"font\":{\"color\":\"#2a3f5f\"},\"geo\":{\"bgcolor\":\"white\",\"lakecolor\":\"white\",\"landcolor\":\"#E5ECF6\",\"showlakes\":true,\"showland\":true,\"subunitcolor\":\"white\"},\"hoverlabel\":{\"align\":\"left\"},\"hovermode\":\"closest\",\"mapbox\":{\"style\":\"light\"},\"paper_bgcolor\":\"white\",\"plot_bgcolor\":\"#E5ECF6\",\"polar\":{\"angularaxis\":{\"gridcolor\":\"white\",\"linecolor\":\"white\",\"ticks\":\"\"},\"bgcolor\":\"#E5ECF6\",\"radialaxis\":{\"gridcolor\":\"white\",\"linecolor\":\"white\",\"ticks\":\"\"}},\"scene\":{\"xaxis\":{\"backgroundcolor\":\"#E5ECF6\",\"gridcolor\":\"white\",\"gridwidth\":2,\"linecolor\":\"white\",\"showbackground\":true,\"ticks\":\"\",\"zerolinecolor\":\"white\"},\"yaxis\":{\"backgroundcolor\":\"#E5ECF6\",\"gridcolor\":\"white\",\"gridwidth\":2,\"linecolor\":\"white\",\"showbackground\":true,\"ticks\":\"\",\"zerolinecolor\":\"white\"},\"zaxis\":{\"backgroundcolor\":\"#E5ECF6\",\"gridcolor\":\"white\",\"gridwidth\":2,\"linecolor\":\"white\",\"showbackground\":true,\"ticks\":\"\",\"zerolinecolor\":\"white\"}},\"shapedefaults\":{\"line\":{\"color\":\"#2a3f5f\"}},\"ternary\":{\"aaxis\":{\"gridcolor\":\"white\",\"linecolor\":\"white\",\"ticks\":\"\"},\"baxis\":{\"gridcolor\":\"white\",\"linecolor\":\"white\",\"ticks\":\"\"},\"bgcolor\":\"#E5ECF6\",\"caxis\":{\"gridcolor\":\"white\",\"linecolor\":\"white\",\"ticks\":\"\"}},\"title\":{\"x\":0.05},\"xaxis\":{\"automargin\":true,\"gridcolor\":\"white\",\"linecolor\":\"white\",\"ticks\":\"\",\"title\":{\"standoff\":15},\"zerolinecolor\":\"white\",\"zerolinewidth\":2},\"yaxis\":{\"automargin\":true,\"gridcolor\":\"white\",\"linecolor\":\"white\",\"ticks\":\"\",\"title\":{\"standoff\":15},\"zerolinecolor\":\"white\",\"zerolinewidth\":2}}},\"xaxis\":{\"rangeslider\":{\"visible\":false}}},                        {\"responsive\": true}                    ).then(function(){\n",
       "                            \n",
       "var gd = document.getElementById('aa1430b6-3364-4928-b0bc-6efd32696ecb');\n",
       "var x = new MutationObserver(function (mutations, observer) {{\n",
       "        var display = window.getComputedStyle(gd).display;\n",
       "        if (!display || display === 'none') {{\n",
       "            console.log([gd, 'removed!']);\n",
       "            Plotly.purge(gd);\n",
       "            observer.disconnect();\n",
       "        }}\n",
       "}});\n",
       "\n",
       "// Listen for the removal of the full notebook cells\n",
       "var notebookContainer = gd.closest('#notebook-container');\n",
       "if (notebookContainer) {{\n",
       "    x.observe(notebookContainer, {childList: true});\n",
       "}}\n",
       "\n",
       "// Listen for the clearing of the current output cell\n",
       "var outputEl = gd.closest('.output');\n",
       "if (outputEl) {{\n",
       "    x.observe(outputEl, {childList: true});\n",
       "}}\n",
       "\n",
       "                        })                };                });            </script>        </div>"
      ]
     },
     "metadata": {},
     "output_type": "display_data"
    },
    {
     "data": {
      "application/vnd.plotly.v1+json": {
       "config": {
        "plotlyServerURL": "https://plot.ly"
       },
       "data": [
        {
         "close": [
          1592.7,
          1594.4,
          1594,
          1593.2,
          1592.65,
          1592.05,
          1590,
          1589.95,
          1588.4,
          1587.25,
          1587.65,
          1587.1,
          1585.2,
          1585.35,
          1586.5,
          1588,
          1587.3,
          1583.35,
          1582.35,
          1581.7,
          1581.5,
          1581.25,
          1581.65,
          1581.55,
          1581.5
         ],
         "high": [
          1592.8,
          1594.95,
          1595,
          1595,
          1594.5,
          1593.85,
          1592.1,
          1591,
          1590,
          1590,
          1588.6,
          1588.5,
          1588.75,
          1586.5,
          1587.4,
          1588.25,
          1589.25,
          1587.3,
          1583.4,
          1582.6,
          1582.55,
          1581.55,
          1581.95,
          1582.8,
          1582.05
         ],
         "low": [
          1591,
          1591.5,
          1592.15,
          1592.3,
          1592.3,
          1591.65,
          1589.15,
          1589,
          1588,
          1587,
          1587.25,
          1587,
          1585.05,
          1585.2,
          1585.35,
          1586.5,
          1587.3,
          1583.35,
          1582.25,
          1581.6,
          1581,
          1581.1,
          1581.15,
          1581.45,
          1581.5
         ],
         "open": [
          1592.35,
          1592.7,
          1594.4,
          1594,
          1593.2,
          1592.65,
          1592.05,
          1590,
          1589.95,
          1588.2,
          1587.25,
          1587.65,
          1587.1,
          1585.2,
          1585.35,
          1586.5,
          1588,
          1587.3,
          1583.35,
          1582.6,
          1582.55,
          1581.5,
          1581.2,
          1581.65,
          1581.55
         ],
         "type": "candlestick",
         "x": [
          10095,
          10096,
          10097,
          10098,
          10099,
          10100,
          10101,
          10102,
          10103,
          10104,
          10105,
          10106,
          10107,
          10108,
          10109,
          10110,
          10111,
          10112,
          10113,
          10114,
          10115,
          10116,
          10117,
          10118,
          10119
         ]
        },
        {
         "name": "AO",
         "type": "bar",
         "x": [
          10095,
          10096,
          10097,
          10098,
          10099,
          10100,
          10101,
          10102,
          10103,
          10104,
          10105,
          10106,
          10107,
          10108,
          10109,
          10110,
          10111,
          10112,
          10113,
          10114,
          10115,
          10116,
          10117,
          10118,
          10119
         ],
         "y": [
          -2.9132352941176123,
          -1.3780882352941717,
          -0.3599999999996726,
          0.34058823529426263,
          0.7647058823531552,
          0.9751470588237225,
          0.5816176470589198,
          0.05044117647071289,
          -0.6655882352938534,
          -1.3919117647058101,
          -2.056176470588298,
          -2.3039705882354156,
          -2.5695588235296327,
          -2.88264705882375,
          -3.0069117647060466,
          -2.807352941176532,
          -2.466323529411511,
          -2.489411764705892,
          -2.7635294117646936,
          -3.3148529411764684,
          -4.216470588235325,
          -5.506470588235516,
          -6.190882352941344,
          -6.173529411764548,
          -5.992205882352891
         ],
         "yaxis": "y3"
        }
       ],
       "layout": {
        "template": {
         "data": {
          "bar": [
           {
            "error_x": {
             "color": "#2a3f5f"
            },
            "error_y": {
             "color": "#2a3f5f"
            },
            "marker": {
             "line": {
              "color": "#E5ECF6",
              "width": 0.5
             },
             "pattern": {
              "fillmode": "overlay",
              "size": 10,
              "solidity": 0.2
             }
            },
            "type": "bar"
           }
          ],
          "barpolar": [
           {
            "marker": {
             "line": {
              "color": "#E5ECF6",
              "width": 0.5
             },
             "pattern": {
              "fillmode": "overlay",
              "size": 10,
              "solidity": 0.2
             }
            },
            "type": "barpolar"
           }
          ],
          "carpet": [
           {
            "aaxis": {
             "endlinecolor": "#2a3f5f",
             "gridcolor": "white",
             "linecolor": "white",
             "minorgridcolor": "white",
             "startlinecolor": "#2a3f5f"
            },
            "baxis": {
             "endlinecolor": "#2a3f5f",
             "gridcolor": "white",
             "linecolor": "white",
             "minorgridcolor": "white",
             "startlinecolor": "#2a3f5f"
            },
            "type": "carpet"
           }
          ],
          "choropleth": [
           {
            "colorbar": {
             "outlinewidth": 0,
             "ticks": ""
            },
            "type": "choropleth"
           }
          ],
          "contour": [
           {
            "colorbar": {
             "outlinewidth": 0,
             "ticks": ""
            },
            "colorscale": [
             [
              0,
              "#0d0887"
             ],
             [
              0.1111111111111111,
              "#46039f"
             ],
             [
              0.2222222222222222,
              "#7201a8"
             ],
             [
              0.3333333333333333,
              "#9c179e"
             ],
             [
              0.4444444444444444,
              "#bd3786"
             ],
             [
              0.5555555555555556,
              "#d8576b"
             ],
             [
              0.6666666666666666,
              "#ed7953"
             ],
             [
              0.7777777777777778,
              "#fb9f3a"
             ],
             [
              0.8888888888888888,
              "#fdca26"
             ],
             [
              1,
              "#f0f921"
             ]
            ],
            "type": "contour"
           }
          ],
          "contourcarpet": [
           {
            "colorbar": {
             "outlinewidth": 0,
             "ticks": ""
            },
            "type": "contourcarpet"
           }
          ],
          "heatmap": [
           {
            "colorbar": {
             "outlinewidth": 0,
             "ticks": ""
            },
            "colorscale": [
             [
              0,
              "#0d0887"
             ],
             [
              0.1111111111111111,
              "#46039f"
             ],
             [
              0.2222222222222222,
              "#7201a8"
             ],
             [
              0.3333333333333333,
              "#9c179e"
             ],
             [
              0.4444444444444444,
              "#bd3786"
             ],
             [
              0.5555555555555556,
              "#d8576b"
             ],
             [
              0.6666666666666666,
              "#ed7953"
             ],
             [
              0.7777777777777778,
              "#fb9f3a"
             ],
             [
              0.8888888888888888,
              "#fdca26"
             ],
             [
              1,
              "#f0f921"
             ]
            ],
            "type": "heatmap"
           }
          ],
          "heatmapgl": [
           {
            "colorbar": {
             "outlinewidth": 0,
             "ticks": ""
            },
            "colorscale": [
             [
              0,
              "#0d0887"
             ],
             [
              0.1111111111111111,
              "#46039f"
             ],
             [
              0.2222222222222222,
              "#7201a8"
             ],
             [
              0.3333333333333333,
              "#9c179e"
             ],
             [
              0.4444444444444444,
              "#bd3786"
             ],
             [
              0.5555555555555556,
              "#d8576b"
             ],
             [
              0.6666666666666666,
              "#ed7953"
             ],
             [
              0.7777777777777778,
              "#fb9f3a"
             ],
             [
              0.8888888888888888,
              "#fdca26"
             ],
             [
              1,
              "#f0f921"
             ]
            ],
            "type": "heatmapgl"
           }
          ],
          "histogram": [
           {
            "marker": {
             "pattern": {
              "fillmode": "overlay",
              "size": 10,
              "solidity": 0.2
             }
            },
            "type": "histogram"
           }
          ],
          "histogram2d": [
           {
            "colorbar": {
             "outlinewidth": 0,
             "ticks": ""
            },
            "colorscale": [
             [
              0,
              "#0d0887"
             ],
             [
              0.1111111111111111,
              "#46039f"
             ],
             [
              0.2222222222222222,
              "#7201a8"
             ],
             [
              0.3333333333333333,
              "#9c179e"
             ],
             [
              0.4444444444444444,
              "#bd3786"
             ],
             [
              0.5555555555555556,
              "#d8576b"
             ],
             [
              0.6666666666666666,
              "#ed7953"
             ],
             [
              0.7777777777777778,
              "#fb9f3a"
             ],
             [
              0.8888888888888888,
              "#fdca26"
             ],
             [
              1,
              "#f0f921"
             ]
            ],
            "type": "histogram2d"
           }
          ],
          "histogram2dcontour": [
           {
            "colorbar": {
             "outlinewidth": 0,
             "ticks": ""
            },
            "colorscale": [
             [
              0,
              "#0d0887"
             ],
             [
              0.1111111111111111,
              "#46039f"
             ],
             [
              0.2222222222222222,
              "#7201a8"
             ],
             [
              0.3333333333333333,
              "#9c179e"
             ],
             [
              0.4444444444444444,
              "#bd3786"
             ],
             [
              0.5555555555555556,
              "#d8576b"
             ],
             [
              0.6666666666666666,
              "#ed7953"
             ],
             [
              0.7777777777777778,
              "#fb9f3a"
             ],
             [
              0.8888888888888888,
              "#fdca26"
             ],
             [
              1,
              "#f0f921"
             ]
            ],
            "type": "histogram2dcontour"
           }
          ],
          "mesh3d": [
           {
            "colorbar": {
             "outlinewidth": 0,
             "ticks": ""
            },
            "type": "mesh3d"
           }
          ],
          "parcoords": [
           {
            "line": {
             "colorbar": {
              "outlinewidth": 0,
              "ticks": ""
             }
            },
            "type": "parcoords"
           }
          ],
          "pie": [
           {
            "automargin": true,
            "type": "pie"
           }
          ],
          "scatter": [
           {
            "marker": {
             "colorbar": {
              "outlinewidth": 0,
              "ticks": ""
             }
            },
            "type": "scatter"
           }
          ],
          "scatter3d": [
           {
            "line": {
             "colorbar": {
              "outlinewidth": 0,
              "ticks": ""
             }
            },
            "marker": {
             "colorbar": {
              "outlinewidth": 0,
              "ticks": ""
             }
            },
            "type": "scatter3d"
           }
          ],
          "scattercarpet": [
           {
            "marker": {
             "colorbar": {
              "outlinewidth": 0,
              "ticks": ""
             }
            },
            "type": "scattercarpet"
           }
          ],
          "scattergeo": [
           {
            "marker": {
             "colorbar": {
              "outlinewidth": 0,
              "ticks": ""
             }
            },
            "type": "scattergeo"
           }
          ],
          "scattergl": [
           {
            "marker": {
             "colorbar": {
              "outlinewidth": 0,
              "ticks": ""
             }
            },
            "type": "scattergl"
           }
          ],
          "scattermapbox": [
           {
            "marker": {
             "colorbar": {
              "outlinewidth": 0,
              "ticks": ""
             }
            },
            "type": "scattermapbox"
           }
          ],
          "scatterpolar": [
           {
            "marker": {
             "colorbar": {
              "outlinewidth": 0,
              "ticks": ""
             }
            },
            "type": "scatterpolar"
           }
          ],
          "scatterpolargl": [
           {
            "marker": {
             "colorbar": {
              "outlinewidth": 0,
              "ticks": ""
             }
            },
            "type": "scatterpolargl"
           }
          ],
          "scatterternary": [
           {
            "marker": {
             "colorbar": {
              "outlinewidth": 0,
              "ticks": ""
             }
            },
            "type": "scatterternary"
           }
          ],
          "surface": [
           {
            "colorbar": {
             "outlinewidth": 0,
             "ticks": ""
            },
            "colorscale": [
             [
              0,
              "#0d0887"
             ],
             [
              0.1111111111111111,
              "#46039f"
             ],
             [
              0.2222222222222222,
              "#7201a8"
             ],
             [
              0.3333333333333333,
              "#9c179e"
             ],
             [
              0.4444444444444444,
              "#bd3786"
             ],
             [
              0.5555555555555556,
              "#d8576b"
             ],
             [
              0.6666666666666666,
              "#ed7953"
             ],
             [
              0.7777777777777778,
              "#fb9f3a"
             ],
             [
              0.8888888888888888,
              "#fdca26"
             ],
             [
              1,
              "#f0f921"
             ]
            ],
            "type": "surface"
           }
          ],
          "table": [
           {
            "cells": {
             "fill": {
              "color": "#EBF0F8"
             },
             "line": {
              "color": "white"
             }
            },
            "header": {
             "fill": {
              "color": "#C8D4E3"
             },
             "line": {
              "color": "white"
             }
            },
            "type": "table"
           }
          ]
         },
         "layout": {
          "annotationdefaults": {
           "arrowcolor": "#2a3f5f",
           "arrowhead": 0,
           "arrowwidth": 1
          },
          "autotypenumbers": "strict",
          "coloraxis": {
           "colorbar": {
            "outlinewidth": 0,
            "ticks": ""
           }
          },
          "colorscale": {
           "diverging": [
            [
             0,
             "#8e0152"
            ],
            [
             0.1,
             "#c51b7d"
            ],
            [
             0.2,
             "#de77ae"
            ],
            [
             0.3,
             "#f1b6da"
            ],
            [
             0.4,
             "#fde0ef"
            ],
            [
             0.5,
             "#f7f7f7"
            ],
            [
             0.6,
             "#e6f5d0"
            ],
            [
             0.7,
             "#b8e186"
            ],
            [
             0.8,
             "#7fbc41"
            ],
            [
             0.9,
             "#4d9221"
            ],
            [
             1,
             "#276419"
            ]
           ],
           "sequential": [
            [
             0,
             "#0d0887"
            ],
            [
             0.1111111111111111,
             "#46039f"
            ],
            [
             0.2222222222222222,
             "#7201a8"
            ],
            [
             0.3333333333333333,
             "#9c179e"
            ],
            [
             0.4444444444444444,
             "#bd3786"
            ],
            [
             0.5555555555555556,
             "#d8576b"
            ],
            [
             0.6666666666666666,
             "#ed7953"
            ],
            [
             0.7777777777777778,
             "#fb9f3a"
            ],
            [
             0.8888888888888888,
             "#fdca26"
            ],
            [
             1,
             "#f0f921"
            ]
           ],
           "sequentialminus": [
            [
             0,
             "#0d0887"
            ],
            [
             0.1111111111111111,
             "#46039f"
            ],
            [
             0.2222222222222222,
             "#7201a8"
            ],
            [
             0.3333333333333333,
             "#9c179e"
            ],
            [
             0.4444444444444444,
             "#bd3786"
            ],
            [
             0.5555555555555556,
             "#d8576b"
            ],
            [
             0.6666666666666666,
             "#ed7953"
            ],
            [
             0.7777777777777778,
             "#fb9f3a"
            ],
            [
             0.8888888888888888,
             "#fdca26"
            ],
            [
             1,
             "#f0f921"
            ]
           ]
          },
          "colorway": [
           "#636efa",
           "#EF553B",
           "#00cc96",
           "#ab63fa",
           "#FFA15A",
           "#19d3f3",
           "#FF6692",
           "#B6E880",
           "#FF97FF",
           "#FECB52"
          ],
          "font": {
           "color": "#2a3f5f"
          },
          "geo": {
           "bgcolor": "white",
           "lakecolor": "white",
           "landcolor": "#E5ECF6",
           "showlakes": true,
           "showland": true,
           "subunitcolor": "white"
          },
          "hoverlabel": {
           "align": "left"
          },
          "hovermode": "closest",
          "mapbox": {
           "style": "light"
          },
          "paper_bgcolor": "white",
          "plot_bgcolor": "#E5ECF6",
          "polar": {
           "angularaxis": {
            "gridcolor": "white",
            "linecolor": "white",
            "ticks": ""
           },
           "bgcolor": "#E5ECF6",
           "radialaxis": {
            "gridcolor": "white",
            "linecolor": "white",
            "ticks": ""
           }
          },
          "scene": {
           "xaxis": {
            "backgroundcolor": "#E5ECF6",
            "gridcolor": "white",
            "gridwidth": 2,
            "linecolor": "white",
            "showbackground": true,
            "ticks": "",
            "zerolinecolor": "white"
           },
           "yaxis": {
            "backgroundcolor": "#E5ECF6",
            "gridcolor": "white",
            "gridwidth": 2,
            "linecolor": "white",
            "showbackground": true,
            "ticks": "",
            "zerolinecolor": "white"
           },
           "zaxis": {
            "backgroundcolor": "#E5ECF6",
            "gridcolor": "white",
            "gridwidth": 2,
            "linecolor": "white",
            "showbackground": true,
            "ticks": "",
            "zerolinecolor": "white"
           }
          },
          "shapedefaults": {
           "line": {
            "color": "#2a3f5f"
           }
          },
          "ternary": {
           "aaxis": {
            "gridcolor": "white",
            "linecolor": "white",
            "ticks": ""
           },
           "baxis": {
            "gridcolor": "white",
            "linecolor": "white",
            "ticks": ""
           },
           "bgcolor": "#E5ECF6",
           "caxis": {
            "gridcolor": "white",
            "linecolor": "white",
            "ticks": ""
           }
          },
          "title": {
           "x": 0.05
          },
          "xaxis": {
           "automargin": true,
           "gridcolor": "white",
           "linecolor": "white",
           "ticks": "",
           "title": {
            "standoff": 15
           },
           "zerolinecolor": "white",
           "zerolinewidth": 2
          },
          "yaxis": {
           "automargin": true,
           "gridcolor": "white",
           "linecolor": "white",
           "ticks": "",
           "title": {
            "standoff": 15
           },
           "zerolinecolor": "white",
           "zerolinewidth": 2
          }
         }
        },
        "xaxis": {
         "rangeslider": {
          "visible": false
         }
        },
        "yaxis3": {
         "side": "right",
         "title": {
          "text": "AO"
         }
        }
       }
      },
      "text/html": [
       "<div>                            <div id=\"c40ebf65-f15b-4312-b5d9-f162aafc4d4a\" class=\"plotly-graph-div\" style=\"height:525px; width:100%;\"></div>            <script type=\"text/javascript\">                require([\"plotly\"], function(Plotly) {                    window.PLOTLYENV=window.PLOTLYENV || {};                                    if (document.getElementById(\"c40ebf65-f15b-4312-b5d9-f162aafc4d4a\")) {                    Plotly.newPlot(                        \"c40ebf65-f15b-4312-b5d9-f162aafc4d4a\",                        [{\"close\":[1592.7,1594.4,1594.0,1593.2,1592.65,1592.05,1590.0,1589.95,1588.4,1587.25,1587.65,1587.1,1585.2,1585.35,1586.5,1588.0,1587.3,1583.35,1582.35,1581.7,1581.5,1581.25,1581.65,1581.55,1581.5],\"high\":[1592.8,1594.95,1595.0,1595.0,1594.5,1593.85,1592.1,1591.0,1590.0,1590.0,1588.6,1588.5,1588.75,1586.5,1587.4,1588.25,1589.25,1587.3,1583.4,1582.6,1582.55,1581.55,1581.95,1582.8,1582.05],\"low\":[1591.0,1591.5,1592.15,1592.3,1592.3,1591.65,1589.15,1589.0,1588.0,1587.0,1587.25,1587.0,1585.05,1585.2,1585.35,1586.5,1587.3,1583.35,1582.25,1581.6,1581.0,1581.1,1581.15,1581.45,1581.5],\"open\":[1592.35,1592.7,1594.4,1594.0,1593.2,1592.65,1592.05,1590.0,1589.95,1588.2,1587.25,1587.65,1587.1,1585.2,1585.35,1586.5,1588.0,1587.3,1583.35,1582.6,1582.55,1581.5,1581.2,1581.65,1581.55],\"x\":[10095,10096,10097,10098,10099,10100,10101,10102,10103,10104,10105,10106,10107,10108,10109,10110,10111,10112,10113,10114,10115,10116,10117,10118,10119],\"type\":\"candlestick\"},{\"name\":\"AO\",\"x\":[10095,10096,10097,10098,10099,10100,10101,10102,10103,10104,10105,10106,10107,10108,10109,10110,10111,10112,10113,10114,10115,10116,10117,10118,10119],\"y\":[-2.9132352941176123,-1.3780882352941717,-0.3599999999996726,0.34058823529426263,0.7647058823531552,0.9751470588237225,0.5816176470589198,0.05044117647071289,-0.6655882352938534,-1.3919117647058101,-2.056176470588298,-2.3039705882354156,-2.5695588235296327,-2.88264705882375,-3.0069117647060466,-2.807352941176532,-2.466323529411511,-2.489411764705892,-2.7635294117646936,-3.3148529411764684,-4.216470588235325,-5.506470588235516,-6.190882352941344,-6.173529411764548,-5.992205882352891],\"yaxis\":\"y3\",\"type\":\"bar\"}],                        {\"template\":{\"data\":{\"bar\":[{\"error_x\":{\"color\":\"#2a3f5f\"},\"error_y\":{\"color\":\"#2a3f5f\"},\"marker\":{\"line\":{\"color\":\"#E5ECF6\",\"width\":0.5},\"pattern\":{\"fillmode\":\"overlay\",\"size\":10,\"solidity\":0.2}},\"type\":\"bar\"}],\"barpolar\":[{\"marker\":{\"line\":{\"color\":\"#E5ECF6\",\"width\":0.5},\"pattern\":{\"fillmode\":\"overlay\",\"size\":10,\"solidity\":0.2}},\"type\":\"barpolar\"}],\"carpet\":[{\"aaxis\":{\"endlinecolor\":\"#2a3f5f\",\"gridcolor\":\"white\",\"linecolor\":\"white\",\"minorgridcolor\":\"white\",\"startlinecolor\":\"#2a3f5f\"},\"baxis\":{\"endlinecolor\":\"#2a3f5f\",\"gridcolor\":\"white\",\"linecolor\":\"white\",\"minorgridcolor\":\"white\",\"startlinecolor\":\"#2a3f5f\"},\"type\":\"carpet\"}],\"choropleth\":[{\"colorbar\":{\"outlinewidth\":0,\"ticks\":\"\"},\"type\":\"choropleth\"}],\"contour\":[{\"colorbar\":{\"outlinewidth\":0,\"ticks\":\"\"},\"colorscale\":[[0.0,\"#0d0887\"],[0.1111111111111111,\"#46039f\"],[0.2222222222222222,\"#7201a8\"],[0.3333333333333333,\"#9c179e\"],[0.4444444444444444,\"#bd3786\"],[0.5555555555555556,\"#d8576b\"],[0.6666666666666666,\"#ed7953\"],[0.7777777777777778,\"#fb9f3a\"],[0.8888888888888888,\"#fdca26\"],[1.0,\"#f0f921\"]],\"type\":\"contour\"}],\"contourcarpet\":[{\"colorbar\":{\"outlinewidth\":0,\"ticks\":\"\"},\"type\":\"contourcarpet\"}],\"heatmap\":[{\"colorbar\":{\"outlinewidth\":0,\"ticks\":\"\"},\"colorscale\":[[0.0,\"#0d0887\"],[0.1111111111111111,\"#46039f\"],[0.2222222222222222,\"#7201a8\"],[0.3333333333333333,\"#9c179e\"],[0.4444444444444444,\"#bd3786\"],[0.5555555555555556,\"#d8576b\"],[0.6666666666666666,\"#ed7953\"],[0.7777777777777778,\"#fb9f3a\"],[0.8888888888888888,\"#fdca26\"],[1.0,\"#f0f921\"]],\"type\":\"heatmap\"}],\"heatmapgl\":[{\"colorbar\":{\"outlinewidth\":0,\"ticks\":\"\"},\"colorscale\":[[0.0,\"#0d0887\"],[0.1111111111111111,\"#46039f\"],[0.2222222222222222,\"#7201a8\"],[0.3333333333333333,\"#9c179e\"],[0.4444444444444444,\"#bd3786\"],[0.5555555555555556,\"#d8576b\"],[0.6666666666666666,\"#ed7953\"],[0.7777777777777778,\"#fb9f3a\"],[0.8888888888888888,\"#fdca26\"],[1.0,\"#f0f921\"]],\"type\":\"heatmapgl\"}],\"histogram\":[{\"marker\":{\"pattern\":{\"fillmode\":\"overlay\",\"size\":10,\"solidity\":0.2}},\"type\":\"histogram\"}],\"histogram2d\":[{\"colorbar\":{\"outlinewidth\":0,\"ticks\":\"\"},\"colorscale\":[[0.0,\"#0d0887\"],[0.1111111111111111,\"#46039f\"],[0.2222222222222222,\"#7201a8\"],[0.3333333333333333,\"#9c179e\"],[0.4444444444444444,\"#bd3786\"],[0.5555555555555556,\"#d8576b\"],[0.6666666666666666,\"#ed7953\"],[0.7777777777777778,\"#fb9f3a\"],[0.8888888888888888,\"#fdca26\"],[1.0,\"#f0f921\"]],\"type\":\"histogram2d\"}],\"histogram2dcontour\":[{\"colorbar\":{\"outlinewidth\":0,\"ticks\":\"\"},\"colorscale\":[[0.0,\"#0d0887\"],[0.1111111111111111,\"#46039f\"],[0.2222222222222222,\"#7201a8\"],[0.3333333333333333,\"#9c179e\"],[0.4444444444444444,\"#bd3786\"],[0.5555555555555556,\"#d8576b\"],[0.6666666666666666,\"#ed7953\"],[0.7777777777777778,\"#fb9f3a\"],[0.8888888888888888,\"#fdca26\"],[1.0,\"#f0f921\"]],\"type\":\"histogram2dcontour\"}],\"mesh3d\":[{\"colorbar\":{\"outlinewidth\":0,\"ticks\":\"\"},\"type\":\"mesh3d\"}],\"parcoords\":[{\"line\":{\"colorbar\":{\"outlinewidth\":0,\"ticks\":\"\"}},\"type\":\"parcoords\"}],\"pie\":[{\"automargin\":true,\"type\":\"pie\"}],\"scatter\":[{\"marker\":{\"colorbar\":{\"outlinewidth\":0,\"ticks\":\"\"}},\"type\":\"scatter\"}],\"scatter3d\":[{\"line\":{\"colorbar\":{\"outlinewidth\":0,\"ticks\":\"\"}},\"marker\":{\"colorbar\":{\"outlinewidth\":0,\"ticks\":\"\"}},\"type\":\"scatter3d\"}],\"scattercarpet\":[{\"marker\":{\"colorbar\":{\"outlinewidth\":0,\"ticks\":\"\"}},\"type\":\"scattercarpet\"}],\"scattergeo\":[{\"marker\":{\"colorbar\":{\"outlinewidth\":0,\"ticks\":\"\"}},\"type\":\"scattergeo\"}],\"scattergl\":[{\"marker\":{\"colorbar\":{\"outlinewidth\":0,\"ticks\":\"\"}},\"type\":\"scattergl\"}],\"scattermapbox\":[{\"marker\":{\"colorbar\":{\"outlinewidth\":0,\"ticks\":\"\"}},\"type\":\"scattermapbox\"}],\"scatterpolar\":[{\"marker\":{\"colorbar\":{\"outlinewidth\":0,\"ticks\":\"\"}},\"type\":\"scatterpolar\"}],\"scatterpolargl\":[{\"marker\":{\"colorbar\":{\"outlinewidth\":0,\"ticks\":\"\"}},\"type\":\"scatterpolargl\"}],\"scatterternary\":[{\"marker\":{\"colorbar\":{\"outlinewidth\":0,\"ticks\":\"\"}},\"type\":\"scatterternary\"}],\"surface\":[{\"colorbar\":{\"outlinewidth\":0,\"ticks\":\"\"},\"colorscale\":[[0.0,\"#0d0887\"],[0.1111111111111111,\"#46039f\"],[0.2222222222222222,\"#7201a8\"],[0.3333333333333333,\"#9c179e\"],[0.4444444444444444,\"#bd3786\"],[0.5555555555555556,\"#d8576b\"],[0.6666666666666666,\"#ed7953\"],[0.7777777777777778,\"#fb9f3a\"],[0.8888888888888888,\"#fdca26\"],[1.0,\"#f0f921\"]],\"type\":\"surface\"}],\"table\":[{\"cells\":{\"fill\":{\"color\":\"#EBF0F8\"},\"line\":{\"color\":\"white\"}},\"header\":{\"fill\":{\"color\":\"#C8D4E3\"},\"line\":{\"color\":\"white\"}},\"type\":\"table\"}]},\"layout\":{\"annotationdefaults\":{\"arrowcolor\":\"#2a3f5f\",\"arrowhead\":0,\"arrowwidth\":1},\"autotypenumbers\":\"strict\",\"coloraxis\":{\"colorbar\":{\"outlinewidth\":0,\"ticks\":\"\"}},\"colorscale\":{\"diverging\":[[0,\"#8e0152\"],[0.1,\"#c51b7d\"],[0.2,\"#de77ae\"],[0.3,\"#f1b6da\"],[0.4,\"#fde0ef\"],[0.5,\"#f7f7f7\"],[0.6,\"#e6f5d0\"],[0.7,\"#b8e186\"],[0.8,\"#7fbc41\"],[0.9,\"#4d9221\"],[1,\"#276419\"]],\"sequential\":[[0.0,\"#0d0887\"],[0.1111111111111111,\"#46039f\"],[0.2222222222222222,\"#7201a8\"],[0.3333333333333333,\"#9c179e\"],[0.4444444444444444,\"#bd3786\"],[0.5555555555555556,\"#d8576b\"],[0.6666666666666666,\"#ed7953\"],[0.7777777777777778,\"#fb9f3a\"],[0.8888888888888888,\"#fdca26\"],[1.0,\"#f0f921\"]],\"sequentialminus\":[[0.0,\"#0d0887\"],[0.1111111111111111,\"#46039f\"],[0.2222222222222222,\"#7201a8\"],[0.3333333333333333,\"#9c179e\"],[0.4444444444444444,\"#bd3786\"],[0.5555555555555556,\"#d8576b\"],[0.6666666666666666,\"#ed7953\"],[0.7777777777777778,\"#fb9f3a\"],[0.8888888888888888,\"#fdca26\"],[1.0,\"#f0f921\"]]},\"colorway\":[\"#636efa\",\"#EF553B\",\"#00cc96\",\"#ab63fa\",\"#FFA15A\",\"#19d3f3\",\"#FF6692\",\"#B6E880\",\"#FF97FF\",\"#FECB52\"],\"font\":{\"color\":\"#2a3f5f\"},\"geo\":{\"bgcolor\":\"white\",\"lakecolor\":\"white\",\"landcolor\":\"#E5ECF6\",\"showlakes\":true,\"showland\":true,\"subunitcolor\":\"white\"},\"hoverlabel\":{\"align\":\"left\"},\"hovermode\":\"closest\",\"mapbox\":{\"style\":\"light\"},\"paper_bgcolor\":\"white\",\"plot_bgcolor\":\"#E5ECF6\",\"polar\":{\"angularaxis\":{\"gridcolor\":\"white\",\"linecolor\":\"white\",\"ticks\":\"\"},\"bgcolor\":\"#E5ECF6\",\"radialaxis\":{\"gridcolor\":\"white\",\"linecolor\":\"white\",\"ticks\":\"\"}},\"scene\":{\"xaxis\":{\"backgroundcolor\":\"#E5ECF6\",\"gridcolor\":\"white\",\"gridwidth\":2,\"linecolor\":\"white\",\"showbackground\":true,\"ticks\":\"\",\"zerolinecolor\":\"white\"},\"yaxis\":{\"backgroundcolor\":\"#E5ECF6\",\"gridcolor\":\"white\",\"gridwidth\":2,\"linecolor\":\"white\",\"showbackground\":true,\"ticks\":\"\",\"zerolinecolor\":\"white\"},\"zaxis\":{\"backgroundcolor\":\"#E5ECF6\",\"gridcolor\":\"white\",\"gridwidth\":2,\"linecolor\":\"white\",\"showbackground\":true,\"ticks\":\"\",\"zerolinecolor\":\"white\"}},\"shapedefaults\":{\"line\":{\"color\":\"#2a3f5f\"}},\"ternary\":{\"aaxis\":{\"gridcolor\":\"white\",\"linecolor\":\"white\",\"ticks\":\"\"},\"baxis\":{\"gridcolor\":\"white\",\"linecolor\":\"white\",\"ticks\":\"\"},\"bgcolor\":\"#E5ECF6\",\"caxis\":{\"gridcolor\":\"white\",\"linecolor\":\"white\",\"ticks\":\"\"}},\"title\":{\"x\":0.05},\"xaxis\":{\"automargin\":true,\"gridcolor\":\"white\",\"linecolor\":\"white\",\"ticks\":\"\",\"title\":{\"standoff\":15},\"zerolinecolor\":\"white\",\"zerolinewidth\":2},\"yaxis\":{\"automargin\":true,\"gridcolor\":\"white\",\"linecolor\":\"white\",\"ticks\":\"\",\"title\":{\"standoff\":15},\"zerolinecolor\":\"white\",\"zerolinewidth\":2}}},\"xaxis\":{\"rangeslider\":{\"visible\":false}},\"yaxis3\":{\"title\":{\"text\":\"AO\"},\"side\":\"right\"}},                        {\"responsive\": true}                    ).then(function(){\n",
       "                            \n",
       "var gd = document.getElementById('c40ebf65-f15b-4312-b5d9-f162aafc4d4a');\n",
       "var x = new MutationObserver(function (mutations, observer) {{\n",
       "        var display = window.getComputedStyle(gd).display;\n",
       "        if (!display || display === 'none') {{\n",
       "            console.log([gd, 'removed!']);\n",
       "            Plotly.purge(gd);\n",
       "            observer.disconnect();\n",
       "        }}\n",
       "}});\n",
       "\n",
       "// Listen for the removal of the full notebook cells\n",
       "var notebookContainer = gd.closest('#notebook-container');\n",
       "if (notebookContainer) {{\n",
       "    x.observe(notebookContainer, {childList: true});\n",
       "}}\n",
       "\n",
       "// Listen for the clearing of the current output cell\n",
       "var outputEl = gd.closest('.output');\n",
       "if (outputEl) {{\n",
       "    x.observe(outputEl, {childList: true});\n",
       "}}\n",
       "\n",
       "                        })                };                });            </script>        </div>"
      ]
     },
     "metadata": {},
     "output_type": "display_data"
    }
   ],
   "source": [
    "check_df = df_vol.iloc[ 10095:10120]\n",
    "plot(check_df)\n"
   ]
  },
  {
   "cell_type": "code",
   "execution_count": 49,
   "id": "b412927d",
   "metadata": {},
   "outputs": [
    {
     "data": {
      "text/html": [
       "<div>\n",
       "<style scoped>\n",
       "    .dataframe tbody tr th:only-of-type {\n",
       "        vertical-align: middle;\n",
       "    }\n",
       "\n",
       "    .dataframe tbody tr th {\n",
       "        vertical-align: top;\n",
       "    }\n",
       "\n",
       "    .dataframe thead th {\n",
       "        text-align: right;\n",
       "    }\n",
       "</style>\n",
       "<table border=\"1\" class=\"dataframe\">\n",
       "  <thead>\n",
       "    <tr style=\"text-align: right;\">\n",
       "      <th></th>\n",
       "      <th>date</th>\n",
       "      <th>open</th>\n",
       "      <th>high</th>\n",
       "      <th>low</th>\n",
       "      <th>close</th>\n",
       "      <th>volume_per_candle</th>\n",
       "      <th>volume</th>\n",
       "      <th>thesholdBreak</th>\n",
       "      <th>mid</th>\n",
       "      <th>ao</th>\n",
       "      <th>pos</th>\n",
       "      <th>return</th>\n",
       "      <th>strat_return</th>\n",
       "      <th>strat_return1</th>\n",
       "      <th>cc_return1</th>\n",
       "      <th>stat_ret</th>\n",
       "      <th>cc_ret</th>\n",
       "    </tr>\n",
       "  </thead>\n",
       "  <tbody>\n",
       "    <tr>\n",
       "      <th>250096</th>\n",
       "      <td>2018-01-01 11:20:00</td>\n",
       "      <td>1750.00</td>\n",
       "      <td>1751.65</td>\n",
       "      <td>1750.00</td>\n",
       "      <td>1751.60</td>\n",
       "      <td>632.781667</td>\n",
       "      <td>638.0</td>\n",
       "      <td>True</td>\n",
       "      <td>1750.825</td>\n",
       "      <td>1.761176</td>\n",
       "      <td>0.0</td>\n",
       "      <td>0.000914</td>\n",
       "      <td>0.000000</td>\n",
       "      <td>1.000000</td>\n",
       "      <td>1.000914</td>\n",
       "      <td>1.000000</td>\n",
       "      <td>0.995227</td>\n",
       "    </tr>\n",
       "    <tr>\n",
       "      <th>250098</th>\n",
       "      <td>2018-01-01 11:22:00</td>\n",
       "      <td>1751.60</td>\n",
       "      <td>1753.85</td>\n",
       "      <td>1751.00</td>\n",
       "      <td>1753.85</td>\n",
       "      <td>632.781667</td>\n",
       "      <td>1236.0</td>\n",
       "      <td>True</td>\n",
       "      <td>1752.425</td>\n",
       "      <td>2.016471</td>\n",
       "      <td>0.0</td>\n",
       "      <td>0.001285</td>\n",
       "      <td>0.000000</td>\n",
       "      <td>1.000000</td>\n",
       "      <td>1.001285</td>\n",
       "      <td>1.000000</td>\n",
       "      <td>0.996506</td>\n",
       "    </tr>\n",
       "    <tr>\n",
       "      <th>250100</th>\n",
       "      <td>2018-01-01 11:24:00</td>\n",
       "      <td>1753.85</td>\n",
       "      <td>1754.80</td>\n",
       "      <td>1753.65</td>\n",
       "      <td>1753.75</td>\n",
       "      <td>632.781667</td>\n",
       "      <td>1331.0</td>\n",
       "      <td>True</td>\n",
       "      <td>1754.225</td>\n",
       "      <td>2.686765</td>\n",
       "      <td>1.0</td>\n",
       "      <td>-0.000057</td>\n",
       "      <td>-0.000057</td>\n",
       "      <td>0.999943</td>\n",
       "      <td>0.999943</td>\n",
       "      <td>0.999943</td>\n",
       "      <td>0.996449</td>\n",
       "    </tr>\n",
       "    <tr>\n",
       "      <th>250105</th>\n",
       "      <td>2018-01-01 11:29:00</td>\n",
       "      <td>1753.75</td>\n",
       "      <td>1753.95</td>\n",
       "      <td>1752.45</td>\n",
       "      <td>1752.70</td>\n",
       "      <td>632.781667</td>\n",
       "      <td>666.0</td>\n",
       "      <td>True</td>\n",
       "      <td>1753.200</td>\n",
       "      <td>3.239412</td>\n",
       "      <td>1.0</td>\n",
       "      <td>-0.000599</td>\n",
       "      <td>-0.000599</td>\n",
       "      <td>0.999401</td>\n",
       "      <td>0.999401</td>\n",
       "      <td>0.999344</td>\n",
       "      <td>0.995852</td>\n",
       "    </tr>\n",
       "    <tr>\n",
       "      <th>250111</th>\n",
       "      <td>2018-01-01 11:35:00</td>\n",
       "      <td>1752.70</td>\n",
       "      <td>1752.95</td>\n",
       "      <td>1752.40</td>\n",
       "      <td>1752.55</td>\n",
       "      <td>632.781667</td>\n",
       "      <td>880.0</td>\n",
       "      <td>True</td>\n",
       "      <td>1752.675</td>\n",
       "      <td>3.524412</td>\n",
       "      <td>1.0</td>\n",
       "      <td>-0.000086</td>\n",
       "      <td>-0.000086</td>\n",
       "      <td>0.999914</td>\n",
       "      <td>0.999914</td>\n",
       "      <td>0.999259</td>\n",
       "      <td>0.995767</td>\n",
       "    </tr>\n",
       "    <tr>\n",
       "      <th>250114</th>\n",
       "      <td>2018-01-01 11:38:00</td>\n",
       "      <td>1752.55</td>\n",
       "      <td>1753.00</td>\n",
       "      <td>1750.65</td>\n",
       "      <td>1750.65</td>\n",
       "      <td>632.781667</td>\n",
       "      <td>656.0</td>\n",
       "      <td>True</td>\n",
       "      <td>1751.825</td>\n",
       "      <td>3.614118</td>\n",
       "      <td>1.0</td>\n",
       "      <td>-0.001084</td>\n",
       "      <td>-0.001084</td>\n",
       "      <td>0.998916</td>\n",
       "      <td>0.998916</td>\n",
       "      <td>0.998175</td>\n",
       "      <td>0.994688</td>\n",
       "    </tr>\n",
       "    <tr>\n",
       "      <th>250120</th>\n",
       "      <td>2018-01-01 11:44:00</td>\n",
       "      <td>1750.65</td>\n",
       "      <td>1751.20</td>\n",
       "      <td>1750.00</td>\n",
       "      <td>1750.05</td>\n",
       "      <td>632.781667</td>\n",
       "      <td>656.0</td>\n",
       "      <td>True</td>\n",
       "      <td>1750.600</td>\n",
       "      <td>3.169706</td>\n",
       "      <td>1.0</td>\n",
       "      <td>-0.000343</td>\n",
       "      <td>-0.000343</td>\n",
       "      <td>0.999657</td>\n",
       "      <td>0.999657</td>\n",
       "      <td>0.997833</td>\n",
       "      <td>0.994347</td>\n",
       "    </tr>\n",
       "    <tr>\n",
       "      <th>250123</th>\n",
       "      <td>2018-01-01 11:47:00</td>\n",
       "      <td>1750.05</td>\n",
       "      <td>1750.25</td>\n",
       "      <td>1750.00</td>\n",
       "      <td>1750.10</td>\n",
       "      <td>632.781667</td>\n",
       "      <td>706.0</td>\n",
       "      <td>True</td>\n",
       "      <td>1750.125</td>\n",
       "      <td>2.273971</td>\n",
       "      <td>1.0</td>\n",
       "      <td>0.000029</td>\n",
       "      <td>0.000029</td>\n",
       "      <td>1.000029</td>\n",
       "      <td>1.000029</td>\n",
       "      <td>0.997862</td>\n",
       "      <td>0.994375</td>\n",
       "    </tr>\n",
       "    <tr>\n",
       "      <th>250129</th>\n",
       "      <td>2018-01-01 11:53:00</td>\n",
       "      <td>1750.10</td>\n",
       "      <td>1751.75</td>\n",
       "      <td>1750.00</td>\n",
       "      <td>1750.00</td>\n",
       "      <td>632.781667</td>\n",
       "      <td>683.0</td>\n",
       "      <td>True</td>\n",
       "      <td>1750.875</td>\n",
       "      <td>1.649412</td>\n",
       "      <td>0.0</td>\n",
       "      <td>-0.000057</td>\n",
       "      <td>-0.000000</td>\n",
       "      <td>1.000000</td>\n",
       "      <td>0.999943</td>\n",
       "      <td>0.997862</td>\n",
       "      <td>0.994318</td>\n",
       "    </tr>\n",
       "    <tr>\n",
       "      <th>250136</th>\n",
       "      <td>2018-01-01 12:00:00</td>\n",
       "      <td>1750.00</td>\n",
       "      <td>1750.50</td>\n",
       "      <td>1750.00</td>\n",
       "      <td>1750.00</td>\n",
       "      <td>632.781667</td>\n",
       "      <td>647.0</td>\n",
       "      <td>True</td>\n",
       "      <td>1750.250</td>\n",
       "      <td>1.017353</td>\n",
       "      <td>0.0</td>\n",
       "      <td>0.000000</td>\n",
       "      <td>0.000000</td>\n",
       "      <td>1.000000</td>\n",
       "      <td>1.000000</td>\n",
       "      <td>0.997862</td>\n",
       "      <td>0.994318</td>\n",
       "    </tr>\n",
       "  </tbody>\n",
       "</table>\n",
       "</div>"
      ],
      "text/plain": [
       "                      date     open     high      low    close  \\\n",
       "250096 2018-01-01 11:20:00  1750.00  1751.65  1750.00  1751.60   \n",
       "250098 2018-01-01 11:22:00  1751.60  1753.85  1751.00  1753.85   \n",
       "250100 2018-01-01 11:24:00  1753.85  1754.80  1753.65  1753.75   \n",
       "250105 2018-01-01 11:29:00  1753.75  1753.95  1752.45  1752.70   \n",
       "250111 2018-01-01 11:35:00  1752.70  1752.95  1752.40  1752.55   \n",
       "250114 2018-01-01 11:38:00  1752.55  1753.00  1750.65  1750.65   \n",
       "250120 2018-01-01 11:44:00  1750.65  1751.20  1750.00  1750.05   \n",
       "250123 2018-01-01 11:47:00  1750.05  1750.25  1750.00  1750.10   \n",
       "250129 2018-01-01 11:53:00  1750.10  1751.75  1750.00  1750.00   \n",
       "250136 2018-01-01 12:00:00  1750.00  1750.50  1750.00  1750.00   \n",
       "\n",
       "        volume_per_candle  volume  thesholdBreak       mid        ao  pos  \\\n",
       "250096         632.781667   638.0           True  1750.825  1.761176  0.0   \n",
       "250098         632.781667  1236.0           True  1752.425  2.016471  0.0   \n",
       "250100         632.781667  1331.0           True  1754.225  2.686765  1.0   \n",
       "250105         632.781667   666.0           True  1753.200  3.239412  1.0   \n",
       "250111         632.781667   880.0           True  1752.675  3.524412  1.0   \n",
       "250114         632.781667   656.0           True  1751.825  3.614118  1.0   \n",
       "250120         632.781667   656.0           True  1750.600  3.169706  1.0   \n",
       "250123         632.781667   706.0           True  1750.125  2.273971  1.0   \n",
       "250129         632.781667   683.0           True  1750.875  1.649412  0.0   \n",
       "250136         632.781667   647.0           True  1750.250  1.017353  0.0   \n",
       "\n",
       "          return  strat_return  strat_return1  cc_return1  stat_ret    cc_ret  \n",
       "250096  0.000914      0.000000       1.000000    1.000914  1.000000  0.995227  \n",
       "250098  0.001285      0.000000       1.000000    1.001285  1.000000  0.996506  \n",
       "250100 -0.000057     -0.000057       0.999943    0.999943  0.999943  0.996449  \n",
       "250105 -0.000599     -0.000599       0.999401    0.999401  0.999344  0.995852  \n",
       "250111 -0.000086     -0.000086       0.999914    0.999914  0.999259  0.995767  \n",
       "250114 -0.001084     -0.001084       0.998916    0.998916  0.998175  0.994688  \n",
       "250120 -0.000343     -0.000343       0.999657    0.999657  0.997833  0.994347  \n",
       "250123  0.000029      0.000029       1.000029    1.000029  0.997862  0.994375  \n",
       "250129 -0.000057     -0.000000       1.000000    0.999943  0.997862  0.994318  \n",
       "250136  0.000000      0.000000       1.000000    1.000000  0.997862  0.994318  "
      ]
     },
     "execution_count": 49,
     "metadata": {},
     "output_type": "execute_result"
    }
   ],
   "source": [
    "df_vol.head(60).tail(10)"
   ]
  },
  {
   "cell_type": "code",
   "execution_count": null,
   "id": "8cf72c70",
   "metadata": {},
   "outputs": [],
   "source": []
  },
  {
   "cell_type": "code",
   "execution_count": null,
   "id": "ece0d2f0",
   "metadata": {},
   "outputs": [],
   "source": []
  },
  {
   "cell_type": "code",
   "execution_count": null,
   "id": "a3dd2afa",
   "metadata": {},
   "outputs": [],
   "source": []
  },
  {
   "cell_type": "code",
   "execution_count": null,
   "id": "dae1e028",
   "metadata": {},
   "outputs": [],
   "source": []
  },
  {
   "cell_type": "code",
   "execution_count": 11,
   "id": "2021b74f",
   "metadata": {},
   "outputs": [],
   "source": [
    "df_1min = pd.read_csv('ACC_minute_data_with_indicators.csv')"
   ]
  },
  {
   "cell_type": "code",
   "execution_count": 12,
   "id": "8fcde68d",
   "metadata": {},
   "outputs": [],
   "source": [
    "df_1min = data_filter(df_1min)"
   ]
  },
  {
   "cell_type": "code",
   "execution_count": 13,
   "id": "489e23de",
   "metadata": {},
   "outputs": [],
   "source": [
    "def is_body_size_greater_than_nx_average(df, n, window):\n",
    "    df['candle_body'] = abs(df['close'] - df['open'])\n",
    "    df['avg'] = df['candle_body'].rolling(window=window).mean()\n",
    "\n",
    "    return (df['candle_body'] > df['avg']*n) & (df['open']>df['close'])\n",
    "\n",
    "def add_imbalance_zone(dat):\n",
    "#     dat['upper1'] = np.where(dat['is_imbalance'] , (min(dat['min_last_30'] , dat['open'])) , 0)\n",
    "#     dat['lower1'] = np.where(dat['is_imbalance'], dat['high'].shift(-1), 0)\n",
    "    \n",
    "    dat.loc[dat[\"is_imbalance\"], \"upper\"] = np.minimum( dat.loc[dat[\"is_imbalance\"], \"min_last_30\"], dat.loc[dat[\"is_imbalance\"], \"open\"])  \n",
    "    dat.loc[dat[\"is_imbalance\"], \"lower\"] = dat.shift(-1).loc[dat[\"is_imbalance\"], \"high\"]\n",
    "    \n",
    "    return dat"
   ]
  },
  {
   "cell_type": "code",
   "execution_count": null,
   "id": "50ba2512",
   "metadata": {},
   "outputs": [],
   "source": [
    "df_1min['is_imbalance'] = is_body_size_greater_than_nx_average(df_1min, 3, 30)\n",
    "df_1min['min_last_30'] = df_1min['low'].shift(1).rolling(window=30).min()\n",
    "df_1min = add_imbalance_zone(df_1min)\n",
    "df_1min[\"zone\"] = (df_1min[\"upper\"] - df_1min[\"lower\"])>0"
   ]
  },
  {
   "cell_type": "code",
   "execution_count": null,
   "id": "af04f203",
   "metadata": {},
   "outputs": [],
   "source": [
    "df_1min"
   ]
  },
  {
   "cell_type": "code",
   "execution_count": null,
   "id": "072c7c7a",
   "metadata": {},
   "outputs": [],
   "source": [
    "df_1min[\"upper\"].fillna(method = \"ffill\",inplace = True)\n",
    "df_1min['lower'].fillna(method= 'ffill' , inplace = True)"
   ]
  },
  {
   "cell_type": "code",
   "execution_count": null,
   "id": "7a81c9d6",
   "metadata": {},
   "outputs": [],
   "source": [
    "df_1min"
   ]
  },
  {
   "cell_type": "code",
   "execution_count": 14,
   "id": "8d5b7042",
   "metadata": {},
   "outputs": [],
   "source": [
    "df_1min_ind_date = df_1min"
   ]
  },
  {
   "cell_type": "code",
   "execution_count": 15,
   "id": "41caeae3",
   "metadata": {},
   "outputs": [],
   "source": [
    "df_1min_ind_date.index = df_1min_ind_date['date']"
   ]
  },
  {
   "cell_type": "code",
   "execution_count": 16,
   "id": "917d7bc4",
   "metadata": {
    "scrolled": false
   },
   "outputs": [
    {
     "data": {
      "text/html": [
       "<div>\n",
       "<style scoped>\n",
       "    .dataframe tbody tr th:only-of-type {\n",
       "        vertical-align: middle;\n",
       "    }\n",
       "\n",
       "    .dataframe tbody tr th {\n",
       "        vertical-align: top;\n",
       "    }\n",
       "\n",
       "    .dataframe thead th {\n",
       "        text-align: right;\n",
       "    }\n",
       "</style>\n",
       "<table border=\"1\" class=\"dataframe\">\n",
       "  <thead>\n",
       "    <tr style=\"text-align: right;\">\n",
       "      <th></th>\n",
       "      <th>date</th>\n",
       "      <th>open</th>\n",
       "      <th>high</th>\n",
       "      <th>low</th>\n",
       "      <th>close</th>\n",
       "      <th>volume</th>\n",
       "    </tr>\n",
       "    <tr>\n",
       "      <th>date</th>\n",
       "      <th></th>\n",
       "      <th></th>\n",
       "      <th></th>\n",
       "      <th></th>\n",
       "      <th></th>\n",
       "      <th></th>\n",
       "    </tr>\n",
       "  </thead>\n",
       "  <tbody>\n",
       "    <tr>\n",
       "      <th>2018-01-01 09:15:00</th>\n",
       "      <td>2018-01-01 09:15:00</td>\n",
       "      <td>1763.90</td>\n",
       "      <td>1763.90</td>\n",
       "      <td>1758.65</td>\n",
       "      <td>1760.00</td>\n",
       "      <td>718</td>\n",
       "    </tr>\n",
       "    <tr>\n",
       "      <th>2018-01-01 09:16:00</th>\n",
       "      <td>2018-01-01 09:16:00</td>\n",
       "      <td>1760.00</td>\n",
       "      <td>1763.80</td>\n",
       "      <td>1760.00</td>\n",
       "      <td>1763.80</td>\n",
       "      <td>409</td>\n",
       "    </tr>\n",
       "    <tr>\n",
       "      <th>2018-01-01 09:17:00</th>\n",
       "      <td>2018-01-01 09:17:00</td>\n",
       "      <td>1763.45</td>\n",
       "      <td>1763.45</td>\n",
       "      <td>1760.00</td>\n",
       "      <td>1760.10</td>\n",
       "      <td>867</td>\n",
       "    </tr>\n",
       "    <tr>\n",
       "      <th>2018-01-01 09:18:00</th>\n",
       "      <td>2018-01-01 09:18:00</td>\n",
       "      <td>1760.10</td>\n",
       "      <td>1760.45</td>\n",
       "      <td>1759.35</td>\n",
       "      <td>1759.35</td>\n",
       "      <td>1065</td>\n",
       "    </tr>\n",
       "    <tr>\n",
       "      <th>2018-01-01 09:19:00</th>\n",
       "      <td>2018-01-01 09:19:00</td>\n",
       "      <td>1759.35</td>\n",
       "      <td>1759.90</td>\n",
       "      <td>1758.65</td>\n",
       "      <td>1758.65</td>\n",
       "      <td>436</td>\n",
       "    </tr>\n",
       "    <tr>\n",
       "      <th>...</th>\n",
       "      <td>...</td>\n",
       "      <td>...</td>\n",
       "      <td>...</td>\n",
       "      <td>...</td>\n",
       "      <td>...</td>\n",
       "      <td>...</td>\n",
       "    </tr>\n",
       "    <tr>\n",
       "      <th>2021-07-28 15:25:00</th>\n",
       "      <td>2021-07-28 15:25:00</td>\n",
       "      <td>2395.35</td>\n",
       "      <td>2396.75</td>\n",
       "      <td>2390.15</td>\n",
       "      <td>2391.70</td>\n",
       "      <td>2622</td>\n",
       "    </tr>\n",
       "    <tr>\n",
       "      <th>2021-07-28 15:26:00</th>\n",
       "      <td>2021-07-28 15:26:00</td>\n",
       "      <td>2391.70</td>\n",
       "      <td>2395.35</td>\n",
       "      <td>2391.70</td>\n",
       "      <td>2395.00</td>\n",
       "      <td>2092</td>\n",
       "    </tr>\n",
       "    <tr>\n",
       "      <th>2021-07-28 15:27:00</th>\n",
       "      <td>2021-07-28 15:27:00</td>\n",
       "      <td>2394.95</td>\n",
       "      <td>2395.00</td>\n",
       "      <td>2391.15</td>\n",
       "      <td>2391.15</td>\n",
       "      <td>1189</td>\n",
       "    </tr>\n",
       "    <tr>\n",
       "      <th>2021-07-28 15:28:00</th>\n",
       "      <td>2021-07-28 15:28:00</td>\n",
       "      <td>2391.15</td>\n",
       "      <td>2394.60</td>\n",
       "      <td>2384.80</td>\n",
       "      <td>2386.10</td>\n",
       "      <td>3110</td>\n",
       "    </tr>\n",
       "    <tr>\n",
       "      <th>2021-07-28 15:29:00</th>\n",
       "      <td>2021-07-28 15:29:00</td>\n",
       "      <td>2386.10</td>\n",
       "      <td>2394.00</td>\n",
       "      <td>2386.00</td>\n",
       "      <td>2392.00</td>\n",
       "      <td>846</td>\n",
       "    </tr>\n",
       "  </tbody>\n",
       "</table>\n",
       "<p>304704 rows × 6 columns</p>\n",
       "</div>"
      ],
      "text/plain": [
       "                                   date     open     high      low    close  \\\n",
       "date                                                                          \n",
       "2018-01-01 09:15:00 2018-01-01 09:15:00  1763.90  1763.90  1758.65  1760.00   \n",
       "2018-01-01 09:16:00 2018-01-01 09:16:00  1760.00  1763.80  1760.00  1763.80   \n",
       "2018-01-01 09:17:00 2018-01-01 09:17:00  1763.45  1763.45  1760.00  1760.10   \n",
       "2018-01-01 09:18:00 2018-01-01 09:18:00  1760.10  1760.45  1759.35  1759.35   \n",
       "2018-01-01 09:19:00 2018-01-01 09:19:00  1759.35  1759.90  1758.65  1758.65   \n",
       "...                                 ...      ...      ...      ...      ...   \n",
       "2021-07-28 15:25:00 2021-07-28 15:25:00  2395.35  2396.75  2390.15  2391.70   \n",
       "2021-07-28 15:26:00 2021-07-28 15:26:00  2391.70  2395.35  2391.70  2395.00   \n",
       "2021-07-28 15:27:00 2021-07-28 15:27:00  2394.95  2395.00  2391.15  2391.15   \n",
       "2021-07-28 15:28:00 2021-07-28 15:28:00  2391.15  2394.60  2384.80  2386.10   \n",
       "2021-07-28 15:29:00 2021-07-28 15:29:00  2386.10  2394.00  2386.00  2392.00   \n",
       "\n",
       "                     volume  \n",
       "date                         \n",
       "2018-01-01 09:15:00     718  \n",
       "2018-01-01 09:16:00     409  \n",
       "2018-01-01 09:17:00     867  \n",
       "2018-01-01 09:18:00    1065  \n",
       "2018-01-01 09:19:00     436  \n",
       "...                     ...  \n",
       "2021-07-28 15:25:00    2622  \n",
       "2021-07-28 15:26:00    2092  \n",
       "2021-07-28 15:27:00    1189  \n",
       "2021-07-28 15:28:00    3110  \n",
       "2021-07-28 15:29:00     846  \n",
       "\n",
       "[304704 rows x 6 columns]"
      ]
     },
     "execution_count": 16,
     "metadata": {},
     "output_type": "execute_result"
    }
   ],
   "source": [
    "df_1min_ind_date"
   ]
  },
  {
   "cell_type": "code",
   "execution_count": null,
   "id": "a90594c8",
   "metadata": {},
   "outputs": [],
   "source": []
  },
  {
   "cell_type": "code",
   "execution_count": null,
   "id": "1e50715a",
   "metadata": {},
   "outputs": [],
   "source": []
  },
  {
   "cell_type": "code",
   "execution_count": null,
   "id": "186f2a4e",
   "metadata": {},
   "outputs": [],
   "source": []
  },
  {
   "cell_type": "code",
   "execution_count": null,
   "id": "f851b3df",
   "metadata": {},
   "outputs": [],
   "source": []
  },
  {
   "cell_type": "code",
   "execution_count": 34,
   "id": "c23f0113",
   "metadata": {},
   "outputs": [
    {
     "ename": "AttributeError",
     "evalue": "'Series' object has no attribute 'date'",
     "output_type": "error",
     "traceback": [
      "\u001b[1;31m---------------------------------------------------------------------------\u001b[0m",
      "\u001b[1;31mAttributeError\u001b[0m                            Traceback (most recent call last)",
      "Input \u001b[1;32mIn [34]\u001b[0m, in \u001b[0;36m<cell line: 1>\u001b[1;34m()\u001b[0m\n\u001b[1;32m----> 1\u001b[0m df_vol[\u001b[38;5;124m'\u001b[39m\u001b[38;5;124mupper\u001b[39m\u001b[38;5;124m'\u001b[39m] \u001b[38;5;241m=\u001b[39m df_1min_ind_date\u001b[38;5;241m.\u001b[39mloc[\u001b[43mdf_vol\u001b[49m\u001b[43m[\u001b[49m\u001b[38;5;124;43m'\u001b[39;49m\u001b[38;5;124;43mdate\u001b[39;49m\u001b[38;5;124;43m'\u001b[39;49m\u001b[43m]\u001b[49m\u001b[38;5;241;43m.\u001b[39;49m\u001b[43mdate\u001b[49m][\u001b[38;5;124m'\u001b[39m\u001b[38;5;124mupper\u001b[39m\u001b[38;5;124m'\u001b[39m]\n",
      "File \u001b[1;32mC:\\Anaconda\\lib\\site-packages\\pandas\\core\\generic.py:5575\u001b[0m, in \u001b[0;36mNDFrame.__getattr__\u001b[1;34m(self, name)\u001b[0m\n\u001b[0;32m   5568\u001b[0m \u001b[38;5;28;01mif\u001b[39;00m (\n\u001b[0;32m   5569\u001b[0m     name \u001b[38;5;129;01mnot\u001b[39;00m \u001b[38;5;129;01min\u001b[39;00m \u001b[38;5;28mself\u001b[39m\u001b[38;5;241m.\u001b[39m_internal_names_set\n\u001b[0;32m   5570\u001b[0m     \u001b[38;5;129;01mand\u001b[39;00m name \u001b[38;5;129;01mnot\u001b[39;00m \u001b[38;5;129;01min\u001b[39;00m \u001b[38;5;28mself\u001b[39m\u001b[38;5;241m.\u001b[39m_metadata\n\u001b[0;32m   5571\u001b[0m     \u001b[38;5;129;01mand\u001b[39;00m name \u001b[38;5;129;01mnot\u001b[39;00m \u001b[38;5;129;01min\u001b[39;00m \u001b[38;5;28mself\u001b[39m\u001b[38;5;241m.\u001b[39m_accessors\n\u001b[0;32m   5572\u001b[0m     \u001b[38;5;129;01mand\u001b[39;00m \u001b[38;5;28mself\u001b[39m\u001b[38;5;241m.\u001b[39m_info_axis\u001b[38;5;241m.\u001b[39m_can_hold_identifiers_and_holds_name(name)\n\u001b[0;32m   5573\u001b[0m ):\n\u001b[0;32m   5574\u001b[0m     \u001b[38;5;28;01mreturn\u001b[39;00m \u001b[38;5;28mself\u001b[39m[name]\n\u001b[1;32m-> 5575\u001b[0m \u001b[38;5;28;01mreturn\u001b[39;00m \u001b[38;5;28;43mobject\u001b[39;49m\u001b[38;5;241;43m.\u001b[39;49m\u001b[38;5;21;43m__getattribute__\u001b[39;49m\u001b[43m(\u001b[49m\u001b[38;5;28;43mself\u001b[39;49m\u001b[43m,\u001b[49m\u001b[43m \u001b[49m\u001b[43mname\u001b[49m\u001b[43m)\u001b[49m\n",
      "\u001b[1;31mAttributeError\u001b[0m: 'Series' object has no attribute 'date'"
     ]
    }
   ],
   "source": [
    "df_vol['upper'] = df_1min_ind_date.loc[df_vol['date'].date]['upper']"
   ]
  },
  {
   "cell_type": "code",
   "execution_count": 36,
   "id": "afdf96be",
   "metadata": {},
   "outputs": [
    {
     "data": {
      "text/plain": [
       "2388.5"
      ]
     },
     "execution_count": 36,
     "metadata": {},
     "output_type": "execute_result"
    }
   ],
   "source": [
    "df_1min_ind_date.loc['2021-07-28 15:29:00']['upper']"
   ]
  },
  {
   "cell_type": "code",
   "execution_count": 45,
   "id": "578f7826",
   "metadata": {},
   "outputs": [
    {
     "data": {
      "text/plain": [
       "date\n",
       "2018-01-01 09:15:00       NaN\n",
       "2018-01-01 09:16:00       NaN\n",
       "2018-01-01 09:17:00       NaN\n",
       "2018-01-01 09:18:00       NaN\n",
       "2018-01-01 09:19:00       NaN\n",
       "                        ...  \n",
       "2021-07-28 15:25:00    2388.5\n",
       "2021-07-28 15:26:00    2388.5\n",
       "2021-07-28 15:27:00    2388.5\n",
       "2021-07-28 15:28:00    2388.5\n",
       "2021-07-28 15:29:00    2388.5\n",
       "Name: upper, Length: 304704, dtype: float64"
      ]
     },
     "execution_count": 45,
     "metadata": {},
     "output_type": "execute_result"
    }
   ],
   "source": [
    "df_1min_ind_date[\"upper\"]"
   ]
  },
  {
   "cell_type": "code",
   "execution_count": 51,
   "id": "28d4f5cf",
   "metadata": {},
   "outputs": [],
   "source": []
  },
  {
   "cell_type": "code",
   "execution_count": 52,
   "id": "bff51776",
   "metadata": {},
   "outputs": [
    {
     "data": {
      "text/html": [
       "<div>\n",
       "<style scoped>\n",
       "    .dataframe tbody tr th:only-of-type {\n",
       "        vertical-align: middle;\n",
       "    }\n",
       "\n",
       "    .dataframe tbody tr th {\n",
       "        vertical-align: top;\n",
       "    }\n",
       "\n",
       "    .dataframe thead th {\n",
       "        text-align: right;\n",
       "    }\n",
       "</style>\n",
       "<table border=\"1\" class=\"dataframe\">\n",
       "  <thead>\n",
       "    <tr style=\"text-align: right;\">\n",
       "      <th></th>\n",
       "      <th>date</th>\n",
       "      <th>open</th>\n",
       "      <th>high</th>\n",
       "      <th>low</th>\n",
       "      <th>close</th>\n",
       "      <th>volume_per_candle</th>\n",
       "      <th>volume</th>\n",
       "      <th>thesholdBreak</th>\n",
       "      <th>upper</th>\n",
       "      <th>uppers</th>\n",
       "    </tr>\n",
       "  </thead>\n",
       "  <tbody>\n",
       "    <tr>\n",
       "      <th>249971</th>\n",
       "      <td>2018-01-01 09:15:00</td>\n",
       "      <td>1763.90</td>\n",
       "      <td>1763.90</td>\n",
       "      <td>1758.65</td>\n",
       "      <td>1760.00</td>\n",
       "      <td>621.781111</td>\n",
       "      <td>718.0</td>\n",
       "      <td>True</td>\n",
       "      <td>NaN</td>\n",
       "      <td>NaN</td>\n",
       "    </tr>\n",
       "    <tr>\n",
       "      <th>249972</th>\n",
       "      <td>2018-01-01 09:16:00</td>\n",
       "      <td>1760.00</td>\n",
       "      <td>1763.80</td>\n",
       "      <td>1760.00</td>\n",
       "      <td>1760.10</td>\n",
       "      <td>621.781111</td>\n",
       "      <td>409.0</td>\n",
       "      <td>False</td>\n",
       "      <td>NaN</td>\n",
       "      <td>NaN</td>\n",
       "    </tr>\n",
       "    <tr>\n",
       "      <th>249973</th>\n",
       "      <td>2018-01-01 09:17:00</td>\n",
       "      <td>1760.00</td>\n",
       "      <td>1763.80</td>\n",
       "      <td>1760.00</td>\n",
       "      <td>1760.10</td>\n",
       "      <td>621.781111</td>\n",
       "      <td>1276.0</td>\n",
       "      <td>True</td>\n",
       "      <td>NaN</td>\n",
       "      <td>NaN</td>\n",
       "    </tr>\n",
       "    <tr>\n",
       "      <th>249974</th>\n",
       "      <td>2018-01-01 09:18:00</td>\n",
       "      <td>1760.10</td>\n",
       "      <td>1760.45</td>\n",
       "      <td>1759.35</td>\n",
       "      <td>1759.35</td>\n",
       "      <td>621.781111</td>\n",
       "      <td>1065.0</td>\n",
       "      <td>True</td>\n",
       "      <td>NaN</td>\n",
       "      <td>NaN</td>\n",
       "    </tr>\n",
       "    <tr>\n",
       "      <th>249975</th>\n",
       "      <td>2018-01-01 09:19:00</td>\n",
       "      <td>1759.35</td>\n",
       "      <td>1759.90</td>\n",
       "      <td>1758.65</td>\n",
       "      <td>1758.50</td>\n",
       "      <td>621.781111</td>\n",
       "      <td>436.0</td>\n",
       "      <td>False</td>\n",
       "      <td>NaN</td>\n",
       "      <td>NaN</td>\n",
       "    </tr>\n",
       "    <tr>\n",
       "      <th>...</th>\n",
       "      <td>...</td>\n",
       "      <td>...</td>\n",
       "      <td>...</td>\n",
       "      <td>...</td>\n",
       "      <td>...</td>\n",
       "      <td>...</td>\n",
       "      <td>...</td>\n",
       "      <td>...</td>\n",
       "      <td>...</td>\n",
       "      <td>...</td>\n",
       "    </tr>\n",
       "    <tr>\n",
       "      <th>554670</th>\n",
       "      <td>2021-07-28 15:25:00</td>\n",
       "      <td>2395.65</td>\n",
       "      <td>2396.75</td>\n",
       "      <td>2390.15</td>\n",
       "      <td>2391.70</td>\n",
       "      <td>1981.741667</td>\n",
       "      <td>4198.0</td>\n",
       "      <td>True</td>\n",
       "      <td>NaN</td>\n",
       "      <td>2388.5</td>\n",
       "    </tr>\n",
       "    <tr>\n",
       "      <th>554671</th>\n",
       "      <td>2021-07-28 15:26:00</td>\n",
       "      <td>2391.70</td>\n",
       "      <td>2395.35</td>\n",
       "      <td>2391.70</td>\n",
       "      <td>2395.00</td>\n",
       "      <td>1975.850000</td>\n",
       "      <td>2092.0</td>\n",
       "      <td>True</td>\n",
       "      <td>NaN</td>\n",
       "      <td>2388.5</td>\n",
       "    </tr>\n",
       "    <tr>\n",
       "      <th>554672</th>\n",
       "      <td>2021-07-28 15:27:00</td>\n",
       "      <td>2394.95</td>\n",
       "      <td>2395.00</td>\n",
       "      <td>2391.15</td>\n",
       "      <td>2386.10</td>\n",
       "      <td>1973.108333</td>\n",
       "      <td>1189.0</td>\n",
       "      <td>False</td>\n",
       "      <td>NaN</td>\n",
       "      <td>2388.5</td>\n",
       "    </tr>\n",
       "    <tr>\n",
       "      <th>554673</th>\n",
       "      <td>2021-07-28 15:28:00</td>\n",
       "      <td>2394.95</td>\n",
       "      <td>2395.00</td>\n",
       "      <td>2384.80</td>\n",
       "      <td>2386.10</td>\n",
       "      <td>1954.889722</td>\n",
       "      <td>4299.0</td>\n",
       "      <td>True</td>\n",
       "      <td>NaN</td>\n",
       "      <td>2388.5</td>\n",
       "    </tr>\n",
       "    <tr>\n",
       "      <th>554674</th>\n",
       "      <td>2021-07-28 15:29:00</td>\n",
       "      <td>2386.10</td>\n",
       "      <td>2394.00</td>\n",
       "      <td>2386.00</td>\n",
       "      <td>2392.00</td>\n",
       "      <td>1943.341667</td>\n",
       "      <td>846.0</td>\n",
       "      <td>False</td>\n",
       "      <td>NaN</td>\n",
       "      <td>2388.5</td>\n",
       "    </tr>\n",
       "  </tbody>\n",
       "</table>\n",
       "<p>304704 rows × 10 columns</p>\n",
       "</div>"
      ],
      "text/plain": [
       "                      date     open     high      low    close  \\\n",
       "249971 2018-01-01 09:15:00  1763.90  1763.90  1758.65  1760.00   \n",
       "249972 2018-01-01 09:16:00  1760.00  1763.80  1760.00  1760.10   \n",
       "249973 2018-01-01 09:17:00  1760.00  1763.80  1760.00  1760.10   \n",
       "249974 2018-01-01 09:18:00  1760.10  1760.45  1759.35  1759.35   \n",
       "249975 2018-01-01 09:19:00  1759.35  1759.90  1758.65  1758.50   \n",
       "...                    ...      ...      ...      ...      ...   \n",
       "554670 2021-07-28 15:25:00  2395.65  2396.75  2390.15  2391.70   \n",
       "554671 2021-07-28 15:26:00  2391.70  2395.35  2391.70  2395.00   \n",
       "554672 2021-07-28 15:27:00  2394.95  2395.00  2391.15  2386.10   \n",
       "554673 2021-07-28 15:28:00  2394.95  2395.00  2384.80  2386.10   \n",
       "554674 2021-07-28 15:29:00  2386.10  2394.00  2386.00  2392.00   \n",
       "\n",
       "        volume_per_candle  volume  thesholdBreak  upper  uppers  \n",
       "249971         621.781111   718.0           True    NaN     NaN  \n",
       "249972         621.781111   409.0          False    NaN     NaN  \n",
       "249973         621.781111  1276.0           True    NaN     NaN  \n",
       "249974         621.781111  1065.0           True    NaN     NaN  \n",
       "249975         621.781111   436.0          False    NaN     NaN  \n",
       "...                   ...     ...            ...    ...     ...  \n",
       "554670        1981.741667  4198.0           True    NaN  2388.5  \n",
       "554671        1975.850000  2092.0           True    NaN  2388.5  \n",
       "554672        1973.108333  1189.0          False    NaN  2388.5  \n",
       "554673        1954.889722  4299.0           True    NaN  2388.5  \n",
       "554674        1943.341667   846.0          False    NaN  2388.5  \n",
       "\n",
       "[304704 rows x 10 columns]"
      ]
     },
     "execution_count": 52,
     "metadata": {},
     "output_type": "execute_result"
    }
   ],
   "source": [
    "df_vol"
   ]
  },
  {
   "cell_type": "code",
   "execution_count": null,
   "id": "8e52b053",
   "metadata": {},
   "outputs": [],
   "source": []
  }
 ],
 "metadata": {
  "kernelspec": {
   "display_name": "Python 3 (ipykernel)",
   "language": "python",
   "name": "python3"
  },
  "language_info": {
   "codemirror_mode": {
    "name": "ipython",
    "version": 3
   },
   "file_extension": ".py",
   "mimetype": "text/x-python",
   "name": "python",
   "nbconvert_exporter": "python",
   "pygments_lexer": "ipython3",
   "version": "3.9.12"
  }
 },
 "nbformat": 4,
 "nbformat_minor": 5
}
